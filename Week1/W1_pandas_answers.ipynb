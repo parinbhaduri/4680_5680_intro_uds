{
 "cells": [
  {
   "cell_type": "markdown",
   "id": "economic-whole",
   "metadata": {},
   "source": [
    "# 4. In-Class Exercises\n",
    "Each week, we will have in-class exercises that give you some pratice on the concepts learned in class.\n"
   ]
  },
  {
   "cell_type": "markdown",
   "id": "chicken-spotlight",
   "metadata": {},
   "source": [
    "## 4.1. Exercise 1 (5 points)\n",
    "For this exercise, we are going to use the table from the earlier examples. Instead of reading the table from a CSV, let's read the table directly from the [Wikipedia page on Metropolitan Statistical Areas](https://en.wikipedia.org/wiki/Metropolitan_statistical_area)."
   ]
  },
  {
   "cell_type": "code",
   "execution_count": 1,
   "id": "common-parcel",
   "metadata": {},
   "outputs": [],
   "source": [
    "import pandas as pd\n",
    "msa_by_pop = pd.read_html(\"https://en.wikipedia.org/wiki/Metropolitan_statistical_area\")[1]\n",
    "msa_by_pop.columns =['Rank', 'MSA', 'population_2021_est', 'population_2020',\n",
    "       'perc_change', 'Encompassing_combined_statistical_area']"
   ]
  },
  {
   "cell_type": "markdown",
   "id": "finished-hobby",
   "metadata": {},
   "source": [
    "Which is the MSA with the 10th largest population as estimated for 2021? "
   ]
  },
  {
   "cell_type": "code",
   "execution_count": 2,
   "id": "agreed-mustang",
   "metadata": {},
   "outputs": [
    {
     "data": {
      "text/plain": [
       "'Phoenix-Mesa-Chandler, AZ MSA'"
      ]
     },
     "execution_count": 2,
     "metadata": {},
     "output_type": "execute_result"
    }
   ],
   "source": [
    "## Insert your code here\n",
    "msa_by_pop.sort_values('population_2021_est',ascending=False).loc[9,'MSA']"
   ]
  },
  {
   "cell_type": "markdown",
   "id": "genetic-absence",
   "metadata": {},
   "source": [
    "Select the smallest 10 MSAs by 2020 Census population"
   ]
  },
  {
   "cell_type": "code",
   "execution_count": 3,
   "id": "adapted-scratch",
   "metadata": {},
   "outputs": [
    {
     "data": {
      "text/html": [
       "<div>\n",
       "<style scoped>\n",
       "    .dataframe tbody tr th:only-of-type {\n",
       "        vertical-align: middle;\n",
       "    }\n",
       "\n",
       "    .dataframe tbody tr th {\n",
       "        vertical-align: top;\n",
       "    }\n",
       "\n",
       "    .dataframe thead th {\n",
       "        text-align: right;\n",
       "    }\n",
       "</style>\n",
       "<table border=\"1\" class=\"dataframe\">\n",
       "  <thead>\n",
       "    <tr style=\"text-align: right;\">\n",
       "      <th></th>\n",
       "      <th>Rank</th>\n",
       "      <th>MSA</th>\n",
       "      <th>population_2021_est</th>\n",
       "      <th>population_2020</th>\n",
       "      <th>perc_change</th>\n",
       "      <th>Encompassing_combined_statistical_area</th>\n",
       "    </tr>\n",
       "  </thead>\n",
       "  <tbody>\n",
       "    <tr>\n",
       "      <th>383</th>\n",
       "      <td>384</td>\n",
       "      <td>Carson City, NV MSA</td>\n",
       "      <td>58993</td>\n",
       "      <td>58639</td>\n",
       "      <td>+0.60%</td>\n",
       "      <td>Reno-Carson City-Fernley, NV CSA</td>\n",
       "    </tr>\n",
       "    <tr>\n",
       "      <th>381</th>\n",
       "      <td>382</td>\n",
       "      <td>Walla Walla, WA MSA</td>\n",
       "      <td>62682</td>\n",
       "      <td>62584</td>\n",
       "      <td>+0.16%</td>\n",
       "      <td>Kennewick-Richland-Walla Walla, WA CSA</td>\n",
       "    </tr>\n",
       "    <tr>\n",
       "      <th>382</th>\n",
       "      <td>383</td>\n",
       "      <td>Enid, OK MSA</td>\n",
       "      <td>61926</td>\n",
       "      <td>62846</td>\n",
       "      <td>−1.46%</td>\n",
       "      <td>NaN</td>\n",
       "    </tr>\n",
       "    <tr>\n",
       "      <th>380</th>\n",
       "      <td>381</td>\n",
       "      <td>Lewiston, ID-WA MSA</td>\n",
       "      <td>64851</td>\n",
       "      <td>64375</td>\n",
       "      <td>+0.74%</td>\n",
       "      <td>NaN</td>\n",
       "    </tr>\n",
       "    <tr>\n",
       "      <th>379</th>\n",
       "      <td>380</td>\n",
       "      <td>Danville, IL MSA</td>\n",
       "      <td>73095</td>\n",
       "      <td>74188</td>\n",
       "      <td>−1.47%</td>\n",
       "      <td>NaN</td>\n",
       "    </tr>\n",
       "    <tr>\n",
       "      <th>378</th>\n",
       "      <td>379</td>\n",
       "      <td>Grand Island, NE MSA</td>\n",
       "      <td>76175</td>\n",
       "      <td>77038</td>\n",
       "      <td>−1.12%</td>\n",
       "      <td>NaN</td>\n",
       "    </tr>\n",
       "    <tr>\n",
       "      <th>377</th>\n",
       "      <td>378</td>\n",
       "      <td>Casper, WY MSA</td>\n",
       "      <td>79555</td>\n",
       "      <td>79955</td>\n",
       "      <td>−0.50%</td>\n",
       "      <td>NaN</td>\n",
       "    </tr>\n",
       "    <tr>\n",
       "      <th>375</th>\n",
       "      <td>376</td>\n",
       "      <td>Hinesville, GA MSA</td>\n",
       "      <td>82863</td>\n",
       "      <td>81424</td>\n",
       "      <td>+1.77%</td>\n",
       "      <td>Savannah-Hinesville-Statesboro, GA CSA</td>\n",
       "    </tr>\n",
       "    <tr>\n",
       "      <th>376</th>\n",
       "      <td>377</td>\n",
       "      <td>Columbus, IN MSA</td>\n",
       "      <td>82475</td>\n",
       "      <td>82208</td>\n",
       "      <td>+0.32%</td>\n",
       "      <td>Indianapolis-Carmel-Muncie, IN CSA</td>\n",
       "    </tr>\n",
       "    <tr>\n",
       "      <th>374</th>\n",
       "      <td>375</td>\n",
       "      <td>Bloomsburg-Berwick, PA MSA</td>\n",
       "      <td>82959</td>\n",
       "      <td>82863</td>\n",
       "      <td>+0.12%</td>\n",
       "      <td>Bloomsburg-Berwick-Sunbury, PA CSA</td>\n",
       "    </tr>\n",
       "  </tbody>\n",
       "</table>\n",
       "</div>"
      ],
      "text/plain": [
       "     Rank                         MSA  population_2021_est  population_2020  \\\n",
       "383   384         Carson City, NV MSA                58993            58639   \n",
       "381   382         Walla Walla, WA MSA                62682            62584   \n",
       "382   383                Enid, OK MSA                61926            62846   \n",
       "380   381         Lewiston, ID-WA MSA                64851            64375   \n",
       "379   380            Danville, IL MSA                73095            74188   \n",
       "378   379        Grand Island, NE MSA                76175            77038   \n",
       "377   378              Casper, WY MSA                79555            79955   \n",
       "375   376          Hinesville, GA MSA                82863            81424   \n",
       "376   377            Columbus, IN MSA                82475            82208   \n",
       "374   375  Bloomsburg-Berwick, PA MSA                82959            82863   \n",
       "\n",
       "    perc_change  Encompassing_combined_statistical_area  \n",
       "383      +0.60%        Reno-Carson City-Fernley, NV CSA  \n",
       "381      +0.16%  Kennewick-Richland-Walla Walla, WA CSA  \n",
       "382      −1.46%                                     NaN  \n",
       "380      +0.74%                                     NaN  \n",
       "379      −1.47%                                     NaN  \n",
       "378      −1.12%                                     NaN  \n",
       "377      −0.50%                                     NaN  \n",
       "375      +1.77%  Savannah-Hinesville-Statesboro, GA CSA  \n",
       "376      +0.32%      Indianapolis-Carmel-Muncie, IN CSA  \n",
       "374      +0.12%      Bloomsburg-Berwick-Sunbury, PA CSA  "
      ]
     },
     "execution_count": 3,
     "metadata": {},
     "output_type": "execute_result"
    }
   ],
   "source": [
    "## Insert your code here\n",
    "msa_by_pop.sort_values('population_2020').head(10)"
   ]
  },
  {
   "cell_type": "markdown",
   "id": "moving-relay",
   "metadata": {},
   "source": [
    "Find the total 2020 Census population of these 384 MSAs. "
   ]
  },
  {
   "cell_type": "code",
   "execution_count": 4,
   "id": "manual-indie",
   "metadata": {},
   "outputs": [
    {
     "data": {
      "text/plain": [
       "286104556"
      ]
     },
     "execution_count": 4,
     "metadata": {},
     "output_type": "execute_result"
    }
   ],
   "source": [
    "## Insert your code here\n",
    "msa_by_pop[\"population_2020\"].sum()"
   ]
  },
  {
   "cell_type": "markdown",
   "id": "competitive-animal",
   "metadata": {},
   "source": [
    "Based on the population growth between 2020 and 2021, let's estimate the population in 2021 using the following function: \n",
    "\n",
    "$$\n",
    "pop_{year2} =pop_{year1}*(1+ {\\% change})^t\n",
    "$$\n",
    "\n",
    "where $t=1$ here and $\\% change$ is the percentage estimated change in population from 2020.\n",
    "\n",
    "First, calculate the percentage change between 2020 and 2021 and create a new column with these values called `year_change`. Do not multiply by 100, just keep the values in their original decimal form."
   ]
  },
  {
   "cell_type": "code",
   "execution_count": 5,
   "id": "expected-pharmacy",
   "metadata": {},
   "outputs": [],
   "source": [
    "## Insert your code here\n",
    "msa_by_pop['year_change'] = (msa_by_pop['population_2021_est']-msa_by_pop['population_2020'])/msa_by_pop['population_2020']\n"
   ]
  },
  {
   "cell_type": "markdown",
   "id": "accomplished-remainder",
   "metadata": {},
   "source": [
    "Does `year_change` line up with the `% change` column that we already have? Select the two columns together to do an eyeball estimate. "
   ]
  },
  {
   "cell_type": "code",
   "execution_count": 6,
   "id": "catholic-irish",
   "metadata": {},
   "outputs": [
    {
     "data": {
      "text/html": [
       "<div>\n",
       "<style scoped>\n",
       "    .dataframe tbody tr th:only-of-type {\n",
       "        vertical-align: middle;\n",
       "    }\n",
       "\n",
       "    .dataframe tbody tr th {\n",
       "        vertical-align: top;\n",
       "    }\n",
       "\n",
       "    .dataframe thead th {\n",
       "        text-align: right;\n",
       "    }\n",
       "</style>\n",
       "<table border=\"1\" class=\"dataframe\">\n",
       "  <thead>\n",
       "    <tr style=\"text-align: right;\">\n",
       "      <th></th>\n",
       "      <th>perc_change</th>\n",
       "      <th>year_change</th>\n",
       "    </tr>\n",
       "  </thead>\n",
       "  <tbody>\n",
       "    <tr>\n",
       "      <th>0</th>\n",
       "      <td>−1.85%</td>\n",
       "      <td>-0.018471</td>\n",
       "    </tr>\n",
       "    <tr>\n",
       "      <th>1</th>\n",
       "      <td>−1.54%</td>\n",
       "      <td>-0.015426</td>\n",
       "    </tr>\n",
       "    <tr>\n",
       "      <th>2</th>\n",
       "      <td>−1.13%</td>\n",
       "      <td>-0.011287</td>\n",
       "    </tr>\n",
       "    <tr>\n",
       "      <th>3</th>\n",
       "      <td>+1.60%</td>\n",
       "      <td>0.016004</td>\n",
       "    </tr>\n",
       "    <tr>\n",
       "      <th>4</th>\n",
       "      <td>+1.19%</td>\n",
       "      <td>0.011878</td>\n",
       "    </tr>\n",
       "    <tr>\n",
       "      <th>...</th>\n",
       "      <td>...</td>\n",
       "      <td>...</td>\n",
       "    </tr>\n",
       "    <tr>\n",
       "      <th>379</th>\n",
       "      <td>−1.47%</td>\n",
       "      <td>-0.014733</td>\n",
       "    </tr>\n",
       "    <tr>\n",
       "      <th>380</th>\n",
       "      <td>+0.74%</td>\n",
       "      <td>0.007394</td>\n",
       "    </tr>\n",
       "    <tr>\n",
       "      <th>381</th>\n",
       "      <td>+0.16%</td>\n",
       "      <td>0.001566</td>\n",
       "    </tr>\n",
       "    <tr>\n",
       "      <th>382</th>\n",
       "      <td>−1.46%</td>\n",
       "      <td>-0.014639</td>\n",
       "    </tr>\n",
       "    <tr>\n",
       "      <th>383</th>\n",
       "      <td>+0.60%</td>\n",
       "      <td>0.006037</td>\n",
       "    </tr>\n",
       "  </tbody>\n",
       "</table>\n",
       "<p>384 rows × 2 columns</p>\n",
       "</div>"
      ],
      "text/plain": [
       "    perc_change  year_change\n",
       "0        −1.85%    -0.018471\n",
       "1        −1.54%    -0.015426\n",
       "2        −1.13%    -0.011287\n",
       "3        +1.60%     0.016004\n",
       "4        +1.19%     0.011878\n",
       "..          ...          ...\n",
       "379      −1.47%    -0.014733\n",
       "380      +0.74%     0.007394\n",
       "381      +0.16%     0.001566\n",
       "382      −1.46%    -0.014639\n",
       "383      +0.60%     0.006037\n",
       "\n",
       "[384 rows x 2 columns]"
      ]
     },
     "execution_count": 6,
     "metadata": {},
     "output_type": "execute_result"
    }
   ],
   "source": [
    "## Insert your code here\n",
    "msa_by_pop[['perc_change','year_change']]"
   ]
  },
  {
   "cell_type": "markdown",
   "id": "random-blocking",
   "metadata": {},
   "source": [
    "Now using your new `year_change` column, created another column called `population_2021_estimate` and estimate the 2021 population counts using the formula above. "
   ]
  },
  {
   "cell_type": "code",
   "execution_count": 7,
   "id": "political-synthesis",
   "metadata": {},
   "outputs": [],
   "source": [
    "## Insert your code here\n",
    "msa_by_pop['population_2021_estimate']= msa_by_pop['population_2020']*(1+msa_by_pop['year_change'])"
   ]
  },
  {
   "cell_type": "markdown",
   "id": "enormous-strain",
   "metadata": {},
   "source": [
    "## 4.2 Exercise 2 (5 points)\n",
    "In this exercise, we are going to explore urban population change over the previous decade. \n",
    "\n",
    "Here, we are going to read the Excel file on \"Annual Estimates of the Resident Population: April 1, 2010 to July 1, 2019\" directly from the [U.S. Census Bureau's website](https://www.census.gov/data/tables/time-series/demo/popest/2010s-total-metro-and-micro-statistical-areas.html).\n",
    "\n",
    "Below, I'm going to do some data cleaning and re-formatting so the table is easier to work with.\n",
    "\n",
    "Each column with the year is the Census estimated MSA population for that year."
   ]
  },
  {
   "cell_type": "code",
   "execution_count": 8,
   "id": "absent-kelly",
   "metadata": {},
   "outputs": [
    {
     "name": "stderr",
     "output_type": "stream",
     "text": [
      "C:\\Users\\Yueto\\AppData\\Local\\Temp\\ipykernel_7264\\1369159727.py:24: FutureWarning: The default value of regex will change from True to False in a future version. In addition, single character regular expressions will *not* be treated as literal strings when regex=True.\n",
      "  msa_pop_2010_2019['MSA'] = msa_pop_2010_2019['MSA'].str.replace('.','')\n"
     ]
    }
   ],
   "source": [
    "# .read_excel() reads an Excel spreadsheet from a local file or from a URL. \n",
    "# Most .read_*() methods can read from both local files and URLs.\n",
    "# The default sheet is the first one, but you can specify a different sheet by name or index.\n",
    "\n",
    "# skiprows=3 skips the first 3 rows, header=0 uses the first row as column names\n",
    "msa_pop_2010_2019 = pd.read_excel('https://www2.census.gov/programs-surveys/popest/tables/2010-2019/metro/totals/cbsa-met-est2019-annres.xlsx',\n",
    "                                skiprows=3,header=0) \n",
    "\n",
    "# Because this is an Excel file with multiple header-type rows, \n",
    "# we need to skip the first 3 rows\n",
    "msa_pop_2010_2019 = msa_pop_2010_2019.iloc[2:]\n",
    "\n",
    "# I'm going to rename the columns to make them easier to work with\n",
    "msa_pop_2010_2019.columns = ['MSA','apr_1_2010','Estimates Base','2010','2011','2012','2013','2014','2015','2016','2017','2018','2019']\n",
    "\n",
    "# And I'm selecting only the columns we need for this exercise\n",
    "msa_pop_2010_2019 = msa_pop_2010_2019[['MSA','2010','2011','2012','2013','2014','2015','2016','2017','2018','2019']]\n",
    "\n",
    "# And I'm going to remove the rows that are not Metropolitan Statistical Areas \n",
    "# by filtering on the string 'Metro Area'\n",
    "msa_pop_2010_2019 = msa_pop_2010_2019[msa_pop_2010_2019['MSA'].str.contains('Metro Area')]\n",
    "\n",
    "# There's strangely a period at the beginning of each MSA name, so I'm going to remove it\n",
    "msa_pop_2010_2019['MSA'] = msa_pop_2010_2019['MSA'].str.replace('.','')\n",
    "\n",
    "# And I'm going to remove the word 'Metro Area' from the end of each MSA name\n",
    "msa_pop_2010_2019['MSA'] = msa_pop_2010_2019['MSA'].str.replace(' Metro Area','')"
   ]
  },
  {
   "cell_type": "markdown",
   "id": "colored-tourism",
   "metadata": {},
   "source": [
    "Let's take a look at the first 5 rows of the data."
   ]
  },
  {
   "cell_type": "code",
   "execution_count": 9,
   "id": "executed-biology",
   "metadata": {},
   "outputs": [
    {
     "data": {
      "text/html": [
       "<div>\n",
       "<style scoped>\n",
       "    .dataframe tbody tr th:only-of-type {\n",
       "        vertical-align: middle;\n",
       "    }\n",
       "\n",
       "    .dataframe tbody tr th {\n",
       "        vertical-align: top;\n",
       "    }\n",
       "\n",
       "    .dataframe thead th {\n",
       "        text-align: right;\n",
       "    }\n",
       "</style>\n",
       "<table border=\"1\" class=\"dataframe\">\n",
       "  <thead>\n",
       "    <tr style=\"text-align: right;\">\n",
       "      <th></th>\n",
       "      <th>MSA</th>\n",
       "      <th>2010</th>\n",
       "      <th>2011</th>\n",
       "      <th>2012</th>\n",
       "      <th>2013</th>\n",
       "      <th>2014</th>\n",
       "      <th>2015</th>\n",
       "      <th>2016</th>\n",
       "      <th>2017</th>\n",
       "      <th>2018</th>\n",
       "      <th>2019</th>\n",
       "    </tr>\n",
       "  </thead>\n",
       "  <tbody>\n",
       "    <tr>\n",
       "      <th>2</th>\n",
       "      <td>Abilene, TX</td>\n",
       "      <td>165585.0</td>\n",
       "      <td>166634.0</td>\n",
       "      <td>167442.0</td>\n",
       "      <td>167473.0</td>\n",
       "      <td>168342.0</td>\n",
       "      <td>169688.0</td>\n",
       "      <td>170017.0</td>\n",
       "      <td>170429.0</td>\n",
       "      <td>171150.0</td>\n",
       "      <td>172060.0</td>\n",
       "    </tr>\n",
       "    <tr>\n",
       "      <th>3</th>\n",
       "      <td>Akron, OH</td>\n",
       "      <td>703031.0</td>\n",
       "      <td>703200.0</td>\n",
       "      <td>702109.0</td>\n",
       "      <td>703621.0</td>\n",
       "      <td>704908.0</td>\n",
       "      <td>704382.0</td>\n",
       "      <td>703524.0</td>\n",
       "      <td>703987.0</td>\n",
       "      <td>703855.0</td>\n",
       "      <td>703479.0</td>\n",
       "    </tr>\n",
       "    <tr>\n",
       "      <th>4</th>\n",
       "      <td>Albany, GA</td>\n",
       "      <td>154145.0</td>\n",
       "      <td>154545.0</td>\n",
       "      <td>153976.0</td>\n",
       "      <td>152667.0</td>\n",
       "      <td>151949.0</td>\n",
       "      <td>150387.0</td>\n",
       "      <td>149137.0</td>\n",
       "      <td>148090.0</td>\n",
       "      <td>147840.0</td>\n",
       "      <td>146726.0</td>\n",
       "    </tr>\n",
       "    <tr>\n",
       "      <th>5</th>\n",
       "      <td>Albany-Lebanon, OR</td>\n",
       "      <td>116891.0</td>\n",
       "      <td>118164.0</td>\n",
       "      <td>118273.0</td>\n",
       "      <td>118405.0</td>\n",
       "      <td>119042.0</td>\n",
       "      <td>120236.0</td>\n",
       "      <td>122769.0</td>\n",
       "      <td>125035.0</td>\n",
       "      <td>127451.0</td>\n",
       "      <td>129749.0</td>\n",
       "    </tr>\n",
       "    <tr>\n",
       "      <th>6</th>\n",
       "      <td>Albany-Schenectady-Troy, NY</td>\n",
       "      <td>871082.0</td>\n",
       "      <td>872778.0</td>\n",
       "      <td>874698.0</td>\n",
       "      <td>877065.0</td>\n",
       "      <td>878113.0</td>\n",
       "      <td>879085.0</td>\n",
       "      <td>879792.0</td>\n",
       "      <td>882158.0</td>\n",
       "      <td>882263.0</td>\n",
       "      <td>880381.0</td>\n",
       "    </tr>\n",
       "  </tbody>\n",
       "</table>\n",
       "</div>"
      ],
      "text/plain": [
       "                           MSA      2010      2011      2012      2013  \\\n",
       "2                  Abilene, TX  165585.0  166634.0  167442.0  167473.0   \n",
       "3                    Akron, OH  703031.0  703200.0  702109.0  703621.0   \n",
       "4                   Albany, GA  154145.0  154545.0  153976.0  152667.0   \n",
       "5           Albany-Lebanon, OR  116891.0  118164.0  118273.0  118405.0   \n",
       "6  Albany-Schenectady-Troy, NY  871082.0  872778.0  874698.0  877065.0   \n",
       "\n",
       "       2014      2015      2016      2017      2018      2019  \n",
       "2  168342.0  169688.0  170017.0  170429.0  171150.0  172060.0  \n",
       "3  704908.0  704382.0  703524.0  703987.0  703855.0  703479.0  \n",
       "4  151949.0  150387.0  149137.0  148090.0  147840.0  146726.0  \n",
       "5  119042.0  120236.0  122769.0  125035.0  127451.0  129749.0  \n",
       "6  878113.0  879085.0  879792.0  882158.0  882263.0  880381.0  "
      ]
     },
     "execution_count": 9,
     "metadata": {},
     "output_type": "execute_result"
    }
   ],
   "source": [
    "## Insert your code here\n",
    "msa_pop_2010_2019.head()"
   ]
  },
  {
   "cell_type": "markdown",
   "id": "registered-montgomery",
   "metadata": {},
   "source": [
    "Now, create a new column that represents the percentage change in population between 2010 and 2019 and call this column `perc_pop_change`. "
   ]
  },
  {
   "cell_type": "code",
   "execution_count": 10,
   "id": "worldwide-republic",
   "metadata": {},
   "outputs": [],
   "source": [
    "## Insert your code here\n",
    "\n",
    "msa_pop_2010_2019['perc_pop_change'] = (msa_pop_2010_2019['2019']-msa_pop_2010_2019['2010'])/msa_pop_2010_2019['2010']"
   ]
  },
  {
   "cell_type": "markdown",
   "id": "sound-cycling",
   "metadata": {},
   "source": [
    "Print the average population change for the 10 **largest** MSAs by population in 2010. "
   ]
  },
  {
   "cell_type": "code",
   "execution_count": 11,
   "id": "circular-municipality",
   "metadata": {},
   "outputs": [
    {
     "name": "stdout",
     "output_type": "stream",
     "text": [
      "The average population change for the 10 largest MSAs between 2010 and 2019 is 8.5142 %\n"
     ]
    }
   ],
   "source": [
    "# Insert your code here\n",
    "change_top_10 = msa_pop_2010_2019.sort_values('2010',ascending=False)['perc_pop_change'].head(10).mean()\n",
    "\n",
    "\n",
    "# The print function is used to print a string to the screen\n",
    "print('The average population change for the 10 largest MSAs between 2010 and 2019 is', \n",
    "        round(change_top_10*100,4),'%')"
   ]
  },
  {
   "cell_type": "markdown",
   "id": "bronze-suicide",
   "metadata": {},
   "source": [
    "Now print the average population change for the 10 **smallest** MSAs by population in 2010. "
   ]
  },
  {
   "cell_type": "code",
   "execution_count": 12,
   "id": "different-database",
   "metadata": {},
   "outputs": [
    {
     "name": "stdout",
     "output_type": "stream",
     "text": [
      "The average population change for the 10 smallest MSAs between 2010 and 2019 is 2.4318 %\n"
     ]
    }
   ],
   "source": [
    "# Insert your code here\n",
    "change_bottom_10 = msa_pop_2010_2019.sort_values('2010')['perc_pop_change'].head(10).mean()\n",
    "\n",
    "print('The average population change for the 10 smallest MSAs between 2010 and 2019 is', \n",
    "    round(change_bottom_10*100,4),'%')"
   ]
  }
 ],
 "metadata": {
  "kernelspec": {
   "display_name": "Python 3 (ipykernel)",
   "language": "python",
   "name": "python3"
  },
  "language_info": {
   "codemirror_mode": {
    "name": "ipython",
    "version": 3
   },
   "file_extension": ".py",
   "mimetype": "text/x-python",
   "name": "python",
   "nbconvert_exporter": "python",
   "pygments_lexer": "ipython3",
   "version": "3.9.15"
  },
  "vscode": {
   "interpreter": {
    "hash": "cc571d7ca67236538d190807671ab3198970b7d67f23d825ad141ff90f68066a"
   }
  }
 },
 "nbformat": 4,
 "nbformat_minor": 5
}
