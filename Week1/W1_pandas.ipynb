{
 "cells": [
  {
   "cell_type": "markdown",
   "id": "8f735c2a",
   "metadata": {},
   "source": [
    "# A note about accessing the course files through Github\n",
    "\n",
    "All of the lectures notes will be posted on the [class Github repo](https://github.com/iamwfx/4680_5680_intro_uds). \n",
    "\n",
    "We are (probably) not going over git and Github during class. If you're familiar with git/Github, feel free to clone the repo to get the new lecture materials for each class. Otherwise, I recommend you do the following: \n",
    "- Create class folder and name it `Intro_UDS`\n",
    "- For each week, create a folder called `Week1`, `Week2`, etc. \n",
    "- To download the materials (Juputer notebook, data files, etc.), navigate to the file you want to download and select `Raw` above the view of the file. \n",
    "- Save this \"raw\" file in your class folder and **make sure it is in the proper file format**. For instance, if the file is `.ipynb` make sure you save the downloaded file as `.ipynb` (your computer might try to default to `.txt`.)"
   ]
  },
  {
   "cell_type": "markdown",
   "id": "clean-sessions",
   "metadata": {},
   "source": [
    "# Learning goals\n",
    "After this week's lesson you should be able to:\n",
    "- Explain what a Pandas Series is and how to select, filter, and replace valuess in the series \n",
    "- Read and explore tabular data in Python using a Pandas DataFrame\n",
    "- Read and write data to a .csv text file\n",
    "\n",
    "This week's lessons are adapted from:\n",
    "- [Geo-Python Lesson 5](https://geo-python-site.readthedocs.io/en/latest/lessons/L5/overview.html)\n",
    "- [Practical Data Science on Pandas Series](https://www.practicaldatascience.org/html/pandas_series.html)\n",
    "- [Practical Data Sciece on Pandas DataFrames](https://www.practicaldatascience.org/html/30_pandas_dataframes.html)\n",
    "\n",
    "# Grading\n",
    "Each exercise will be graded based on the following rubrics:\n",
    "- 5 points. Completed all the tasks and codes were well documented and explained.\n",
    "- 4 points. Completed all the tasks with minor mismatch with the expected results (less than 10%).\n",
    "- 3 points. Completed all the tasks with some mismatch with the expected results (more than 10% but less than 50%).\n",
    "- 2 points. Completed all the tasks with major mismatch with the expected results (over 50%).\n",
    "- 1 point. Made an attempt but didn’t finish any of the exercises.\n",
    "- 0 point. Did not complete the excercise."
   ]
  },
  {
   "cell_type": "markdown",
   "id": "iraqi-funds",
   "metadata": {},
   "source": [
    "# 0. What is Pandas? \n",
    "\n",
    "[Pandas](http://pandas.pydata.org/) is a widely used Python library for data analysis. \n",
    "\n",
    "### Easy-to-use data structures\n",
    "In pandas, the data is typically stored in a data structure called a\n",
    "DataFrame that looks like a typical table with rows and columns (+\n",
    "indices and column names), where columns can contain data of different\n",
    "data types. Thus, it is similar in some sense to how data is stored in\n",
    "Excel or in R, which also uses a concept of a dataframe. In fact, Wes\n",
    "McKinney first [developed pandas as an alternative for\n",
    "R](https://blog.quantopian.com/meet-quantopians-newest-advisor-wes-mckinney/)\n",
    "to deal with different complex data structures.\n",
    "\n",
    "### Summary of the pandas data structure\n",
    "The below is a picture of how data is structured in a dataframe. You can see it is tabular structure with rows, columns, and a (row) index, which is in many ways similar to what you might be familiar with from a Excel or Google Spreadsheets. Using this structure, we can apply operations like arithmetic, columns and rows selection, columns and rows addition etc.\n",
    "\n",
    "![Alt text](img/creating_dataframe1.png)\n",
    "\n",
    "### Combines functionalities from many Python modules\n",
    "\n",
    "pandas takes advantage of the [NumPy](http://www.numpy.org/) module\n",
    "under the hood, which is mostly written in C. This makes it a fast and\n",
    "powerful library that can efficiently handle even very large datasets.\n",
    "pandas offers an easier and more intuitive syntax to do data analysis\n",
    "and manipulation using either Numpy functionalities in the background or dedicated functionalities written explicitly for pandas. However, pandas is much more than an easier-to-use Numpy as it also combines many functionalities from other Python libraries such as [matplotlib (plotting)](https://matplotlib.org/) and [scipy(mathematics, science, engineering)](https://www.scipy.org/). Thus, you can use many of the features included in those packages without importing them at all.\n",
    "\n",
    "### Supports data read/write from multiple formats\n",
    "One of the most useful features of pandas is its ability to read data\n",
    "from numerous different data formats directly. For example, pandas\n",
    "supports reading and writing data from/to:\n",
    "\n",
    "-   CSV\n",
    "-   JSON\n",
    "-   HTML\n",
    "-   MS Excel\n",
    "-   HDF5\n",
    "-   Stata\n",
    "-   SAS\n",
    "-   Python Pickle format\n",
    "-   SQL (Postgresql, MySQL, Oracle, MariaDB, etc.)\n",
    "\n",
    "You can view the full list of supported data formats from the [pandas\n",
    "docs](https://pandas.pydata.org/docs/user_guide/io.html).\n"
   ]
  },
  {
   "cell_type": "markdown",
   "id": "494edb6e",
   "metadata": {},
   "source": [
    "# 1. Pandas Series\n",
    "The building block of Pandas dataframes are Pandas **Series**. A Series is an ordered list of values, generally all of the same type. If you're familiar with Numpy arrays, a Series is a just a one-dimensional Numpy array with some added features. \n",
    "\n",
    "There are lots of ways to create Series, but the easiest is to just pass a list or an array to the pd.Series constructor.\n",
    "\n",
    "Let's create a series for the [top 5 metropolitan statistical areas in the U.S. by population according to 2021 estimates](https://en.wikipedia.org/wiki/Metropolitan_statistical_area). \n",
    "\n",
    "1. New York-Newark-Jersey City, NY-NJ-CT-PA MSA (19,768,458)\n",
    "2. Los Angeles-Long Beach-Anaheim, CA MSA (12,997,353)\n",
    "3. Chicago-Naperville-Elgin, IL-IN-WI MSA (9,509,934)\n",
    "4. Dallas-Fort Worth-Arlington, TX MSA (7,759,615)\n",
    "5. Houston-The Woodlands-Sugar Land, TX MSA (7,206,841)"
   ]
  },
  {
   "cell_type": "code",
   "execution_count": 1,
   "id": "5917d709",
   "metadata": {},
   "outputs": [],
   "source": [
    "### Let's first import the pandas library\n",
    "### We will use the alias pd for pandas to make it easier to type. \n",
    "import pandas as pd "
   ]
  },
  {
   "cell_type": "code",
   "execution_count": null,
   "id": "0eb0f1dc",
   "metadata": {},
   "outputs": [],
   "source": [
    "### Let's create a pandas series from a list\n",
    "population = pd.Series([19768458, 12997353, 9509934, 7759615, 7206841])\n",
    "population\n"
   ]
  },
  {
   "cell_type": "markdown",
   "id": "6dcd84c6",
   "metadata": {},
   "source": [
    "## 1.1 Indices\n",
    "Somewhat different from a standard list or array, we can include an index value associated with each row from this series. "
   ]
  },
  {
   "cell_type": "code",
   "execution_count": null,
   "id": "f226e44b",
   "metadata": {},
   "outputs": [],
   "source": [
    "### Let's create a pandas series from a list that has an index\n",
    "population = pd.Series([19768458, 12997353, 9509934, 7759615, 7206841],    \n",
    "            index=['NYC', 'LA', 'Chicago', 'Dallas', 'Houston'])\n",
    "population\n"
   ]
  },
  {
   "cell_type": "markdown",
   "id": "956f2138",
   "metadata": {},
   "source": [
    "Now, you can see that there are index values associated with each population count. You can access a Series’ index with the `.index` property: "
   ]
  },
  {
   "cell_type": "code",
   "execution_count": null,
   "id": "899bc03d",
   "metadata": {},
   "outputs": [],
   "source": [
    "population.index"
   ]
  },
  {
   "cell_type": "markdown",
   "id": "9c5ed6b9",
   "metadata": {},
   "source": [
    "Different than working with tabular data in a spreadsheet software, the indicies stay with each row. So, say you wanted to sort your values from smallest to largest, like so, the row indices will be sorted as well to stay with the row values. "
   ]
  },
  {
   "cell_type": "code",
   "execution_count": null,
   "id": "870c43b5",
   "metadata": {},
   "outputs": [],
   "source": [
    "population.sort_values()"
   ]
  },
  {
   "cell_type": "markdown",
   "id": "d8e4014e",
   "metadata": {},
   "source": [
    "## 1.2 Subsetting a Series\n",
    "Very often, we will want to subset or filter our series based on certain criteria like the position or range of values, or [logicals](https://www.geeksforgeeks.org/python-logical-operators-with-examples-improvement-needed/) such as whether values are bigger/smaller than a certain number. "
   ]
  },
  {
   "cell_type": "markdown",
   "id": "eaa6349c",
   "metadata": {},
   "source": [
    "### 1.2.1 `.iloc`\n",
    "In order to select the row(s) based on their position in the table, we use the `.iloc` function. For instance, if I want to select the first row value in my `population` Series, I can type: "
   ]
  },
  {
   "cell_type": "markdown",
   "id": "94d2c51e",
   "metadata": {},
   "source": [
    "Note: In Python, we start our count at 0. So 0 = first, 1 = second, etc."
   ]
  },
  {
   "cell_type": "code",
   "execution_count": null,
   "id": "55028436",
   "metadata": {},
   "outputs": [],
   "source": [
    "population.iloc[0]"
   ]
  },
  {
   "cell_type": "markdown",
   "id": "ec003d4a",
   "metadata": {},
   "source": [
    "If I wanted to select the first three row value I can use the `:` to select a range of values `0:3`. \n",
    "\n",
    "Be careful, using **integer ranges excludes the last value in the range**. So, `0:3` gives us the first **three** values even though you might think you're selecting up to the fourth row value. "
   ]
  },
  {
   "cell_type": "code",
   "execution_count": null,
   "id": "599618f6",
   "metadata": {},
   "outputs": [],
   "source": [
    "population.iloc[0:3]"
   ]
  },
  {
   "cell_type": "markdown",
   "id": "a417ce7c",
   "metadata": {},
   "source": [
    "### 1.2.2 `.loc`\n",
    "You can also select a range of rows by the index values using the function `.loc`. "
   ]
  },
  {
   "cell_type": "code",
   "execution_count": null,
   "id": "162d7917",
   "metadata": {},
   "outputs": [],
   "source": [
    "population.loc['NYC']"
   ]
  },
  {
   "cell_type": "markdown",
   "id": "a0b9c6cb",
   "metadata": {},
   "source": [
    "And in the same way, we can also select ranges. Using index label ranges, this **includes** the last value of the range: \n"
   ]
  },
  {
   "cell_type": "code",
   "execution_count": null,
   "id": "12228c08",
   "metadata": {},
   "outputs": [],
   "source": [
    "population.loc['NYC':'Chicago']"
   ]
  },
  {
   "cell_type": "markdown",
   "id": "4ae644bb",
   "metadata": {},
   "source": [
    "### 1.2.3 Subsetting based on logicals\n",
    "Another criteria we can use is a logical condition for which each row value will return a Boolean, either `True` or `False`. \n",
    "\n",
    "Say I wanted to find all the cities in my population series that have poplations larger than 8 million"
   ]
  },
  {
   "cell_type": "code",
   "execution_count": null,
   "id": "5e44adae",
   "metadata": {},
   "outputs": [],
   "source": [
    "larger_than_8m = population > 8000000\n",
    "larger_than_8m\n"
   ]
  },
  {
   "cell_type": "markdown",
   "id": "3a55d87d",
   "metadata": {},
   "source": [
    "The top three MSAs have all returned `True` while Dallas and Houston MSAs, which have populations under 8 million return `False`.\n",
    "\n",
    "We can apply this condition to our series to get the subset of the series that a `True` condition for the logical we've described: "
   ]
  },
  {
   "cell_type": "code",
   "execution_count": null,
   "id": "985e1e1d",
   "metadata": {},
   "outputs": [],
   "source": [
    "population.loc[larger_than_8m]"
   ]
  },
  {
   "cell_type": "markdown",
   "id": "5f80f654",
   "metadata": {},
   "source": [
    "### 1.2.4 The Single Square Brackets `([])` \n",
    "There is yet another way to subset and filter data by simply adding brackets after your dataframe. It is pandas' way of simplifying subsetting and filtering.\n",
    "\n",
    "If you want to select based on the index value, the following will work: "
   ]
  },
  {
   "cell_type": "code",
   "execution_count": null,
   "id": "a16ff700",
   "metadata": {},
   "outputs": [],
   "source": [
    "population['Chicago']"
   ]
  },
  {
   "cell_type": "markdown",
   "id": "088f8cc3",
   "metadata": {},
   "source": [
    "You can also pass a logical: "
   ]
  },
  {
   "cell_type": "code",
   "execution_count": null,
   "id": "c2393ccf",
   "metadata": {},
   "outputs": [],
   "source": [
    "population[population>8000000]    "
   ]
  },
  {
   "cell_type": "markdown",
   "id": "484ae4d8",
   "metadata": {},
   "source": [
    "However, if your index is not integer-based, the square brackets will work like `.iloc`: "
   ]
  },
  {
   "cell_type": "code",
   "execution_count": null,
   "id": "652b0a83",
   "metadata": {},
   "outputs": [],
   "source": [
    "population[2]"
   ]
  },
  {
   "cell_type": "markdown",
   "id": "235df45f",
   "metadata": {},
   "source": [
    "### 1.2.5 Types of Series\n",
    "The each series can be composed of different series types:\n",
    "- Numbers, either integers (`int64` or `int32`) or floats `float64` or `float32`)\n",
    "- Strings (`str`), i.e. text\n",
    "- Objects (`O`), which is a flexible category that can hold either numbers, strings, or a mix. \n",
    "\n",
    "Note: the 32 or 64 after `int` and `float` refer to how many bits are allocated for each type. If we have a series that is `int64`, then each value in the series can go up to 64 digits. \n",
    "\n",
    "So if we type the following, we can see that our Series is an `int64`:"
   ]
  },
  {
   "cell_type": "code",
   "execution_count": null,
   "id": "f09fe2af",
   "metadata": {},
   "outputs": [],
   "source": [
    "population.dtype"
   ]
  },
  {
   "cell_type": "markdown",
   "id": "a480b0f7",
   "metadata": {},
   "source": [
    "Let's check the following: "
   ]
  },
  {
   "cell_type": "code",
   "execution_count": null,
   "id": "1d415b4b",
   "metadata": {},
   "outputs": [],
   "source": [
    "s = pd.Series([1, 2, 3.14])\n",
    "s.dtype"
   ]
  },
  {
   "cell_type": "code",
   "execution_count": null,
   "id": "246f3791",
   "metadata": {},
   "outputs": [],
   "source": [
    "s = pd.Series([1, 2, \"a string\"])\n",
    "s.dtype"
   ]
  },
  {
   "cell_type": "markdown",
   "id": "165b3677",
   "metadata": {},
   "source": [
    "#### 1.2.4.1 Converting data types\n",
    "Every once in a while, we'll have to change datatypes. You can do this using the `.astype()` function: "
   ]
  },
  {
   "cell_type": "code",
   "execution_count": null,
   "id": "77d36b0b",
   "metadata": {},
   "outputs": [],
   "source": [
    "s = pd.Series([1, 2, 3])\n",
    "s = s.astype('float64')\n",
    "s"
   ]
  },
  {
   "cell_type": "code",
   "execution_count": null,
   "id": "50f7c76e",
   "metadata": {},
   "outputs": [],
   "source": [
    "s.dtype"
   ]
  },
  {
   "cell_type": "markdown",
   "id": "a8d9ee99",
   "metadata": {},
   "source": [
    "But if you try to convert an “object” Series to a “numeric” Series and there are numbers that can’t be converted, pandas will throw an error: "
   ]
  },
  {
   "cell_type": "code",
   "execution_count": null,
   "id": "db206754",
   "metadata": {},
   "outputs": [],
   "source": [
    "s = pd.Series([1, 2, \"a string\"])\n",
    "s.astype('float64')"
   ]
  },
  {
   "cell_type": "markdown",
   "id": "f7dc52cc",
   "metadata": {},
   "source": [
    "## 1.3 Series Arithmetics\n",
    "There are three forms of Series arithmetic:\n",
    "\n",
    "- A Series with more than one element and a Series with only one element.\n",
    "- A Series modified by a function.\n",
    "- Two Series with the same number of elements. When working with two Series, elements are matched based on index values, not row numbers."
   ]
  },
  {
   "cell_type": "code",
   "execution_count": null,
   "id": "8c3387c2",
   "metadata": {},
   "outputs": [],
   "source": [
    "population*2"
   ]
  },
  {
   "cell_type": "code",
   "execution_count": null,
   "id": "0820928d",
   "metadata": {},
   "outputs": [],
   "source": [
    "population.sum()"
   ]
  },
  {
   "cell_type": "code",
   "execution_count": null,
   "id": "c6e864c8",
   "metadata": {},
   "outputs": [],
   "source": [
    "s = pd.Series([10000,2000020,30003000,40040000,50000005],\n",
    "            index=['NYC', 'LA', 'Chicago', 'Dallas', 'Houston'])\n",
    "\n",
    "population+s"
   ]
  },
  {
   "cell_type": "markdown",
   "id": "d9550188",
   "metadata": {},
   "source": [
    "## 1.4 Modifying series elements\n",
    "Essentially, in the same way that we can select row elements we can also update them using the same logic. \n",
    "\n",
    "Say we needed to update the LA metro area in our `population` series (I'll just make up a fake population update for now) from `12997353` to `15000000`. \n",
    "\n",
    "There are a few ways to do this: "
   ]
  },
  {
   "cell_type": "code",
   "execution_count": null,
   "id": "75420c99",
   "metadata": {},
   "outputs": [],
   "source": [
    "### Filter for population value\n",
    "population[population==12997353] = 15000000\n",
    "population"
   ]
  },
  {
   "cell_type": "code",
   "execution_count": null,
   "id": "aa70f29e",
   "metadata": {},
   "outputs": [],
   "source": [
    "### Using the .loc method\n",
    "population.loc['LA'] = 15000000\n",
    "population"
   ]
  },
  {
   "cell_type": "code",
   "execution_count": null,
   "id": "6a21218e",
   "metadata": {},
   "outputs": [],
   "source": [
    "### Using the .iloc method\n",
    "population.iloc[1] = 15000000"
   ]
  },
  {
   "cell_type": "code",
   "execution_count": null,
   "id": "4bed97fa",
   "metadata": {},
   "outputs": [],
   "source": [
    "### Using the square bracket method\n",
    "### (Let's reset the population series to the original values for demo purposes)\n",
    "population = pd.Series([19768458, 12997353, 9509934, 7759615, 7206841],    \n",
    "            index=['NYC', 'LA', 'Chicago', 'Dallas', 'Houston'])\n",
    "\n",
    "population['LA'] = 15000000\n",
    "## or \n",
    "population[1] = 15000000\n",
    "population"
   ]
  },
  {
   "cell_type": "markdown",
   "id": "technological-queens",
   "metadata": {},
   "source": [
    "# 2. DataFrames\n",
    "Pandas DataFrames are tabular data consisting of a collection of Series in which each column is a series. It is the central data structure used in most analysis using the Pandas library. "
   ]
  },
  {
   "cell_type": "code",
   "execution_count": null,
   "id": "b79b2c25",
   "metadata": {},
   "outputs": [],
   "source": [
    "# msa_by_pop = pd.read_html(\"https://en.wikipedia.org/wiki/Metropolitan_statistical_area\",encoding=\"latin-1\",)[1]\n",
    "# msa_by_pop.columns = ['Rank', 'MSA', 'population_2021_est', 'population_2020',\n",
    "#        'perc_change', 'Encompassing combined statistical area']\n",
    "# msa_by_pop['perc_change'].replace('â','',regex=True,inplace=True)\n",
    "# msa_by_pop[['Rank','MSA','population_2021_est','population_2020','perc_change']].to_csv('msa_by_pop.csv',index=False)\n"
   ]
  },
  {
   "cell_type": "markdown",
   "id": "dafbb4fd",
   "metadata": {},
   "source": [
    "First, let's read in our data using the pandas function `.read_csv()`. \n",
    "\n",
    "One of the nifty things about reading data in pandas is that it's designed to read many different types data sources, from files, to QL databases, and URLs. Here are a few to know about: \n",
    "- `pd.read_csv`: Read in a comma-separated-value file\n",
    "- `pd.read_excel`: Read in an Excel (`.xls` and `.xlsx`) spreadsheet\n",
    "- `pd.read_stata`: Read Stata (`.dta`) datasets\n",
    "- `pd.read_hdf`: Read HDF (`.hdf`) datasets\n",
    "- `pd.read_sql`: Read from a SQL database\n",
    "- `pd.read_html`: Read from the `html` tags of an HTML file\n",
    "\n",
    "Similarly, you can write a dataframe to many formats: (`df` here is the name of a dataframe)\n",
    "- `df.to_csv`: Write to a comma-separated-value file\n",
    "- `df.to_excel`: Write to an Excel (.xls and .xlsx) spreadsheet\n",
    "- `df.to_stata`: Write to a stata (.dta) dataset\n",
    "- `df.to_hdf`: Write to an HDF (.hdf) dataset\n",
    "- `df.to_sql`: Write to a SQL database\n",
    "- `df.to_html`: Write to an HTML table. \n",
    "\n",
    "\n",
    "Check out the [Pandas documentation on input/output](https://pandas.pydata.org/docs/reference/io.html) to see all the possible functions for reading data. "
   ]
  },
  {
   "cell_type": "markdown",
   "id": "d3810289",
   "metadata": {},
   "source": [
    "## 2.1 Reading a file\n",
    "Download the `msa_by_pop.csv` in this week's folder. We are first going to read this CSV as DataFrame into Pandas.\n",
    "\n",
    "The function `.read_csv()` takes a file path as a string (read: text). If you have saved `msa_by_pop.csv` in the same folder as this notebook, then all you will need to input as your path is `msa_by_pop.csv`. \n",
    "\n",
    "(If you had saved your CSV within a sub-directory called `Data`, then to access this data file you'd need to input `Data/msa_by_pop.csv`)"
   ]
  },
  {
   "cell_type": "code",
   "execution_count": null,
   "id": "96d1fc6e",
   "metadata": {},
   "outputs": [],
   "source": [
    "msa_by_pop = pd.read_csv('msa_by_pop.csv')\n",
    "msa_by_pop"
   ]
  },
  {
   "cell_type": "markdown",
   "id": "c590790c",
   "metadata": {},
   "source": [
    "## 2.2 Exploring our data\n",
    "You can see here that (in addition to the formatting of tabular data in Jupyter) the main difference between this and a series is that we have multiple columns with column labels. So the dataframe structure consists of: \n",
    "- An index, with index labels (here the labels are just `0`,`1`,...,`383`)\n",
    "- Columns, with column labels (here `MSA`, `population_2021_est`, `population_2020`,`perc_change`)\n",
    "- And the data, which are the values in each row. "
   ]
  },
  {
   "cell_type": "markdown",
   "id": "dbb628c7",
   "metadata": {},
   "source": [
    "Now, in addition to `.index` we can also see all the columns in our DataFrame: "
   ]
  },
  {
   "cell_type": "code",
   "execution_count": null,
   "id": "9b9c7930",
   "metadata": {},
   "outputs": [],
   "source": [
    "msa_by_pop.index"
   ]
  },
  {
   "cell_type": "code",
   "execution_count": null,
   "id": "e1548314",
   "metadata": {},
   "outputs": [],
   "source": [
    "msa_by_pop.columns"
   ]
  },
  {
   "cell_type": "markdown",
   "id": "760abb00",
   "metadata": {},
   "source": [
    "Now, to see the datatypes for each column, we use `.dtypes`"
   ]
  },
  {
   "cell_type": "code",
   "execution_count": null,
   "id": "4e1b3cd7",
   "metadata": {},
   "outputs": [],
   "source": [
    "msa_by_pop.dtypes"
   ]
  },
  {
   "cell_type": "markdown",
   "id": "spanish-contamination",
   "metadata": {},
   "source": [
    "One common function used to explore the data is called `.head()` that reveals the first 5 rows of the Dataframe. "
   ]
  },
  {
   "cell_type": "code",
   "execution_count": null,
   "id": "936b2eb8",
   "metadata": {},
   "outputs": [],
   "source": [
    "msa_by_pop.head()"
   ]
  },
  {
   "cell_type": "markdown",
   "id": "c3f0a2e1",
   "metadata": {},
   "source": [
    "If you start to type `msa_by_pop.head(` without finishing the parens you can see the inputs required of the function: \n",
    "\n",
    "\n",
    "<img src=\"img/func_arg.png\" alt=\"drawing\" width=\"400\" style=\"display: block; margin: 0 auto\"/>\n",
    "\n",
    "\n",
    "This shows us that that `.head()` by default show 5 rows, but you can also optionally adjust this by specifying another integer. For instance: "
   ]
  },
  {
   "cell_type": "code",
   "execution_count": null,
   "id": "4e5a4929",
   "metadata": {},
   "outputs": [],
   "source": [
    "## This gives us the first 10 rows\n",
    "msa_by_pop.head(10)"
   ]
  },
  {
   "cell_type": "markdown",
   "id": "b227fa44",
   "metadata": {},
   "source": [
    "`.sample()` gives us a random selection of rows. "
   ]
  },
  {
   "cell_type": "code",
   "execution_count": null,
   "id": "7b703458",
   "metadata": {},
   "outputs": [],
   "source": [
    "msa_by_pop.sample(10)"
   ]
  },
  {
   "cell_type": "markdown",
   "id": "62d74c09",
   "metadata": {},
   "source": [
    "The function `.len()` measures the length of a selection. Applying this to the DataFrame gives you the number of rows: "
   ]
  },
  {
   "cell_type": "code",
   "execution_count": null,
   "id": "efb4e4cc",
   "metadata": {},
   "outputs": [],
   "source": [
    "len(msa_by_pop)"
   ]
  },
  {
   "cell_type": "markdown",
   "id": "92a123ef",
   "metadata": {},
   "source": [
    "Applying it to the columns gives us the number of columns we have"
   ]
  },
  {
   "cell_type": "code",
   "execution_count": null,
   "id": "c9bf96a5",
   "metadata": {},
   "outputs": [],
   "source": [
    "len(msa_by_pop.columns)"
   ]
  },
  {
   "cell_type": "markdown",
   "id": "8d33c6c4",
   "metadata": {},
   "source": [
    "The function `.shape` gives us the number of `(rows,columns)` in our dataframe: "
   ]
  },
  {
   "cell_type": "code",
   "execution_count": null,
   "id": "88734f35",
   "metadata": {},
   "outputs": [],
   "source": [
    "msa_by_pop.shape"
   ]
  },
  {
   "cell_type": "markdown",
   "id": "bb7f42d1",
   "metadata": {},
   "source": [
    "`.describe()` provides some basic descriptive statistics for our dataframe: "
   ]
  },
  {
   "cell_type": "code",
   "execution_count": null,
   "id": "c02ea7a8",
   "metadata": {},
   "outputs": [],
   "source": [
    "msa_by_pop.describe()"
   ]
  },
  {
   "cell_type": "markdown",
   "id": "b96abb70",
   "metadata": {},
   "source": [
    "`.sort-values()` sorts your DataFrame by a certain column. If you column is numeric, it will sort the values from smallest to largest. If your column is a string, it will sort alphabetically.\n",
    "\n",
    "The index values will be sorted along with the rows. "
   ]
  },
  {
   "cell_type": "code",
   "execution_count": null,
   "id": "e932db88",
   "metadata": {},
   "outputs": [],
   "source": [
    "# This sorts the dataframe by the population_2021_est column, from smallest to largest\n",
    "# Note that the original dataframe is not changed \n",
    "# but that the index values now reflect the sorted order. \n",
    "msa_by_pop.sort_values('population_2021_est')"
   ]
  },
  {
   "cell_type": "markdown",
   "id": "075aa96a",
   "metadata": {},
   "source": [
    "Adding the `ascending=False` input in your function will sort from largest to smallest or end of alphabet to beginning, depending on your column data type. "
   ]
  },
  {
   "cell_type": "code",
   "execution_count": null,
   "id": "58f8c58e",
   "metadata": {},
   "outputs": [],
   "source": [
    "msa_by_pop.sort_values('population_2021_est',ascending=False)"
   ]
  },
  {
   "cell_type": "markdown",
   "id": "1d421f22",
   "metadata": {},
   "source": [
    "## 2.3 Subsetting and filtering Dataframes\n",
    "Selecting data from our Dataframes is very similar to a Pandas Series, except now we have two dimensions (rows and columns) for which we have to specify conditions. "
   ]
  },
  {
   "cell_type": "markdown",
   "id": "345227c7",
   "metadata": {},
   "source": [
    "For `.iloc` we can select rows and columns now by their position."
   ]
  },
  {
   "cell_type": "code",
   "execution_count": null,
   "id": "c5846458",
   "metadata": {},
   "outputs": [],
   "source": [
    "# Remember integer ranges are exclusive of the last value!\n",
    "msa_by_pop.iloc[0:5,0:3]"
   ]
  },
  {
   "cell_type": "markdown",
   "id": "6feaf13c",
   "metadata": {},
   "source": [
    "Similarly, using `.loc` we can select rows and columns by their names. "
   ]
  },
  {
   "cell_type": "code",
   "execution_count": null,
   "id": "557db98b",
   "metadata": {},
   "outputs": [],
   "source": [
    "# Since our rows are index by integers, when we can use the .loc method to select rows, \n",
    "# it's the same as .iloc\n",
    "msa_by_pop.loc[0:5,['Rank','MSA','population_2021_est']]"
   ]
  },
  {
   "cell_type": "markdown",
   "id": "bd46a13a",
   "metadata": {},
   "source": [
    "You can always leave out the column argument in either `.loc` or `.iloc` in order to select all columns. "
   ]
  },
  {
   "cell_type": "code",
   "execution_count": null,
   "id": "1908643c",
   "metadata": {},
   "outputs": [],
   "source": [
    "msa_by_pop.iloc[0:5]"
   ]
  },
  {
   "cell_type": "code",
   "execution_count": null,
   "id": "1959db26",
   "metadata": {},
   "outputs": [],
   "source": [
    "msa_by_pop.loc[0:5]"
   ]
  },
  {
   "cell_type": "markdown",
   "id": "7d4ea1a2",
   "metadata": {},
   "source": [
    "But to do the same with columns you'll first have to specify that you want all the rows with `:` . "
   ]
  },
  {
   "cell_type": "code",
   "execution_count": null,
   "id": "1875decc",
   "metadata": {},
   "outputs": [],
   "source": [
    "msa_by_pop.loc[:,['Rank']]"
   ]
  },
  {
   "cell_type": "code",
   "execution_count": null,
   "id": "b63c0553",
   "metadata": {},
   "outputs": [],
   "source": [
    "msa_by_pop.iloc[:,[0]]"
   ]
  },
  {
   "cell_type": "markdown",
   "id": "67eb0c8e",
   "metadata": {},
   "source": [
    "With the square brackets `[]` you can provide a list of columns. "
   ]
  },
  {
   "cell_type": "code",
   "execution_count": null,
   "id": "741ed849",
   "metadata": {},
   "outputs": [],
   "source": [
    "msa_by_pop[['Rank']]"
   ]
  },
  {
   "cell_type": "code",
   "execution_count": null,
   "id": "7509f106",
   "metadata": {},
   "outputs": [],
   "source": [
    "msa_by_pop[['Rank','population_2020']]"
   ]
  },
  {
   "cell_type": "markdown",
   "id": "efcbb1ee",
   "metadata": {},
   "source": [
    "We can again filter by logicals, but you'll need to specify the column names now. "
   ]
  },
  {
   "cell_type": "code",
   "execution_count": null,
   "id": "9ef0d03e",
   "metadata": {},
   "outputs": [],
   "source": [
    "msa_by_pop.loc[msa_by_pop['Rank']>300]\n",
    "# Yes, msa_by_pop['Rank'] does also select the column, \n",
    "# but notice that it gives a Series instead of a dataframe one column."
   ]
  },
  {
   "cell_type": "markdown",
   "id": "2f1459c7",
   "metadata": {},
   "source": [
    "In order to filter by more than one condition, you must: \n",
    "1. Put all conditions in `()`\n",
    "2. Separate the condtions by: \n",
    "\n",
    "    a. `|` if an `OR` condition     \n",
    "    b. `&` if an `AND` condition"
   ]
  },
  {
   "cell_type": "code",
   "execution_count": null,
   "id": "370f566b",
   "metadata": {},
   "outputs": [],
   "source": [
    "msa_by_pop[(msa_by_pop['Rank']>300) & (msa_by_pop['MSA'].str.contains('NY'))]"
   ]
  },
  {
   "cell_type": "code",
   "execution_count": null,
   "id": "b85262aa",
   "metadata": {},
   "outputs": [],
   "source": [
    "msa_by_pop[(msa_by_pop['Rank']>300) | (msa_by_pop['MSA'].str.contains('NY'))]"
   ]
  },
  {
   "cell_type": "markdown",
   "id": "dd0cb4d6",
   "metadata": {},
   "source": [
    "# 3. Good Coding Practices\n",
    "\n",
    "The following are some good practices for writing more legible Jupyter notebooks. Often, we don't necessarily realize that code we write isn't immediately interpretable to readers. To make code more easily interpreted, we will often explain through markdown text or comments what we are doing. "
   ]
  },
  {
   "cell_type": "markdown",
   "id": "358797f4",
   "metadata": {},
   "source": [
    "## 3.1 Markdown and explanatory cells\n",
    "As you can see in this notebook, there are many \"Markdown\" cells surrounding our actual code. The markdown I have here describes the purpose of each code cell and what I wanted to do with it. \n",
    "\n",
    "I often organize my notebooks by header size `#`, `##` etc, and by numbering the different sections. This can be helpful if you're writing an especially long notebook. \n",
    "\n",
    "Here's a [guide on how to write in Markdown](https://docs.github.com/en/get-started/writing-on-github/getting-started-with-writing-and-formatting-on-github/basic-writing-and-formatting-syntax)."
   ]
  },
  {
   "cell_type": "markdown",
   "id": "53b5420c",
   "metadata": {},
   "source": [
    "## 3.2 Formatting code\n",
    "Sometimes, code can be very long. For instance, your function might have a bunch of inputs or you have many conditionals.\n",
    "\n",
    "Depending on how wide your browser window is, this code may not fit in the window: "
   ]
  },
  {
   "cell_type": "code",
   "execution_count": null,
   "id": "76be9ee9",
   "metadata": {},
   "outputs": [],
   "source": [
    "msa_by_pop[(msa_by_pop['Rank']>300) & (msa_by_pop['MSA'].str.contains('NY')) & (msa_by_pop['population_2020']>100000)]"
   ]
  },
  {
   "cell_type": "markdown",
   "id": "dbc2d15c",
   "metadata": {},
   "source": [
    "Instead, we can use `\\` to start a new line. The below is also clearer because each condition is its own line. "
   ]
  },
  {
   "cell_type": "code",
   "execution_count": null,
   "id": "61f25c69",
   "metadata": {},
   "outputs": [],
   "source": [
    "msa_by_pop[(msa_by_pop['Rank']>300) &\\\n",
    "        (msa_by_pop['MSA'].str.contains('NY')) &\\\n",
    "        (msa_by_pop['population_2020']>100000)]"
   ]
  },
  {
   "cell_type": "markdown",
   "id": "44cdfa96",
   "metadata": {},
   "source": [
    "You can also use the `#` in a code cell to comment. You can see that sometimes I have small notes in there that maybe didn't need to go into the markdown cell. "
   ]
  },
  {
   "cell_type": "code",
   "execution_count": null,
   "id": "9637d19a",
   "metadata": {},
   "outputs": [],
   "source": [
    "# This is a code comment\n",
    "msa_by_pop[(msa_by_pop['Rank']>300) &\\\n",
    "        (msa_by_pop['MSA'].str.contains('NY')) &\\\n",
    "        (msa_by_pop['population_2020']>100000)]"
   ]
  },
  {
   "cell_type": "markdown",
   "id": "dd8f6254",
   "metadata": {},
   "source": [
    "## 3.3 Selecting variable names\n",
    "There are two aspects of select variable names we're going to go over today: \n",
    "1. What to name your variables or function\n",
    "2. How to name a multi-word variable or function\n",
    "\n",
    "### 3.3.1\n",
    "A good variable name should: \n",
    "- Be clear and concise.\n",
    "- Be written in English. A general coding practice is to write code with variable names in English, as that is the most likely common language between programmers. Thus, variable names such as muuttuja (which is also not a good name on other levels) should be avoided.\n",
    "- Not contain special characters. Python supports use of special characters by way of various encoding options that can be given in a program. That said, it is better to avoid variables such as lämpötila because encoding issues can arise in some cases. Better to stick to the standard printable ASCII character set to be safe.\n",
    "- Not conflict with any Python keywords, such as for, True, False, and, if, or else. These are reserved for special operations in Python and cannot be used as variable names."
   ]
  },
  {
   "cell_type": "code",
   "execution_count": null,
   "id": "dedfd052",
   "metadata": {},
   "outputs": [],
   "source": [
    "# Do not do this: \n",
    "finnishmeteorlogicalinstituteobservationstationidentificationnumber = \"101533\"\n"
   ]
  },
  {
   "cell_type": "code",
   "execution_count": null,
   "id": "12a6fd6b",
   "metadata": {},
   "outputs": [],
   "source": [
    "# Or this: \n",
    "f = \"101533\""
   ]
  },
  {
   "cell_type": "code",
   "execution_count": null,
   "id": "90e6f423",
   "metadata": {},
   "outputs": [],
   "source": [
    "# Something that is as short as possible while still being descriptive is best\n",
    "sid = \"101533\""
   ]
  },
  {
   "cell_type": "markdown",
   "id": "4379a9d3",
   "metadata": {},
   "source": [
    "### 3.3.2 Snake case and camel case\n",
    "There are two general ways of connecting variable and function names that contain more than one word. \n",
    "\n",
    "You can see from the above exercise that I've named my DataFrame `msa_by_pop`. Connecting words by `_`  is called \"Snake Case\". \n",
    "\n",
    "Another convention is to use capital letters to start new words. `msaByPop` could be another way to name our variable. "
   ]
  },
  {
   "cell_type": "markdown",
   "id": "dfc7ddca",
   "metadata": {},
   "source": [
    "# 4. In-Class Exercises\n",
    "Each week, we will have in-class exercises that give you some pratice on the concepts learned in class.\n"
   ]
  },
  {
   "cell_type": "markdown",
   "id": "573a68dc",
   "metadata": {},
   "source": [
    "## 4.1. Exercise 1 (5 points)\n",
    "For this exercise, we are going to use the table from the earlier examples. Instead of reading the table from a CSV, let's read the table directly from the [Wikipedia page on Metropolitan Statistical Areas](https://en.wikipedia.org/wiki/Metropolitan_statistical_area)."
   ]
  },
  {
   "cell_type": "code",
   "execution_count": 2,
   "id": "6290d181",
   "metadata": {},
   "outputs": [],
   "source": [
    "import pandas as pd\n",
    "msa_by_pop = pd.read_html(\"https://en.wikipedia.org/wiki/Metropolitan_statistical_area\")[1]\n",
    "msa_by_pop.columns =['Rank', 'MSA', 'population_2021_est', 'population_2020',\n",
    "       'perc_change', 'Encompassing_combined_statistical_area']"
   ]
  },
  {
   "cell_type": "markdown",
   "id": "3db37e4d",
   "metadata": {},
   "source": [
    "Which is the MSA with the 10th largest population as estimated for 2021? "
   ]
  },
  {
   "cell_type": "code",
   "execution_count": 8,
   "id": "b6870fc2",
   "metadata": {},
   "outputs": [
    {
     "data": {
      "text/plain": [
       "Rank                                              10\n",
       "MSA                    Phoenix-Mesa-Chandler, AZ MSA\n",
       "population_2021_est                          4946145\n",
       "Name: 9, dtype: object"
      ]
     },
     "execution_count": 8,
     "metadata": {},
     "output_type": "execute_result"
    }
   ],
   "source": [
    "## Insert your code here\n",
    "\n",
    "##Sort 2021 pop column from largest to smallest. Select the 10th row \n",
    "msa_by_pop.sort_values('population_2021_est',ascending=False).loc[9,['Rank', 'MSA', 'population_2021_est']]"
   ]
  },
  {
   "cell_type": "markdown",
   "id": "df783eb6",
   "metadata": {},
   "source": [
    "Select the smallest 10 MSAs by 2020 Census population"
   ]
  },
  {
   "cell_type": "code",
   "execution_count": 9,
   "id": "0cb220cb",
   "metadata": {},
   "outputs": [
    {
     "data": {
      "text/html": [
       "<div>\n",
       "<style scoped>\n",
       "    .dataframe tbody tr th:only-of-type {\n",
       "        vertical-align: middle;\n",
       "    }\n",
       "\n",
       "    .dataframe tbody tr th {\n",
       "        vertical-align: top;\n",
       "    }\n",
       "\n",
       "    .dataframe thead th {\n",
       "        text-align: right;\n",
       "    }\n",
       "</style>\n",
       "<table border=\"1\" class=\"dataframe\">\n",
       "  <thead>\n",
       "    <tr style=\"text-align: right;\">\n",
       "      <th></th>\n",
       "      <th>Rank</th>\n",
       "      <th>MSA</th>\n",
       "      <th>population_2021_est</th>\n",
       "      <th>population_2020</th>\n",
       "      <th>perc_change</th>\n",
       "      <th>Encompassing_combined_statistical_area</th>\n",
       "    </tr>\n",
       "  </thead>\n",
       "  <tbody>\n",
       "    <tr>\n",
       "      <th>383</th>\n",
       "      <td>384</td>\n",
       "      <td>Carson City, NV MSA</td>\n",
       "      <td>58993</td>\n",
       "      <td>58639</td>\n",
       "      <td>+0.60%</td>\n",
       "      <td>Reno-Carson City-Fernley, NV CSA</td>\n",
       "    </tr>\n",
       "    <tr>\n",
       "      <th>381</th>\n",
       "      <td>382</td>\n",
       "      <td>Walla Walla, WA MSA</td>\n",
       "      <td>62682</td>\n",
       "      <td>62584</td>\n",
       "      <td>+0.16%</td>\n",
       "      <td>Kennewick-Richland-Walla Walla, WA CSA</td>\n",
       "    </tr>\n",
       "    <tr>\n",
       "      <th>382</th>\n",
       "      <td>383</td>\n",
       "      <td>Enid, OK MSA</td>\n",
       "      <td>61926</td>\n",
       "      <td>62846</td>\n",
       "      <td>−1.46%</td>\n",
       "      <td>NaN</td>\n",
       "    </tr>\n",
       "    <tr>\n",
       "      <th>380</th>\n",
       "      <td>381</td>\n",
       "      <td>Lewiston, ID-WA MSA</td>\n",
       "      <td>64851</td>\n",
       "      <td>64375</td>\n",
       "      <td>+0.74%</td>\n",
       "      <td>NaN</td>\n",
       "    </tr>\n",
       "    <tr>\n",
       "      <th>379</th>\n",
       "      <td>380</td>\n",
       "      <td>Danville, IL MSA</td>\n",
       "      <td>73095</td>\n",
       "      <td>74188</td>\n",
       "      <td>−1.47%</td>\n",
       "      <td>NaN</td>\n",
       "    </tr>\n",
       "    <tr>\n",
       "      <th>378</th>\n",
       "      <td>379</td>\n",
       "      <td>Grand Island, NE MSA</td>\n",
       "      <td>76175</td>\n",
       "      <td>77038</td>\n",
       "      <td>−1.12%</td>\n",
       "      <td>NaN</td>\n",
       "    </tr>\n",
       "    <tr>\n",
       "      <th>377</th>\n",
       "      <td>378</td>\n",
       "      <td>Casper, WY MSA</td>\n",
       "      <td>79555</td>\n",
       "      <td>79955</td>\n",
       "      <td>−0.50%</td>\n",
       "      <td>NaN</td>\n",
       "    </tr>\n",
       "    <tr>\n",
       "      <th>375</th>\n",
       "      <td>376</td>\n",
       "      <td>Hinesville, GA MSA</td>\n",
       "      <td>82863</td>\n",
       "      <td>81424</td>\n",
       "      <td>+1.77%</td>\n",
       "      <td>Savannah-Hinesville-Statesboro, GA CSA</td>\n",
       "    </tr>\n",
       "    <tr>\n",
       "      <th>376</th>\n",
       "      <td>377</td>\n",
       "      <td>Columbus, IN MSA</td>\n",
       "      <td>82475</td>\n",
       "      <td>82208</td>\n",
       "      <td>+0.32%</td>\n",
       "      <td>Indianapolis-Carmel-Muncie, IN CSA</td>\n",
       "    </tr>\n",
       "    <tr>\n",
       "      <th>374</th>\n",
       "      <td>375</td>\n",
       "      <td>Bloomsburg-Berwick, PA MSA</td>\n",
       "      <td>82959</td>\n",
       "      <td>82863</td>\n",
       "      <td>+0.12%</td>\n",
       "      <td>Bloomsburg-Berwick-Sunbury, PA CSA</td>\n",
       "    </tr>\n",
       "  </tbody>\n",
       "</table>\n",
       "</div>"
      ],
      "text/plain": [
       "     Rank                         MSA  population_2021_est  population_2020  \\\n",
       "383   384         Carson City, NV MSA                58993            58639   \n",
       "381   382         Walla Walla, WA MSA                62682            62584   \n",
       "382   383                Enid, OK MSA                61926            62846   \n",
       "380   381         Lewiston, ID-WA MSA                64851            64375   \n",
       "379   380            Danville, IL MSA                73095            74188   \n",
       "378   379        Grand Island, NE MSA                76175            77038   \n",
       "377   378              Casper, WY MSA                79555            79955   \n",
       "375   376          Hinesville, GA MSA                82863            81424   \n",
       "376   377            Columbus, IN MSA                82475            82208   \n",
       "374   375  Bloomsburg-Berwick, PA MSA                82959            82863   \n",
       "\n",
       "    perc_change  Encompassing_combined_statistical_area  \n",
       "383      +0.60%        Reno-Carson City-Fernley, NV CSA  \n",
       "381      +0.16%  Kennewick-Richland-Walla Walla, WA CSA  \n",
       "382      −1.46%                                     NaN  \n",
       "380      +0.74%                                     NaN  \n",
       "379      −1.47%                                     NaN  \n",
       "378      −1.12%                                     NaN  \n",
       "377      −0.50%                                     NaN  \n",
       "375      +1.77%  Savannah-Hinesville-Statesboro, GA CSA  \n",
       "376      +0.32%      Indianapolis-Carmel-Muncie, IN CSA  \n",
       "374      +0.12%      Bloomsburg-Berwick-Sunbury, PA CSA  "
      ]
     },
     "execution_count": 9,
     "metadata": {},
     "output_type": "execute_result"
    }
   ],
   "source": [
    "## Insert your code here\n",
    "\n",
    "##Sort again but this time from smallest to largest. Grab the first 10 rows\n",
    "msa_by_pop.sort_values('population_2020').head(10)"
   ]
  },
  {
   "cell_type": "markdown",
   "id": "d9e22c89",
   "metadata": {},
   "source": [
    "Find the total 2020 Census population of these 384 MSAs. "
   ]
  },
  {
   "cell_type": "code",
   "execution_count": 23,
   "id": "a8f51028",
   "metadata": {},
   "outputs": [
    {
     "data": {
      "text/plain": [
       "286104556"
      ]
     },
     "execution_count": 23,
     "metadata": {},
     "output_type": "execute_result"
    }
   ],
   "source": [
    "## Insert your code here\n",
    "\n",
    "##Sum up the values in the 2020 population column\n",
    "sum(msa_by_pop['population_2020'])"
   ]
  },
  {
   "attachments": {},
   "cell_type": "markdown",
   "id": "bfba5853",
   "metadata": {},
   "source": [
    "Based on the population growth between 2020 and 2021, let's estimate the population in 2021 using the following function: \n",
    "\n",
    "$$\n",
    "pop_{year2} =pop_{year1}*(1+ {\\% change})^t\n",
    "$$\n",
    "\n",
    "where $t=1$ here and $\\% change$ is the percentage estimated change in population from 2020.\n",
    "\n",
    "First, calculate the percentage change between 2020 and 2021 and create a new column with these values called `year_change`. Do not multiply by 100, just keep the values in their original decimal form."
   ]
  },
  {
   "cell_type": "code",
   "execution_count": 11,
   "id": "9f546302",
   "metadata": {},
   "outputs": [],
   "source": [
    "## Insert your code here\n",
    "\n",
    "##Subtract pop 2020 column from pop 2021 column and divide by pop 2020 column. \n",
    "msa_by_pop['year_change'] = (msa_by_pop['population_2021_est'] - msa_by_pop['population_2020'])/msa_by_pop['population_2020']\n"
   ]
  },
  {
   "cell_type": "markdown",
   "id": "7b984ec0",
   "metadata": {},
   "source": [
    "Does `year_change` line up with the `% change` column that we already have? Select the two columns together to do an eyeball estimate. "
   ]
  },
  {
   "cell_type": "code",
   "execution_count": 12,
   "id": "e5a8d413",
   "metadata": {},
   "outputs": [
    {
     "data": {
      "text/html": [
       "<div>\n",
       "<style scoped>\n",
       "    .dataframe tbody tr th:only-of-type {\n",
       "        vertical-align: middle;\n",
       "    }\n",
       "\n",
       "    .dataframe tbody tr th {\n",
       "        vertical-align: top;\n",
       "    }\n",
       "\n",
       "    .dataframe thead th {\n",
       "        text-align: right;\n",
       "    }\n",
       "</style>\n",
       "<table border=\"1\" class=\"dataframe\">\n",
       "  <thead>\n",
       "    <tr style=\"text-align: right;\">\n",
       "      <th></th>\n",
       "      <th>year_change</th>\n",
       "      <th>perc_change</th>\n",
       "    </tr>\n",
       "  </thead>\n",
       "  <tbody>\n",
       "    <tr>\n",
       "      <th>0</th>\n",
       "      <td>-0.018471</td>\n",
       "      <td>−1.85%</td>\n",
       "    </tr>\n",
       "    <tr>\n",
       "      <th>1</th>\n",
       "      <td>-0.015426</td>\n",
       "      <td>−1.54%</td>\n",
       "    </tr>\n",
       "    <tr>\n",
       "      <th>2</th>\n",
       "      <td>-0.011287</td>\n",
       "      <td>−1.13%</td>\n",
       "    </tr>\n",
       "    <tr>\n",
       "      <th>3</th>\n",
       "      <td>0.016004</td>\n",
       "      <td>+1.60%</td>\n",
       "    </tr>\n",
       "    <tr>\n",
       "      <th>4</th>\n",
       "      <td>0.011878</td>\n",
       "      <td>+1.19%</td>\n",
       "    </tr>\n",
       "    <tr>\n",
       "      <th>...</th>\n",
       "      <td>...</td>\n",
       "      <td>...</td>\n",
       "    </tr>\n",
       "    <tr>\n",
       "      <th>379</th>\n",
       "      <td>-0.014733</td>\n",
       "      <td>−1.47%</td>\n",
       "    </tr>\n",
       "    <tr>\n",
       "      <th>380</th>\n",
       "      <td>0.007394</td>\n",
       "      <td>+0.74%</td>\n",
       "    </tr>\n",
       "    <tr>\n",
       "      <th>381</th>\n",
       "      <td>0.001566</td>\n",
       "      <td>+0.16%</td>\n",
       "    </tr>\n",
       "    <tr>\n",
       "      <th>382</th>\n",
       "      <td>-0.014639</td>\n",
       "      <td>−1.46%</td>\n",
       "    </tr>\n",
       "    <tr>\n",
       "      <th>383</th>\n",
       "      <td>0.006037</td>\n",
       "      <td>+0.60%</td>\n",
       "    </tr>\n",
       "  </tbody>\n",
       "</table>\n",
       "<p>384 rows × 2 columns</p>\n",
       "</div>"
      ],
      "text/plain": [
       "     year_change perc_change\n",
       "0      -0.018471      −1.85%\n",
       "1      -0.015426      −1.54%\n",
       "2      -0.011287      −1.13%\n",
       "3       0.016004      +1.60%\n",
       "4       0.011878      +1.19%\n",
       "..           ...         ...\n",
       "379    -0.014733      −1.47%\n",
       "380     0.007394      +0.74%\n",
       "381     0.001566      +0.16%\n",
       "382    -0.014639      −1.46%\n",
       "383     0.006037      +0.60%\n",
       "\n",
       "[384 rows x 2 columns]"
      ]
     },
     "execution_count": 12,
     "metadata": {},
     "output_type": "execute_result"
    }
   ],
   "source": [
    "## Insert your code here\n",
    "\n",
    "#Index the two relevant columns to compare\n",
    "msa_by_pop[['year_change','perc_change']]"
   ]
  },
  {
   "attachments": {},
   "cell_type": "markdown",
   "id": "aaa17272",
   "metadata": {},
   "source": [
    "Now using your new `year_change` column, created another column called `population_2021_estimate` and estimate the 2021 population counts using the formula above. "
   ]
  },
  {
   "cell_type": "code",
   "execution_count": 27,
   "id": "44caae0c",
   "metadata": {},
   "outputs": [
    {
     "name": "stdout",
     "output_type": "stream",
     "text": [
      "     population_2021_est  population_2021_estimate\n",
      "0               19768458              2.014047e+07\n",
      "1               12997353              1.320100e+07\n",
      "2                9509934              9.618503e+06\n",
      "3                7759615              7.637388e+06\n",
      "4                7206841              7.122241e+06\n",
      "..                   ...                       ...\n",
      "379                73095              7.418899e+04\n",
      "380                64851              6.437601e+04\n",
      "381                62682              6.258500e+04\n",
      "382                61926              6.284699e+04\n",
      "383                58993              5.864001e+04\n",
      "\n",
      "[384 rows x 2 columns]\n"
     ]
    }
   ],
   "source": [
    "## Insert your code here\n",
    "\n",
    "##Using the formula given above:\n",
    "msa_by_pop['population_2021_estimate']= msa_by_pop['population_2020'] + (1 + msa_by_pop['year_change'])**1\n",
    "\n",
    "##Print the two estimated pop columns for 2021 to compare:\n",
    "print(msa_by_pop[['population_2021_est', 'population_2021_estimate']])\n"
   ]
  },
  {
   "cell_type": "markdown",
   "id": "5ed711b3",
   "metadata": {},
   "source": [
    "## 4.2 Exercise 2 (5 points)\n",
    "In this exercise, we are going to explore urban population change over the previous decade. \n",
    "\n",
    "Here, we are going to read the Excel file on \"Annual Estimates of the Resident Population: April 1, 2010 to July 1, 2019\" directly from the [U.S. Census Bureau's website](https://www.census.gov/data/tables/time-series/demo/popest/2010s-total-metro-and-micro-statistical-areas.html).\n",
    "\n",
    "Below, I'm going to do some data cleaning and re-formatting so the table is easier to work with.\n",
    "\n",
    "Each column with the year is the Census estimated MSA population for that year."
   ]
  },
  {
   "cell_type": "code",
   "execution_count": 14,
   "id": "afde433b",
   "metadata": {},
   "outputs": [
    {
     "name": "stderr",
     "output_type": "stream",
     "text": [
      "/var/folders/c5/dps3lj6n2sz8zkk_381lj9b1hnpv4f/T/ipykernel_59694/1369159727.py:24: FutureWarning: The default value of regex will change from True to False in a future version. In addition, single character regular expressions will *not* be treated as literal strings when regex=True.\n",
      "  msa_pop_2010_2019['MSA'] = msa_pop_2010_2019['MSA'].str.replace('.','')\n"
     ]
    }
   ],
   "source": [
    "# .read_excel() reads an Excel spreadsheet from a local file or from a URL. \n",
    "# Most .read_*() methods can read from both local files and URLs.\n",
    "# The default sheet is the first one, but you can specify a different sheet by name or index.\n",
    "\n",
    "# skiprows=3 skips the first 3 rows, header=0 uses the first row as column names\n",
    "msa_pop_2010_2019 = pd.read_excel('https://www2.census.gov/programs-surveys/popest/tables/2010-2019/metro/totals/cbsa-met-est2019-annres.xlsx',\n",
    "                                skiprows=3,header=0) \n",
    "\n",
    "# Because this is an Excel file with multiple header-type rows, \n",
    "# we need to skip the first 3 rows\n",
    "msa_pop_2010_2019 = msa_pop_2010_2019.iloc[2:]\n",
    "\n",
    "# I'm going to rename the columns to make them easier to work with\n",
    "msa_pop_2010_2019.columns = ['MSA','apr_1_2010','Estimates Base','2010','2011','2012','2013','2014','2015','2016','2017','2018','2019']\n",
    "\n",
    "# And I'm selecting only the columns we need for this exercise\n",
    "msa_pop_2010_2019 = msa_pop_2010_2019[['MSA','2010','2011','2012','2013','2014','2015','2016','2017','2018','2019']]\n",
    "\n",
    "# And I'm going to remove the rows that are not Metropolitan Statistical Areas \n",
    "# by filtering on the string 'Metro Area'\n",
    "msa_pop_2010_2019 = msa_pop_2010_2019[msa_pop_2010_2019['MSA'].str.contains('Metro Area')]\n",
    "\n",
    "# There's strangely a period at the beginning of each MSA name, so I'm going to remove it\n",
    "msa_pop_2010_2019['MSA'] = msa_pop_2010_2019['MSA'].str.replace('.','')\n",
    "\n",
    "# And I'm going to remove the word 'Metro Area' from the end of each MSA name\n",
    "msa_pop_2010_2019['MSA'] = msa_pop_2010_2019['MSA'].str.replace(' Metro Area','')"
   ]
  },
  {
   "cell_type": "markdown",
   "id": "9b21a62f",
   "metadata": {},
   "source": [
    "Let's take a look at the first 5 rows of the data."
   ]
  },
  {
   "cell_type": "code",
   "execution_count": 15,
   "id": "ea8b63c6",
   "metadata": {},
   "outputs": [
    {
     "data": {
      "text/html": [
       "<div>\n",
       "<style scoped>\n",
       "    .dataframe tbody tr th:only-of-type {\n",
       "        vertical-align: middle;\n",
       "    }\n",
       "\n",
       "    .dataframe tbody tr th {\n",
       "        vertical-align: top;\n",
       "    }\n",
       "\n",
       "    .dataframe thead th {\n",
       "        text-align: right;\n",
       "    }\n",
       "</style>\n",
       "<table border=\"1\" class=\"dataframe\">\n",
       "  <thead>\n",
       "    <tr style=\"text-align: right;\">\n",
       "      <th></th>\n",
       "      <th>MSA</th>\n",
       "      <th>2010</th>\n",
       "      <th>2011</th>\n",
       "      <th>2012</th>\n",
       "      <th>2013</th>\n",
       "      <th>2014</th>\n",
       "      <th>2015</th>\n",
       "      <th>2016</th>\n",
       "      <th>2017</th>\n",
       "      <th>2018</th>\n",
       "      <th>2019</th>\n",
       "    </tr>\n",
       "  </thead>\n",
       "  <tbody>\n",
       "    <tr>\n",
       "      <th>2</th>\n",
       "      <td>Abilene, TX</td>\n",
       "      <td>165585.0</td>\n",
       "      <td>166634.0</td>\n",
       "      <td>167442.0</td>\n",
       "      <td>167473.0</td>\n",
       "      <td>168342.0</td>\n",
       "      <td>169688.0</td>\n",
       "      <td>170017.0</td>\n",
       "      <td>170429.0</td>\n",
       "      <td>171150.0</td>\n",
       "      <td>172060.0</td>\n",
       "    </tr>\n",
       "    <tr>\n",
       "      <th>3</th>\n",
       "      <td>Akron, OH</td>\n",
       "      <td>703031.0</td>\n",
       "      <td>703200.0</td>\n",
       "      <td>702109.0</td>\n",
       "      <td>703621.0</td>\n",
       "      <td>704908.0</td>\n",
       "      <td>704382.0</td>\n",
       "      <td>703524.0</td>\n",
       "      <td>703987.0</td>\n",
       "      <td>703855.0</td>\n",
       "      <td>703479.0</td>\n",
       "    </tr>\n",
       "    <tr>\n",
       "      <th>4</th>\n",
       "      <td>Albany, GA</td>\n",
       "      <td>154145.0</td>\n",
       "      <td>154545.0</td>\n",
       "      <td>153976.0</td>\n",
       "      <td>152667.0</td>\n",
       "      <td>151949.0</td>\n",
       "      <td>150387.0</td>\n",
       "      <td>149137.0</td>\n",
       "      <td>148090.0</td>\n",
       "      <td>147840.0</td>\n",
       "      <td>146726.0</td>\n",
       "    </tr>\n",
       "    <tr>\n",
       "      <th>5</th>\n",
       "      <td>Albany-Lebanon, OR</td>\n",
       "      <td>116891.0</td>\n",
       "      <td>118164.0</td>\n",
       "      <td>118273.0</td>\n",
       "      <td>118405.0</td>\n",
       "      <td>119042.0</td>\n",
       "      <td>120236.0</td>\n",
       "      <td>122769.0</td>\n",
       "      <td>125035.0</td>\n",
       "      <td>127451.0</td>\n",
       "      <td>129749.0</td>\n",
       "    </tr>\n",
       "    <tr>\n",
       "      <th>6</th>\n",
       "      <td>Albany-Schenectady-Troy, NY</td>\n",
       "      <td>871082.0</td>\n",
       "      <td>872778.0</td>\n",
       "      <td>874698.0</td>\n",
       "      <td>877065.0</td>\n",
       "      <td>878113.0</td>\n",
       "      <td>879085.0</td>\n",
       "      <td>879792.0</td>\n",
       "      <td>882158.0</td>\n",
       "      <td>882263.0</td>\n",
       "      <td>880381.0</td>\n",
       "    </tr>\n",
       "  </tbody>\n",
       "</table>\n",
       "</div>"
      ],
      "text/plain": [
       "                           MSA      2010      2011      2012      2013  \\\n",
       "2                  Abilene, TX  165585.0  166634.0  167442.0  167473.0   \n",
       "3                    Akron, OH  703031.0  703200.0  702109.0  703621.0   \n",
       "4                   Albany, GA  154145.0  154545.0  153976.0  152667.0   \n",
       "5           Albany-Lebanon, OR  116891.0  118164.0  118273.0  118405.0   \n",
       "6  Albany-Schenectady-Troy, NY  871082.0  872778.0  874698.0  877065.0   \n",
       "\n",
       "       2014      2015      2016      2017      2018      2019  \n",
       "2  168342.0  169688.0  170017.0  170429.0  171150.0  172060.0  \n",
       "3  704908.0  704382.0  703524.0  703987.0  703855.0  703479.0  \n",
       "4  151949.0  150387.0  149137.0  148090.0  147840.0  146726.0  \n",
       "5  119042.0  120236.0  122769.0  125035.0  127451.0  129749.0  \n",
       "6  878113.0  879085.0  879792.0  882158.0  882263.0  880381.0  "
      ]
     },
     "execution_count": 15,
     "metadata": {},
     "output_type": "execute_result"
    }
   ],
   "source": [
    "## Insert your code here\n",
    "\n",
    "##Use head command to grab the first 5 rows\n",
    "msa_pop_2010_2019.head()"
   ]
  },
  {
   "cell_type": "markdown",
   "id": "7f9af0af",
   "metadata": {},
   "source": [
    "Now, create a new column that represents the percentage change in population between 2010 and 2019 and call this column `perc_pop_change`. "
   ]
  },
  {
   "cell_type": "code",
   "execution_count": 16,
   "id": "0e3bdb29",
   "metadata": {},
   "outputs": [],
   "source": [
    "## Insert your code here\n",
    "\n",
    "##Take the difference of the 2010 and 2019 pop columns and divide the difference by the 2010 pop column\n",
    "msa_pop_2010_2019['perc_pop_change'] = (msa_pop_2010_2019['2019'] - msa_pop_2010_2019['2010'])/msa_pop_2010_2019['2010']"
   ]
  },
  {
   "cell_type": "markdown",
   "id": "8e8a4884",
   "metadata": {},
   "source": [
    "Print the average population change for the 10 **largest** MSAs by population in 2010. "
   ]
  },
  {
   "cell_type": "code",
   "execution_count": 20,
   "id": "c80d44ce",
   "metadata": {},
   "outputs": [
    {
     "name": "stdout",
     "output_type": "stream",
     "text": [
      "The average population change for the 10 largest MSAs between 2010 and 2019 is 8.5142 %\n"
     ]
    }
   ],
   "source": [
    "# Insert your code here\n",
    "\n",
    "##First index the 10 largest MSAs by sorting the 2010 pop column and selecting the % change values\n",
    "MSA_top_10 = msa_pop_2010_2019.sort_values('2010', ascending = False).head(10)['perc_pop_change']\n",
    "\n",
    "## find the average by adding up the values found above and dividing by the length of the series\n",
    "change_top_10 = sum(MSA_top_10)/len(MSA_top_10)\n",
    "\n",
    "\n",
    "# The print function is used to print a string to the screen\n",
    "print('The average population change for the 10 largest MSAs between 2010 and 2019 is', \n",
    "        round(change_top_10*100,4),'%')"
   ]
  },
  {
   "cell_type": "markdown",
   "id": "56351543",
   "metadata": {},
   "source": [
    "Now print the average population change for the 10 **smallest** MSAs by population in 2010. "
   ]
  },
  {
   "cell_type": "code",
   "execution_count": 22,
   "id": "e55ee57e",
   "metadata": {},
   "outputs": [
    {
     "name": "stdout",
     "output_type": "stream",
     "text": [
      "The average population change for the 10 smallest MSAs between 2010 and 2019 is 2.4318 %\n"
     ]
    }
   ],
   "source": [
    "# Insert your code here\n",
    "\n",
    "## Similar process to code cell above but sort by smallest MSAs first. \n",
    "MSA_bottom_10 = msa_pop_2010_2019.sort_values('2010').head(10)['perc_pop_change']\n",
    "change_bottom_10 = sum(MSA_bottom_10)/len(MSA_bottom_10)\n",
    "\n",
    "print('The average population change for the 10 smallest MSAs between 2010 and 2019 is', \n",
    "    round(change_bottom_10*100,4),'%')"
   ]
  },
  {
   "cell_type": "code",
   "execution_count": null,
   "id": "e915430c",
   "metadata": {},
   "outputs": [],
   "source": []
  }
 ],
 "metadata": {
  "kernelspec": {
   "display_name": "gds_py",
   "language": "python",
   "name": "python3"
  },
  "language_info": {
   "codemirror_mode": {
    "name": "ipython",
    "version": 3
   },
   "file_extension": ".py",
   "mimetype": "text/x-python",
   "name": "python",
   "nbconvert_exporter": "python",
   "pygments_lexer": "ipython3",
   "version": "3.9.15 | packaged by conda-forge | (main, Nov 22 2022, 08:55:37) \n[Clang 14.0.6 ]"
  },
  "vscode": {
   "interpreter": {
    "hash": "b80695b476f5112b1e40ae080b824e38cf906d76a0e12ade1950d26e8e6e2781"
   }
  }
 },
 "nbformat": 4,
 "nbformat_minor": 5
}
