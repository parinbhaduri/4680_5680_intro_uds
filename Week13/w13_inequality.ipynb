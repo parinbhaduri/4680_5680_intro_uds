{
 "cells": [
  {
   "cell_type": "code",
   "execution_count": null,
   "id": "historic-dialogue",
   "metadata": {
    "tags": [
     "remove-cell"
    ]
   },
   "outputs": [],
   "source": [
    "import warnings\n",
    "\n",
    "warnings.filterwarnings(\"ignore\")"
   ]
  },
  {
   "cell_type": "markdown",
   "id": "defined-scotland",
   "metadata": {},
   "source": [
    "# Spatial Inequality Dynamics\n",
    "\n"
   ]
  },
  {
   "cell_type": "code",
   "execution_count": null,
   "id": "light-sierra",
   "metadata": {
    "collapsed": false,
    "ein.hycell": false,
    "ein.tags": "worksheet-0",
    "jupyter": {
     "outputs_hidden": false
    },
    "slideshow": {
     "slide_type": "-"
    }
   },
   "outputs": [],
   "source": [
    "import seaborn as sns \n",
    "import pandas as pd\n",
    "import geopandas as gpd\n",
    "import pysal \n",
    "import numpy as np\n",
    "import mapclassify\n",
    "import matplotlib.pyplot as plt\n",
    "from pysal.explore import esda\n",
    "from pysal.lib import weights"
   ]
  },
  {
   "cell_type": "markdown",
   "id": "gross-organic",
   "metadata": {},
   "source": [
    "## Data: U.S. state per capita income 1969-2017\n",
    "\n",
    "For this chapter, we use data on average income per capita over time. Specifically, we consider the United States counties from 1969 to 2017. The U.S. counties are small regions that fit hierarchically within states. This perspective will allow us to examine trends for individual observations (counties), or regions containing several of them in a geographically consistent way (states or census regions which are collections of states). The temporal approach will reveal whether these entities get richer or poorer, as well as how the overall distribution of income moves, skews, or spreads out. \n"
   ]
  },
  {
   "cell_type": "code",
   "execution_count": null,
   "id": "exterior-african",
   "metadata": {
    "collapsed": false,
    "ein.hycell": false,
    "ein.tags": "worksheet-0",
    "jupyter": {
     "outputs_hidden": false
    },
    "slideshow": {
     "slide_type": "-"
    }
   },
   "outputs": [],
   "source": [
    "pci_df = gpd.read_file('https://www.dropbox.com/s/4ihybylqx9b8hun/uscountypcincome.gpkg?dl=1')\n",
    "pci_df.columns"
   ]
  },
  {
   "cell_type": "code",
   "execution_count": null,
   "id": "1dda023b",
   "metadata": {},
   "outputs": [],
   "source": [
    "pci_df.head()"
   ]
  },
  {
   "cell_type": "markdown",
   "id": "devoted-bristol",
   "metadata": {
    "ein.tags": "worksheet-0",
    "slideshow": {
     "slide_type": "-"
    }
   },
   "source": [
    "\n",
    "In this dataset, we have 3076 counties across 49 years, as well as 28 extra columns that describe each county. \n",
    "\n"
   ]
  },
  {
   "cell_type": "code",
   "execution_count": null,
   "id": "characteristic-money",
   "metadata": {
    "collapsed": false,
    "ein.hycell": false,
    "ein.tags": "worksheet-0",
    "jupyter": {
     "outputs_hidden": false
    },
    "slideshow": {
     "slide_type": "-"
    }
   },
   "outputs": [],
   "source": [
    "pci_df.shape"
   ]
  },
  {
   "cell_type": "markdown",
   "id": "knowing-nowhere",
   "metadata": {},
   "source": [
    "As an example, we can see the first ten years for Jackson County, Mississippi (state code `28`) below:"
   ]
  },
  {
   "cell_type": "code",
   "execution_count": null,
   "id": "opposed-virgin",
   "metadata": {},
   "outputs": [],
   "source": [
    "pci_df.query('NAME == \"Jackson\" & STATEFP == \"28\"').loc[\n",
    "    :, \"1969\":\"1979\"\n",
    "]"
   ]
  },
  {
   "cell_type": "markdown",
   "id": "illegal-dietary",
   "metadata": {
    "ein.tags": "worksheet-0",
    "slideshow": {
     "slide_type": "-"
    }
   },
   "source": [
    "## Global inequality\n",
    "\n",
    "We begin our examination of inequality by focusing on several global measures of income inequality. Here, \"global\" means that the measure is concerned with the overall nature of inequality within the income distribution. That is, these measures focus on the direct disparity between rich and poor, considering nothing about where the rich and poor live. Several classic measures of inequality are available for this purpose. \n",
    "\n",
    "In general terms, measures of inequality focus on the dispersion present in an income distribution. In the case of regional or spatial inequality, the distributions describe the average or per capita incomes for spatial units, such as for counties, census tracts, or regions. For our U.S. county data, we can visualize (Fig. XXX1XXX) the distribution of per capita incomes for the first year in the sample as follows:"
   ]
  },
  {
   "cell_type": "code",
   "execution_count": null,
   "id": "large-sullivan",
   "metadata": {
    "caption": "Distribution of U.S. per capita income at county level in 1969.",
    "collapsed": false,
    "ein.hycell": false,
    "ein.tags": "worksheet-0",
    "jupyter": {
     "outputs_hidden": false
    },
    "lines_to_next_cell": 2,
    "slideshow": {
     "slide_type": "-"
    }
   },
   "outputs": [],
   "source": [
    "sns.histplot(x=pci_df[\"1969\"], kde=True);"
   ]
  },
  {
   "cell_type": "markdown",
   "id": "julian-campus",
   "metadata": {},
   "source": [
    "Looking at this distribution, notice that the right side of the distribution is much longer than the left side. This long right tail is a prominent feature, and is common in the study of incomes and many other societal phenomena, as it reflects the fact that within a single income distribution, the super-rich are generally much more wealthy than the super-poor are deprived, compared to the average. "
   ]
  },
  {
   "cell_type": "markdown",
   "id": "guided-hearts",
   "metadata": {},
   "source": [
    "\n",
    "Before we can get to mapping, we change the CRS to a suitable one for mapping, the Albers Equal Area projection for North America:  "
   ]
  },
  {
   "cell_type": "code",
   "execution_count": null,
   "id": "fossil-wound",
   "metadata": {},
   "outputs": [],
   "source": [
    "pci_df = pci_df.to_crs(\n",
    "    # Albers Equal Area North America\n",
    "    epsg=5070\n",
    ")"
   ]
  },
  {
   "cell_type": "markdown",
   "id": "immediate-actress",
   "metadata": {},
   "source": [
    "And the quantile choropleth for 1969 (Fig. XXX2XXX) can be generated by:"
   ]
  },
  {
   "cell_type": "code",
   "execution_count": null,
   "id": "bottom-particle",
   "metadata": {
    "caption": "Quintiles of per capita income by county, 1969.",
    "collapsed": false,
    "ein.hycell": false,
    "ein.tags": "worksheet-0",
    "jupyter": {
     "outputs_hidden": false
    },
    "slideshow": {
     "slide_type": "-"
    }
   },
   "outputs": [],
   "source": [
    "ax = pci_df.plot(\n",
    "    column=\"1969\",\n",
    "    scheme=\"Quantiles\",\n",
    "    legend=True,\n",
    "    edgecolor=\"none\",\n",
    "    legend_kwds={\"loc\": \"lower left\"},\n",
    "    figsize=(12, 12),\n",
    ")\n",
    "ax.set_axis_off()\n",
    "plt.show()"
   ]
  },
  {
   "cell_type": "markdown",
   "id": "integral-gateway",
   "metadata": {
    "lines_to_next_cell": 0
   },
   "source": [
    "\n",
    "### 20:20 ratio"
   ]
  },
  {
   "cell_type": "code",
   "execution_count": null,
   "id": "iraqi-czech",
   "metadata": {
    "collapsed": false,
    "ein.hycell": false,
    "ein.tags": "worksheet-0",
    "jupyter": {
     "outputs_hidden": false
    },
    "lines_to_next_cell": 2,
    "slideshow": {
     "slide_type": "-"
    }
   },
   "outputs": [],
   "source": [
    "top20, bottom20 = pci_df[\"1969\"].quantile([0.8, 0.2])"
   ]
  },
  {
   "cell_type": "code",
   "execution_count": null,
   "id": "surprising-relations",
   "metadata": {},
   "outputs": [],
   "source": [
    "top20 / bottom20"
   ]
  },
  {
   "cell_type": "markdown",
   "id": "67dd300c",
   "metadata": {},
   "source": [
    "Calculate how the 20:20 Ratio changes over time"
   ]
  },
  {
   "cell_type": "code",
   "execution_count": null,
   "id": "broadband-jason",
   "metadata": {
    "caption": "The 20:20 ratio for county per capita income.",
    "collapsed": false,
    "ein.hycell": false,
    "ein.tags": "worksheet-0",
    "jupyter": {
     "outputs_hidden": false
    },
    "slideshow": {
     "slide_type": "-"
    }
   },
   "outputs": [],
   "source": [
    "def ineq_20_20(values):\n",
    "    top20, bottom20 = values.quantile([0.8, 0.2])\n",
    "    return top20 / bottom20\n",
    "\n",
    "\n",
    "# Generate range of strings from 1969 to 2018\n",
    "years = np.arange(1969, 2018).astype(str)\n",
    "# Compute 20:20 ratio for every year\n",
    "ratio_2020 = pci_df[years].apply(ineq_20_20, axis=0)\n",
    "# Plot evolution of 20:20 ratio\n",
    "ax = plt.plot(years, ratio_2020)\n",
    "\n",
    "# Grab figure generated in the plot\n",
    "figure = plt.gcf()\n",
    "# Replace tick labels with every other year\n",
    "plt.xticks(years[::2])\n",
    "# Set vertical label\n",
    "plt.ylabel(\"20:20 ratio\")\n",
    "# Set horizontal label\n",
    "plt.xlabel(\"Year\")\n",
    "# Rotate year labels\n",
    "figure.autofmt_xdate(rotation=45)\n",
    "\n",
    "plt.show()"
   ]
  },
  {
   "cell_type": "markdown",
   "id": "reflected-hartford",
   "metadata": {
    "ein.tags": "worksheet-0",
    "lines_to_next_cell": 2,
    "slideshow": {
     "slide_type": "-"
    }
   },
   "source": [
    "In addition to the 20:20 ratio, we will explore two more traditional measures of inequality: the Gini index and Theil's index. For these, we will use the `inequality` package from Pysal."
   ]
  },
  {
   "cell_type": "code",
   "execution_count": null,
   "id": "radio-construction",
   "metadata": {},
   "outputs": [],
   "source": [
    "from pysal.explore import inequality"
   ]
  },
  {
   "cell_type": "markdown",
   "id": "speaking-fabric",
   "metadata": {
    "ein.tags": "worksheet-0",
    "slideshow": {
     "slide_type": "-"
    }
   },
   "source": [
    "### Gini index and Lorenz Curve\n",
    "We can construct the Lorenz curve for 1969 by first computing the share of our population of counties that is below each observation. For that, we generate a cumulative series:"
   ]
  },
  {
   "cell_type": "code",
   "execution_count": null,
   "id": "nuclear-jenny",
   "metadata": {},
   "outputs": [],
   "source": [
    "n = len(pci_df)\n",
    "share_of_population = np.arange(1, n + 1) / n\n",
    "## This is an equally spaced array of numbers"
   ]
  },
  {
   "cell_type": "markdown",
   "id": "solid-wagner",
   "metadata": {},
   "source": [
    "Then, we consider the cumulative evolution of income. For this, we need to find out the proportion of total income owned by each share of the population. Empirically, this can be computed in the following fashion. First, we sort county incomes:"
   ]
  },
  {
   "cell_type": "code",
   "execution_count": null,
   "id": "alpine-criminal",
   "metadata": {},
   "outputs": [],
   "source": [
    "incomes = pci_df[\"1969\"].sort_values()"
   ]
  },
  {
   "cell_type": "markdown",
   "id": "graphic-hunter",
   "metadata": {},
   "source": [
    "Second, we find the overall percentage of income accumulated at each data point. To do this, we compute what percentage of the total income each county represents:"
   ]
  },
  {
   "cell_type": "code",
   "execution_count": null,
   "id": "excellent-internet",
   "metadata": {},
   "outputs": [],
   "source": [
    "shares = incomes / incomes.sum()"
   ]
  },
  {
   "cell_type": "code",
   "execution_count": null,
   "id": "1a9b3967",
   "metadata": {},
   "outputs": [],
   "source": [
    "shares"
   ]
  },
  {
   "cell_type": "markdown",
   "id": "frank-latter",
   "metadata": {},
   "source": [
    "and construct the *cumulative sum* of these shares, which reflects the sum of all of the shares of income up to the current one:\n",
    "\n",
    "$$ \\texttt{CumSum(v, k)} = \\sum_{i=1}^k v_i$$\n",
    "\n",
    "This starts at $0$ and reaches $1$ once the last share is included:"
   ]
  },
  {
   "cell_type": "code",
   "execution_count": null,
   "id": "dirty-intermediate",
   "metadata": {},
   "outputs": [],
   "source": [
    "cumulative_share = shares.cumsum()"
   ]
  },
  {
   "cell_type": "markdown",
   "id": "cordless-antibody",
   "metadata": {},
   "source": [
    "With this, we can plot both the Lorenz curve and the line of perfect equality (Fig. XXX4XXX):"
   ]
  },
  {
   "cell_type": "code",
   "execution_count": null,
   "id": "united-investor",
   "metadata": {
    "caption": "The Lorenz curve for county per capita income 1969.",
    "lines_to_next_cell": 0,
    "tags": []
   },
   "outputs": [],
   "source": [
    "# Generate figure with one axis\n",
    "f, ax = plt.subplots()\n",
    "# Plot Lorenz Curve\n",
    "ax.plot(share_of_population, cumulative_share, label=\"Lorenz Curve\")\n",
    "# Plot line of perfect equality\n",
    "ax.plot((0, 1), (0, 1), color=\"r\", label=\"Perfect Equality\")\n",
    "# Label horizontal axis\n",
    "ax.set_xlabel(\"Share of population\")\n",
    "# Label vertical axis\n",
    "ax.set_ylabel(\"Share of income\")\n",
    "# Add legend\n",
    "ax.legend()\n",
    "\n",
    "plt.show()"
   ]
  },
  {
   "cell_type": "markdown",
   "id": "ready-longer",
   "metadata": {},
   "source": [
    "The blue line is the Lorenz curve for county incomes in 1969. The Gini index is the area between it and the 45-degree line of equality shown in red, all standardized by the area underneath the line of equality.\n",
    "\n",
    "A first approach to examine how inequality has evolved is to plot the Lorenz curves for each year. One way to do this in Python involves creating a function that will compute the Lorenz curve for an arbitrary set of incomes. The following function encapsulates the steps shown above into a single shot:"
   ]
  },
  {
   "cell_type": "code",
   "execution_count": null,
   "id": "prime-safety",
   "metadata": {},
   "outputs": [],
   "source": [
    "def lorenz(y):\n",
    "    y = np.asarray(y)\n",
    "    incomes = np.sort(y)\n",
    "    income_shares = (incomes / incomes.sum()).cumsum()\n",
    "    N = y.shape[0]\n",
    "    pop_shares = np.arange(1, N + 1) / N\n",
    "    return pop_shares, income_shares"
   ]
  },
  {
   "cell_type": "markdown",
   "id": "floating-protocol",
   "metadata": {},
   "source": [
    "For a single year, say 1969, our function would return a tuple with two arrays, one for each axis in the Lorenz curve plot:"
   ]
  },
  {
   "cell_type": "code",
   "execution_count": null,
   "id": "working-donna",
   "metadata": {},
   "outputs": [],
   "source": [
    "lorenz(pci_df[\"1969\"])"
   ]
  },
  {
   "cell_type": "markdown",
   "id": "e45649e9",
   "metadata": {},
   "source": [
    "## Gini inequality in Pysal"
   ]
  },
  {
   "cell_type": "code",
   "execution_count": null,
   "id": "spare-abuse",
   "metadata": {
    "collapsed": false,
    "ein.hycell": false,
    "ein.tags": "worksheet-0",
    "jupyter": {
     "outputs_hidden": false
    },
    "slideshow": {
     "slide_type": "-"
    }
   },
   "outputs": [],
   "source": [
    "g69 = inequality.gini.Gini(pci_df[\"1969\"].values)"
   ]
  },
  {
   "cell_type": "markdown",
   "id": "first-whole",
   "metadata": {},
   "source": [
    "To extract the coefficient, we retrieve the `g` property of `g69`:"
   ]
  },
  {
   "cell_type": "code",
   "execution_count": null,
   "id": "alone-monaco",
   "metadata": {
    "collapsed": false,
    "ein.hycell": false,
    "ein.tags": "worksheet-0",
    "jupyter": {
     "outputs_hidden": false
    },
    "slideshow": {
     "slide_type": "-"
    }
   },
   "outputs": [],
   "source": [
    "g69.g"
   ]
  },
  {
   "cell_type": "markdown",
   "id": "documented-search",
   "metadata": {},
   "source": [
    "Here, the Gini coefficient in 1969 was 0.13. To compute this for every year, we can use a similar pattern as we have before. First, define a function to compute the quantity of interest; then, apply the function across the table with all years:"
   ]
  },
  {
   "cell_type": "code",
   "execution_count": null,
   "id": "intimate-tooth",
   "metadata": {},
   "outputs": [],
   "source": [
    "def gini_by_col(column):\n",
    "    return inequality.gini.Gini(column.values).g"
   ]
  },
  {
   "cell_type": "markdown",
   "id": "consolidated-grace",
   "metadata": {},
   "source": [
    "`inequality`'s Gini requires an `numpy.ndarray` rather than a `pandas.Series` object, which we can pull out through the `values` attribute. This is passed to the `Gini` class, and we only return the value of the coefficient as a `DataFrame` object."
   ]
  },
  {
   "cell_type": "code",
   "execution_count": null,
   "id": "applicable-picture",
   "metadata": {
    "collapsed": false,
    "ein.hycell": false,
    "ein.tags": "worksheet-0",
    "jupyter": {
     "outputs_hidden": false
    },
    "slideshow": {
     "slide_type": "-"
    }
   },
   "outputs": [],
   "source": [
    "inequalities = (\n",
    "    pci_df[years].apply(gini_by_col, axis=0).to_frame(\"gini\")\n",
    ")"
   ]
  },
  {
   "cell_type": "markdown",
   "id": "stretch-stake",
   "metadata": {},
   "source": [
    "This results in a series of Gini values, one for each year:"
   ]
  },
  {
   "cell_type": "code",
   "execution_count": null,
   "id": "technical-midnight",
   "metadata": {},
   "outputs": [],
   "source": [
    "inequalities.head()"
   ]
  },
  {
   "cell_type": "markdown",
   "id": "average-segment",
   "metadata": {},
   "source": [
    "Which we can turn into a graphical representation through standard `pandas` plotting. The resulting pattern (Fig. XXX6XXX) is similar to that of the 20:20 ratio above:"
   ]
  },
  {
   "cell_type": "code",
   "execution_count": null,
   "id": "rapid-bracelet",
   "metadata": {
    "caption": "Gini coefficients for per capita income since 1969."
   },
   "outputs": [],
   "source": [
    "inequalities.plot(figsize=(10, 3));"
   ]
  },
  {
   "cell_type": "markdown",
   "id": "visible-presence",
   "metadata": {},
   "source": [
    "### Theil's index\n",
    "\n",
    "A third commonly used measure of inequality is Theil's $T$ {cite}`manz2021` given as:\n",
    "\n",
    "$$T = \\sum_{i=1}^m \\left( \\frac{y_i}{\\sum_{i=1}^m y_i} \\ln \\left[ m \\frac{y_i}{\\sum_{i=1}^m y_i}\\right] \\right)$$\n",
    "\n",
    "where $y_i$ is per capita income in area $i$ among $m$ areas. Conceptually, this metric is related to the entropy of the income distribution, measuring how evenly distributed incomes are across the population.\n",
    "\n",
    "The Theil index is also available in Pysal's `inequality`, so we can take a similar approach as above to calculate it for every year:"
   ]
  },
  {
   "cell_type": "code",
   "execution_count": null,
   "id": "lonely-dividend",
   "metadata": {},
   "outputs": [],
   "source": [
    "def theil(column):\n",
    "    return inequality.theil.Theil(column.values).T\n",
    "\n",
    "\n",
    "inequalities[\"theil\"] = pci_df[years].apply(theil, axis=0)"
   ]
  },
  {
   "cell_type": "markdown",
   "id": "compliant-producer",
   "metadata": {},
   "source": [
    "And generate a plot of its evolution over time (Fig. XXX7XXX):"
   ]
  },
  {
   "cell_type": "code",
   "execution_count": null,
   "id": "ancient-implementation",
   "metadata": {
    "caption": "Theil index for county per capita income distributions since 1969.",
    "collapsed": false,
    "ein.hycell": false,
    "ein.tags": "worksheet-0",
    "jupyter": {
     "outputs_hidden": false
    },
    "slideshow": {
     "slide_type": "-"
    }
   },
   "outputs": [],
   "source": [
    "inequalities[\"theil\"].plot(color=\"orange\", figsize=(10, 3));"
   ]
  },
  {
   "cell_type": "markdown",
   "id": "unlimited-blues",
   "metadata": {},
   "source": [
    "The time paths of the Gini and the Theil coefficients appear to show striking\n",
    "similarities. At first glance, this might suggest that the indices are\n",
    "substitutes for one another. However, if we plot them against each other (Fig. XXX8XXX), we can see they are not perfectly correlated: "
   ]
  },
  {
   "cell_type": "code",
   "execution_count": null,
   "id": "daily-entry",
   "metadata": {
    "caption": "Relationship between Gini and Theil indices for county per capita income distributions since 1969.",
    "collapsed": false,
    "ein.hycell": false,
    "ein.tags": "worksheet-0",
    "jupyter": {
     "outputs_hidden": false
    },
    "slideshow": {
     "slide_type": "-"
    },
    "tags": []
   },
   "outputs": [],
   "source": [
    "_ = sns.regplot(x=\"theil\", y=\"gini\", data=inequalities)"
   ]
  },
  {
   "cell_type": "markdown",
   "id": "further-daughter",
   "metadata": {},
   "source": [
    "Indeed, as we shall see below, each index has\n",
    "properties that lend themselves to particular spatial extensions that work in complementary ways. We need both (and more) for a complete picture. \n",
    "\n"
   ]
  },
  {
   "cell_type": "markdown",
   "id": "intellectual-traveler",
   "metadata": {
    "ein.tags": "worksheet-0",
    "lines_to_next_cell": 0,
    "slideshow": {
     "slide_type": "-"
    }
   },
   "source": [
    "## Spatial inequality"
   ]
  },
  {
   "cell_type": "markdown",
   "id": "informed-beatles",
   "metadata": {},
   "source": [
    "The analysis of regional income inequality differs from the analysis of\n",
    "national interpersonal income inequality in its focus on spatial units. Since\n",
    "regional incomes are explicitly embedded in geographical space, we can take advantage\n",
    "of their spatial configuration to learn more about the nature of the inequality.\n",
    "In the regional inequality literature, this has been approached in a number of ways.\n",
    "Three are considered in this chapter: one that links the discussion to that of spatial\n",
    "autocorrelation in Chapters [6](06_spatial_autocorrelation) and [7](07_local_autocorrelation),\n",
    "a second one based on decomposing global indices regionally, and a third one that embeds space\n",
    "in traditional global measures."
   ]
  },
  {
   "cell_type": "markdown",
   "id": "falling-favor",
   "metadata": {
    "ein.tags": "worksheet-0",
    "lines_to_next_cell": 2,
    "slideshow": {
     "slide_type": "-"
    }
   },
   "source": [
    "### Spatial autocorrelation\n",
    "\n"
   ]
  },
  {
   "cell_type": "markdown",
   "id": "stupid-croatia",
   "metadata": {},
   "source": [
    "This approach helps us shed light on the properties of the spatial pattern of regional income data. We return to global measures of spatial autocorrelation that we encountered earlier in the book. The essence of this approach is to examine to what extent the spatial distribution of incomes is concentrated over space. For this, we use a queen spatial weights matrix and calculate Moran's I for\n",
    "each year in the sample:"
   ]
  },
  {
   "cell_type": "code",
   "execution_count": null,
   "id": "least-supplier",
   "metadata": {
    "collapsed": false,
    "ein.hycell": false,
    "ein.tags": "worksheet-0",
    "jupyter": {
     "outputs_hidden": false
    },
    "slideshow": {
     "slide_type": "-"
    }
   },
   "outputs": [],
   "source": [
    "wq = weights.Queen.from_dataframe(pci_df)"
   ]
  },
  {
   "cell_type": "markdown",
   "id": "handed-manhattan",
   "metadata": {},
   "source": [
    "Following the same pattern to \"broadcast\" a function, we create a function that returns the results we need from each statistic. Here, we will also keep the pseudo $p$-value for the Moran statistic which, as we saw in [Chapter 6](06_spatial_autocorrelation), helps us identify whether the index is statistically significant under the null hypothesis that incomes are randomly distributed geographically."
   ]
  },
  {
   "cell_type": "code",
   "execution_count": null,
   "id": "electoral-coast",
   "metadata": {},
   "outputs": [],
   "source": [
    "def moran_by_col(y, w=wq):\n",
    "    mo = esda.Moran(y, w=w)\n",
    "    mo_s = pd.Series(\n",
    "        {\"I\": mo.I, \"I-P value\": mo.p_sim},\n",
    "    )\n",
    "    return mo_s"
   ]
  },
  {
   "cell_type": "markdown",
   "id": "underlying-element",
   "metadata": {},
   "source": [
    "This time, our function returns a `Series` object so that when we pass it through `apply`, we get a well-formatted table:"
   ]
  },
  {
   "cell_type": "code",
   "execution_count": null,
   "id": "remarkable-ranch",
   "metadata": {},
   "outputs": [],
   "source": [
    "moran_stats = pci_df[years].apply(moran_by_col, axis=0).T\n",
    "\n",
    "moran_stats.head()"
   ]
  },
  {
   "cell_type": "markdown",
   "id": "liberal-symposium",
   "metadata": {},
   "source": [
    "For further comparison, the results are attached to the `inequalities` table:"
   ]
  },
  {
   "cell_type": "code",
   "execution_count": null,
   "id": "accepting-legend",
   "metadata": {},
   "outputs": [],
   "source": [
    "inequalities = inequalities.join(moran_stats)"
   ]
  },
  {
   "cell_type": "markdown",
   "id": "based-young",
   "metadata": {},
   "source": [
    "Which can be visualized (Fig. XXX9XXX) by:"
   ]
  },
  {
   "cell_type": "code",
   "execution_count": null,
   "id": "biblical-multiple",
   "metadata": {
    "caption": "Relationship between the Gini & Theil inequality indices and Moran's I, a measure of spatial autocorrelation, for per capita incomes.",
    "collapsed": false,
    "ein.hycell": false,
    "ein.tags": "worksheet-0",
    "jupyter": {
     "outputs_hidden": false
    },
    "lines_to_next_cell": 0,
    "slideshow": {
     "slide_type": "-"
    }
   },
   "outputs": [],
   "source": [
    "inequalities[[\"I\", \"I-P value\"]].plot(subplots=True, figsize=(10, 6))\n",
    "plt.show()"
   ]
  },
  {
   "cell_type": "markdown",
   "id": "growing-prospect",
   "metadata": {
    "lines_to_next_cell": 0
   },
   "source": [
    "This suggests a gradual decline in the geographic structure of inequality with two implications: \n",
    "- (a) per capita incomes are now less similar between nearby counties and \n",
    "- (b), this has been consistently declining, regardless of whether inequality is high or low. \n",
    "Second, despite this decline, there is never a year in which the spatial autocorrelation is not statistically significant. In other words, there is a strong geographic structure in the distribution of regional incomes that needs to be accounted for when focusing on inequality questions.\n"
   ]
  },
  {
   "cell_type": "markdown",
   "id": "ea5590d8",
   "metadata": {},
   "source": [
    "## Q.1 (5pts)\n",
    "Calculate the change in spatial autocorrelation using a different weight, such as: \n",
    "- Kernel density\n",
    "- KNN"
   ]
  },
  {
   "cell_type": "markdown",
   "id": "6b3e7e82",
   "metadata": {},
   "source": [
    "## Segregation\n",
    "We are now going to look at segregation. Let's read a new dataset from the 2018 ACS for NYC"
   ]
  },
  {
   "cell_type": "code",
   "execution_count": null,
   "id": "2dcea40a",
   "metadata": {},
   "outputs": [],
   "source": [
    "acs_2018 = gpd.read_file('https://www.dropbox.com/s/fa2mzgw8xgo4482/acs_race_income_2018_new.geojson?dl=1')\n",
    "# acs_2018_3857 = acs_2018.to_crs(epsg=3857)"
   ]
  },
  {
   "cell_type": "code",
   "execution_count": null,
   "id": "cd34b97b",
   "metadata": {},
   "outputs": [],
   "source": [
    "acs_2018.plot('total_pop_white')"
   ]
  },
  {
   "cell_type": "code",
   "execution_count": null,
   "id": "becbb6f6",
   "metadata": {},
   "outputs": [],
   "source": [
    "acs_2018.info()"
   ]
  },
  {
   "cell_type": "code",
   "execution_count": null,
   "id": "cdb85fcc",
   "metadata": {},
   "outputs": [],
   "source": [
    "from pysal.explore import segregation"
   ]
  },
  {
   "cell_type": "markdown",
   "id": "83044706",
   "metadata": {},
   "source": [
    "### Aspatial\n",
    "The standard (aspatial) formula for the Dissimilarity index is: \n",
    "$$\n",
    "D = \\frac{1}{2}\\sum_i^N {\\lvert \\frac{a_i}{A} - \\frac{b_i}{B} \\lvert}\n",
    "$$\n",
    "\n",
    "where $a_i$ is the population of group $a$ in tract $i$, $A$ is the total population for group $a$ in the city. $b_i$ is the population for group $b$ in tract $i$ and $B$ is the total population for group $b$.\n",
    "\n",
    "This is how the Dissimilarity index is implemented in pysal. It assumes a main group of interest and the group \"B\" is the rest of the population."
   ]
  },
  {
   "cell_type": "markdown",
   "id": "b724adb8",
   "metadata": {},
   "source": [
    "### Dissimilarity"
   ]
  },
  {
   "cell_type": "code",
   "execution_count": null,
   "id": "7137eb5b",
   "metadata": {},
   "outputs": [],
   "source": [
    "dissim = segregation.singlegroup.Dissim(acs_2018, group_pop_var=\"total_pop_white\",total_pop_var=\"total_pop\")"
   ]
  },
  {
   "cell_type": "code",
   "execution_count": null,
   "id": "d36f9812",
   "metadata": {},
   "outputs": [],
   "source": [
    "dissim.statistic\n"
   ]
  },
  {
   "cell_type": "markdown",
   "id": "20729430",
   "metadata": {},
   "source": [
    "### Entropy"
   ]
  },
  {
   "cell_type": "code",
   "execution_count": null,
   "id": "270ed254",
   "metadata": {},
   "outputs": [],
   "source": [
    "entropy = segregation.singlegroup.Entropy(acs_2018, group_pop_var=\"total_pop_black\",total_pop_var=\"total_pop\")\n",
    "entropy.statistic"
   ]
  },
  {
   "cell_type": "markdown",
   "id": "e968dcf8",
   "metadata": {},
   "source": [
    "### Isolation"
   ]
  },
  {
   "cell_type": "code",
   "execution_count": null,
   "id": "02e1eca0",
   "metadata": {},
   "outputs": [],
   "source": [
    "isolation = segregation.singlegroup.Isolation(acs_2018, group_pop_var=\"total_pop_black\",total_pop_var=\"total_pop\")\n",
    "isolation.statistic"
   ]
  },
  {
   "cell_type": "markdown",
   "id": "f466f4a2",
   "metadata": {},
   "source": [
    "### Multigroup Dissimilarity\n",
    "And there are multi-group variants of these measures. Here is the dissimilarity index."
   ]
  },
  {
   "cell_type": "code",
   "execution_count": null,
   "id": "2b0b0f13",
   "metadata": {},
   "outputs": [],
   "source": [
    "multi_dissim = segregation.multigroup.MultiDissim(acs_2018, groups=['total_pop_white', 'total_pop_black', 'total_pop_hispanic','total_pop_asian'])\n"
   ]
  },
  {
   "cell_type": "code",
   "execution_count": null,
   "id": "ca1e65bb",
   "metadata": {},
   "outputs": [],
   "source": [
    "multi_dissim.statistic"
   ]
  },
  {
   "cell_type": "markdown",
   "id": "5ef4caf1",
   "metadata": {},
   "source": [
    "## Q.2 (5 pts)\n",
    "Calculate the black-white dissimilarity for `acs_2018`"
   ]
  },
  {
   "cell_type": "markdown",
   "id": "13c08af7",
   "metadata": {},
   "source": [
    "### Spatial measures (explicit)"
   ]
  },
  {
   "cell_type": "code",
   "execution_count": null,
   "id": "f6b08587",
   "metadata": {},
   "outputs": [],
   "source": [
    "cent = segregation.singlegroup.AbsoluteCentralization(acs_2018, group_pop_var=\"total_pop_black\",total_pop_var=\"total_pop\")"
   ]
  },
  {
   "cell_type": "code",
   "execution_count": null,
   "id": "6be14f64",
   "metadata": {},
   "outputs": [],
   "source": [
    "cent.statistic\n"
   ]
  },
  {
   "cell_type": "markdown",
   "id": "3d4deec8",
   "metadata": {},
   "source": [
    "### Spatial measures (implicit)\n",
    "#### Euclidian distance based measures\n",
    "We are using a kernel function with `distance` as the kernel bandwidth."
   ]
  },
  {
   "cell_type": "code",
   "execution_count": null,
   "id": "ddc92f39",
   "metadata": {},
   "outputs": [],
   "source": [
    "aspatial_gini = segregation.singlegroup.Gini(acs_2018, group_pop_var=\"total_pop_white\",total_pop_var=\"total_pop\")"
   ]
  },
  {
   "cell_type": "code",
   "execution_count": null,
   "id": "13038e84",
   "metadata": {},
   "outputs": [],
   "source": [
    "aspatial_gini.statistic"
   ]
  },
  {
   "cell_type": "code",
   "execution_count": null,
   "id": "c928e6b4",
   "metadata": {},
   "outputs": [],
   "source": [
    "## Make sure your data is in the right projection so that the distance is in meters\n",
    "gen_spatialgini =  segregation.singlegroup.Gini(acs_2018, group_pop_var=\"total_pop_white\",total_pop_var=\"total_pop\", distance=2000)\n"
   ]
  },
  {
   "cell_type": "code",
   "execution_count": null,
   "id": "d0d01817",
   "metadata": {},
   "outputs": [],
   "source": [
    "gen_spatialgini.statistic\n"
   ]
  },
  {
   "cell_type": "markdown",
   "id": "7d39a9b9",
   "metadata": {},
   "source": [
    "## Local Measures of Segregation\n"
   ]
  },
  {
   "cell_type": "code",
   "execution_count": null,
   "id": "35e60004",
   "metadata": {},
   "outputs": [],
   "source": [
    "acs_2018.columns"
   ]
  },
  {
   "cell_type": "code",
   "execution_count": null,
   "id": "6314093d",
   "metadata": {},
   "outputs": [],
   "source": [
    "groups_list = ['total_pop_hispanic', 'total_pop_white',\n",
    "       'total_pop_black', 'total_pop_native', 'total_pop_asian',\n",
    "       'total_pop_pacific', 'total_pop_other',]"
   ]
  },
  {
   "cell_type": "markdown",
   "id": "14d591b5",
   "metadata": {},
   "source": [
    "Let's first take a look at each group's population distribution on a map"
   ]
  },
  {
   "cell_type": "markdown",
   "id": "f6957cde",
   "metadata": {},
   "source": [
    "### Local entropy"
   ]
  },
  {
   "cell_type": "code",
   "execution_count": null,
   "id": "811de016",
   "metadata": {},
   "outputs": [],
   "source": [
    "entropy_local = segregation.local.MultiLocalEntropy(acs_2018, groups_list)"
   ]
  },
  {
   "cell_type": "code",
   "execution_count": null,
   "id": "8d5fc0f3",
   "metadata": {},
   "outputs": [],
   "source": [
    "acs_2018['local_entropy'] = entropy_local.statistics"
   ]
  },
  {
   "cell_type": "code",
   "execution_count": null,
   "id": "d113f059",
   "metadata": {},
   "outputs": [],
   "source": [
    "acs_2018.plot('local_entropy', legend=True,cmap='inferno_r')"
   ]
  },
  {
   "cell_type": "markdown",
   "id": "22ac79b2",
   "metadata": {},
   "source": [
    "### Local Centralization\n",
    "(This might take a few minutes!)"
   ]
  },
  {
   "cell_type": "code",
   "execution_count": null,
   "id": "e84de6c9",
   "metadata": {},
   "outputs": [],
   "source": [
    "centralization_local = segregation.local.LocalRelativeCentralization(acs_2018, 'total_pop_black', 'total_pop')\n",
    "acs_2018['local_centralization'] = centralization_local.statistics"
   ]
  },
  {
   "cell_type": "code",
   "execution_count": null,
   "id": "c8dffb26",
   "metadata": {},
   "outputs": [],
   "source": [
    "acs_2018.plot('local_centralization', legend=True,cmap='inferno_r')"
   ]
  },
  {
   "cell_type": "markdown",
   "id": "cecfa541-0d90-4bd8-929c-21e97a3e51b9",
   "metadata": {
    "tags": []
   },
   "source": [
    "### Local Simpson Interaction\n",
    "The is a measure of the probability that two people in a unit (tract here), have the probability of interacting"
   ]
  },
  {
   "cell_type": "code",
   "execution_count": null,
   "id": "c1c82005-ae4d-44b9-9e10-0c294d7d01b4",
   "metadata": {},
   "outputs": [],
   "source": [
    "simpson = segregation.local.MultiLocalSimpsonInteraction(acs_2018, groups_list,w)\n",
    "acs_2018['local_simpsoninteraction'] = simpson.statistics"
   ]
  },
  {
   "cell_type": "code",
   "execution_count": null,
   "id": "6fb69d99-198c-4dc6-a3b6-b65542800a5e",
   "metadata": {},
   "outputs": [],
   "source": [
    "acs_2018.plot('local_simpsoninteraction', legend=True,cmap='inferno_r')"
   ]
  },
  {
   "cell_type": "markdown",
   "id": "7f296e94-ee40-4fb3-a952-304f4fb1adb9",
   "metadata": {},
   "source": [
    "## Spatial lags \n",
    "Almost all these indices have an option to include a spatial lag. "
   ]
  },
  {
   "cell_type": "code",
   "execution_count": null,
   "id": "e3f942dd-20a7-44ad-a60e-af90fb9b1bfa",
   "metadata": {},
   "outputs": [],
   "source": [
    "wknn = weights.KNN.from_dataframe(acs_2018)"
   ]
  },
  {
   "cell_type": "code",
   "execution_count": null,
   "id": "065c4d99-db6f-4761-9581-bad34954384d",
   "metadata": {},
   "outputs": [],
   "source": [
    "entropy_spatial = segregation.local.MultiLocalEntropy(acs_2018, groups_list,w=wknn)\n",
    "acs_2018['local_entropy_spatial'] = entropy_spatial.statistics"
   ]
  },
  {
   "cell_type": "code",
   "execution_count": null,
   "id": "bc956e5e-6de8-419a-aeb9-dede0ef7a887",
   "metadata": {},
   "outputs": [],
   "source": [
    "acs_2018.plot('local_entropy_spatial', legend=True,cmap='inferno_r')"
   ]
  },
  {
   "cell_type": "code",
   "execution_count": null,
   "id": "f3b727a3-c597-40d7-be27-a2101c9f7a88",
   "metadata": {},
   "outputs": [],
   "source": [
    "simpson_spatial = segregation.local.MultiLocalSimpsonInteraction(acs_2018, groups_list,w=wknn)\n",
    "acs_2018['local_simpsoninteraction_spatial'] = simpson_spatial.statistics"
   ]
  },
  {
   "cell_type": "code",
   "execution_count": null,
   "id": "c713c33e-dc67-4def-825a-2880a7d21910",
   "metadata": {},
   "outputs": [],
   "source": [
    "acs_2018.plot('local_simpsoninteraction_spatial', legend=True,cmap='inferno_r')"
   ]
  },
  {
   "cell_type": "code",
   "execution_count": null,
   "id": "5fa7d1b1-c9d1-4db6-95fd-107bc8ef5fc6",
   "metadata": {},
   "outputs": [],
   "source": []
  }
 ],
 "metadata": {
  "jupytext": {
   "cell_metadata_json": true,
   "formats": "ipynb,md"
  },
  "kernelspec": {
   "display_name": "Python 3 (ipykernel)",
   "language": "python",
   "name": "python3"
  },
  "language_info": {
   "codemirror_mode": {
    "name": "ipython",
    "version": 3
   },
   "file_extension": ".py",
   "mimetype": "text/x-python",
   "name": "python",
   "nbconvert_exporter": "python",
   "pygments_lexer": "ipython3",
   "version": "3.9.13"
  }
 },
 "nbformat": 4,
 "nbformat_minor": 5
}
