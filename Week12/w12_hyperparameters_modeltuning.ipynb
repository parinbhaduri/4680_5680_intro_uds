{
 "cells": [
  {
   "cell_type": "code",
   "execution_count": 1,
   "id": "ecological-gambling",
   "metadata": {
    "tags": [
     "remove-cell"
    ]
   },
   "outputs": [],
   "source": [
    "import warnings\n",
    "\n",
    "warnings.filterwarnings(\"ignore\")"
   ]
  },
  {
   "attachments": {},
   "cell_type": "markdown",
   "id": "99a7a244",
   "metadata": {},
   "source": [
    "# Learning goals\n",
    "After today's lesson you should be able to:\n",
    "- Use cross-validation\n",
    "- Find the best model for classification and regression problems based on tuning hyperparameters and calculating performance scores"
   ]
  },
  {
   "cell_type": "code",
   "execution_count": 2,
   "id": "verbal-introduction",
   "metadata": {
    "lines_to_next_cell": 2
   },
   "outputs": [],
   "source": [
    "import numpy as np\n",
    "import pandas as pd\n",
    "import geopandas as gpd\n",
    "\n",
    "import matplotlib.pyplot as plt\n",
    "import seaborn as sns\n",
    "sns.set_theme(style=\"whitegrid\")\n",
    "\n",
    "from pysal.lib import weights\n",
    "\n",
    "import contextily\n"
   ]
  },
  {
   "attachments": {},
   "cell_type": "markdown",
   "id": "17628626",
   "metadata": {},
   "source": [
    "## 0.1 Import the data\n",
    "\n",
    "For this exercise, let's use the San Diego AirBnB data set again. As a reminder: This dataset contains house intrinsic characteristics, both continuous (number of beds as in `beds`) and categorical (type of renting or, in Airbnb jargon, property group as in the series of `pg_X` binary variables), but also variables that explicitly refer to the location and spatial configuration of the dataset (e.g., distance to Balboa Park, `d2balboa` or neighborhood id, `neighborhood_cleansed`).\n",
    "\n",
    "\n",
    "Our aim here is to make two kinds of predictions: \n",
    "- **`log_price`** (Regression): We want to use other features to predict the log(Price) of each airbnb\n",
    "- **`coastal`** (Classification): We also want to use our features to see if we can predict whether an Airbnb is coastal. "
   ]
  },
  {
   "cell_type": "code",
   "execution_count": 3,
   "id": "1b832b4b",
   "metadata": {},
   "outputs": [],
   "source": [
    "db = gpd.read_file(\"https://www.dropbox.com/s/zkucu7jf1xug869/regression_db.geojson?dl=1\")\n"
   ]
  },
  {
   "cell_type": "code",
   "execution_count": 4,
   "id": "fb78e467",
   "metadata": {},
   "outputs": [
    {
     "name": "stdout",
     "output_type": "stream",
     "text": [
      "<class 'geopandas.geodataframe.GeoDataFrame'>\n",
      "RangeIndex: 6110 entries, 0 to 6109\n",
      "Data columns (total 20 columns):\n",
      " #   Column              Non-Null Count  Dtype   \n",
      "---  ------              --------------  -----   \n",
      " 0   accommodates        6110 non-null   int64   \n",
      " 1   bathrooms           6110 non-null   float64 \n",
      " 2   bedrooms            6110 non-null   float64 \n",
      " 3   beds                6110 non-null   float64 \n",
      " 4   neighborhood        6110 non-null   object  \n",
      " 5   pool                6110 non-null   int64   \n",
      " 6   d2balboa            6110 non-null   float64 \n",
      " 7   coastal             6110 non-null   int64   \n",
      " 8   price               6110 non-null   float64 \n",
      " 9   log_price           6110 non-null   float64 \n",
      " 10  id                  6110 non-null   int64   \n",
      " 11  pg_Apartment        6110 non-null   int64   \n",
      " 12  pg_Condominium      6110 non-null   int64   \n",
      " 13  pg_House            6110 non-null   int64   \n",
      " 14  pg_Other            6110 non-null   int64   \n",
      " 15  pg_Townhouse        6110 non-null   int64   \n",
      " 16  rt_Entire_home/apt  6110 non-null   int64   \n",
      " 17  rt_Private_room     6110 non-null   int64   \n",
      " 18  rt_Shared_room      6110 non-null   int64   \n",
      " 19  geometry            6110 non-null   geometry\n",
      "dtypes: float64(6), geometry(1), int64(12), object(1)\n",
      "memory usage: 954.8+ KB\n"
     ]
    }
   ],
   "source": [
    "db.info()"
   ]
  },
  {
   "cell_type": "code",
   "execution_count": 5,
   "id": "7a7ed271",
   "metadata": {},
   "outputs": [
    {
     "data": {
      "text/html": [
       "<div>\n",
       "<style scoped>\n",
       "    .dataframe tbody tr th:only-of-type {\n",
       "        vertical-align: middle;\n",
       "    }\n",
       "\n",
       "    .dataframe tbody tr th {\n",
       "        vertical-align: top;\n",
       "    }\n",
       "\n",
       "    .dataframe thead th {\n",
       "        text-align: right;\n",
       "    }\n",
       "</style>\n",
       "<table border=\"1\" class=\"dataframe\">\n",
       "  <thead>\n",
       "    <tr style=\"text-align: right;\">\n",
       "      <th></th>\n",
       "      <th>accommodates</th>\n",
       "      <th>bathrooms</th>\n",
       "      <th>bedrooms</th>\n",
       "      <th>beds</th>\n",
       "      <th>neighborhood</th>\n",
       "      <th>pool</th>\n",
       "      <th>d2balboa</th>\n",
       "      <th>coastal</th>\n",
       "      <th>price</th>\n",
       "      <th>log_price</th>\n",
       "      <th>id</th>\n",
       "      <th>pg_Apartment</th>\n",
       "      <th>pg_Condominium</th>\n",
       "      <th>pg_House</th>\n",
       "      <th>pg_Other</th>\n",
       "      <th>pg_Townhouse</th>\n",
       "      <th>rt_Entire_home/apt</th>\n",
       "      <th>rt_Private_room</th>\n",
       "      <th>rt_Shared_room</th>\n",
       "      <th>geometry</th>\n",
       "    </tr>\n",
       "  </thead>\n",
       "  <tbody>\n",
       "    <tr>\n",
       "      <th>0</th>\n",
       "      <td>5</td>\n",
       "      <td>2.0</td>\n",
       "      <td>2.0</td>\n",
       "      <td>2.0</td>\n",
       "      <td>North Hills</td>\n",
       "      <td>0</td>\n",
       "      <td>2.972077</td>\n",
       "      <td>0</td>\n",
       "      <td>425.0</td>\n",
       "      <td>6.052089</td>\n",
       "      <td>6</td>\n",
       "      <td>0</td>\n",
       "      <td>0</td>\n",
       "      <td>1</td>\n",
       "      <td>0</td>\n",
       "      <td>0</td>\n",
       "      <td>1</td>\n",
       "      <td>0</td>\n",
       "      <td>0</td>\n",
       "      <td>POINT (-117.12971 32.75399)</td>\n",
       "    </tr>\n",
       "    <tr>\n",
       "      <th>1</th>\n",
       "      <td>6</td>\n",
       "      <td>1.0</td>\n",
       "      <td>2.0</td>\n",
       "      <td>4.0</td>\n",
       "      <td>Mission Bay</td>\n",
       "      <td>0</td>\n",
       "      <td>11.501385</td>\n",
       "      <td>1</td>\n",
       "      <td>205.0</td>\n",
       "      <td>5.323010</td>\n",
       "      <td>5570</td>\n",
       "      <td>0</td>\n",
       "      <td>1</td>\n",
       "      <td>0</td>\n",
       "      <td>0</td>\n",
       "      <td>0</td>\n",
       "      <td>1</td>\n",
       "      <td>0</td>\n",
       "      <td>0</td>\n",
       "      <td>POINT (-117.25253 32.78421)</td>\n",
       "    </tr>\n",
       "    <tr>\n",
       "      <th>2</th>\n",
       "      <td>2</td>\n",
       "      <td>1.0</td>\n",
       "      <td>1.0</td>\n",
       "      <td>1.0</td>\n",
       "      <td>North Hills</td>\n",
       "      <td>0</td>\n",
       "      <td>2.493893</td>\n",
       "      <td>0</td>\n",
       "      <td>99.0</td>\n",
       "      <td>4.595120</td>\n",
       "      <td>9553</td>\n",
       "      <td>1</td>\n",
       "      <td>0</td>\n",
       "      <td>0</td>\n",
       "      <td>0</td>\n",
       "      <td>0</td>\n",
       "      <td>0</td>\n",
       "      <td>1</td>\n",
       "      <td>0</td>\n",
       "      <td>POINT (-117.14121 32.75327)</td>\n",
       "    </tr>\n",
       "    <tr>\n",
       "      <th>3</th>\n",
       "      <td>2</td>\n",
       "      <td>1.0</td>\n",
       "      <td>1.0</td>\n",
       "      <td>1.0</td>\n",
       "      <td>Mira Mesa</td>\n",
       "      <td>0</td>\n",
       "      <td>22.293757</td>\n",
       "      <td>0</td>\n",
       "      <td>72.0</td>\n",
       "      <td>4.276666</td>\n",
       "      <td>14668</td>\n",
       "      <td>0</td>\n",
       "      <td>0</td>\n",
       "      <td>1</td>\n",
       "      <td>0</td>\n",
       "      <td>0</td>\n",
       "      <td>0</td>\n",
       "      <td>1</td>\n",
       "      <td>0</td>\n",
       "      <td>POINT (-117.15269 32.93110)</td>\n",
       "    </tr>\n",
       "    <tr>\n",
       "      <th>4</th>\n",
       "      <td>2</td>\n",
       "      <td>1.0</td>\n",
       "      <td>1.0</td>\n",
       "      <td>1.0</td>\n",
       "      <td>Roseville</td>\n",
       "      <td>0</td>\n",
       "      <td>6.829451</td>\n",
       "      <td>0</td>\n",
       "      <td>55.0</td>\n",
       "      <td>4.007333</td>\n",
       "      <td>38245</td>\n",
       "      <td>0</td>\n",
       "      <td>0</td>\n",
       "      <td>1</td>\n",
       "      <td>0</td>\n",
       "      <td>0</td>\n",
       "      <td>0</td>\n",
       "      <td>1</td>\n",
       "      <td>0</td>\n",
       "      <td>POINT (-117.21870 32.74202)</td>\n",
       "    </tr>\n",
       "  </tbody>\n",
       "</table>\n",
       "</div>"
      ],
      "text/plain": [
       "   accommodates  bathrooms  bedrooms  beds neighborhood  pool   d2balboa  \\\n",
       "0             5        2.0       2.0   2.0  North Hills     0   2.972077   \n",
       "1             6        1.0       2.0   4.0  Mission Bay     0  11.501385   \n",
       "2             2        1.0       1.0   1.0  North Hills     0   2.493893   \n",
       "3             2        1.0       1.0   1.0    Mira Mesa     0  22.293757   \n",
       "4             2        1.0       1.0   1.0    Roseville     0   6.829451   \n",
       "\n",
       "   coastal  price  log_price     id  pg_Apartment  pg_Condominium  pg_House  \\\n",
       "0        0  425.0   6.052089      6             0               0         1   \n",
       "1        1  205.0   5.323010   5570             0               1         0   \n",
       "2        0   99.0   4.595120   9553             1               0         0   \n",
       "3        0   72.0   4.276666  14668             0               0         1   \n",
       "4        0   55.0   4.007333  38245             0               0         1   \n",
       "\n",
       "   pg_Other  pg_Townhouse  rt_Entire_home/apt  rt_Private_room  \\\n",
       "0         0             0                   1                0   \n",
       "1         0             0                   1                0   \n",
       "2         0             0                   0                1   \n",
       "3         0             0                   0                1   \n",
       "4         0             0                   0                1   \n",
       "\n",
       "   rt_Shared_room                     geometry  \n",
       "0               0  POINT (-117.12971 32.75399)  \n",
       "1               0  POINT (-117.25253 32.78421)  \n",
       "2               0  POINT (-117.14121 32.75327)  \n",
       "3               0  POINT (-117.15269 32.93110)  \n",
       "4               0  POINT (-117.21870 32.74202)  "
      ]
     },
     "execution_count": 5,
     "metadata": {},
     "output_type": "execute_result"
    }
   ],
   "source": [
    "db.head()"
   ]
  },
  {
   "cell_type": "markdown",
   "id": "4c5182eb",
   "metadata": {},
   "source": [
    "Again, notice here that we have: \n",
    "- **Discrete variables** (number of bedrooms, beds, baths)\n",
    "- **Dummy variables** (whether there is a pool, whether near the coast, room type)"
   ]
  },
  {
   "attachments": {},
   "cell_type": "markdown",
   "id": "a770dfc6",
   "metadata": {},
   "source": [
    "# 1. `log_price`\n",
    "Let's start off with predicting the price of the Airbnb. \n"
   ]
  },
  {
   "cell_type": "code",
   "execution_count": 6,
   "id": "6b565af4",
   "metadata": {},
   "outputs": [],
   "source": [
    "y = db['log_price']\n",
    "\n",
    "## We'll make our X, independent variables, the \"kitchen sink\" of all of our other variables for now. \n",
    "## I'm using all the variables we have available with the exception of `neighborhood`, which we have to turn into dummy variables in a second. \n",
    "\n",
    "X = db[['accommodates', 'bathrooms', 'bedrooms', 'beds', 'pool',\n",
    "       'd2balboa', 'coastal', 'pg_Apartment',\n",
    "       'pg_Condominium', 'pg_House', 'pg_Other', 'pg_Townhouse',\n",
    "       'rt_Entire_home/apt', 'rt_Private_room', 'rt_Shared_room']]"
   ]
  },
  {
   "attachments": {},
   "cell_type": "markdown",
   "id": "c2cba824",
   "metadata": {},
   "source": [
    "## 1.1 Feature engineering\n",
    "Feature engineering is the process of creating new variables from the ones you already have. Common feature engineering tasks include:\n",
    "- Creating dummy variables from categorical variables\n",
    "- Creating interaction terms between variables\n",
    "- Creating polynomial terms from variables\n",
    "- Creating log or square root terms from variables\n",
    "- Creating lagged variables from time series data or lagged spatial variables \n"
   ]
  },
  {
   "cell_type": "code",
   "execution_count": 7,
   "id": "d3c9f6c5",
   "metadata": {},
   "outputs": [],
   "source": [
    "neighborhood_dummies = pd.get_dummies(db['neighborhood'])"
   ]
  },
  {
   "cell_type": "code",
   "execution_count": 8,
   "id": "79f31ca5",
   "metadata": {},
   "outputs": [
    {
     "data": {
      "text/html": [
       "<div>\n",
       "<style scoped>\n",
       "    .dataframe tbody tr th:only-of-type {\n",
       "        vertical-align: middle;\n",
       "    }\n",
       "\n",
       "    .dataframe tbody tr th {\n",
       "        vertical-align: top;\n",
       "    }\n",
       "\n",
       "    .dataframe thead th {\n",
       "        text-align: right;\n",
       "    }\n",
       "</style>\n",
       "<table border=\"1\" class=\"dataframe\">\n",
       "  <thead>\n",
       "    <tr style=\"text-align: right;\">\n",
       "      <th></th>\n",
       "      <th>Balboa Park</th>\n",
       "      <th>Bay Ho</th>\n",
       "      <th>Bay Park</th>\n",
       "      <th>Carmel Valley</th>\n",
       "      <th>City Heights West</th>\n",
       "      <th>Clairemont Mesa</th>\n",
       "      <th>College Area</th>\n",
       "      <th>Core</th>\n",
       "      <th>Cortez Hill</th>\n",
       "      <th>Del Mar Heights</th>\n",
       "      <th>...</th>\n",
       "      <th>Park West</th>\n",
       "      <th>Rancho Bernadino</th>\n",
       "      <th>Rancho Penasquitos</th>\n",
       "      <th>Roseville</th>\n",
       "      <th>San Carlos</th>\n",
       "      <th>Scripps Ranch</th>\n",
       "      <th>Serra Mesa</th>\n",
       "      <th>South Park</th>\n",
       "      <th>University City</th>\n",
       "      <th>West University Heights</th>\n",
       "    </tr>\n",
       "  </thead>\n",
       "  <tbody>\n",
       "    <tr>\n",
       "      <th>0</th>\n",
       "      <td>0</td>\n",
       "      <td>0</td>\n",
       "      <td>0</td>\n",
       "      <td>0</td>\n",
       "      <td>0</td>\n",
       "      <td>0</td>\n",
       "      <td>0</td>\n",
       "      <td>0</td>\n",
       "      <td>0</td>\n",
       "      <td>0</td>\n",
       "      <td>...</td>\n",
       "      <td>0</td>\n",
       "      <td>0</td>\n",
       "      <td>0</td>\n",
       "      <td>0</td>\n",
       "      <td>0</td>\n",
       "      <td>0</td>\n",
       "      <td>0</td>\n",
       "      <td>0</td>\n",
       "      <td>0</td>\n",
       "      <td>0</td>\n",
       "    </tr>\n",
       "    <tr>\n",
       "      <th>1</th>\n",
       "      <td>0</td>\n",
       "      <td>0</td>\n",
       "      <td>0</td>\n",
       "      <td>0</td>\n",
       "      <td>0</td>\n",
       "      <td>0</td>\n",
       "      <td>0</td>\n",
       "      <td>0</td>\n",
       "      <td>0</td>\n",
       "      <td>0</td>\n",
       "      <td>...</td>\n",
       "      <td>0</td>\n",
       "      <td>0</td>\n",
       "      <td>0</td>\n",
       "      <td>0</td>\n",
       "      <td>0</td>\n",
       "      <td>0</td>\n",
       "      <td>0</td>\n",
       "      <td>0</td>\n",
       "      <td>0</td>\n",
       "      <td>0</td>\n",
       "    </tr>\n",
       "    <tr>\n",
       "      <th>2</th>\n",
       "      <td>0</td>\n",
       "      <td>0</td>\n",
       "      <td>0</td>\n",
       "      <td>0</td>\n",
       "      <td>0</td>\n",
       "      <td>0</td>\n",
       "      <td>0</td>\n",
       "      <td>0</td>\n",
       "      <td>0</td>\n",
       "      <td>0</td>\n",
       "      <td>...</td>\n",
       "      <td>0</td>\n",
       "      <td>0</td>\n",
       "      <td>0</td>\n",
       "      <td>0</td>\n",
       "      <td>0</td>\n",
       "      <td>0</td>\n",
       "      <td>0</td>\n",
       "      <td>0</td>\n",
       "      <td>0</td>\n",
       "      <td>0</td>\n",
       "    </tr>\n",
       "    <tr>\n",
       "      <th>3</th>\n",
       "      <td>0</td>\n",
       "      <td>0</td>\n",
       "      <td>0</td>\n",
       "      <td>0</td>\n",
       "      <td>0</td>\n",
       "      <td>0</td>\n",
       "      <td>0</td>\n",
       "      <td>0</td>\n",
       "      <td>0</td>\n",
       "      <td>0</td>\n",
       "      <td>...</td>\n",
       "      <td>0</td>\n",
       "      <td>0</td>\n",
       "      <td>0</td>\n",
       "      <td>0</td>\n",
       "      <td>0</td>\n",
       "      <td>0</td>\n",
       "      <td>0</td>\n",
       "      <td>0</td>\n",
       "      <td>0</td>\n",
       "      <td>0</td>\n",
       "    </tr>\n",
       "    <tr>\n",
       "      <th>4</th>\n",
       "      <td>0</td>\n",
       "      <td>0</td>\n",
       "      <td>0</td>\n",
       "      <td>0</td>\n",
       "      <td>0</td>\n",
       "      <td>0</td>\n",
       "      <td>0</td>\n",
       "      <td>0</td>\n",
       "      <td>0</td>\n",
       "      <td>0</td>\n",
       "      <td>...</td>\n",
       "      <td>0</td>\n",
       "      <td>0</td>\n",
       "      <td>0</td>\n",
       "      <td>1</td>\n",
       "      <td>0</td>\n",
       "      <td>0</td>\n",
       "      <td>0</td>\n",
       "      <td>0</td>\n",
       "      <td>0</td>\n",
       "      <td>0</td>\n",
       "    </tr>\n",
       "  </tbody>\n",
       "</table>\n",
       "<p>5 rows × 45 columns</p>\n",
       "</div>"
      ],
      "text/plain": [
       "   Balboa Park  Bay Ho  Bay Park  Carmel Valley  City Heights West  \\\n",
       "0            0       0         0              0                  0   \n",
       "1            0       0         0              0                  0   \n",
       "2            0       0         0              0                  0   \n",
       "3            0       0         0              0                  0   \n",
       "4            0       0         0              0                  0   \n",
       "\n",
       "   Clairemont Mesa  College Area  Core  Cortez Hill  Del Mar Heights  ...  \\\n",
       "0                0             0     0            0                0  ...   \n",
       "1                0             0     0            0                0  ...   \n",
       "2                0             0     0            0                0  ...   \n",
       "3                0             0     0            0                0  ...   \n",
       "4                0             0     0            0                0  ...   \n",
       "\n",
       "   Park West  Rancho Bernadino  Rancho Penasquitos  Roseville  San Carlos  \\\n",
       "0          0                 0                   0          0           0   \n",
       "1          0                 0                   0          0           0   \n",
       "2          0                 0                   0          0           0   \n",
       "3          0                 0                   0          0           0   \n",
       "4          0                 0                   0          1           0   \n",
       "\n",
       "   Scripps Ranch  Serra Mesa  South Park  University City  \\\n",
       "0              0           0           0                0   \n",
       "1              0           0           0                0   \n",
       "2              0           0           0                0   \n",
       "3              0           0           0                0   \n",
       "4              0           0           0                0   \n",
       "\n",
       "   West University Heights  \n",
       "0                        0  \n",
       "1                        0  \n",
       "2                        0  \n",
       "3                        0  \n",
       "4                        0  \n",
       "\n",
       "[5 rows x 45 columns]"
      ]
     },
     "execution_count": 8,
     "metadata": {},
     "output_type": "execute_result"
    }
   ],
   "source": [
    "neighborhood_dummies.head()"
   ]
  },
  {
   "cell_type": "code",
   "execution_count": 9,
   "id": "ce981b1a",
   "metadata": {},
   "outputs": [],
   "source": [
    "## Here, I want to concatenate my X and neighborhood_dummies into one dataframe.\n",
    "## I need to tell pd.concat() to either add new columns (axis=1) or add new rows (axis=0).\n",
    "## The default is axis=0, ie new rows, so I need to specify axis=1.\n",
    "X = pd.concat([X, neighborhood_dummies],axis=1)"
   ]
  },
  {
   "cell_type": "code",
   "execution_count": 10,
   "id": "2d711091",
   "metadata": {},
   "outputs": [
    {
     "data": {
      "text/html": [
       "<div>\n",
       "<style scoped>\n",
       "    .dataframe tbody tr th:only-of-type {\n",
       "        vertical-align: middle;\n",
       "    }\n",
       "\n",
       "    .dataframe tbody tr th {\n",
       "        vertical-align: top;\n",
       "    }\n",
       "\n",
       "    .dataframe thead th {\n",
       "        text-align: right;\n",
       "    }\n",
       "</style>\n",
       "<table border=\"1\" class=\"dataframe\">\n",
       "  <thead>\n",
       "    <tr style=\"text-align: right;\">\n",
       "      <th></th>\n",
       "      <th>accommodates</th>\n",
       "      <th>bathrooms</th>\n",
       "      <th>bedrooms</th>\n",
       "      <th>beds</th>\n",
       "      <th>pool</th>\n",
       "      <th>d2balboa</th>\n",
       "      <th>coastal</th>\n",
       "      <th>pg_Apartment</th>\n",
       "      <th>pg_Condominium</th>\n",
       "      <th>pg_House</th>\n",
       "      <th>...</th>\n",
       "      <th>Park West</th>\n",
       "      <th>Rancho Bernadino</th>\n",
       "      <th>Rancho Penasquitos</th>\n",
       "      <th>Roseville</th>\n",
       "      <th>San Carlos</th>\n",
       "      <th>Scripps Ranch</th>\n",
       "      <th>Serra Mesa</th>\n",
       "      <th>South Park</th>\n",
       "      <th>University City</th>\n",
       "      <th>West University Heights</th>\n",
       "    </tr>\n",
       "  </thead>\n",
       "  <tbody>\n",
       "    <tr>\n",
       "      <th>0</th>\n",
       "      <td>5</td>\n",
       "      <td>2.0</td>\n",
       "      <td>2.0</td>\n",
       "      <td>2.0</td>\n",
       "      <td>0</td>\n",
       "      <td>2.972077</td>\n",
       "      <td>0</td>\n",
       "      <td>0</td>\n",
       "      <td>0</td>\n",
       "      <td>1</td>\n",
       "      <td>...</td>\n",
       "      <td>0</td>\n",
       "      <td>0</td>\n",
       "      <td>0</td>\n",
       "      <td>0</td>\n",
       "      <td>0</td>\n",
       "      <td>0</td>\n",
       "      <td>0</td>\n",
       "      <td>0</td>\n",
       "      <td>0</td>\n",
       "      <td>0</td>\n",
       "    </tr>\n",
       "    <tr>\n",
       "      <th>1</th>\n",
       "      <td>6</td>\n",
       "      <td>1.0</td>\n",
       "      <td>2.0</td>\n",
       "      <td>4.0</td>\n",
       "      <td>0</td>\n",
       "      <td>11.501385</td>\n",
       "      <td>1</td>\n",
       "      <td>0</td>\n",
       "      <td>1</td>\n",
       "      <td>0</td>\n",
       "      <td>...</td>\n",
       "      <td>0</td>\n",
       "      <td>0</td>\n",
       "      <td>0</td>\n",
       "      <td>0</td>\n",
       "      <td>0</td>\n",
       "      <td>0</td>\n",
       "      <td>0</td>\n",
       "      <td>0</td>\n",
       "      <td>0</td>\n",
       "      <td>0</td>\n",
       "    </tr>\n",
       "    <tr>\n",
       "      <th>2</th>\n",
       "      <td>2</td>\n",
       "      <td>1.0</td>\n",
       "      <td>1.0</td>\n",
       "      <td>1.0</td>\n",
       "      <td>0</td>\n",
       "      <td>2.493893</td>\n",
       "      <td>0</td>\n",
       "      <td>1</td>\n",
       "      <td>0</td>\n",
       "      <td>0</td>\n",
       "      <td>...</td>\n",
       "      <td>0</td>\n",
       "      <td>0</td>\n",
       "      <td>0</td>\n",
       "      <td>0</td>\n",
       "      <td>0</td>\n",
       "      <td>0</td>\n",
       "      <td>0</td>\n",
       "      <td>0</td>\n",
       "      <td>0</td>\n",
       "      <td>0</td>\n",
       "    </tr>\n",
       "    <tr>\n",
       "      <th>3</th>\n",
       "      <td>2</td>\n",
       "      <td>1.0</td>\n",
       "      <td>1.0</td>\n",
       "      <td>1.0</td>\n",
       "      <td>0</td>\n",
       "      <td>22.293757</td>\n",
       "      <td>0</td>\n",
       "      <td>0</td>\n",
       "      <td>0</td>\n",
       "      <td>1</td>\n",
       "      <td>...</td>\n",
       "      <td>0</td>\n",
       "      <td>0</td>\n",
       "      <td>0</td>\n",
       "      <td>0</td>\n",
       "      <td>0</td>\n",
       "      <td>0</td>\n",
       "      <td>0</td>\n",
       "      <td>0</td>\n",
       "      <td>0</td>\n",
       "      <td>0</td>\n",
       "    </tr>\n",
       "    <tr>\n",
       "      <th>4</th>\n",
       "      <td>2</td>\n",
       "      <td>1.0</td>\n",
       "      <td>1.0</td>\n",
       "      <td>1.0</td>\n",
       "      <td>0</td>\n",
       "      <td>6.829451</td>\n",
       "      <td>0</td>\n",
       "      <td>0</td>\n",
       "      <td>0</td>\n",
       "      <td>1</td>\n",
       "      <td>...</td>\n",
       "      <td>0</td>\n",
       "      <td>0</td>\n",
       "      <td>0</td>\n",
       "      <td>1</td>\n",
       "      <td>0</td>\n",
       "      <td>0</td>\n",
       "      <td>0</td>\n",
       "      <td>0</td>\n",
       "      <td>0</td>\n",
       "      <td>0</td>\n",
       "    </tr>\n",
       "  </tbody>\n",
       "</table>\n",
       "<p>5 rows × 60 columns</p>\n",
       "</div>"
      ],
      "text/plain": [
       "   accommodates  bathrooms  bedrooms  beds  pool   d2balboa  coastal  \\\n",
       "0             5        2.0       2.0   2.0     0   2.972077        0   \n",
       "1             6        1.0       2.0   4.0     0  11.501385        1   \n",
       "2             2        1.0       1.0   1.0     0   2.493893        0   \n",
       "3             2        1.0       1.0   1.0     0  22.293757        0   \n",
       "4             2        1.0       1.0   1.0     0   6.829451        0   \n",
       "\n",
       "   pg_Apartment  pg_Condominium  pg_House  ...  Park West  Rancho Bernadino  \\\n",
       "0             0               0         1  ...          0                 0   \n",
       "1             0               1         0  ...          0                 0   \n",
       "2             1               0         0  ...          0                 0   \n",
       "3             0               0         1  ...          0                 0   \n",
       "4             0               0         1  ...          0                 0   \n",
       "\n",
       "   Rancho Penasquitos  Roseville  San Carlos  Scripps Ranch  Serra Mesa  \\\n",
       "0                   0          0           0              0           0   \n",
       "1                   0          0           0              0           0   \n",
       "2                   0          0           0              0           0   \n",
       "3                   0          0           0              0           0   \n",
       "4                   0          1           0              0           0   \n",
       "\n",
       "   South Park  University City  West University Heights  \n",
       "0           0                0                        0  \n",
       "1           0                0                        0  \n",
       "2           0                0                        0  \n",
       "3           0                0                        0  \n",
       "4           0                0                        0  \n",
       "\n",
       "[5 rows x 60 columns]"
      ]
     },
     "execution_count": 10,
     "metadata": {},
     "output_type": "execute_result"
    }
   ],
   "source": [
    "X.head()"
   ]
  },
  {
   "attachments": {},
   "cell_type": "markdown",
   "id": "8da70da6",
   "metadata": {},
   "source": [
    "Let's also create a new column that is the KNN spatial lag for the 'neighborhood context'. Here, I'm going to use the columns: \n",
    "- `pool`, which is a binary (0,1) variable for whether the airbnb has a pool\n",
    "- `pg_House` which is a binary (0,1) variable for whether the airbnb is a house\n",
    "\n",
    "I will choose K=20, to give me the 20 closest neighboring Airbnbs. My spatial lag should be a number between 0 and 20 to estimate, of the 20 closest Airbnb, how many have pools and how many are other housees."
   ]
  },
  {
   "cell_type": "code",
   "execution_count": 11,
   "id": "88b8516e",
   "metadata": {},
   "outputs": [],
   "source": [
    "knn = weights.KNN.from_dataframe(db, k=20)"
   ]
  },
  {
   "cell_type": "code",
   "execution_count": 12,
   "id": "bd14c13c",
   "metadata": {},
   "outputs": [],
   "source": [
    "pool_lag = weights.lag_spatial(knn, db['pool'])\n",
    "house_lag = weights.lag_spatial(knn, db['pg_House'])"
   ]
  },
  {
   "attachments": {},
   "cell_type": "markdown",
   "id": "6da1a81c",
   "metadata": {},
   "source": [
    "The chart below shows that neighboring airbnbs mostly don't have a pool. "
   ]
  },
  {
   "cell_type": "code",
   "execution_count": 13,
   "id": "71b550b8",
   "metadata": {},
   "outputs": [
    {
     "data": {
      "text/plain": [
       "(array([3060.,  889.,  580.,  437.,  259.,  241.,  221.,  118.,  121.,\n",
       "         184.]),\n",
       " array([ 0.,  2.,  4.,  6.,  8., 10., 12., 14., 16., 18., 20.]),\n",
       " <BarContainer object of 10 artists>)"
      ]
     },
     "execution_count": 13,
     "metadata": {},
     "output_type": "execute_result"
    },
    {
     "data": {
      "image/png": "[encoded data removed]",
      "text/plain": [
       "<Figure size 640x480 with 1 Axes>"
      ]
     },
     "metadata": {},
     "output_type": "display_data"
    }
   ],
   "source": [
    "plt.hist(pool_lag)"
   ]
  },
  {
   "attachments": {},
   "cell_type": "markdown",
   "id": "2e29d695",
   "metadata": {},
   "source": [
    "But there are a lot more neighborinng Airbnbs that are houses. "
   ]
  },
  {
   "cell_type": "code",
   "execution_count": 14,
   "id": "08209f7a",
   "metadata": {},
   "outputs": [
    {
     "data": {
      "text/plain": [
       "(array([792., 485., 701., 813., 767., 727., 713., 527., 372., 213.]),\n",
       " array([ 0.,  2.,  4.,  6.,  8., 10., 12., 14., 16., 18., 20.]),\n",
       " <BarContainer object of 10 artists>)"
      ]
     },
     "execution_count": 14,
     "metadata": {},
     "output_type": "execute_result"
    },
    {
     "data": {
      "image/png": "[encoded data removed]",
      "text/plain": [
       "<Figure size 640x480 with 1 Axes>"
      ]
     },
     "metadata": {},
     "output_type": "display_data"
    }
   ],
   "source": [
    "plt.hist(house_lag)"
   ]
  },
  {
   "attachments": {},
   "cell_type": "markdown",
   "id": "6857883b",
   "metadata": {},
   "source": [
    "Add these to new features to our original data. "
   ]
  },
  {
   "cell_type": "code",
   "execution_count": 15,
   "id": "0cbb41cb",
   "metadata": {},
   "outputs": [],
   "source": [
    "X['pool_lag'] = pool_lag\n",
    "X['house_lag'] = house_lag"
   ]
  },
  {
   "attachments": {},
   "cell_type": "markdown",
   "id": "8f668afa",
   "metadata": {},
   "source": [
    "\n",
    "## 1.1 Create our Train-Test Split\n",
    "We almost always start off with splitting our data into our **train** and **test** sets. "
   ]
  },
  {
   "cell_type": "code",
   "execution_count": 16,
   "id": "a81b0187",
   "metadata": {},
   "outputs": [],
   "source": [
    "from sklearn.model_selection import train_test_split\n",
    "\n",
    "## Let's use the default split for now, which is 75-25 train-test\n",
    "X_train, X_test, y_train, y_test = train_test_split(X, y, random_state=42,)\n"
   ]
  },
  {
   "attachments": {},
   "cell_type": "markdown",
   "id": "e90bb038",
   "metadata": {},
   "source": [
    "## 1.2 Predict the data\n",
    "Here, let's use a decision tree regressor to predict the price. "
   ]
  },
  {
   "cell_type": "code",
   "execution_count": 17,
   "id": "ae7273cd",
   "metadata": {},
   "outputs": [],
   "source": [
    "from sklearn.tree import DecisionTreeRegressor\n",
    "from sklearn.model_selection import cross_val_score\n",
    "\n",
    "from sklearn.metrics import accuracy_score\n",
    "\n",
    "from sklearn.metrics import r2_score\n",
    "from sklearn.metrics import mean_absolute_error\n",
    "from sklearn.metrics import mean_squared_error\n",
    "\n"
   ]
  },
  {
   "cell_type": "code",
   "execution_count": 18,
   "id": "383ee508",
   "metadata": {},
   "outputs": [
    {
     "data": {
      "text/html": [
       "<style>#sk-container-id-1 {color: black;background-color: white;}#sk-container-id-1 pre{padding: 0;}#sk-container-id-1 div.sk-toggleable {background-color: white;}#sk-container-id-1 label.sk-toggleable__label {cursor: pointer;display: block;width: 100%;margin-bottom: 0;padding: 0.3em;box-sizing: border-box;text-align: center;}#sk-container-id-1 label.sk-toggleable__label-arrow:before {content: \"▸\";float: left;margin-right: 0.25em;color: #696969;}#sk-container-id-1 label.sk-toggleable__label-arrow:hover:before {color: black;}#sk-container-id-1 div.sk-estimator:hover label.sk-toggleable__label-arrow:before {color: black;}#sk-container-id-1 div.sk-toggleable__content {max-height: 0;max-width: 0;overflow: hidden;text-align: left;background-color: #f0f8ff;}#sk-container-id-1 div.sk-toggleable__content pre {margin: 0.2em;color: black;border-radius: 0.25em;background-color: #f0f8ff;}#sk-container-id-1 input.sk-toggleable__control:checked~div.sk-toggleable__content {max-height: 200px;max-width: 100%;overflow: auto;}#sk-container-id-1 input.sk-toggleable__control:checked~label.sk-toggleable__label-arrow:before {content: \"▾\";}#sk-container-id-1 div.sk-estimator input.sk-toggleable__control:checked~label.sk-toggleable__label {background-color: #d4ebff;}#sk-container-id-1 div.sk-label input.sk-toggleable__control:checked~label.sk-toggleable__label {background-color: #d4ebff;}#sk-container-id-1 input.sk-hidden--visually {border: 0;clip: rect(1px 1px 1px 1px);clip: rect(1px, 1px, 1px, 1px);height: 1px;margin: -1px;overflow: hidden;padding: 0;position: absolute;width: 1px;}#sk-container-id-1 div.sk-estimator {font-family: monospace;background-color: #f0f8ff;border: 1px dotted black;border-radius: 0.25em;box-sizing: border-box;margin-bottom: 0.5em;}#sk-container-id-1 div.sk-estimator:hover {background-color: #d4ebff;}#sk-container-id-1 div.sk-parallel-item::after {content: \"\";width: 100%;border-bottom: 1px solid gray;flex-grow: 1;}#sk-container-id-1 div.sk-label:hover label.sk-toggleable__label {background-color: #d4ebff;}#sk-container-id-1 div.sk-serial::before {content: \"\";position: absolute;border-left: 1px solid gray;box-sizing: border-box;top: 0;bottom: 0;left: 50%;z-index: 0;}#sk-container-id-1 div.sk-serial {display: flex;flex-direction: column;align-items: center;background-color: white;padding-right: 0.2em;padding-left: 0.2em;position: relative;}#sk-container-id-1 div.sk-item {position: relative;z-index: 1;}#sk-container-id-1 div.sk-parallel {display: flex;align-items: stretch;justify-content: center;background-color: white;position: relative;}#sk-container-id-1 div.sk-item::before, #sk-container-id-1 div.sk-parallel-item::before {content: \"\";position: absolute;border-left: 1px solid gray;box-sizing: border-box;top: 0;bottom: 0;left: 50%;z-index: -1;}#sk-container-id-1 div.sk-parallel-item {display: flex;flex-direction: column;z-index: 1;position: relative;background-color: white;}#sk-container-id-1 div.sk-parallel-item:first-child::after {align-self: flex-end;width: 50%;}#sk-container-id-1 div.sk-parallel-item:last-child::after {align-self: flex-start;width: 50%;}#sk-container-id-1 div.sk-parallel-item:only-child::after {width: 0;}#sk-container-id-1 div.sk-dashed-wrapped {border: 1px dashed gray;margin: 0 0.4em 0.5em 0.4em;box-sizing: border-box;padding-bottom: 0.4em;background-color: white;}#sk-container-id-1 div.sk-label label {font-family: monospace;font-weight: bold;display: inline-block;line-height: 1.2em;}#sk-container-id-1 div.sk-label-container {text-align: center;}#sk-container-id-1 div.sk-container {/* jupyter's `normalize.less` sets `[hidden] { display: none; }` but bootstrap.min.css set `[hidden] { display: none !important; }` so we also need the `!important` here to be able to override the default hidden behavior on the sphinx rendered scikit-learn.org. See: https://github.com/scikit-learn/scikit-learn/issues/21755 */display: inline-block !important;position: relative;}#sk-container-id-1 div.sk-text-repr-fallback {display: none;}</style><div id=\"sk-container-id-1\" class=\"sk-top-container\"><div class=\"sk-text-repr-fallback\"><pre>DecisionTreeRegressor()</pre><b>In a Jupyter environment, please rerun this cell to show the HTML representation or trust the notebook. <br />On GitHub, the HTML representation is unable to render, please try loading this page with nbviewer.org.</b></div><div class=\"sk-container\" hidden><div class=\"sk-item\"><div class=\"sk-estimator sk-toggleable\"><input class=\"sk-toggleable__control sk-hidden--visually\" id=\"sk-estimator-id-1\" type=\"checkbox\" checked><label for=\"sk-estimator-id-1\" class=\"sk-toggleable__label sk-toggleable__label-arrow\">DecisionTreeRegressor</label><div class=\"sk-toggleable__content\"><pre>DecisionTreeRegressor()</pre></div></div></div></div></div>"
      ],
      "text/plain": [
       "DecisionTreeRegressor()"
      ]
     },
     "execution_count": 18,
     "metadata": {},
     "output_type": "execute_result"
    }
   ],
   "source": [
    "model = DecisionTreeRegressor()\n",
    "\n",
    "model.fit(X_train, y_train)"
   ]
  },
  {
   "attachments": {},
   "cell_type": "markdown",
   "id": "c24418e0",
   "metadata": {},
   "source": [
    "## 1.3 Cross-validation\n",
    "Now we use the k-fold cross-validation method is run our model several times on different parts of the training data. "
   ]
  },
  {
   "cell_type": "code",
   "execution_count": 19,
   "id": "2c798a32",
   "metadata": {},
   "outputs": [
    {
     "data": {
      "text/plain": [
       "array([0.39464158, 0.51326819, 0.4414854 , 0.48678032, 0.44255871])"
      ]
     },
     "execution_count": 19,
     "metadata": {},
     "output_type": "execute_result"
    }
   ],
   "source": [
    "## The default scoring metric for Random Forest is R^2, so we can use cross_val_score() to get the R^2 for each fold.\n",
    "scores = cross_val_score(model, X_train, y_train, cv=5)\n",
    "scores"
   ]
  },
  {
   "attachments": {},
   "cell_type": "markdown",
   "id": "f1bae9e7",
   "metadata": {},
   "source": [
    "As you can see, there is some variation here. "
   ]
  },
  {
   "cell_type": "code",
   "execution_count": 20,
   "id": "65bdda71",
   "metadata": {},
   "outputs": [
    {
     "data": {
      "text/plain": [
       "0.4557468395273734"
      ]
     },
     "execution_count": 20,
     "metadata": {},
     "output_type": "execute_result"
    }
   ],
   "source": [
    "scores.mean()"
   ]
  },
  {
   "attachments": {},
   "cell_type": "markdown",
   "id": "caaa1275",
   "metadata": {},
   "source": [
    "Our average R^2 is about 45.5%. "
   ]
  },
  {
   "attachments": {},
   "cell_type": "markdown",
   "id": "17522117",
   "metadata": {},
   "source": [
    "## 1.4 Test score \n",
    "Let's see how well our model does on the test data. "
   ]
  },
  {
   "cell_type": "code",
   "execution_count": 21,
   "id": "ac49a2ee",
   "metadata": {},
   "outputs": [
    {
     "name": "stdout",
     "output_type": "stream",
     "text": [
      "R^2 is: 0.4664451915651484\n",
      "Mean absolute error is: 0.42320831514869545\n",
      "Mean squared error is: 0.34091812000516414\n"
     ]
    }
   ],
   "source": [
    "# evaluate the model on the second set of data\n",
    "ypred_rf = model.predict(X_test)\n",
    "print(\"R^2 is:\", r2_score(y_test, ypred_rf))\n",
    "print(\"Mean absolute error is:\", mean_absolute_error(y_test, ypred_rf))\n",
    "print(\"Mean squared error is:\", mean_squared_error(y_test, ypred_rf))"
   ]
  },
  {
   "attachments": {},
   "cell_type": "markdown",
   "id": "4ffb9976",
   "metadata": {},
   "source": [
    "So the model performed slightly worse - 49% - on the test set. "
   ]
  },
  {
   "attachments": {},
   "cell_type": "markdown",
   "id": "fca9cb56",
   "metadata": {},
   "source": [
    "## 1.5 Tuning our hyperparameters"
   ]
  },
  {
   "attachments": {},
   "cell_type": "markdown",
   "id": "5490da16",
   "metadata": {},
   "source": [
    "### 1.5.1 Tweaking our trees\n",
    "Let's say we think to get a better score, we need to maximum tree depth. Let's test this. "
   ]
  },
  {
   "cell_type": "code",
   "execution_count": 22,
   "id": "0b6465fd",
   "metadata": {},
   "outputs": [
    {
     "data": {
      "text/plain": [
       "array([ 1,  2,  3,  4,  5,  6,  7,  8,  9, 10, 11, 12, 13, 14, 15, 16, 17,\n",
       "       18, 19, 20])"
      ]
     },
     "execution_count": 22,
     "metadata": {},
     "output_type": "execute_result"
    }
   ],
   "source": [
    "trees = np.linspace(1,20,20).astype(int)\n",
    "trees"
   ]
  },
  {
   "attachments": {},
   "cell_type": "markdown",
   "id": "9c5defce",
   "metadata": {},
   "source": [
    "The below might take a bit of time to run. (uff it took 3 minutes and 14 seconds for me!)"
   ]
  },
  {
   "cell_type": "code",
   "execution_count": 23,
   "id": "52e43e14",
   "metadata": {},
   "outputs": [],
   "source": [
    "## Let's create an empty list to hold our scores\n",
    "mean_scores_train = []\n",
    "mean_scores_test = []\n",
    "\n",
    "## Now, let's loop through our trees and get the mean score for each\n",
    "for t in trees: \n",
    "    model = DecisionTreeRegressor(max_depth=int(t))\n",
    "    model.fit(X_train, y_train)\n",
    "    scores_train = cross_val_score(model, X_train, y_train, cv=5)\n",
    "    \n",
    "    ypred_rf = model.predict(X_test)\n",
    "    score_test = r2_score(y_test, ypred_rf)\n",
    "\n",
    "    mean_scores_train.append(scores_train.mean())\n",
    "    mean_scores_test.append(score_test)\n",
    "\n"
   ]
  },
  {
   "cell_type": "code",
   "execution_count": 24,
   "id": "7801809d",
   "metadata": {},
   "outputs": [
    {
     "data": {
      "text/plain": [
       "<matplotlib.legend.Legend at 0x17202cbb0>"
      ]
     },
     "execution_count": 24,
     "metadata": {},
     "output_type": "execute_result"
    },
    {
     "data": {
      "image/png": "[encoded data removed]",
      "text/plain": [
       "<Figure size 640x480 with 1 Axes>"
      ]
     },
     "metadata": {},
     "output_type": "display_data"
    }
   ],
   "source": [
    "plt.plot(trees,mean_scores_train,color='blue',label='Train')\n",
    "plt.plot(trees,mean_scores_test,color='red',label='Test')\n",
    "plt.legend()"
   ]
  },
  {
   "attachments": {},
   "cell_type": "markdown",
   "id": "50db2cfa",
   "metadata": {},
   "source": [
    "Two insights emerge: \n",
    "1. Setting a maximum depth generally produced better scores than the default of not setting any depth (just letting the tree split until each leaf is \"pure\", i.e. contains values of the same category). \n",
    "2. We can see from this that after about a 5 maximum depth, our performance starts to decrease. "
   ]
  },
  {
   "attachments": {},
   "cell_type": "markdown",
   "id": "50c111fa",
   "metadata": {},
   "source": [
    "## 1.6 Grid Search\n",
    "But what about other parameters? \n",
    "\n",
    "`sklearn` has a way of optimizing for all the hyperparameters you'd like to tune. Let's say, here, we want to test the following hyperparatmers. You can see the full list for this algorithm in the [documentation](https://scikit-learn.org/stable/modules/generated/sklearn.tree.DecisionTreeRegressor.html): \n",
    "- The loss criterion: `criterion`, which can be {“squared_error”, “friedman_mse”, “absolute_error”, “poisson”}\n",
    "- The maximum tree depth: `max_depth`\n",
    "- The minimum number of samples required for the next split: `min_samples_split`"
   ]
  },
  {
   "cell_type": "code",
   "execution_count": null,
   "id": "f0bbbc9c",
   "metadata": {},
   "outputs": [],
   "source": [
    "from sklearn.model_selection import GridSearchCV\n",
    "\n",
    "param_grid = {'criterion':['squared_error', 'friedman_mse', 'absolute_error', 'poisson'],\n",
    "              'max_depth': np.linspace(1,20,20).astype(int),\n",
    "              'min_samples_split': np.linspace(1,100,20).astype(int)}\n",
    "\n",
    "grid = GridSearchCV(DecisionTreeRegressor(), param_grid, cv=5, verbose=1)"
   ]
  },
  {
   "attachments": {},
   "cell_type": "markdown",
   "id": "2da3288b",
   "metadata": {},
   "source": [
    "~~This might take a while since we're doing 8000 model fits!~~ Don't run this now as it takes 80 minutes. You can try to decrease the "
   ]
  },
  {
   "cell_type": "code",
   "execution_count": null,
   "id": "8d233b6f",
   "metadata": {},
   "outputs": [],
   "source": [
    "grid.fit(X, y)"
   ]
  },
  {
   "cell_type": "code",
   "execution_count": null,
   "id": "dd1ccf9f",
   "metadata": {},
   "outputs": [],
   "source": [
    "sorted(grid.cv_results_.keys())"
   ]
  },
  {
   "cell_type": "code",
   "execution_count": null,
   "id": "7b7496a1",
   "metadata": {},
   "outputs": [],
   "source": [
    "grid.best_params_"
   ]
  },
  {
   "attachments": {},
   "cell_type": "markdown",
   "id": "f48dd61e",
   "metadata": {},
   "source": [
    "`grid.best_params` got me `{'criterion': 'poisson', 'max_depth': 6, 'min_samples_split': 89}`"
   ]
  },
  {
   "attachments": {},
   "cell_type": "markdown",
   "id": "65b13aad",
   "metadata": {},
   "source": [
    "## Q.1 Classification\n",
    "Instead of predicting the log price, now instead predict whether an AirBnB is coastal. Using the same steps (feature engineering, train-test split, cross-validation, hyperparameter tuning) as above, **select one hyperparameter** to optimize for a classification model. It doesn't have to be a Decision Tree! (10 pts)"
   ]
  },
  {
   "cell_type": "code",
   "execution_count": 25,
   "id": "e8b75bf8",
   "metadata": {},
   "outputs": [],
   "source": [
    "y = db['coastal']\n",
    "\n",
    "\n",
    "X = db[['accommodates', 'bathrooms', 'bedrooms', 'beds', 'pool',\n",
    "       'd2balboa', 'log_price', 'pg_Apartment',\n",
    "       'pg_Condominium', 'pg_House', 'pg_Other', 'pg_Townhouse',\n",
    "       'rt_Entire_home/apt', 'rt_Private_room', 'rt_Shared_room']]"
   ]
  },
  {
   "attachments": {},
   "cell_type": "markdown",
   "id": "84a955f5",
   "metadata": {},
   "source": [
    "### Feature Engineering"
   ]
  },
  {
   "cell_type": "code",
   "execution_count": 26,
   "id": "3ec47d31",
   "metadata": {},
   "outputs": [],
   "source": [
    "X = pd.concat([X, neighborhood_dummies],axis=1)\n",
    "\n",
    "knn = weights.KNN.from_dataframe(db, k=20)\n",
    "\n",
    "pool_lag = weights.lag_spatial(knn, db['pool'])\n",
    "house_lag = weights.lag_spatial(knn, db['pg_House'])\n",
    "\n",
    "X['pool_lag'] = pool_lag\n",
    "X['house_lag'] = house_lag"
   ]
  },
  {
   "attachments": {},
   "cell_type": "markdown",
   "id": "6fdb1c47",
   "metadata": {},
   "source": [
    "### Train-test split"
   ]
  },
  {
   "cell_type": "code",
   "execution_count": 27,
   "id": "3ad3050f",
   "metadata": {},
   "outputs": [],
   "source": [
    "X_train, X_test, y_train, y_test = train_test_split(X, y, random_state=42,)"
   ]
  },
  {
   "attachments": {},
   "cell_type": "markdown",
   "id": "e1c086bd",
   "metadata": {},
   "source": [
    "### Cross-validation"
   ]
  },
  {
   "cell_type": "code",
   "execution_count": 28,
   "id": "7ae41f1e",
   "metadata": {},
   "outputs": [
    {
     "data": {
      "text/plain": [
       "array([0.99539409, 1.        , 0.98575162, 1.        , 1.        ])"
      ]
     },
     "execution_count": 28,
     "metadata": {},
     "output_type": "execute_result"
    }
   ],
   "source": [
    "model = DecisionTreeRegressor()\n",
    "\n",
    "model.fit(X_train, y_train)\n",
    "\n",
    "scores = cross_val_score(model, X_train, y_train, cv=5)\n",
    "scores"
   ]
  },
  {
   "cell_type": "code",
   "execution_count": 29,
   "id": "bbec2246",
   "metadata": {},
   "outputs": [
    {
     "name": "stdout",
     "output_type": "stream",
     "text": [
      "R^2 is: 0.991752532803653\n",
      "Mean absolute error is: 0.001963350785340314\n",
      "Mean squared error is: 0.001963350785340314\n"
     ]
    }
   ],
   "source": [
    "ypred_rf = model.predict(X_test)\n",
    "print(\"R^2 is:\", r2_score(y_test, ypred_rf))\n",
    "print(\"Mean absolute error is:\", mean_absolute_error(y_test, ypred_rf))\n",
    "print(\"Mean squared error is:\", mean_squared_error(y_test, ypred_rf))"
   ]
  },
  {
   "attachments": {},
   "cell_type": "markdown",
   "id": "32749275",
   "metadata": {},
   "source": [
    "### Hyperparameter tuning"
   ]
  },
  {
   "cell_type": "code",
   "execution_count": 33,
   "id": "613a1b23",
   "metadata": {},
   "outputs": [],
   "source": [
    "min_samples = np.linspace(1,100,20).astype(int)"
   ]
  },
  {
   "cell_type": "code",
   "execution_count": 36,
   "id": "6b191d72",
   "metadata": {},
   "outputs": [],
   "source": [
    "mean_scores_train = []\n",
    "mean_scores_test = []\n",
    "\n",
    "## Now, let's loop through our trees and get the mean score for each\n",
    "for min in min_samples: \n",
    "    model = DecisionTreeRegressor(min_samples_split=int(min))\n",
    "    model.fit(X_train, y_train)\n",
    "    scores_train = cross_val_score(model, X_train, y_train, cv=5)\n",
    "    \n",
    "    ypred_rf = model.predict(X_test)\n",
    "    score_test = r2_score(y_test, ypred_rf)\n",
    "\n",
    "    mean_scores_train.append(scores_train.mean())\n",
    "    mean_scores_test.append(score_test)"
   ]
  },
  {
   "cell_type": "code",
   "execution_count": 37,
   "id": "e240f9f0",
   "metadata": {},
   "outputs": [
    {
     "data": {
      "text/plain": [
       "<matplotlib.legend.Legend at 0x170a1d9a0>"
      ]
     },
     "execution_count": 37,
     "metadata": {},
     "output_type": "execute_result"
    },
    {
     "data": {
      "image/png": "[encoded data removed]",
      "text/plain": [
       "<Figure size 640x480 with 1 Axes>"
      ]
     },
     "metadata": {},
     "output_type": "display_data"
    }
   ],
   "source": [
    "plt.plot(min_samples,mean_scores_train,color='blue',label='Train')\n",
    "plt.plot(min_samples,mean_scores_test,color='red',label='Test')\n",
    "plt.legend()"
   ]
  }
 ],
 "metadata": {
  "jupytext": {
   "formats": "ipynb,md"
  },
  "kernelspec": {
   "display_name": "Python 3 (ipykernel)",
   "language": "python",
   "name": "python3"
  },
  "language_info": {
   "codemirror_mode": {
    "name": "ipython",
    "version": 3
   },
   "file_extension": ".py",
   "mimetype": "text/x-python",
   "name": "python",
   "nbconvert_exporter": "python",
   "pygments_lexer": "ipython3",
   "version": "3.9.15"
  }
 },
 "nbformat": 4,
 "nbformat_minor": 5
}
