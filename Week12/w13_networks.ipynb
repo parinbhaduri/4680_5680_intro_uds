{
 "cells": [
  {
   "attachments": {},
   "cell_type": "markdown",
   "metadata": {},
   "source": [
    "# Learning goals\n",
    "After today's lesson you should be understand:\n",
    "  - Network modeling and analysis with NetworkX\n",
    "  - Spatial network modeling and analysis with OSMnx and OpenStreetMap\n",
    "\n",
    "\n",
    "Today's exercise was created by Geoff Boeing for his [Advanced Urban Analytics class](https://github.com/gboeing/ppd599). Thanks Geoff!"
   ]
  },
  {
   "cell_type": "code",
   "execution_count": null,
   "metadata": {},
   "outputs": [],
   "source": [
    "import networkx as nx\n",
    "import numpy as np\n",
    "import osmnx as ox\n",
    "import pandas as pd\n",
    "\n",
    "# configure OSMnx\n",
    "ox.settings.log_console = True\n"
   ]
  },
  {
   "cell_type": "code",
   "execution_count": null,
   "metadata": {},
   "outputs": [],
   "source": [
    "# anytime you're curious what package version you have, use __version__\n",
    "print(nx.__version__)\n",
    "print(ox.__version__)"
   ]
  },
  {
   "cell_type": "markdown",
   "metadata": {},
   "source": [
    "## 1. Network analysis with NetworkX\n",
    "\n",
    "Networks let you represent structure and interaction among the components of a system. In analytics, they let you go beyond models that average across individuals/components or treat the population/system as a monolith. Networks are useful when the system's structure is nontrivial.\n",
    "\n",
    "A network is a set of objects (called nodes or vertices) connected to each other by a set of connections (called edges or links). A graph is a mathematical model of a network: usually used synonymously. You can represent a graph as an adjacency matrix to use the tools of linear algebra to analyze it. You can also simulate dynamics and flows on it.\n",
    "\n",
    "A trivial (simple) network is undirected, unweighted, and lacks self-loops or parallel edges. A nontrivial (complex) network may be directed and weighted and have self-loops and parallel edges. A spatial network is a network that is spatially embedded. That means its nodes and/or edges have locations in space. A spatial network is defined by both its geometry (positions, distances, angles, etc) and its topology (connections and configurations). \n",
    "\n",
    "Examples:\n",
    "\n",
    "  - street networks\n",
    "  - airline routes\n",
    "  - rail lines\n",
    "  - capital flows\n",
    "  - spread of contagious diseases\n",
    "\n",
    "We can analyze a network in various ways. To take street networks as an example, you can measure its compactness via intersection density, its connectedness via average node degree, or the relative importance of different nodes via centrality. Betweenness centrality measures what share of all shortest paths in a network pass through each node. Closeness centrality measures the average distance between a node and all other nodes in the network."
   ]
  },
  {
   "cell_type": "code",
   "execution_count": null,
   "metadata": {},
   "outputs": [],
   "source": [
    "# create a random small-world graph of a social network\n",
    "G = nx.watts_strogatz_graph(n=100, k=5, p=0.1, seed=0)\n",
    "\n",
    "## Here we are creating a graph with 100 nodes, each node is connected to 5 other nodes, and the probability of rewiring is 0.1\n",
    "## Rewiring means that the edge between two nodes is randomly reconnected to another node\n"
   ]
  },
  {
   "cell_type": "code",
   "execution_count": null,
   "metadata": {},
   "outputs": [],
   "source": [
    "nx.draw(G)"
   ]
  },
  {
   "cell_type": "code",
   "execution_count": null,
   "metadata": {},
   "outputs": [],
   "source": [
    "# how many nodes and edges?\n",
    "print(len(G.nodes))\n",
    "print(len(G.edges))"
   ]
  },
  {
   "cell_type": "code",
   "execution_count": null,
   "metadata": {},
   "outputs": [],
   "source": [
    "# assign random ages to each person in the network\n",
    "randoms = np.random.randint(low=18, high=90, size=len(G.nodes))\n",
    "ages = {node:age for node, age in zip(G.nodes, randoms)}\n"
   ]
  },
  {
   "cell_type": "code",
   "execution_count": null,
   "metadata": {},
   "outputs": [],
   "source": [
    "ages"
   ]
  },
  {
   "cell_type": "code",
   "execution_count": null,
   "metadata": {},
   "outputs": [],
   "source": [
    "nx.set_node_attributes(G, values=ages, name='age')"
   ]
  },
  {
   "cell_type": "markdown",
   "metadata": {},
   "source": [
    "`"
   ]
  },
  {
   "cell_type": "code",
   "execution_count": null,
   "metadata": {},
   "outputs": [],
   "source": [
    "# assign random \"social distance\" to each edge in the network\n",
    "# social distance is the inverse of how often they hang out each year\n",
    "hangout_counts = np.random.randint(low=1, high=100, size=len(G.edges))\n",
    "distances = {edge: 1 / hangout_count for edge, hangout_count in zip(G.edges, hangout_counts)}\n"
   ]
  },
  {
   "cell_type": "code",
   "execution_count": null,
   "metadata": {},
   "outputs": [],
   "source": [
    "distances"
   ]
  },
  {
   "cell_type": "code",
   "execution_count": null,
   "metadata": {},
   "outputs": [],
   "source": [
    "nx.set_edge_attributes(G, values=distances, name='distance')"
   ]
  },
  {
   "cell_type": "code",
   "execution_count": null,
   "metadata": {},
   "outputs": [],
   "source": [
    "# view the nodes and optionally show their attribute data\n",
    "G.nodes#(data=True)"
   ]
  },
  {
   "cell_type": "code",
   "execution_count": null,
   "metadata": {},
   "outputs": [],
   "source": [
    "# view the edges and optionally show their attribute data\n",
    "# these are undirected edges, and there cannot be parallel edges\n",
    "G.edges#(data=True)"
   ]
  },
  {
   "cell_type": "code",
   "execution_count": null,
   "metadata": {},
   "outputs": [],
   "source": [
    "# calculate the shortest path between two nodes\n",
    "path1 = nx.shortest_path(G, source=0, target=50)\n",
    "path1"
   ]
  },
  {
   "cell_type": "code",
   "execution_count": null,
   "metadata": {},
   "outputs": [],
   "source": [
    "# calculate the shortest weighted path between two nodes\n",
    "path2 = nx.shortest_path(G, source=0, target=50, weight='distance')\n",
    "path2"
   ]
  },
  {
   "cell_type": "code",
   "execution_count": null,
   "metadata": {},
   "outputs": [],
   "source": [
    "# calculate node betweenness centrality across the network\n",
    "bc = nx.betweenness_centrality(G, weight='distance')\n",
    "pd.Series(bc).describe()"
   ]
  },
  {
   "attachments": {},
   "cell_type": "markdown",
   "metadata": {},
   "source": [
    "## Q.1 (5 pts)"
   ]
  },
  {
   "cell_type": "code",
   "execution_count": null,
   "metadata": {},
   "outputs": [],
   "source": [
    "# now it's your turn\n",
    "# try changing the social distance between our people, then recompute a shortest path\n"
   ]
  },
  {
   "cell_type": "markdown",
   "metadata": {},
   "source": [
    "There is nothing explicitly spatial about the graph above. Although it models people and their relationships, it captures nothing about their positions in space. Now let's look at real-world spatial networks.\n",
    "\n",
    "## 2. Spatial networks and OSMnx\n",
    "\n",
    "OSMnx lets you download, model, analyze, and visualize street networks (and any other spatial data) anywhere in the world from OpenStreetMap.\n",
    "\n",
    "OSMnx is built on top of GeoPandas, NetworkX, and matplotlib and interacts with OpenStreetMap’s APIs to:\n",
    "\n",
    "  - Download and model street networks or other networked infrastructure anywhere in the world with a single line of code\n",
    "  - Download any other spatial geometries, place boundaries, building footprints, or points of interest as a GeoDataFrame\n",
    "  - Download by city name, polygon, bounding box, or point/address + network distance\n",
    "  - Download drivable, walkable, bikeable, or all street networks\n",
    "  - Download node elevations and calculate edge grades (inclines)\n",
    "  - Impute missing speeds and calculate graph edge travel times\n",
    "  - Simplify and correct the network’s topology to clean-up nodes and consolidate intersections\n",
    "  - Fast map-matching of points, routes, or trajectories to nearest graph edges or nodes\n",
    "  - Save networks to disk as shapefiles, GeoPackages, and GraphML\n",
    "  - Save/load street network to/from a local .osm XML file\n",
    "  - Conduct topological and spatial analyses to automatically calculate dozens of indicators\n",
    "  - Calculate and visualize street bearings and orientations\n",
    "  - Calculate and visualize shortest-path routes that minimize distance, travel time, elevation, etc\n",
    "  - Visualize street networks as a static map or interactive Leaflet web map\n",
    "  - Visualize travel distance and travel time with isoline and isochrone maps\n",
    "  - Plot figure-ground diagrams of street networks and building footprints\n",
    "\n",
    "More info:\n",
    "\n",
    "  - [OSMnx documentation](https://osmnx.readthedocs.io)\n",
    "  - [Examples, demos, tutorials](https://github.com/gboeing/osmnx-examples)"
   ]
  },
  {
   "cell_type": "code",
   "execution_count": null,
   "metadata": {},
   "outputs": [],
   "source": [
    "# download/model a street network for some city then visualize it\n",
    "place = 'Ithaca, New York, USA'\n",
    "G = ox.graph_from_place(place, network_type='drive')\n",
    "fig, ax = ox.plot_graph(G)"
   ]
  },
  {
   "attachments": {},
   "cell_type": "markdown",
   "metadata": {},
   "source": [
    "OSMnx geocodes the query \"Ithaca, New York, USA\" to retrieve the place boundaries of that city from the Nominatim API, retrieves the drivable street network data within those boundaries from the Overpass API, constructs a graph model, then simplifies/corrects its topology such that nodes represent intersections and dead-ends and edges represent the street segments linking them."
   ]
  },
  {
   "cell_type": "code",
   "execution_count": null,
   "metadata": {},
   "outputs": [],
   "source": [
    "# look at the first 10 nodes: these are OSM IDs\n",
    "list(G.nodes)[0:10]"
   ]
  },
  {
   "cell_type": "code",
   "execution_count": null,
   "metadata": {},
   "outputs": [],
   "source": [
    "# look at the first 10 edges: u, v, key\n",
    "list(G.edges)[0:10]"
   ]
  },
  {
   "cell_type": "code",
   "execution_count": null,
   "metadata": {},
   "outputs": [],
   "source": [
    "type(G)"
   ]
  },
  {
   "cell_type": "markdown",
   "metadata": {},
   "source": [
    "OSMnx models all networks as NetworkX `MultiDiGraph` objects. You can convert to:\n",
    "\n",
    "  - undirected NetworkX MultiGraphs\n",
    "  - NetworkX DiGraphs without (possible) parallel edges\n",
    "  - GeoPandas node/edge GeoDataFrames"
   ]
  },
  {
   "cell_type": "code",
   "execution_count": null,
   "metadata": {},
   "outputs": [],
   "source": [
    "# convert your graph to node and edge GeoPandas GeoDataFrames\n",
    "gdf_nodes, gdf_edges = ox.graph_to_gdfs(G)\n",
    "gdf_nodes.head()"
   ]
  },
  {
   "cell_type": "code",
   "execution_count": null,
   "metadata": {},
   "outputs": [],
   "source": [
    "gdf_edges.head()"
   ]
  },
  {
   "cell_type": "markdown",
   "metadata": {},
   "source": [
    "You can create a graph from node/edge GeoDataFrames, as long as gdf_nodes is indexed by osmid and gdf_edges is multi-indexed by u, v, key (following normal MultiDiGraph structure). This allows you to load graph node/edge shapefiles or GeoPackage layers as GeoDataFrames then convert to a MultiDiGraph for graph analytics."
   ]
  },
  {
   "cell_type": "code",
   "execution_count": null,
   "metadata": {},
   "outputs": [],
   "source": [
    "# convert node/edge GeoPandas GeoDataFrames to a NetworkX MultiDiGraph\n",
    "G2 = ox.graph_from_gdfs(gdf_nodes, gdf_edges, graph_attrs=G.graph)\n",
    "print(len(G2.nodes))\n",
    "print(len(G2.edges))"
   ]
  },
  {
   "attachments": {},
   "cell_type": "markdown",
   "metadata": {},
   "source": [
    "## Q.2 (5 pts)"
   ]
  },
  {
   "cell_type": "code",
   "execution_count": null,
   "metadata": {},
   "outputs": [],
   "source": [
    "# now it's your turn\n",
    "# download a graph of a different (small-ish) town, then plot it\n"
   ]
  },
  {
   "cell_type": "markdown",
   "metadata": {},
   "source": [
    "## Basic street network stats"
   ]
  },
  {
   "cell_type": "code",
   "execution_count": null,
   "metadata": {},
   "outputs": [],
   "source": [
    "# get our study site's geometry\n",
    "gdf = ox.geocode_to_gdf(place)\n",
    "gdf_proj = ox.project_gdf(gdf)\n",
    "geom_proj = gdf_proj['geometry'].iloc[0]\n",
    "geom_proj"
   ]
  },
  {
   "cell_type": "code",
   "execution_count": null,
   "metadata": {},
   "outputs": [],
   "source": [
    "# what size area does our study site cover in square meters?\n",
    "area_m = geom_proj.area\n",
    "area_m"
   ]
  },
  {
   "cell_type": "code",
   "execution_count": null,
   "metadata": {},
   "outputs": [],
   "source": [
    "# project the graph (automatically) then check its new CRS\n",
    "G_proj = ox.project_graph(G)\n",
    "G_proj.graph['crs']"
   ]
  },
  {
   "cell_type": "code",
   "execution_count": null,
   "metadata": {},
   "outputs": [],
   "source": [
    "# show some basic stats about the (projected) network\n",
    "ox.basic_stats(G_proj, area=area_m, clean_int_tol=10)"
   ]
  },
  {
   "cell_type": "markdown",
   "metadata": {},
   "source": [
    "More stats [documentation](https://osmnx.readthedocs.io/en/stable/osmnx.html#module-osmnx.stats)"
   ]
  },
  {
   "cell_type": "code",
   "execution_count": null,
   "metadata": {},
   "outputs": [],
   "source": [
    "### UPDATE THESE FILE PATHS!\n",
    "# save graph to disk as geopackage (for GIS) or GraphML file (for Gephi etc)\n",
    "ox.save_graph_geopackage(G, filepath='./data/mynetwork.gpkg')\n",
    "ox.save_graphml(G, filepath='./data/mynetwork.graphml')"
   ]
  },
  {
   "cell_type": "markdown",
   "metadata": {},
   "source": [
    "## Visualize street centrality\n",
    "\n",
    "Here we plot the street network and color its edges (streets) by their relative closeness centrality."
   ]
  },
  {
   "cell_type": "code",
   "execution_count": null,
   "metadata": {},
   "outputs": [],
   "source": [
    "# convert graph to line graph so edges become nodes and vice versa\n",
    "edge_centrality = nx.closeness_centrality(nx.line_graph(G))\n",
    "nx.set_edge_attributes(G, edge_centrality, 'edge_centrality')"
   ]
  },
  {
   "cell_type": "code",
   "execution_count": null,
   "metadata": {},
   "outputs": [],
   "source": [
    "# color edges in original graph with centralities from line graph\n",
    "ec = ox.plot.get_edge_colors_by_attr(G, 'edge_centrality', cmap='inferno')\n",
    "fig, ax = ox.plot_graph(G, edge_color=ec, edge_linewidth=2, node_size=0)"
   ]
  },
  {
   "cell_type": "markdown",
   "metadata": {},
   "source": [
    "## Routing"
   ]
  },
  {
   "cell_type": "code",
   "execution_count": null,
   "metadata": {},
   "outputs": [],
   "source": [
    "# impute missing edge speeds then calculate edge (free-flow) travel times\n",
    "G = ox.add_edge_speeds(G)\n",
    "G = ox.add_edge_travel_times(G)"
   ]
  },
  {
   "cell_type": "code",
   "execution_count": null,
   "metadata": {},
   "outputs": [],
   "source": [
    "# get the nearest network nodes to two lat/lng points\n",
    "\n",
    "\n",
    "orig = ox.nearest_nodes(G, -76.484735,42.450335)\n",
    "dest = ox.nearest_nodes(G, -76.487419,42.440510)"
   ]
  },
  {
   "cell_type": "code",
   "execution_count": null,
   "metadata": {},
   "outputs": [],
   "source": [
    "# find the shortest path between these nodes, minimizing travel time, then plot it\n",
    "route = ox.shortest_path(G, orig, dest, weight='travel_time')\n",
    "fig, ax = ox.plot_graph_route(G, route, node_size=0)"
   ]
  },
  {
   "cell_type": "code",
   "execution_count": null,
   "metadata": {},
   "outputs": [],
   "source": [
    "# how long is our route in meters?\n",
    "edge_lengths = ox.utils_graph.get_route_edge_attributes(G, route, 'length')\n",
    "sum(edge_lengths)"
   ]
  },
  {
   "cell_type": "code",
   "execution_count": null,
   "metadata": {},
   "outputs": [],
   "source": [
    "# how far is it between these two nodes as the crow flies (haversine)?\n",
    "ox.distance.great_circle_vec(G.nodes[orig]['y'], G.nodes[orig]['x'],\n",
    "                             G.nodes[dest]['y'], G.nodes[dest]['x'])"
   ]
  },
  {
   "attachments": {},
   "cell_type": "markdown",
   "metadata": {},
   "source": [
    "## Q.3 (5 pts)"
   ]
  },
  {
   "cell_type": "code",
   "execution_count": null,
   "metadata": {},
   "outputs": [],
   "source": [
    "# now it's your turn\n",
    "# how circuitous is this route? (3 pts)\n",
    "# try plotting it differently: change the colors and node/edge sizes (2 pts)\n"
   ]
  },
  {
   "cell_type": "markdown",
   "metadata": {},
   "source": [
    "## Get networks other ways\n",
    "\n",
    "make queries less ambiguous to help the geocoder out, if it's not finding what you're looking for"
   ]
  },
  {
   "cell_type": "code",
   "execution_count": null,
   "metadata": {},
   "outputs": [],
   "source": [
    "# you can make query an unambiguous dict to help the geocoder find it\n",
    "place = {'city'   : 'San Francisco',\n",
    "         'state'  : 'California',\n",
    "         'country': 'USA'}\n",
    "G = ox.graph_from_place(place, network_type='drive', truncate_by_edge=True)\n",
    "fig, ax = ox.plot_graph(G, figsize=(10, 10), node_size=0, edge_color='y', edge_linewidth=0.2)"
   ]
  },
  {
   "cell_type": "code",
   "execution_count": null,
   "metadata": {},
   "outputs": [],
   "source": [
    "# you can get networks anywhere in the world\n",
    "G = ox.graph_from_place('Sinalunga, Italy', network_type='all')\n",
    "fig, ax = ox.plot_graph(G, node_size=0, edge_linewidth=0.5)"
   ]
  },
  {
   "cell_type": "code",
   "execution_count": null,
   "metadata": {},
   "outputs": [],
   "source": [
    "# or get network by address, coordinates, bounding box, or any custom polygon\n",
    "# ...useful when OSM just doesn't already have a polygon for the place you want\n",
    "sibley_hall = (42.450768,-76.484696)\n",
    "one_mile = 1609 #meters\n",
    "G = ox.graph_from_point(sibley_hall, dist=one_mile, network_type='drive')\n",
    "fig, ax = ox.plot_graph(G, node_size=0)"
   ]
  },
  {
   "attachments": {},
   "cell_type": "markdown",
   "metadata": {},
   "source": [
    "## Q.4 (5 pts)"
   ]
  },
  {
   "cell_type": "code",
   "execution_count": null,
   "metadata": {},
   "outputs": [],
   "source": [
    "# now it's your turn\n",
    "# create a graph of your hometown then calculate the shortest path between two points of your choice"
   ]
  },
  {
   "cell_type": "markdown",
   "metadata": {},
   "source": [
    "## Get other networked infrastructure types\n",
    "\n",
    "...like rail or electric grids or even the canals of Venice and Amsterdam, using the `custom_filter` parameter. See the Overpass Query Language documentation for query usage details."
   ]
  },
  {
   "cell_type": "code",
   "execution_count": null,
   "metadata": {},
   "outputs": [],
   "source": [
    "# get NY subway rail network\n",
    "G = ox.graph_from_place('New York City, New York, USA',\n",
    "                        retain_all=False, truncate_by_edge=True, simplify=True,\n",
    "                        custom_filter='[\"railway\"~\"subway\"]')\n",
    "\n",
    "fig, ax = ox.plot_graph(G, node_size=0, edge_color='c', edge_linewidth=0.2)"
   ]
  },
  {
   "cell_type": "markdown",
   "metadata": {},
   "source": [
    "## Get any geospatial entities' geometries and attributes\n",
    "\n",
    "Use the `geometries` module to download entities, such as local amenities, points of interest, or building footprints, and turn them into a GeoDataFrame."
   ]
  },
  {
   "cell_type": "code",
   "execution_count": null,
   "metadata": {},
   "outputs": [],
   "source": [
    "# get all building footprints in some neighborhood\n",
    "place = 'West Village, New York, New York, USA'\n",
    "tags = {'building': True}\n",
    "gdf = ox.geometries_from_place(place, tags)\n",
    "gdf.shape"
   ]
  },
  {
   "cell_type": "code",
   "execution_count": null,
   "metadata": {},
   "outputs": [],
   "source": [
    "fig, ax = ox.plot_footprints(gdf, figsize=(3, 3))"
   ]
  },
  {
   "cell_type": "code",
   "execution_count": null,
   "metadata": {},
   "outputs": [],
   "source": [
    "# get all parks and bus stops in some neighborhood\n",
    "tags = {'leisure': 'park',\n",
    "        'highway': 'bus_stop'}\n",
    "gdf = ox.geometries_from_place(place, tags)\n",
    "gdf.shape"
   ]
  },
  {
   "cell_type": "code",
   "execution_count": null,
   "metadata": {},
   "outputs": [],
   "source": [
    "# restaurants near the empire state buildings\n",
    "address = '350 5th Ave, New York, NY 10001'\n",
    "tags = {'amenity': 'restaurant'}\n",
    "gdf = ox.geometries_from_address(address, tags=tags, dist=500)\n",
    "gdf[['name', 'cuisine', 'geometry']].dropna().head()"
   ]
  },
  {
   "attachments": {},
   "cell_type": "markdown",
   "metadata": {},
   "source": [
    "## Q.5 (5 pts)"
   ]
  },
  {
   "cell_type": "code",
   "execution_count": null,
   "metadata": {},
   "outputs": [],
   "source": [
    "# now it's your turn\n",
    "# find all the rail stations around downtown LA\n",
    "# hint, the tag is railway and the value is station: https://wiki.openstreetmap.org/wiki/Tag:railway%3Dstation"
   ]
  },
  {
   "attachments": {},
   "cell_type": "markdown",
   "metadata": {},
   "source": [
    "If you're interested in more network analysis, check out: \n",
    "- [The second notebook from this series](https://github.com/gboeing/ppd599/blob/main/modules/08-urban-networks-ii/lecture.ipynb)\n",
    "- Other [OSMnx case study notebooks](https://github.com/gboeing/osmnx-examples) that Geoff has created."
   ]
  }
 ],
 "metadata": {
  "kernelspec": {
   "display_name": "gds_py",
   "language": "python",
   "name": "python3"
  },
  "language_info": {
   "codemirror_mode": {
    "name": "ipython",
    "version": 3
   },
   "file_extension": ".py",
   "mimetype": "text/x-python",
   "name": "python",
   "nbconvert_exporter": "python",
   "pygments_lexer": "ipython3",
   "version": "3.9.13"
  }
 },
 "nbformat": 4,
 "nbformat_minor": 4
}
