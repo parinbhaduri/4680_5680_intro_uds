{
 "cells": [
  {
   "cell_type": "markdown",
   "id": "homeless-heart",
   "metadata": {},
   "source": [
    "# Learning goals\n",
    "After this week's lesson you should be able to:\n",
    "- Refresher on data structure (DF vs Series vs List vs Array)\n",
    "- Checking a columns data types and converting types\n",
    "- Rename a (geo)dataframe column \n",
    "- parsing dates\n",
    "- slicing strings\n",
    "- handling missing data. \n",
    "    - filtering out missing data\n",
    "    - replacing missing data with the mean\n",
    "- Merging \n",
    "- More on groupby-and-summarize\n",
    "- (Defining and using a function)\n",
    "- (iterating over rows)\n",
    "- (applying a function)\n",
    "\n",
    "This week's lessons are adapted from:\n",
    "- [PPD599: Advanced Urban Analytics](https://github.com/gboeing/ppd599/tree/main/syllabus)\n",
    "- [Geo-Python Lesson 5](https://geo-python-site.readthedocs.io/en/latest/notebooks/L5/processing-data-with-pandas.html)"
   ]
  },
  {
   "cell_type": "code",
   "execution_count": 1,
   "id": "24cacc55",
   "metadata": {},
   "outputs": [
    {
     "name": "stderr",
     "output_type": "stream",
     "text": [
      "/var/folders/c5/dps3lj6n2sz8zkk_381lj9b1hnpv4f/T/ipykernel_85612/3517648564.py:7: UserWarning: Shapely 2.0 is installed, but because PyGEOS is also installed, GeoPandas will still use PyGEOS by default for now. To force to use and test Shapely 2.0, you have to set the environment variable USE_PYGEOS=0. You can do this before starting the Python process, or in your code before importing geopandas:\n",
      "\n",
      "import os\n",
      "os.environ['USE_PYGEOS'] = '0'\n",
      "import geopandas\n",
      "\n",
      "In a future release, GeoPandas will switch to using Shapely by default. If you are using PyGEOS directly (calling PyGEOS functions on geometries from GeoPandas), this will then stop working and you are encouraged to migrate from PyGEOS to Shapely 2.0 (https://shapely.readthedocs.io/en/latest/migration_pygeos.html).\n",
      "  import geopandas as gpd\n"
     ]
    }
   ],
   "source": [
    "# We are going to start importing the libraries we need\n",
    "# all in one cell. \n",
    "# It is a good practice to keep all the imports in one cell so that\n",
    "# we can easily see what libraries we are using in the notebook.\n",
    "import pandas as pd\n",
    "import numpy as np\n",
    "import geopandas as gpd"
   ]
  },
  {
   "cell_type": "markdown",
   "id": "bd3a30b2",
   "metadata": {},
   "source": [
    "# 0. Refresher\n",
    "Before we move on, let's go over the different types of data structures we've encountered so far. We are going to cover: \n",
    "- Pandas DataFrames\n",
    "- Pandas Series\n",
    "- Lists\n",
    "- Arrays"
   ]
  },
  {
   "cell_type": "markdown",
   "id": "de530ee7",
   "metadata": {},
   "source": [
    "## 0.1 Pandas: Dataframes"
   ]
  },
  {
   "cell_type": "code",
   "execution_count": 2,
   "id": "8a1a395d",
   "metadata": {},
   "outputs": [],
   "source": [
    "msa = pd.read_csv('msa_by_pop.csv')"
   ]
  },
  {
   "cell_type": "markdown",
   "id": "05a103e6",
   "metadata": {},
   "source": [
    "What makes `msa` a dataframe? "
   ]
  },
  {
   "cell_type": "code",
   "execution_count": 3,
   "id": "08d63d6f",
   "metadata": {},
   "outputs": [
    {
     "data": {
      "text/html": [
       "<div>\n",
       "<style scoped>\n",
       "    .dataframe tbody tr th:only-of-type {\n",
       "        vertical-align: middle;\n",
       "    }\n",
       "\n",
       "    .dataframe tbody tr th {\n",
       "        vertical-align: top;\n",
       "    }\n",
       "\n",
       "    .dataframe thead th {\n",
       "        text-align: right;\n",
       "    }\n",
       "</style>\n",
       "<table border=\"1\" class=\"dataframe\">\n",
       "  <thead>\n",
       "    <tr style=\"text-align: right;\">\n",
       "      <th></th>\n",
       "      <th>Rank</th>\n",
       "      <th>MSA</th>\n",
       "      <th>population_2021_est</th>\n",
       "      <th>population_2020</th>\n",
       "      <th>perc_change</th>\n",
       "    </tr>\n",
       "  </thead>\n",
       "  <tbody>\n",
       "    <tr>\n",
       "      <th>0</th>\n",
       "      <td>1</td>\n",
       "      <td>New York-Newark-Jersey City, NY-NJ-CT-PA MSA</td>\n",
       "      <td>19768458</td>\n",
       "      <td>20140470</td>\n",
       "      <td>1.85%</td>\n",
       "    </tr>\n",
       "    <tr>\n",
       "      <th>1</th>\n",
       "      <td>2</td>\n",
       "      <td>Los Angeles-Long Beach-Anaheim, CA MSA</td>\n",
       "      <td>12997353</td>\n",
       "      <td>13200998</td>\n",
       "      <td>1.54%</td>\n",
       "    </tr>\n",
       "    <tr>\n",
       "      <th>2</th>\n",
       "      <td>3</td>\n",
       "      <td>Chicago-Naperville-Elgin, IL-IN-WI MSA</td>\n",
       "      <td>9509934</td>\n",
       "      <td>9618502</td>\n",
       "      <td>1.13%</td>\n",
       "    </tr>\n",
       "    <tr>\n",
       "      <th>3</th>\n",
       "      <td>4</td>\n",
       "      <td>Dallas-Fort Worth-Arlington, TX MSA</td>\n",
       "      <td>7759615</td>\n",
       "      <td>7637387</td>\n",
       "      <td>+1.60%</td>\n",
       "    </tr>\n",
       "    <tr>\n",
       "      <th>4</th>\n",
       "      <td>5</td>\n",
       "      <td>Houston-The Woodlands-Sugar Land, TX MSA</td>\n",
       "      <td>7206841</td>\n",
       "      <td>7122240</td>\n",
       "      <td>+1.19%</td>\n",
       "    </tr>\n",
       "  </tbody>\n",
       "</table>\n",
       "</div>"
      ],
      "text/plain": [
       "   Rank                                           MSA  population_2021_est  \\\n",
       "0     1  New York-Newark-Jersey City, NY-NJ-CT-PA MSA             19768458   \n",
       "1     2        Los Angeles-Long Beach-Anaheim, CA MSA             12997353   \n",
       "2     3        Chicago-Naperville-Elgin, IL-IN-WI MSA              9509934   \n",
       "3     4           Dallas-Fort Worth-Arlington, TX MSA              7759615   \n",
       "4     5      Houston-The Woodlands-Sugar Land, TX MSA              7206841   \n",
       "\n",
       "   population_2020 perc_change  \n",
       "0         20140470       1.85%  \n",
       "1         13200998       1.54%  \n",
       "2          9618502       1.13%  \n",
       "3          7637387      +1.60%  \n",
       "4          7122240      +1.19%  "
      ]
     },
     "execution_count": 3,
     "metadata": {},
     "output_type": "execute_result"
    }
   ],
   "source": [
    "msa.head()"
   ]
  },
  {
   "cell_type": "code",
   "execution_count": 4,
   "id": "56a09f0e",
   "metadata": {},
   "outputs": [
    {
     "data": {
      "text/plain": [
       "pandas.core.frame.DataFrame"
      ]
     },
     "execution_count": 4,
     "metadata": {},
     "output_type": "execute_result"
    }
   ],
   "source": [
    "# We can use the type() function to see what type of object we have\n",
    "type(msa)"
   ]
  },
  {
   "cell_type": "markdown",
   "id": "b7d22cea",
   "metadata": {},
   "source": [
    "Now let's select just the `population_2020` column from `msa`. What makes the following a pandas Series? "
   ]
  },
  {
   "cell_type": "markdown",
   "id": "c8f4d601",
   "metadata": {},
   "source": [
    "## 0.2 Pandas: Series"
   ]
  },
  {
   "cell_type": "code",
   "execution_count": 5,
   "id": "07751a9b",
   "metadata": {},
   "outputs": [
    {
     "data": {
      "text/plain": [
       "0    20140470\n",
       "1    13200998\n",
       "2     9618502\n",
       "3     7637387\n",
       "4     7122240\n",
       "Name: population_2020, dtype: int64"
      ]
     },
     "execution_count": 5,
     "metadata": {},
     "output_type": "execute_result"
    }
   ],
   "source": [
    "msa['population_2020'].head()"
   ]
  },
  {
   "cell_type": "code",
   "execution_count": 6,
   "id": "740b037a",
   "metadata": {},
   "outputs": [
    {
     "data": {
      "text/plain": [
       "pandas.core.series.Series"
      ]
     },
     "execution_count": 6,
     "metadata": {},
     "output_type": "execute_result"
    }
   ],
   "source": [
    "type(msa['population_2020'])"
   ]
  },
  {
   "cell_type": "code",
   "execution_count": 7,
   "id": "3bb72d3c",
   "metadata": {},
   "outputs": [
    {
     "data": {
      "text/plain": [
       "NYC        19768458\n",
       "LA         12997353\n",
       "Chicago     9509934\n",
       "Dallas      7759615\n",
       "Houston     7206841\n",
       "dtype: int64"
      ]
     },
     "execution_count": 7,
     "metadata": {},
     "output_type": "execute_result"
    }
   ],
   "source": [
    "population = pd.Series([19768458, 12997353, 9509934, 7759615, 7206841],    \n",
    "            index=['NYC', 'LA', 'Chicago', 'Dallas', 'Houston'])\n",
    "population\n"
   ]
  },
  {
   "cell_type": "code",
   "execution_count": 8,
   "id": "linear-danger",
   "metadata": {},
   "outputs": [
    {
     "data": {
      "text/plain": [
       "pandas.core.series.Series"
      ]
     },
     "execution_count": 8,
     "metadata": {},
     "output_type": "execute_result"
    }
   ],
   "source": [
    "type(population)"
   ]
  },
  {
   "cell_type": "markdown",
   "id": "5aab3d55",
   "metadata": {},
   "source": [
    "## 0.3 Python data structures: Lists"
   ]
  },
  {
   "cell_type": "markdown",
   "id": "2a2dd56e",
   "metadata": {},
   "source": [
    "Now, let's just select the values from `population` as a **list**. "
   ]
  },
  {
   "cell_type": "code",
   "execution_count": 9,
   "id": "a9ed058d",
   "metadata": {},
   "outputs": [],
   "source": [
    "## This is a list of numbers\n",
    "## A list is a collection of objects of any type.\n",
    "## It is created by putting the objects in square brackets\n",
    "\n",
    "list1 = [19768458, 12997353, 9509934, 7759615, 7206841]"
   ]
  },
  {
   "cell_type": "code",
   "execution_count": 10,
   "id": "08796572",
   "metadata": {},
   "outputs": [
    {
     "data": {
      "text/plain": [
       "list"
      ]
     },
     "execution_count": 10,
     "metadata": {},
     "output_type": "execute_result"
    }
   ],
   "source": [
    "type(list1)"
   ]
  },
  {
   "cell_type": "code",
   "execution_count": 11,
   "id": "6c685edb",
   "metadata": {},
   "outputs": [
    {
     "ename": "AttributeError",
     "evalue": "type object 'list' has no attribute 'mean'",
     "output_type": "error",
     "traceback": [
      "\u001b[0;31m---------------------------------------------------------------------------\u001b[0m",
      "\u001b[0;31mAttributeError\u001b[0m                            Traceback (most recent call last)",
      "Cell \u001b[0;32mIn[11], line 1\u001b[0m\n\u001b[0;32m----> 1\u001b[0m \u001b[39mlist\u001b[39;49m\u001b[39m.\u001b[39;49mmean()\n",
      "\u001b[0;31mAttributeError\u001b[0m: type object 'list' has no attribute 'mean'"
     ]
    }
   ],
   "source": [
    "list.mean()"
   ]
  },
  {
   "cell_type": "code",
   "execution_count": 12,
   "id": "3ae10bd6",
   "metadata": {},
   "outputs": [],
   "source": [
    "## This is also a list\n",
    "## But instead of being a list of numbers, it is a list of strings\n",
    "\n",
    "list2 = ['NYC', 'LA', 'Chicago', 'Dallas', 'Houston']"
   ]
  },
  {
   "cell_type": "markdown",
   "id": "9791d10f",
   "metadata": {},
   "source": [
    "## 0.4 Numpy: Arrays\n",
    "\n",
    "We are not going to cover numpy directly in the class. But there is another list-like data structure used by the `numpy` library called an **array**. \n",
    "\n",
    "Though we are inputting a list above to create a pandas Series, pandas will turn this list into a **numpy array**. All pandas series are basically just generalized version of numpy arrays. \n",
    "\n",
    "An array is a collection of objects of the same type. It is created by putting the objects in square brackets and using the `np.array()` function. A numpy array is most used for numerical calculations such as finding the mean, min, sum of a set of values. "
   ]
  },
  {
   "cell_type": "code",
   "execution_count": 13,
   "id": "303144ca",
   "metadata": {},
   "outputs": [],
   "source": [
    "list1_as_array = np.array(list1)"
   ]
  },
  {
   "cell_type": "code",
   "execution_count": 14,
   "id": "f736fa42",
   "metadata": {},
   "outputs": [
    {
     "data": {
      "text/plain": [
       "array([19768458, 12997353,  9509934,  7759615,  7206841])"
      ]
     },
     "execution_count": 14,
     "metadata": {},
     "output_type": "execute_result"
    }
   ],
   "source": [
    "list1_as_array"
   ]
  },
  {
   "cell_type": "code",
   "execution_count": 15,
   "id": "eca61703",
   "metadata": {},
   "outputs": [
    {
     "data": {
      "text/plain": [
       "11448440.2"
      ]
     },
     "execution_count": 15,
     "metadata": {},
     "output_type": "execute_result"
    }
   ],
   "source": [
    "list1_as_array.mean()"
   ]
  },
  {
   "cell_type": "markdown",
   "id": "431d8d4e",
   "metadata": {},
   "source": [
    "# 1. Data cleaning\n",
    "As you might have already seen, when we work with data, it is not always in a shape that we can use it, sometimes column names are misspelled, there are missing values. You may also have noticed that often we can extract information from columns that might make them easier to work with. All these steps can be considered part of a data cleaning or data wrangling process, where we get the dataset ready to be used more effectively for our analysis purposes. \n",
    "\n",
    "\n"
   ]
  },
  {
   "cell_type": "markdown",
   "id": "1e11ea26",
   "metadata": {},
   "source": [
    "## 1.1 Getting the data\n",
    "Let's say we want to compare the relationship between the **total number of students in a general ed public school** to the **money spent on new school construction and improvements in that school**. \n",
    "\n",
    "### School Construction Authority\n",
    "\n",
    "First, go ahead and download the [Active Projects Under Construction](https://data.cityofnewyork.us/Housing-Development/Active-Projects-Under-Construction/8586-3zfm) dataset as a CSV and save it down to the folder where this notebook is. This is a dataset of new school projects (Capacity) and Capital Improvement Projects (CIP) currently under Construction, created by the School Construction Authority. \n",
    "\n",
    "\n"
   ]
  },
  {
   "cell_type": "code",
   "execution_count": 17,
   "id": "cc074468",
   "metadata": {},
   "outputs": [],
   "source": [
    "## Here we are going to read a csv directly from the web\n",
    "## We are going to use the read_csv() function from the pandas library\n",
    "## \n",
    "\n",
    "projects_under_const = pd.read_csv('Active_Projects_Under_Construction.csv')"
   ]
  },
  {
   "cell_type": "markdown",
   "id": "67f92c68",
   "metadata": {},
   "source": [
    "Also, go ahead and download the data dictionary `SCA Active Projects in Construction Data Dictionary.xlsx`. Data dictionaries often have explanations for what each column name represents and other useful information about the data. \n",
    "\n",
    "\n",
    "If you open up the data dictionary, does it correspond to the \"Columns in this Dataset\" section in the NYC OpenData's page on this dataset? No, right? We have to be careful about these inconsistencies, even in official portals."
   ]
  },
  {
   "cell_type": "markdown",
   "id": "feca503a",
   "metadata": {},
   "source": [
    "Taking a look at the first five rows we can already see there is a lot of missing data in this dataset. "
   ]
  },
  {
   "cell_type": "code",
   "execution_count": 18,
   "id": "c71a7250",
   "metadata": {},
   "outputs": [
    {
     "data": {
      "text/html": [
       "<div>\n",
       "<style scoped>\n",
       "    .dataframe tbody tr th:only-of-type {\n",
       "        vertical-align: middle;\n",
       "    }\n",
       "\n",
       "    .dataframe tbody tr th {\n",
       "        vertical-align: top;\n",
       "    }\n",
       "\n",
       "    .dataframe thead th {\n",
       "        text-align: right;\n",
       "    }\n",
       "</style>\n",
       "<table border=\"1\" class=\"dataframe\">\n",
       "  <thead>\n",
       "    <tr style=\"text-align: right;\">\n",
       "      <th></th>\n",
       "      <th>School Name</th>\n",
       "      <th>BoroughCode</th>\n",
       "      <th>Geographical District</th>\n",
       "      <th>Project Description</th>\n",
       "      <th>Construction Award</th>\n",
       "      <th>Project type</th>\n",
       "      <th>Building ID</th>\n",
       "      <th>Building Address</th>\n",
       "      <th>City</th>\n",
       "      <th>Postcode</th>\n",
       "      <th>...</th>\n",
       "      <th>Latitude</th>\n",
       "      <th>Longitude</th>\n",
       "      <th>Community Board</th>\n",
       "      <th>Council District</th>\n",
       "      <th>Census Tract</th>\n",
       "      <th>BIN</th>\n",
       "      <th>BBL</th>\n",
       "      <th>NTA</th>\n",
       "      <th>Location 1</th>\n",
       "      <th>Data As Of</th>\n",
       "    </tr>\n",
       "  </thead>\n",
       "  <tbody>\n",
       "    <tr>\n",
       "      <th>0</th>\n",
       "      <td>NaN</td>\n",
       "      <td>M</td>\n",
       "      <td>2</td>\n",
       "      <td>NaN</td>\n",
       "      <td>0.0</td>\n",
       "      <td>CAP</td>\n",
       "      <td>M777</td>\n",
       "      <td>227 WEST 27TH STREET</td>\n",
       "      <td>Manhattan</td>\n",
       "      <td>NaN</td>\n",
       "      <td>...</td>\n",
       "      <td>NaN</td>\n",
       "      <td>NaN</td>\n",
       "      <td>NaN</td>\n",
       "      <td>NaN</td>\n",
       "      <td>NaN</td>\n",
       "      <td>NaN</td>\n",
       "      <td>NaN</td>\n",
       "      <td>NaN</td>\n",
       "      <td>NaN</td>\n",
       "      <td>NaN</td>\n",
       "    </tr>\n",
       "    <tr>\n",
       "      <th>1</th>\n",
       "      <td>BAYSIDE HIGH SCHOOL - QUEENS</td>\n",
       "      <td>Q</td>\n",
       "      <td>26</td>\n",
       "      <td>FY19 RESO A AUDITORIUM UPGRADE</td>\n",
       "      <td>1261000.0</td>\n",
       "      <td>CIP</td>\n",
       "      <td>Q405</td>\n",
       "      <td>32-24 CORPORAL KENNEDY STREET</td>\n",
       "      <td>Queens</td>\n",
       "      <td>10301.0</td>\n",
       "      <td>...</td>\n",
       "      <td>NaN</td>\n",
       "      <td>NaN</td>\n",
       "      <td>NaN</td>\n",
       "      <td>NaN</td>\n",
       "      <td>NaN</td>\n",
       "      <td>NaN</td>\n",
       "      <td>NaN</td>\n",
       "      <td>NaN</td>\n",
       "      <td>NaN</td>\n",
       "      <td>01/06/2022</td>\n",
       "    </tr>\n",
       "    <tr>\n",
       "      <th>2</th>\n",
       "      <td>P.S. @ PARCEL F - QUEENS</td>\n",
       "      <td>Q</td>\n",
       "      <td>30</td>\n",
       "      <td>Demo</td>\n",
       "      <td>0.0</td>\n",
       "      <td>CAP</td>\n",
       "      <td>Q375</td>\n",
       "      <td>2ND STREET BETWEEN 56TH AND 57TH AVENUE</td>\n",
       "      <td>Queens</td>\n",
       "      <td>11101.0</td>\n",
       "      <td>...</td>\n",
       "      <td>NaN</td>\n",
       "      <td>NaN</td>\n",
       "      <td>NaN</td>\n",
       "      <td>NaN</td>\n",
       "      <td>NaN</td>\n",
       "      <td>NaN</td>\n",
       "      <td>NaN</td>\n",
       "      <td>NaN</td>\n",
       "      <td>NaN</td>\n",
       "      <td>10/30/2018</td>\n",
       "    </tr>\n",
       "    <tr>\n",
       "      <th>3</th>\n",
       "      <td>3K CENTER @ 3893 DYRE AVENUE - BRONX</td>\n",
       "      <td>X</td>\n",
       "      <td>11</td>\n",
       "      <td>Lease</td>\n",
       "      <td>6262000.0</td>\n",
       "      <td>CAP</td>\n",
       "      <td>X501</td>\n",
       "      <td>3893 DYRE AVEUNE</td>\n",
       "      <td>Bronx</td>\n",
       "      <td>NaN</td>\n",
       "      <td>...</td>\n",
       "      <td>NaN</td>\n",
       "      <td>NaN</td>\n",
       "      <td>NaN</td>\n",
       "      <td>NaN</td>\n",
       "      <td>NaN</td>\n",
       "      <td>NaN</td>\n",
       "      <td>NaN</td>\n",
       "      <td>NaN</td>\n",
       "      <td>NaN</td>\n",
       "      <td>08/04/2022</td>\n",
       "    </tr>\n",
       "    <tr>\n",
       "      <th>4</th>\n",
       "      <td>P.S. 129 - QUEENS</td>\n",
       "      <td>Q</td>\n",
       "      <td>25</td>\n",
       "      <td>Addition</td>\n",
       "      <td>0.0</td>\n",
       "      <td>CAP</td>\n",
       "      <td>Q129</td>\n",
       "      <td>128-02 7TH AVENUE</td>\n",
       "      <td>Queens</td>\n",
       "      <td>11356.0</td>\n",
       "      <td>...</td>\n",
       "      <td>40.790638</td>\n",
       "      <td>-73.839771</td>\n",
       "      <td>7.0</td>\n",
       "      <td>19.0</td>\n",
       "      <td>945.0</td>\n",
       "      <td>4096774.0</td>\n",
       "      <td>4.039760e+09</td>\n",
       "      <td>Whitestone</td>\n",
       "      <td>(40.790638, -73.839771)</td>\n",
       "      <td>02/06/2019</td>\n",
       "    </tr>\n",
       "  </tbody>\n",
       "</table>\n",
       "<p>5 rows × 21 columns</p>\n",
       "</div>"
      ],
      "text/plain": [
       "                            School Name BoroughCode  Geographical District  \\\n",
       "0                                   NaN           M                      2   \n",
       "1          BAYSIDE HIGH SCHOOL - QUEENS           Q                     26   \n",
       "2              P.S. @ PARCEL F - QUEENS           Q                     30   \n",
       "3  3K CENTER @ 3893 DYRE AVENUE - BRONX           X                     11   \n",
       "4                     P.S. 129 - QUEENS           Q                     25   \n",
       "\n",
       "              Project Description  Construction Award Project type  \\\n",
       "0                             NaN                 0.0          CAP   \n",
       "1  FY19 RESO A AUDITORIUM UPGRADE           1261000.0          CIP   \n",
       "2                            Demo                 0.0          CAP   \n",
       "3                           Lease           6262000.0          CAP   \n",
       "4                        Addition                 0.0          CAP   \n",
       "\n",
       "  Building ID                         Building Address       City  Postcode  \\\n",
       "0        M777                     227 WEST 27TH STREET  Manhattan       NaN   \n",
       "1        Q405            32-24 CORPORAL KENNEDY STREET     Queens   10301.0   \n",
       "2        Q375  2ND STREET BETWEEN 56TH AND 57TH AVENUE     Queens   11101.0   \n",
       "3        X501                         3893 DYRE AVEUNE      Bronx       NaN   \n",
       "4        Q129                        128-02 7TH AVENUE     Queens   11356.0   \n",
       "\n",
       "   ...   Latitude  Longitude  Community Board  Council District  Census Tract  \\\n",
       "0  ...        NaN        NaN              NaN               NaN           NaN   \n",
       "1  ...        NaN        NaN              NaN               NaN           NaN   \n",
       "2  ...        NaN        NaN              NaN               NaN           NaN   \n",
       "3  ...        NaN        NaN              NaN               NaN           NaN   \n",
       "4  ...  40.790638 -73.839771              7.0              19.0         945.0   \n",
       "\n",
       "         BIN           BBL         NTA               Location 1  Data As Of  \n",
       "0        NaN           NaN         NaN                      NaN         NaN  \n",
       "1        NaN           NaN         NaN                      NaN  01/06/2022  \n",
       "2        NaN           NaN         NaN                      NaN  10/30/2018  \n",
       "3        NaN           NaN         NaN                      NaN  08/04/2022  \n",
       "4  4096774.0  4.039760e+09  Whitestone  (40.790638, -73.839771)  02/06/2019  \n",
       "\n",
       "[5 rows x 21 columns]"
      ]
     },
     "execution_count": 18,
     "metadata": {},
     "output_type": "execute_result"
    }
   ],
   "source": [
    "projects_under_const.head()"
   ]
  },
  {
   "cell_type": "markdown",
   "id": "a817c301",
   "metadata": {},
   "source": [
    "### Class size dataset\n",
    "Also download the [2021 - 2022 Average Class Size by School](https://data.cityofnewyork.us/Education/2021-2022-Average-Class-Size-by-School/sgr7-hhwp) dataset, along with it's attachments. (Here, only `2021-2022 Average Class Size By School DD.xlsx` is the data dictoinary, the other is the dataset as an excel spreadsheet). \n"
   ]
  },
  {
   "cell_type": "code",
   "execution_count": 20,
   "id": "c150415d",
   "metadata": {},
   "outputs": [],
   "source": [
    "class_size = pd.read_csv('2021_-_2022_Average_Class_Size_by_School.csv')"
   ]
  },
  {
   "cell_type": "code",
   "execution_count": 21,
   "id": "1585d048",
   "metadata": {},
   "outputs": [
    {
     "data": {
      "text/html": [
       "<div>\n",
       "<style scoped>\n",
       "    .dataframe tbody tr th:only-of-type {\n",
       "        vertical-align: middle;\n",
       "    }\n",
       "\n",
       "    .dataframe tbody tr th {\n",
       "        vertical-align: top;\n",
       "    }\n",
       "\n",
       "    .dataframe thead th {\n",
       "        text-align: right;\n",
       "    }\n",
       "</style>\n",
       "<table border=\"1\" class=\"dataframe\">\n",
       "  <thead>\n",
       "    <tr style=\"text-align: right;\">\n",
       "      <th></th>\n",
       "      <th>DBN</th>\n",
       "      <th>School Name</th>\n",
       "      <th>Grade Level</th>\n",
       "      <th>Program Type</th>\n",
       "      <th>Number of Students</th>\n",
       "      <th>Number of Classes</th>\n",
       "      <th>Average Class Size</th>\n",
       "      <th>Minimum Class Size</th>\n",
       "      <th>Maximum Class Size</th>\n",
       "    </tr>\n",
       "  </thead>\n",
       "  <tbody>\n",
       "    <tr>\n",
       "      <th>0</th>\n",
       "      <td>01M015</td>\n",
       "      <td>PS 015 ROBERTO CLEMENTE</td>\n",
       "      <td>K</td>\n",
       "      <td>G&amp;T</td>\n",
       "      <td>13</td>\n",
       "      <td>1</td>\n",
       "      <td>13.0</td>\n",
       "      <td>&lt;15</td>\n",
       "      <td>&lt;15</td>\n",
       "    </tr>\n",
       "    <tr>\n",
       "      <th>1</th>\n",
       "      <td>01M015</td>\n",
       "      <td>PS 015 ROBERTO CLEMENTE</td>\n",
       "      <td>K</td>\n",
       "      <td>ICT</td>\n",
       "      <td>17</td>\n",
       "      <td>1</td>\n",
       "      <td>17.0</td>\n",
       "      <td>17</td>\n",
       "      <td>17</td>\n",
       "    </tr>\n",
       "    <tr>\n",
       "      <th>2</th>\n",
       "      <td>01M015</td>\n",
       "      <td>PS 015 ROBERTO CLEMENTE</td>\n",
       "      <td>1</td>\n",
       "      <td>G&amp;T</td>\n",
       "      <td>8</td>\n",
       "      <td>1</td>\n",
       "      <td>8.0</td>\n",
       "      <td>&lt;15</td>\n",
       "      <td>&lt;15</td>\n",
       "    </tr>\n",
       "    <tr>\n",
       "      <th>3</th>\n",
       "      <td>01M015</td>\n",
       "      <td>PS 015 ROBERTO CLEMENTE</td>\n",
       "      <td>1</td>\n",
       "      <td>ICT</td>\n",
       "      <td>18</td>\n",
       "      <td>1</td>\n",
       "      <td>18.0</td>\n",
       "      <td>18</td>\n",
       "      <td>18</td>\n",
       "    </tr>\n",
       "    <tr>\n",
       "      <th>4</th>\n",
       "      <td>01M015</td>\n",
       "      <td>PS 015 ROBERTO CLEMENTE</td>\n",
       "      <td>2</td>\n",
       "      <td>G&amp;T</td>\n",
       "      <td>8</td>\n",
       "      <td>1</td>\n",
       "      <td>8.0</td>\n",
       "      <td>&lt;15</td>\n",
       "      <td>&lt;15</td>\n",
       "    </tr>\n",
       "  </tbody>\n",
       "</table>\n",
       "</div>"
      ],
      "text/plain": [
       "      DBN              School Name Grade Level Program Type  \\\n",
       "0  01M015  PS 015 ROBERTO CLEMENTE           K          G&T   \n",
       "1  01M015  PS 015 ROBERTO CLEMENTE           K          ICT   \n",
       "2  01M015  PS 015 ROBERTO CLEMENTE           1          G&T   \n",
       "3  01M015  PS 015 ROBERTO CLEMENTE           1          ICT   \n",
       "4  01M015  PS 015 ROBERTO CLEMENTE           2          G&T   \n",
       "\n",
       "   Number of Students  Number of Classes  Average Class Size  \\\n",
       "0                  13                  1                13.0   \n",
       "1                  17                  1                17.0   \n",
       "2                   8                  1                 8.0   \n",
       "3                  18                  1                18.0   \n",
       "4                   8                  1                 8.0   \n",
       "\n",
       "  Minimum Class Size Maximum Class Size  \n",
       "0                <15                <15  \n",
       "1                 17                 17  \n",
       "2                <15                <15  \n",
       "3                 18                 18  \n",
       "4                <15                <15  "
      ]
     },
     "execution_count": 21,
     "metadata": {},
     "output_type": "execute_result"
    }
   ],
   "source": [
    "class_size.head()"
   ]
  },
  {
   "cell_type": "markdown",
   "id": "1d744838",
   "metadata": {},
   "source": [
    "Here, most of the columns make sense to me. From the data dictionary, I can see that Program Type is coded as follows:\n",
    "\n",
    "- General Education (Gen Ed), \n",
    "- Integrated Co-Teaching (ICT), \n",
    "- Gifted and Talented (G&T), \n",
    "- Self-Contained (SC)\n",
    "- Accelerated (Acc)\"\n",
    "\n",
    "\n",
    "What does not make sense is the `Minimum Class Size` column, which seems to be the same as the maximum class size column in some cases. Therefore, I'll likely not use this column."
   ]
  },
  {
   "cell_type": "markdown",
   "id": "2c30f5eb",
   "metadata": {},
   "source": [
    "## 1.2 Assessing Data Types\n",
    "One of the next things we'll check is the data type for each column to make sure that they are in the right format. "
   ]
  },
  {
   "cell_type": "code",
   "execution_count": 22,
   "id": "6e0f61bf",
   "metadata": {},
   "outputs": [
    {
     "data": {
      "text/plain": [
       "DBN                    object\n",
       "School Name            object\n",
       "Grade Level            object\n",
       "Program Type           object\n",
       "Number of Students      int64\n",
       "Number of Classes       int64\n",
       "Average Class Size    float64\n",
       "Minimum Class Size     object\n",
       "Maximum Class Size     object\n",
       "dtype: object"
      ]
     },
     "execution_count": 22,
     "metadata": {},
     "output_type": "execute_result"
    }
   ],
   "source": [
    "class_size.dtypes"
   ]
  },
  {
   "cell_type": "markdown",
   "id": "3ac3b7b0",
   "metadata": {},
   "source": [
    "I would not necessarily change the data types for all columns (especially when there are a lot), but just the ones that you might potentially need. Here, `Maximum Class Size` is an `object` format (I'm going to ignore `Minimum Class Size` for now), likely because the size is sometimes input as `<INT` and sometimes `INT`. \n",
    "\n"
   ]
  },
  {
   "cell_type": "markdown",
   "id": "d16d6d0b",
   "metadata": {},
   "source": [
    "## 1.3 Removing strings\n",
    "\n",
    "In order to change the data type of the min and max class size to an `int` we have to clean up those columns a little bit. \n",
    "\n",
    "The function `.replace('str_to_be_replaced','str_to_replace_with)` will take `str_to_be_replaced` and replace it with `str_to_replace_with`. Here, I'm setting `<` to be replaced by nothing which is expressed as an empty string `\"\"`. "
   ]
  },
  {
   "cell_type": "code",
   "execution_count": 23,
   "id": "38621987",
   "metadata": {},
   "outputs": [
    {
     "data": {
      "text/plain": [
       "0        15\n",
       "1        17\n",
       "2        15\n",
       "3        18\n",
       "4        15\n",
       "         ..\n",
       "12440    12\n",
       "12441    10\n",
       "12442    12\n",
       "12443    12\n",
       "12444    12\n",
       "Name: Maximum Class Size, Length: 12445, dtype: object"
      ]
     },
     "execution_count": 23,
     "metadata": {},
     "output_type": "execute_result"
    }
   ],
   "source": [
    "# Again, I'm going to check that the function worked as expected first\n",
    "# here .str is a method that is applied to a string\n",
    "# it is a vectorized string method\n",
    "class_size['Maximum Class Size'].str.replace('<', \"\")\n",
    "\n",
    "# (Vectorization is the process of converting an algorithm from operating on a single value at a time to operating on a set of values at one time\n",
    "# but it's not super important for us to know what this is right now)"
   ]
  },
  {
   "cell_type": "markdown",
   "id": "5377db37",
   "metadata": {},
   "source": [
    "Now lets assign the result to a new column and why not rename the column to something in snake case. \n"
   ]
  },
  {
   "cell_type": "code",
   "execution_count": 24,
   "id": "fb5a795a",
   "metadata": {},
   "outputs": [],
   "source": [
    "class_size['max_class_size_clean'] = class_size['Maximum Class Size'].str.replace('<', \"\")"
   ]
  },
  {
   "cell_type": "code",
   "execution_count": 25,
   "id": "62e1640b",
   "metadata": {},
   "outputs": [
    {
     "data": {
      "text/html": [
       "<div>\n",
       "<style scoped>\n",
       "    .dataframe tbody tr th:only-of-type {\n",
       "        vertical-align: middle;\n",
       "    }\n",
       "\n",
       "    .dataframe tbody tr th {\n",
       "        vertical-align: top;\n",
       "    }\n",
       "\n",
       "    .dataframe thead th {\n",
       "        text-align: right;\n",
       "    }\n",
       "</style>\n",
       "<table border=\"1\" class=\"dataframe\">\n",
       "  <thead>\n",
       "    <tr style=\"text-align: right;\">\n",
       "      <th></th>\n",
       "      <th>DBN</th>\n",
       "      <th>School Name</th>\n",
       "      <th>Grade Level</th>\n",
       "      <th>Program Type</th>\n",
       "      <th>Number of Students</th>\n",
       "      <th>Number of Classes</th>\n",
       "      <th>Average Class Size</th>\n",
       "      <th>Minimum Class Size</th>\n",
       "      <th>Maximum Class Size</th>\n",
       "      <th>max_class_size_clean</th>\n",
       "    </tr>\n",
       "  </thead>\n",
       "  <tbody>\n",
       "    <tr>\n",
       "      <th>0</th>\n",
       "      <td>01M015</td>\n",
       "      <td>PS 015 ROBERTO CLEMENTE</td>\n",
       "      <td>K</td>\n",
       "      <td>G&amp;T</td>\n",
       "      <td>13</td>\n",
       "      <td>1</td>\n",
       "      <td>13.0</td>\n",
       "      <td>&lt;15</td>\n",
       "      <td>&lt;15</td>\n",
       "      <td>15</td>\n",
       "    </tr>\n",
       "    <tr>\n",
       "      <th>1</th>\n",
       "      <td>01M015</td>\n",
       "      <td>PS 015 ROBERTO CLEMENTE</td>\n",
       "      <td>K</td>\n",
       "      <td>ICT</td>\n",
       "      <td>17</td>\n",
       "      <td>1</td>\n",
       "      <td>17.0</td>\n",
       "      <td>17</td>\n",
       "      <td>17</td>\n",
       "      <td>17</td>\n",
       "    </tr>\n",
       "    <tr>\n",
       "      <th>2</th>\n",
       "      <td>01M015</td>\n",
       "      <td>PS 015 ROBERTO CLEMENTE</td>\n",
       "      <td>1</td>\n",
       "      <td>G&amp;T</td>\n",
       "      <td>8</td>\n",
       "      <td>1</td>\n",
       "      <td>8.0</td>\n",
       "      <td>&lt;15</td>\n",
       "      <td>&lt;15</td>\n",
       "      <td>15</td>\n",
       "    </tr>\n",
       "    <tr>\n",
       "      <th>3</th>\n",
       "      <td>01M015</td>\n",
       "      <td>PS 015 ROBERTO CLEMENTE</td>\n",
       "      <td>1</td>\n",
       "      <td>ICT</td>\n",
       "      <td>18</td>\n",
       "      <td>1</td>\n",
       "      <td>18.0</td>\n",
       "      <td>18</td>\n",
       "      <td>18</td>\n",
       "      <td>18</td>\n",
       "    </tr>\n",
       "    <tr>\n",
       "      <th>4</th>\n",
       "      <td>01M015</td>\n",
       "      <td>PS 015 ROBERTO CLEMENTE</td>\n",
       "      <td>2</td>\n",
       "      <td>G&amp;T</td>\n",
       "      <td>8</td>\n",
       "      <td>1</td>\n",
       "      <td>8.0</td>\n",
       "      <td>&lt;15</td>\n",
       "      <td>&lt;15</td>\n",
       "      <td>15</td>\n",
       "    </tr>\n",
       "  </tbody>\n",
       "</table>\n",
       "</div>"
      ],
      "text/plain": [
       "      DBN              School Name Grade Level Program Type  \\\n",
       "0  01M015  PS 015 ROBERTO CLEMENTE           K          G&T   \n",
       "1  01M015  PS 015 ROBERTO CLEMENTE           K          ICT   \n",
       "2  01M015  PS 015 ROBERTO CLEMENTE           1          G&T   \n",
       "3  01M015  PS 015 ROBERTO CLEMENTE           1          ICT   \n",
       "4  01M015  PS 015 ROBERTO CLEMENTE           2          G&T   \n",
       "\n",
       "   Number of Students  Number of Classes  Average Class Size  \\\n",
       "0                  13                  1                13.0   \n",
       "1                  17                  1                17.0   \n",
       "2                   8                  1                 8.0   \n",
       "3                  18                  1                18.0   \n",
       "4                   8                  1                 8.0   \n",
       "\n",
       "  Minimum Class Size Maximum Class Size max_class_size_clean  \n",
       "0                <15                <15                   15  \n",
       "1                 17                 17                   17  \n",
       "2                <15                <15                   15  \n",
       "3                 18                 18                   18  \n",
       "4                <15                <15                   15  "
      ]
     },
     "execution_count": 25,
     "metadata": {},
     "output_type": "execute_result"
    }
   ],
   "source": [
    "class_size.head()"
   ]
  },
  {
   "cell_type": "markdown",
   "id": "0fc6127a",
   "metadata": {},
   "source": [
    "Now let's see if we can turn the column `min_class_size_clean` into an `integer`. "
   ]
  },
  {
   "cell_type": "code",
   "execution_count": 26,
   "id": "241d3def",
   "metadata": {},
   "outputs": [
    {
     "ename": "ValueError",
     "evalue": "invalid literal for int() with base 10: '>34'",
     "output_type": "error",
     "traceback": [
      "\u001b[0;31m---------------------------------------------------------------------------\u001b[0m",
      "\u001b[0;31mValueError\u001b[0m                                Traceback (most recent call last)",
      "Cell \u001b[0;32mIn[26], line 1\u001b[0m\n\u001b[0;32m----> 1\u001b[0m class_size[\u001b[39m'\u001b[39;49m\u001b[39mmax_class_size_clean\u001b[39;49m\u001b[39m'\u001b[39;49m]\u001b[39m.\u001b[39;49mastype(\u001b[39mint\u001b[39;49m)\n",
      "File \u001b[0;32m/opt/anaconda3/envs/gds_py/lib/python3.9/site-packages/pandas/core/generic.py:6240\u001b[0m, in \u001b[0;36mNDFrame.astype\u001b[0;34m(self, dtype, copy, errors)\u001b[0m\n\u001b[1;32m   6233\u001b[0m     results \u001b[39m=\u001b[39m [\n\u001b[1;32m   6234\u001b[0m         \u001b[39mself\u001b[39m\u001b[39m.\u001b[39miloc[:, i]\u001b[39m.\u001b[39mastype(dtype, copy\u001b[39m=\u001b[39mcopy)\n\u001b[1;32m   6235\u001b[0m         \u001b[39mfor\u001b[39;00m i \u001b[39min\u001b[39;00m \u001b[39mrange\u001b[39m(\u001b[39mlen\u001b[39m(\u001b[39mself\u001b[39m\u001b[39m.\u001b[39mcolumns))\n\u001b[1;32m   6236\u001b[0m     ]\n\u001b[1;32m   6238\u001b[0m \u001b[39melse\u001b[39;00m:\n\u001b[1;32m   6239\u001b[0m     \u001b[39m# else, only a single dtype is given\u001b[39;00m\n\u001b[0;32m-> 6240\u001b[0m     new_data \u001b[39m=\u001b[39m \u001b[39mself\u001b[39;49m\u001b[39m.\u001b[39;49m_mgr\u001b[39m.\u001b[39;49mastype(dtype\u001b[39m=\u001b[39;49mdtype, copy\u001b[39m=\u001b[39;49mcopy, errors\u001b[39m=\u001b[39;49merrors)\n\u001b[1;32m   6241\u001b[0m     \u001b[39mreturn\u001b[39;00m \u001b[39mself\u001b[39m\u001b[39m.\u001b[39m_constructor(new_data)\u001b[39m.\u001b[39m__finalize__(\u001b[39mself\u001b[39m, method\u001b[39m=\u001b[39m\u001b[39m\"\u001b[39m\u001b[39mastype\u001b[39m\u001b[39m\"\u001b[39m)\n\u001b[1;32m   6243\u001b[0m \u001b[39m# GH 33113: handle empty frame or series\u001b[39;00m\n",
      "File \u001b[0;32m/opt/anaconda3/envs/gds_py/lib/python3.9/site-packages/pandas/core/internals/managers.py:448\u001b[0m, in \u001b[0;36mBaseBlockManager.astype\u001b[0;34m(self, dtype, copy, errors)\u001b[0m\n\u001b[1;32m    447\u001b[0m \u001b[39mdef\u001b[39;00m \u001b[39mastype\u001b[39m(\u001b[39mself\u001b[39m: T, dtype, copy: \u001b[39mbool\u001b[39m \u001b[39m=\u001b[39m \u001b[39mFalse\u001b[39;00m, errors: \u001b[39mstr\u001b[39m \u001b[39m=\u001b[39m \u001b[39m\"\u001b[39m\u001b[39mraise\u001b[39m\u001b[39m\"\u001b[39m) \u001b[39m-\u001b[39m\u001b[39m>\u001b[39m T:\n\u001b[0;32m--> 448\u001b[0m     \u001b[39mreturn\u001b[39;00m \u001b[39mself\u001b[39;49m\u001b[39m.\u001b[39;49mapply(\u001b[39m\"\u001b[39;49m\u001b[39mastype\u001b[39;49m\u001b[39m\"\u001b[39;49m, dtype\u001b[39m=\u001b[39;49mdtype, copy\u001b[39m=\u001b[39;49mcopy, errors\u001b[39m=\u001b[39;49merrors)\n",
      "File \u001b[0;32m/opt/anaconda3/envs/gds_py/lib/python3.9/site-packages/pandas/core/internals/managers.py:352\u001b[0m, in \u001b[0;36mBaseBlockManager.apply\u001b[0;34m(self, f, align_keys, ignore_failures, **kwargs)\u001b[0m\n\u001b[1;32m    350\u001b[0m         applied \u001b[39m=\u001b[39m b\u001b[39m.\u001b[39mapply(f, \u001b[39m*\u001b[39m\u001b[39m*\u001b[39mkwargs)\n\u001b[1;32m    351\u001b[0m     \u001b[39melse\u001b[39;00m:\n\u001b[0;32m--> 352\u001b[0m         applied \u001b[39m=\u001b[39m \u001b[39mgetattr\u001b[39;49m(b, f)(\u001b[39m*\u001b[39;49m\u001b[39m*\u001b[39;49mkwargs)\n\u001b[1;32m    353\u001b[0m \u001b[39mexcept\u001b[39;00m (\u001b[39mTypeError\u001b[39;00m, \u001b[39mNotImplementedError\u001b[39;00m):\n\u001b[1;32m    354\u001b[0m     \u001b[39mif\u001b[39;00m \u001b[39mnot\u001b[39;00m ignore_failures:\n",
      "File \u001b[0;32m/opt/anaconda3/envs/gds_py/lib/python3.9/site-packages/pandas/core/internals/blocks.py:526\u001b[0m, in \u001b[0;36mBlock.astype\u001b[0;34m(self, dtype, copy, errors)\u001b[0m\n\u001b[1;32m    508\u001b[0m \u001b[39m\u001b[39m\u001b[39m\"\"\"\u001b[39;00m\n\u001b[1;32m    509\u001b[0m \u001b[39mCoerce to the new dtype.\u001b[39;00m\n\u001b[1;32m    510\u001b[0m \n\u001b[0;32m   (...)\u001b[0m\n\u001b[1;32m    522\u001b[0m \u001b[39mBlock\u001b[39;00m\n\u001b[1;32m    523\u001b[0m \u001b[39m\"\"\"\u001b[39;00m\n\u001b[1;32m    524\u001b[0m values \u001b[39m=\u001b[39m \u001b[39mself\u001b[39m\u001b[39m.\u001b[39mvalues\n\u001b[0;32m--> 526\u001b[0m new_values \u001b[39m=\u001b[39m astype_array_safe(values, dtype, copy\u001b[39m=\u001b[39;49mcopy, errors\u001b[39m=\u001b[39;49merrors)\n\u001b[1;32m    528\u001b[0m new_values \u001b[39m=\u001b[39m maybe_coerce_values(new_values)\n\u001b[1;32m    529\u001b[0m newb \u001b[39m=\u001b[39m \u001b[39mself\u001b[39m\u001b[39m.\u001b[39mmake_block(new_values)\n",
      "File \u001b[0;32m/opt/anaconda3/envs/gds_py/lib/python3.9/site-packages/pandas/core/dtypes/astype.py:299\u001b[0m, in \u001b[0;36mastype_array_safe\u001b[0;34m(values, dtype, copy, errors)\u001b[0m\n\u001b[1;32m    296\u001b[0m     \u001b[39mreturn\u001b[39;00m values\u001b[39m.\u001b[39mcopy()\n\u001b[1;32m    298\u001b[0m \u001b[39mtry\u001b[39;00m:\n\u001b[0;32m--> 299\u001b[0m     new_values \u001b[39m=\u001b[39m astype_array(values, dtype, copy\u001b[39m=\u001b[39;49mcopy)\n\u001b[1;32m    300\u001b[0m \u001b[39mexcept\u001b[39;00m (\u001b[39mValueError\u001b[39;00m, \u001b[39mTypeError\u001b[39;00m):\n\u001b[1;32m    301\u001b[0m     \u001b[39m# e.g. astype_nansafe can fail on object-dtype of strings\u001b[39;00m\n\u001b[1;32m    302\u001b[0m     \u001b[39m#  trying to convert to float\u001b[39;00m\n\u001b[1;32m    303\u001b[0m     \u001b[39mif\u001b[39;00m errors \u001b[39m==\u001b[39m \u001b[39m\"\u001b[39m\u001b[39mignore\u001b[39m\u001b[39m\"\u001b[39m:\n",
      "File \u001b[0;32m/opt/anaconda3/envs/gds_py/lib/python3.9/site-packages/pandas/core/dtypes/astype.py:230\u001b[0m, in \u001b[0;36mastype_array\u001b[0;34m(values, dtype, copy)\u001b[0m\n\u001b[1;32m    227\u001b[0m     values \u001b[39m=\u001b[39m values\u001b[39m.\u001b[39mastype(dtype, copy\u001b[39m=\u001b[39mcopy)\n\u001b[1;32m    229\u001b[0m \u001b[39melse\u001b[39;00m:\n\u001b[0;32m--> 230\u001b[0m     values \u001b[39m=\u001b[39m astype_nansafe(values, dtype, copy\u001b[39m=\u001b[39;49mcopy)\n\u001b[1;32m    232\u001b[0m \u001b[39m# in pandas we don't store numpy str dtypes, so convert to object\u001b[39;00m\n\u001b[1;32m    233\u001b[0m \u001b[39mif\u001b[39;00m \u001b[39misinstance\u001b[39m(dtype, np\u001b[39m.\u001b[39mdtype) \u001b[39mand\u001b[39;00m \u001b[39missubclass\u001b[39m(values\u001b[39m.\u001b[39mdtype\u001b[39m.\u001b[39mtype, \u001b[39mstr\u001b[39m):\n",
      "File \u001b[0;32m/opt/anaconda3/envs/gds_py/lib/python3.9/site-packages/pandas/core/dtypes/astype.py:170\u001b[0m, in \u001b[0;36mastype_nansafe\u001b[0;34m(arr, dtype, copy, skipna)\u001b[0m\n\u001b[1;32m    166\u001b[0m     \u001b[39mraise\u001b[39;00m \u001b[39mValueError\u001b[39;00m(msg)\n\u001b[1;32m    168\u001b[0m \u001b[39mif\u001b[39;00m copy \u001b[39mor\u001b[39;00m is_object_dtype(arr\u001b[39m.\u001b[39mdtype) \u001b[39mor\u001b[39;00m is_object_dtype(dtype):\n\u001b[1;32m    169\u001b[0m     \u001b[39m# Explicit copy, or required since NumPy can't view from / to object.\u001b[39;00m\n\u001b[0;32m--> 170\u001b[0m     \u001b[39mreturn\u001b[39;00m arr\u001b[39m.\u001b[39;49mastype(dtype, copy\u001b[39m=\u001b[39;49m\u001b[39mTrue\u001b[39;49;00m)\n\u001b[1;32m    172\u001b[0m \u001b[39mreturn\u001b[39;00m arr\u001b[39m.\u001b[39mastype(dtype, copy\u001b[39m=\u001b[39mcopy)\n",
      "\u001b[0;31mValueError\u001b[0m: invalid literal for int() with base 10: '>34'"
     ]
    }
   ],
   "source": [
    "class_size['max_class_size_clean'].astype(int)"
   ]
  },
  {
   "cell_type": "markdown",
   "id": "d68b1aaa",
   "metadata": {},
   "source": [
    "Oops, I guess we also have to replace the greater than `>`. "
   ]
  },
  {
   "cell_type": "code",
   "execution_count": 27,
   "id": "a9c476ea",
   "metadata": {},
   "outputs": [],
   "source": [
    "class_size['max_class_size_clean'] = class_size['max_class_size_clean'].str.replace('>', \"\")"
   ]
  },
  {
   "cell_type": "markdown",
   "id": "5ea3acbb",
   "metadata": {},
   "source": [
    "## 1.4 Changing data types\n",
    "Now let's try to change the data type for `max_class_size_clean`. \n",
    "\n",
    "`.astype()` changes your column types for a particular column. \n"
   ]
  },
  {
   "cell_type": "code",
   "execution_count": 28,
   "id": "78bad4b9",
   "metadata": {},
   "outputs": [],
   "source": [
    "## What I've done here is replace the old `max_class_size_clean` column with \n",
    "## a version of it that is an int\n",
    "class_size['max_class_size_clean'] = class_size['max_class_size_clean'].astype(int)"
   ]
  },
  {
   "cell_type": "code",
   "execution_count": 29,
   "id": "add1dc18",
   "metadata": {},
   "outputs": [
    {
     "data": {
      "text/plain": [
       "dtype('int64')"
      ]
     },
     "execution_count": 29,
     "metadata": {},
     "output_type": "execute_result"
    }
   ],
   "source": [
    "# Notice that `int` from above defaults to 64 bit integers. \n",
    "class_size['max_class_size_clean'].dtype"
   ]
  },
  {
   "cell_type": "markdown",
   "id": "49bd50d8",
   "metadata": {},
   "source": [
    "## 1.5 Slicing strings\n",
    "\n",
    "### 1.5.1\n",
    "The `projects_under_const` has a `Data as Of` column, which gives us some temporal variation in when, at least the data was added to the table. It could be useful, for instance, if we think that `Data as Of` is a rough proxy for when the project was funded or approved. "
   ]
  },
  {
   "cell_type": "code",
   "execution_count": 30,
   "id": "58400bac",
   "metadata": {},
   "outputs": [
    {
     "data": {
      "text/plain": [
       "0           NaN\n",
       "1    01/06/2022\n",
       "2    10/30/2018\n",
       "3    08/04/2022\n",
       "4    02/06/2019\n",
       "Name: Data As Of, dtype: object"
      ]
     },
     "execution_count": 30,
     "metadata": {},
     "output_type": "execute_result"
    }
   ],
   "source": [
    "# Remember that NaN means \"Not a Number\".\n",
    "# In other words, it is a missing value\n",
    "projects_under_const['Data As Of'].head()"
   ]
  },
  {
   "cell_type": "markdown",
   "id": "075f8efd",
   "metadata": {},
   "source": [
    "Let's say we want to extract year from these dates. We have another string-related function we can apply to all of our values under `Data As Of`. \n",
    "\n",
    "`.split()` splits strings around given separator/delimiter to create a list of strings. \n",
    "\n",
    "Here, we will use `/` as our separator. "
   ]
  },
  {
   "cell_type": "code",
   "execution_count": 31,
   "id": "c74a31b6",
   "metadata": {},
   "outputs": [
    {
     "data": {
      "text/plain": [
       "0                  NaN\n",
       "1       [01, 06, 2022]\n",
       "2       [10, 30, 2018]\n",
       "3       [08, 04, 2022]\n",
       "4       [02, 06, 2019]\n",
       "             ...      \n",
       "8996    [11, 02, 2022]\n",
       "8997    [11, 02, 2022]\n",
       "8998    [11, 02, 2022]\n",
       "8999    [11, 02, 2022]\n",
       "9000    [11, 02, 2022]\n",
       "Name: Data As Of, Length: 9001, dtype: object"
      ]
     },
     "execution_count": 31,
     "metadata": {},
     "output_type": "execute_result"
    }
   ],
   "source": [
    "projects_under_const['Data As Of'].str.split('/')"
   ]
  },
  {
   "cell_type": "markdown",
   "id": "d7be40d0",
   "metadata": {},
   "source": [
    "Now we just have to get the last value (where it exists) and create a new column with the year. "
   ]
  },
  {
   "cell_type": "code",
   "execution_count": 32,
   "id": "76a9c12a",
   "metadata": {},
   "outputs": [],
   "source": [
    "## [-1] is a way to access the last element of a list\n",
    "projects_under_const['data_year'] = projects_under_const['Data As Of'].str.split('/').str[-1]"
   ]
  },
  {
   "cell_type": "code",
   "execution_count": 33,
   "id": "f0075330",
   "metadata": {},
   "outputs": [
    {
     "data": {
      "text/plain": [
       "0     NaN\n",
       "1    2022\n",
       "2    2018\n",
       "3    2022\n",
       "4    2019\n",
       "Name: data_year, dtype: object"
      ]
     },
     "execution_count": 33,
     "metadata": {},
     "output_type": "execute_result"
    }
   ],
   "source": [
    "# Notice that when there was an NaN, the split function returned a NaN\n",
    "projects_under_const['data_year'].head()"
   ]
  },
  {
   "cell_type": "markdown",
   "id": "43c4676b",
   "metadata": {},
   "source": [
    "### 1.5.2\n",
    "We will eventually be comparing school attendance characteristics to money allocated through **merging along a common column name** at the **school level**.\n",
    "\n",
    "What are out options here? Let's take  look. "
   ]
  },
  {
   "cell_type": "code",
   "execution_count": 34,
   "id": "3f247b4c",
   "metadata": {},
   "outputs": [
    {
     "data": {
      "text/html": [
       "<div>\n",
       "<style scoped>\n",
       "    .dataframe tbody tr th:only-of-type {\n",
       "        vertical-align: middle;\n",
       "    }\n",
       "\n",
       "    .dataframe tbody tr th {\n",
       "        vertical-align: top;\n",
       "    }\n",
       "\n",
       "    .dataframe thead th {\n",
       "        text-align: right;\n",
       "    }\n",
       "</style>\n",
       "<table border=\"1\" class=\"dataframe\">\n",
       "  <thead>\n",
       "    <tr style=\"text-align: right;\">\n",
       "      <th></th>\n",
       "      <th>School Name</th>\n",
       "      <th>BoroughCode</th>\n",
       "      <th>Geographical District</th>\n",
       "      <th>Project Description</th>\n",
       "      <th>Construction Award</th>\n",
       "      <th>Project type</th>\n",
       "      <th>Building ID</th>\n",
       "      <th>Building Address</th>\n",
       "      <th>City</th>\n",
       "      <th>Postcode</th>\n",
       "      <th>...</th>\n",
       "      <th>Longitude</th>\n",
       "      <th>Community Board</th>\n",
       "      <th>Council District</th>\n",
       "      <th>Census Tract</th>\n",
       "      <th>BIN</th>\n",
       "      <th>BBL</th>\n",
       "      <th>NTA</th>\n",
       "      <th>Location 1</th>\n",
       "      <th>Data As Of</th>\n",
       "      <th>data_year</th>\n",
       "    </tr>\n",
       "  </thead>\n",
       "  <tbody>\n",
       "    <tr>\n",
       "      <th>0</th>\n",
       "      <td>NaN</td>\n",
       "      <td>M</td>\n",
       "      <td>2</td>\n",
       "      <td>NaN</td>\n",
       "      <td>0.0</td>\n",
       "      <td>CAP</td>\n",
       "      <td>M777</td>\n",
       "      <td>227 WEST 27TH STREET</td>\n",
       "      <td>Manhattan</td>\n",
       "      <td>NaN</td>\n",
       "      <td>...</td>\n",
       "      <td>NaN</td>\n",
       "      <td>NaN</td>\n",
       "      <td>NaN</td>\n",
       "      <td>NaN</td>\n",
       "      <td>NaN</td>\n",
       "      <td>NaN</td>\n",
       "      <td>NaN</td>\n",
       "      <td>NaN</td>\n",
       "      <td>NaN</td>\n",
       "      <td>NaN</td>\n",
       "    </tr>\n",
       "    <tr>\n",
       "      <th>1</th>\n",
       "      <td>BAYSIDE HIGH SCHOOL - QUEENS</td>\n",
       "      <td>Q</td>\n",
       "      <td>26</td>\n",
       "      <td>FY19 RESO A AUDITORIUM UPGRADE</td>\n",
       "      <td>1261000.0</td>\n",
       "      <td>CIP</td>\n",
       "      <td>Q405</td>\n",
       "      <td>32-24 CORPORAL KENNEDY STREET</td>\n",
       "      <td>Queens</td>\n",
       "      <td>10301.0</td>\n",
       "      <td>...</td>\n",
       "      <td>NaN</td>\n",
       "      <td>NaN</td>\n",
       "      <td>NaN</td>\n",
       "      <td>NaN</td>\n",
       "      <td>NaN</td>\n",
       "      <td>NaN</td>\n",
       "      <td>NaN</td>\n",
       "      <td>NaN</td>\n",
       "      <td>01/06/2022</td>\n",
       "      <td>2022</td>\n",
       "    </tr>\n",
       "    <tr>\n",
       "      <th>2</th>\n",
       "      <td>P.S. @ PARCEL F - QUEENS</td>\n",
       "      <td>Q</td>\n",
       "      <td>30</td>\n",
       "      <td>Demo</td>\n",
       "      <td>0.0</td>\n",
       "      <td>CAP</td>\n",
       "      <td>Q375</td>\n",
       "      <td>2ND STREET BETWEEN 56TH AND 57TH AVENUE</td>\n",
       "      <td>Queens</td>\n",
       "      <td>11101.0</td>\n",
       "      <td>...</td>\n",
       "      <td>NaN</td>\n",
       "      <td>NaN</td>\n",
       "      <td>NaN</td>\n",
       "      <td>NaN</td>\n",
       "      <td>NaN</td>\n",
       "      <td>NaN</td>\n",
       "      <td>NaN</td>\n",
       "      <td>NaN</td>\n",
       "      <td>10/30/2018</td>\n",
       "      <td>2018</td>\n",
       "    </tr>\n",
       "    <tr>\n",
       "      <th>3</th>\n",
       "      <td>3K CENTER @ 3893 DYRE AVENUE - BRONX</td>\n",
       "      <td>X</td>\n",
       "      <td>11</td>\n",
       "      <td>Lease</td>\n",
       "      <td>6262000.0</td>\n",
       "      <td>CAP</td>\n",
       "      <td>X501</td>\n",
       "      <td>3893 DYRE AVEUNE</td>\n",
       "      <td>Bronx</td>\n",
       "      <td>NaN</td>\n",
       "      <td>...</td>\n",
       "      <td>NaN</td>\n",
       "      <td>NaN</td>\n",
       "      <td>NaN</td>\n",
       "      <td>NaN</td>\n",
       "      <td>NaN</td>\n",
       "      <td>NaN</td>\n",
       "      <td>NaN</td>\n",
       "      <td>NaN</td>\n",
       "      <td>08/04/2022</td>\n",
       "      <td>2022</td>\n",
       "    </tr>\n",
       "    <tr>\n",
       "      <th>4</th>\n",
       "      <td>P.S. 129 - QUEENS</td>\n",
       "      <td>Q</td>\n",
       "      <td>25</td>\n",
       "      <td>Addition</td>\n",
       "      <td>0.0</td>\n",
       "      <td>CAP</td>\n",
       "      <td>Q129</td>\n",
       "      <td>128-02 7TH AVENUE</td>\n",
       "      <td>Queens</td>\n",
       "      <td>11356.0</td>\n",
       "      <td>...</td>\n",
       "      <td>-73.839771</td>\n",
       "      <td>7.0</td>\n",
       "      <td>19.0</td>\n",
       "      <td>945.0</td>\n",
       "      <td>4096774.0</td>\n",
       "      <td>4.039760e+09</td>\n",
       "      <td>Whitestone</td>\n",
       "      <td>(40.790638, -73.839771)</td>\n",
       "      <td>02/06/2019</td>\n",
       "      <td>2019</td>\n",
       "    </tr>\n",
       "  </tbody>\n",
       "</table>\n",
       "<p>5 rows × 22 columns</p>\n",
       "</div>"
      ],
      "text/plain": [
       "                            School Name BoroughCode  Geographical District  \\\n",
       "0                                   NaN           M                      2   \n",
       "1          BAYSIDE HIGH SCHOOL - QUEENS           Q                     26   \n",
       "2              P.S. @ PARCEL F - QUEENS           Q                     30   \n",
       "3  3K CENTER @ 3893 DYRE AVENUE - BRONX           X                     11   \n",
       "4                     P.S. 129 - QUEENS           Q                     25   \n",
       "\n",
       "              Project Description  Construction Award Project type  \\\n",
       "0                             NaN                 0.0          CAP   \n",
       "1  FY19 RESO A AUDITORIUM UPGRADE           1261000.0          CIP   \n",
       "2                            Demo                 0.0          CAP   \n",
       "3                           Lease           6262000.0          CAP   \n",
       "4                        Addition                 0.0          CAP   \n",
       "\n",
       "  Building ID                         Building Address       City  Postcode  \\\n",
       "0        M777                     227 WEST 27TH STREET  Manhattan       NaN   \n",
       "1        Q405            32-24 CORPORAL KENNEDY STREET     Queens   10301.0   \n",
       "2        Q375  2ND STREET BETWEEN 56TH AND 57TH AVENUE     Queens   11101.0   \n",
       "3        X501                         3893 DYRE AVEUNE      Bronx       NaN   \n",
       "4        Q129                        128-02 7TH AVENUE     Queens   11356.0   \n",
       "\n",
       "   ...  Longitude  Community Board  Council District  Census Tract        BIN  \\\n",
       "0  ...        NaN              NaN               NaN           NaN        NaN   \n",
       "1  ...        NaN              NaN               NaN           NaN        NaN   \n",
       "2  ...        NaN              NaN               NaN           NaN        NaN   \n",
       "3  ...        NaN              NaN               NaN           NaN        NaN   \n",
       "4  ... -73.839771              7.0              19.0         945.0  4096774.0   \n",
       "\n",
       "            BBL         NTA               Location 1  Data As Of data_year  \n",
       "0           NaN         NaN                      NaN         NaN       NaN  \n",
       "1           NaN         NaN                      NaN  01/06/2022      2022  \n",
       "2           NaN         NaN                      NaN  10/30/2018      2018  \n",
       "3           NaN         NaN                      NaN  08/04/2022      2022  \n",
       "4  4.039760e+09  Whitestone  (40.790638, -73.839771)  02/06/2019      2019  \n",
       "\n",
       "[5 rows x 22 columns]"
      ]
     },
     "execution_count": 34,
     "metadata": {},
     "output_type": "execute_result"
    }
   ],
   "source": [
    "projects_under_const.head()"
   ]
  },
  {
   "cell_type": "code",
   "execution_count": 35,
   "id": "3f164843",
   "metadata": {},
   "outputs": [
    {
     "data": {
      "text/html": [
       "<div>\n",
       "<style scoped>\n",
       "    .dataframe tbody tr th:only-of-type {\n",
       "        vertical-align: middle;\n",
       "    }\n",
       "\n",
       "    .dataframe tbody tr th {\n",
       "        vertical-align: top;\n",
       "    }\n",
       "\n",
       "    .dataframe thead th {\n",
       "        text-align: right;\n",
       "    }\n",
       "</style>\n",
       "<table border=\"1\" class=\"dataframe\">\n",
       "  <thead>\n",
       "    <tr style=\"text-align: right;\">\n",
       "      <th></th>\n",
       "      <th>DBN</th>\n",
       "      <th>School Name</th>\n",
       "      <th>Grade Level</th>\n",
       "      <th>Program Type</th>\n",
       "      <th>Number of Students</th>\n",
       "      <th>Number of Classes</th>\n",
       "      <th>Average Class Size</th>\n",
       "      <th>Minimum Class Size</th>\n",
       "      <th>Maximum Class Size</th>\n",
       "      <th>max_class_size_clean</th>\n",
       "    </tr>\n",
       "  </thead>\n",
       "  <tbody>\n",
       "    <tr>\n",
       "      <th>0</th>\n",
       "      <td>01M015</td>\n",
       "      <td>PS 015 ROBERTO CLEMENTE</td>\n",
       "      <td>K</td>\n",
       "      <td>G&amp;T</td>\n",
       "      <td>13</td>\n",
       "      <td>1</td>\n",
       "      <td>13.0</td>\n",
       "      <td>&lt;15</td>\n",
       "      <td>&lt;15</td>\n",
       "      <td>15</td>\n",
       "    </tr>\n",
       "    <tr>\n",
       "      <th>1</th>\n",
       "      <td>01M015</td>\n",
       "      <td>PS 015 ROBERTO CLEMENTE</td>\n",
       "      <td>K</td>\n",
       "      <td>ICT</td>\n",
       "      <td>17</td>\n",
       "      <td>1</td>\n",
       "      <td>17.0</td>\n",
       "      <td>17</td>\n",
       "      <td>17</td>\n",
       "      <td>17</td>\n",
       "    </tr>\n",
       "    <tr>\n",
       "      <th>2</th>\n",
       "      <td>01M015</td>\n",
       "      <td>PS 015 ROBERTO CLEMENTE</td>\n",
       "      <td>1</td>\n",
       "      <td>G&amp;T</td>\n",
       "      <td>8</td>\n",
       "      <td>1</td>\n",
       "      <td>8.0</td>\n",
       "      <td>&lt;15</td>\n",
       "      <td>&lt;15</td>\n",
       "      <td>15</td>\n",
       "    </tr>\n",
       "    <tr>\n",
       "      <th>3</th>\n",
       "      <td>01M015</td>\n",
       "      <td>PS 015 ROBERTO CLEMENTE</td>\n",
       "      <td>1</td>\n",
       "      <td>ICT</td>\n",
       "      <td>18</td>\n",
       "      <td>1</td>\n",
       "      <td>18.0</td>\n",
       "      <td>18</td>\n",
       "      <td>18</td>\n",
       "      <td>18</td>\n",
       "    </tr>\n",
       "    <tr>\n",
       "      <th>4</th>\n",
       "      <td>01M015</td>\n",
       "      <td>PS 015 ROBERTO CLEMENTE</td>\n",
       "      <td>2</td>\n",
       "      <td>G&amp;T</td>\n",
       "      <td>8</td>\n",
       "      <td>1</td>\n",
       "      <td>8.0</td>\n",
       "      <td>&lt;15</td>\n",
       "      <td>&lt;15</td>\n",
       "      <td>15</td>\n",
       "    </tr>\n",
       "  </tbody>\n",
       "</table>\n",
       "</div>"
      ],
      "text/plain": [
       "      DBN              School Name Grade Level Program Type  \\\n",
       "0  01M015  PS 015 ROBERTO CLEMENTE           K          G&T   \n",
       "1  01M015  PS 015 ROBERTO CLEMENTE           K          ICT   \n",
       "2  01M015  PS 015 ROBERTO CLEMENTE           1          G&T   \n",
       "3  01M015  PS 015 ROBERTO CLEMENTE           1          ICT   \n",
       "4  01M015  PS 015 ROBERTO CLEMENTE           2          G&T   \n",
       "\n",
       "   Number of Students  Number of Classes  Average Class Size  \\\n",
       "0                  13                  1                13.0   \n",
       "1                  17                  1                17.0   \n",
       "2                   8                  1                 8.0   \n",
       "3                  18                  1                18.0   \n",
       "4                   8                  1                 8.0   \n",
       "\n",
       "  Minimum Class Size Maximum Class Size  max_class_size_clean  \n",
       "0                <15                <15                    15  \n",
       "1                 17                 17                    17  \n",
       "2                <15                <15                    15  \n",
       "3                 18                 18                    18  \n",
       "4                <15                <15                    15  "
      ]
     },
     "execution_count": 35,
     "metadata": {},
     "output_type": "execute_result"
    }
   ],
   "source": [
    "class_size.head()"
   ]
  },
  {
   "cell_type": "markdown",
   "id": "0f9220b8",
   "metadata": {},
   "source": [
    "Even though there is a **School Name** column in both datasets, the format seems to be quite different. \n",
    "- For the `projects_under_const` dataset, the school names are all over the place. Some are the name and borough separated by a `-`, some also include an `@` followed by a rough locationn. \n",
    "- For the `class_size` df, the school names are consistent, but we can see that it might be a pain to match the two. "
   ]
  },
  {
   "cell_type": "code",
   "execution_count": 36,
   "id": "9eeb0283",
   "metadata": {},
   "outputs": [
    {
     "data": {
      "text/plain": [
       "0                                        NaN\n",
       "1               BAYSIDE HIGH SCHOOL - QUEENS\n",
       "2                   P.S. @ PARCEL F - QUEENS\n",
       "3       3K CENTER @ 3893 DYRE AVENUE - BRONX\n",
       "4                          P.S. 129 - QUEENS\n",
       "                        ...                 \n",
       "8996                     P.S. 236 - BROOKLYN\n",
       "8997                        P.S. 277 - BRONX\n",
       "8998                       P.S. 5 - BROOKLYN\n",
       "8999                        P.S. 182 - BRONX\n",
       "9000                        I.S. 127 - BRONX\n",
       "Name: School Name, Length: 9001, dtype: object"
      ]
     },
     "execution_count": 36,
     "metadata": {},
     "output_type": "execute_result"
    }
   ],
   "source": [
    "projects_under_const['School Name']"
   ]
  },
  {
   "cell_type": "code",
   "execution_count": 37,
   "id": "52cd12d7",
   "metadata": {},
   "outputs": [
    {
     "data": {
      "text/plain": [
       "0                              PS 015 ROBERTO CLEMENTE\n",
       "1                              PS 015 ROBERTO CLEMENTE\n",
       "2                              PS 015 ROBERTO CLEMENTE\n",
       "3                              PS 015 ROBERTO CLEMENTE\n",
       "4                              PS 015 ROBERTO CLEMENTE\n",
       "                             ...                      \n",
       "12440                  PS 377 ALEJANDRINA B DE GAUTIER\n",
       "12441                        JHS 383 PHILIPPA SCHUYLER\n",
       "12442                        JHS 383 PHILIPPA SCHUYLER\n",
       "12443                      PS /IS 384 FRANCES E CARTER\n",
       "12444    EVERGREEN MIDDLE SCHOOL FOR URBAN EXPLORATION\n",
       "Name: School Name, Length: 12445, dtype: object"
      ]
     },
     "execution_count": 37,
     "metadata": {},
     "output_type": "execute_result"
    }
   ],
   "source": [
    "class_size['School Name']"
   ]
  },
  {
   "cell_type": "markdown",
   "id": "a46fb71d",
   "metadata": {},
   "source": [
    "Instead, I noticed that there's a `Building ID` column in the `projects_under_constr` DF (dataframe, for short) that, though is described unhelpfully as \"ID of the Building\" in the documentation, looks to be similar to the `DBN` from `class_size` DF. In fact, when I look at what `DBN` is in the class size documentation, it says that this column \"Denotes cocatenation[sic] of district, borough and three digit school number.\"\n",
    "\n",
    "I'm going to guess here that if I extract the \"borough and three digit school number\" part of `DBN`, this will match my `Building ID` column. \n",
    "\n",
    "Thankfully, it seems like there is a fixed number of characters I need extract from `DBN`: \n",
    "- Borough = 1\n",
    "- School number = 3\n",
    "\n",
    "In total, I will need the last 4 characters from `DBN`. We'll do this again with a string splice. "
   ]
  },
  {
   "cell_type": "code",
   "execution_count": 38,
   "id": "5204b980",
   "metadata": {},
   "outputs": [
    {
     "data": {
      "text/plain": [
       "0        M015\n",
       "1        M015\n",
       "2        M015\n",
       "3        M015\n",
       "4        M015\n",
       "         ... \n",
       "12440    K377\n",
       "12441    K383\n",
       "12442    K383\n",
       "12443    K384\n",
       "12444    K562\n",
       "Name: DBN, Length: 12445, dtype: object"
      ]
     },
     "execution_count": 38,
     "metadata": {},
     "output_type": "execute_result"
    }
   ],
   "source": [
    "# Here I am going to use the str method to get the last 4 characters of the DBN\n",
    "# within the square brackets, I am taking everything fourth from the end onwards\n",
    "# That's what -4 means\n",
    "\n",
    "class_size['DBN'].str[-4:]"
   ]
  },
  {
   "cell_type": "markdown",
   "id": "35725fc9",
   "metadata": {},
   "source": [
    "Quick review of selecting ranges:"
   ]
  },
  {
   "cell_type": "code",
   "execution_count": 39,
   "id": "dfa57e0b",
   "metadata": {},
   "outputs": [
    {
     "data": {
      "text/plain": [
       "0        5\n",
       "1        5\n",
       "2        5\n",
       "3        5\n",
       "4        5\n",
       "        ..\n",
       "12440    7\n",
       "12441    3\n",
       "12442    3\n",
       "12443    4\n",
       "12444    2\n",
       "Name: DBN, Length: 12445, dtype: object"
      ]
     },
     "execution_count": 39,
     "metadata": {},
     "output_type": "execute_result"
    }
   ],
   "source": [
    "# It's a little strange because backwards counting starts at -1\n",
    "\n",
    "class_size['DBN'].str[-1:]"
   ]
  },
  {
   "cell_type": "code",
   "execution_count": 40,
   "id": "5b0cedb4",
   "metadata": {},
   "outputs": [
    {
     "data": {
      "text/plain": [
       "0        15\n",
       "1        15\n",
       "2        15\n",
       "3        15\n",
       "4        15\n",
       "         ..\n",
       "12440    77\n",
       "12441    83\n",
       "12442    83\n",
       "12443    84\n",
       "12444    62\n",
       "Name: DBN, Length: 12445, dtype: object"
      ]
     },
     "execution_count": 40,
     "metadata": {},
     "output_type": "execute_result"
    }
   ],
   "source": [
    "## Here, 4: means that I want to start at the fifth character \n",
    "## because python starts counting at 0 for forward counting\n",
    "class_size['DBN'].str[4:]\n"
   ]
  },
  {
   "cell_type": "code",
   "execution_count": 41,
   "id": "d8eb0356",
   "metadata": {},
   "outputs": [
    {
     "data": {
      "text/plain": [
       "0        1M0\n",
       "1        1M0\n",
       "2        1M0\n",
       "3        1M0\n",
       "4        1M0\n",
       "        ... \n",
       "12440    2K3\n",
       "12441    2K3\n",
       "12442    2K3\n",
       "12443    2K3\n",
       "12444    2K5\n",
       "Name: DBN, Length: 12445, dtype: object"
      ]
     },
     "execution_count": 41,
     "metadata": {},
     "output_type": "execute_result"
    }
   ],
   "source": [
    "## And if I wanted to select a slice of the string in the middle\n",
    "## I can do the following\n",
    "class_size['DBN'].str[1:4]"
   ]
  },
  {
   "cell_type": "markdown",
   "id": "b80fb48f",
   "metadata": {},
   "source": [
    "Back to our exericse, let's assign our slice to a new colunn called `bid`"
   ]
  },
  {
   "cell_type": "code",
   "execution_count": 42,
   "id": "a65a0a83",
   "metadata": {},
   "outputs": [],
   "source": [
    "class_size['bid'] = class_size['DBN'].str[-4:]"
   ]
  },
  {
   "cell_type": "code",
   "execution_count": 43,
   "id": "00be1125",
   "metadata": {},
   "outputs": [
    {
     "data": {
      "text/html": [
       "<div>\n",
       "<style scoped>\n",
       "    .dataframe tbody tr th:only-of-type {\n",
       "        vertical-align: middle;\n",
       "    }\n",
       "\n",
       "    .dataframe tbody tr th {\n",
       "        vertical-align: top;\n",
       "    }\n",
       "\n",
       "    .dataframe thead th {\n",
       "        text-align: right;\n",
       "    }\n",
       "</style>\n",
       "<table border=\"1\" class=\"dataframe\">\n",
       "  <thead>\n",
       "    <tr style=\"text-align: right;\">\n",
       "      <th></th>\n",
       "      <th>DBN</th>\n",
       "      <th>School Name</th>\n",
       "      <th>Grade Level</th>\n",
       "      <th>Program Type</th>\n",
       "      <th>Number of Students</th>\n",
       "      <th>Number of Classes</th>\n",
       "      <th>Average Class Size</th>\n",
       "      <th>Minimum Class Size</th>\n",
       "      <th>Maximum Class Size</th>\n",
       "      <th>max_class_size_clean</th>\n",
       "      <th>bid</th>\n",
       "    </tr>\n",
       "  </thead>\n",
       "  <tbody>\n",
       "    <tr>\n",
       "      <th>0</th>\n",
       "      <td>01M015</td>\n",
       "      <td>PS 015 ROBERTO CLEMENTE</td>\n",
       "      <td>K</td>\n",
       "      <td>G&amp;T</td>\n",
       "      <td>13</td>\n",
       "      <td>1</td>\n",
       "      <td>13.0</td>\n",
       "      <td>&lt;15</td>\n",
       "      <td>&lt;15</td>\n",
       "      <td>15</td>\n",
       "      <td>M015</td>\n",
       "    </tr>\n",
       "    <tr>\n",
       "      <th>1</th>\n",
       "      <td>01M015</td>\n",
       "      <td>PS 015 ROBERTO CLEMENTE</td>\n",
       "      <td>K</td>\n",
       "      <td>ICT</td>\n",
       "      <td>17</td>\n",
       "      <td>1</td>\n",
       "      <td>17.0</td>\n",
       "      <td>17</td>\n",
       "      <td>17</td>\n",
       "      <td>17</td>\n",
       "      <td>M015</td>\n",
       "    </tr>\n",
       "    <tr>\n",
       "      <th>2</th>\n",
       "      <td>01M015</td>\n",
       "      <td>PS 015 ROBERTO CLEMENTE</td>\n",
       "      <td>1</td>\n",
       "      <td>G&amp;T</td>\n",
       "      <td>8</td>\n",
       "      <td>1</td>\n",
       "      <td>8.0</td>\n",
       "      <td>&lt;15</td>\n",
       "      <td>&lt;15</td>\n",
       "      <td>15</td>\n",
       "      <td>M015</td>\n",
       "    </tr>\n",
       "    <tr>\n",
       "      <th>3</th>\n",
       "      <td>01M015</td>\n",
       "      <td>PS 015 ROBERTO CLEMENTE</td>\n",
       "      <td>1</td>\n",
       "      <td>ICT</td>\n",
       "      <td>18</td>\n",
       "      <td>1</td>\n",
       "      <td>18.0</td>\n",
       "      <td>18</td>\n",
       "      <td>18</td>\n",
       "      <td>18</td>\n",
       "      <td>M015</td>\n",
       "    </tr>\n",
       "    <tr>\n",
       "      <th>4</th>\n",
       "      <td>01M015</td>\n",
       "      <td>PS 015 ROBERTO CLEMENTE</td>\n",
       "      <td>2</td>\n",
       "      <td>G&amp;T</td>\n",
       "      <td>8</td>\n",
       "      <td>1</td>\n",
       "      <td>8.0</td>\n",
       "      <td>&lt;15</td>\n",
       "      <td>&lt;15</td>\n",
       "      <td>15</td>\n",
       "      <td>M015</td>\n",
       "    </tr>\n",
       "  </tbody>\n",
       "</table>\n",
       "</div>"
      ],
      "text/plain": [
       "      DBN              School Name Grade Level Program Type  \\\n",
       "0  01M015  PS 015 ROBERTO CLEMENTE           K          G&T   \n",
       "1  01M015  PS 015 ROBERTO CLEMENTE           K          ICT   \n",
       "2  01M015  PS 015 ROBERTO CLEMENTE           1          G&T   \n",
       "3  01M015  PS 015 ROBERTO CLEMENTE           1          ICT   \n",
       "4  01M015  PS 015 ROBERTO CLEMENTE           2          G&T   \n",
       "\n",
       "   Number of Students  Number of Classes  Average Class Size  \\\n",
       "0                  13                  1                13.0   \n",
       "1                  17                  1                17.0   \n",
       "2                   8                  1                 8.0   \n",
       "3                  18                  1                18.0   \n",
       "4                   8                  1                 8.0   \n",
       "\n",
       "  Minimum Class Size Maximum Class Size  max_class_size_clean   bid  \n",
       "0                <15                <15                    15  M015  \n",
       "1                 17                 17                    17  M015  \n",
       "2                <15                <15                    15  M015  \n",
       "3                 18                 18                    18  M015  \n",
       "4                <15                <15                    15  M015  "
      ]
     },
     "execution_count": 43,
     "metadata": {},
     "output_type": "execute_result"
    }
   ],
   "source": [
    "class_size.head()"
   ]
  },
  {
   "cell_type": "markdown",
   "id": "c3679254",
   "metadata": {},
   "source": [
    "## 1.6 Handling missing data\n",
    "Now, let's say that our analysis depends knowing the year the data was created. There are a few ways of handling missing data. "
   ]
  },
  {
   "cell_type": "markdown",
   "id": "781b828f",
   "metadata": {},
   "source": [
    "### 1.6.1 Removing rows \n",
    "We can remove those rows with data missing from a column that we are planning to use in our analysis. "
   ]
  },
  {
   "cell_type": "code",
   "execution_count": 44,
   "id": "69b3b2d6",
   "metadata": {},
   "outputs": [],
   "source": [
    "# Here we are going to use the isna() function to check if the data_year column has a NaN\n",
    "# isna() returns a boolean (True or False) for each row\n",
    "# and we are going to use that boolean to filter the dataframe. \n",
    "# We are going to keep only the rows where the data_year column is not a NaN\n",
    "\n",
    "projects_under_const_new = projects_under_const[projects_under_const['data_year'].isna()==False]"
   ]
  },
  {
   "cell_type": "markdown",
   "id": "94fc5697",
   "metadata": {},
   "source": [
    "### 1.6.2 Replacing missing data\n",
    "We can also replace the missing data with certain values: \n",
    "- We can replace the data with the mean of the non-NaN column values, for numerical values. (For instance, if our columns were something like \"adult heights\", then replacing the NaN with the mean values in the columns would allow us to leave the sample mean unchanged, which might be good for regression purposes). \n",
    "- We can also replace with the median (if you think there are outliers in the sample that might be skewing the mean)\n",
    "- Replacing with the mode (most frequent value) would make more sense if we think that there's some default value \n",
    "\n",
    "**What would you do here?**"
   ]
  },
  {
   "cell_type": "code",
   "execution_count": 46,
   "id": "ef7b4fbd",
   "metadata": {},
   "outputs": [],
   "source": [
    "# This gets the mode of the data_year column\n",
    "mode_year = projects_under_const['data_year'].mode()\n"
   ]
  },
  {
   "cell_type": "code",
   "execution_count": 47,
   "id": "6442050b",
   "metadata": {},
   "outputs": [
    {
     "data": {
      "text/plain": [
       "0       2022\n",
       "1       2022\n",
       "2       2018\n",
       "3       2022\n",
       "4       2019\n",
       "        ... \n",
       "8996    2022\n",
       "8997    2022\n",
       "8998    2022\n",
       "8999    2022\n",
       "9000    2022\n",
       "Name: data_year, Length: 9001, dtype: object"
      ]
     },
     "execution_count": 47,
     "metadata": {},
     "output_type": "execute_result"
    }
   ],
   "source": [
    "# This fills the NaNs with the mode using the fillna() function\n",
    "# fillna() is a method that fills in missing values with a value of your choice\n",
    "projects_under_const['data_year'].fillna(mode_year)\n"
   ]
  },
  {
   "cell_type": "code",
   "execution_count": 73,
   "id": "11a6ec42",
   "metadata": {},
   "outputs": [],
   "source": [
    "# Now write over the old data_year column with the new one\n",
    "projects_under_const['data_year'] = projects_under_const['data_year'].fillna(mode_year)"
   ]
  },
  {
   "cell_type": "markdown",
   "id": "49012f5e",
   "metadata": {},
   "source": [
    "## Q1. In-Class Exercise 1 (5 pts)\n",
    "In the end, was it the best idea to replace the NaN data in `data_year`? Why or why not? "
   ]
  },
  {
   "attachments": {},
   "cell_type": "markdown",
   "id": "ce475282",
   "metadata": {},
   "source": [
    "### Response\n",
    "**I don't think it was the best idea to replace NaN values in data_year**, because this leads to misleading info about the distribution of years in the dataset. If you were to do any temporal analysis with this dataframe, the results would probably be skewed towards the mode (2022), which isn't necessarily a true representation of the empirical distribution. If we gained more info on the true distributions of the years, we may have a better sense of how best to replace NaN data, but currently it's best to leave it as is or omit entirely. "
   ]
  },
  {
   "cell_type": "markdown",
   "id": "18228c3a",
   "metadata": {},
   "source": [
    "## 1.7 Aggregating data: A review of groupby-and-summarize\n",
    "Last week, we introduced the \"groupby-and-summarize\" operation that is very common in pandas. It's common because we often want to aggregate data by some category. For example, we might want to know the total amount of construction money allocated by school. Or we might want to know the total number of students in each school.\n",
    "\n",
    "For the projects under construction, let's group by the `Building ID`, which we had a hunch was the same as the `DBN` (Borough and School ID) to get the: \n",
    "- Total construction award amount per school"
   ]
  },
  {
   "cell_type": "code",
   "execution_count": 49,
   "id": "7d265c0c",
   "metadata": {},
   "outputs": [
    {
     "name": "stderr",
     "output_type": "stream",
     "text": [
      "/var/folders/c5/dps3lj6n2sz8zkk_381lj9b1hnpv4f/T/ipykernel_85612/2229213777.py:2: FutureWarning: The default value of numeric_only in DataFrameGroupBy.sum is deprecated. In a future version, numeric_only will default to False. Either specify numeric_only or select only columns which should be valid for the function.\n",
      "  projects_under_const.groupby('Building ID').sum()\n"
     ]
    },
    {
     "data": {
      "text/html": [
       "<div>\n",
       "<style scoped>\n",
       "    .dataframe tbody tr th:only-of-type {\n",
       "        vertical-align: middle;\n",
       "    }\n",
       "\n",
       "    .dataframe tbody tr th {\n",
       "        vertical-align: top;\n",
       "    }\n",
       "\n",
       "    .dataframe thead th {\n",
       "        text-align: right;\n",
       "    }\n",
       "</style>\n",
       "<table border=\"1\" class=\"dataframe\">\n",
       "  <thead>\n",
       "    <tr style=\"text-align: right;\">\n",
       "      <th></th>\n",
       "      <th>Geographical District</th>\n",
       "      <th>Construction Award</th>\n",
       "      <th>Postcode</th>\n",
       "      <th>Latitude</th>\n",
       "      <th>Longitude</th>\n",
       "      <th>Community Board</th>\n",
       "      <th>Council District</th>\n",
       "      <th>Census Tract</th>\n",
       "      <th>BIN</th>\n",
       "      <th>BBL</th>\n",
       "    </tr>\n",
       "    <tr>\n",
       "      <th>Building ID</th>\n",
       "      <th></th>\n",
       "      <th></th>\n",
       "      <th></th>\n",
       "      <th></th>\n",
       "      <th></th>\n",
       "      <th></th>\n",
       "      <th></th>\n",
       "      <th></th>\n",
       "      <th></th>\n",
       "      <th></th>\n",
       "    </tr>\n",
       "  </thead>\n",
       "  <tbody>\n",
       "    <tr>\n",
       "      <th>K001</th>\n",
       "      <td>165</td>\n",
       "      <td>4.409425e+06</td>\n",
       "      <td>108098.0</td>\n",
       "      <td>406.490420</td>\n",
       "      <td>-740.122890</td>\n",
       "      <td>2470.0</td>\n",
       "      <td>349.0</td>\n",
       "      <td>800.0</td>\n",
       "      <td>30118210.0</td>\n",
       "      <td>3.007550e+10</td>\n",
       "    </tr>\n",
       "    <tr>\n",
       "      <th>K002</th>\n",
       "      <td>153</td>\n",
       "      <td>6.349880e+07</td>\n",
       "      <td>85532.0</td>\n",
       "      <td>325.249464</td>\n",
       "      <td>-591.612664</td>\n",
       "      <td>2472.0</td>\n",
       "      <td>320.0</td>\n",
       "      <td>6416.0</td>\n",
       "      <td>27025608.0</td>\n",
       "      <td>2.440400e+10</td>\n",
       "    </tr>\n",
       "    <tr>\n",
       "      <th>K003</th>\n",
       "      <td>52</td>\n",
       "      <td>2.693780e+07</td>\n",
       "      <td>43962.0</td>\n",
       "      <td>162.730652</td>\n",
       "      <td>-295.821352</td>\n",
       "      <td>912.0</td>\n",
       "      <td>144.0</td>\n",
       "      <td>908.0</td>\n",
       "      <td>12229624.0</td>\n",
       "      <td>1.207992e+10</td>\n",
       "    </tr>\n",
       "    <tr>\n",
       "      <th>K005</th>\n",
       "      <td>64</td>\n",
       "      <td>1.700470e+07</td>\n",
       "      <td>43238.0</td>\n",
       "      <td>162.742780</td>\n",
       "      <td>-295.689852</td>\n",
       "      <td>1212.0</td>\n",
       "      <td>164.0</td>\n",
       "      <td>1508.0</td>\n",
       "      <td>12159624.0</td>\n",
       "      <td>1.205960e+10</td>\n",
       "    </tr>\n",
       "    <tr>\n",
       "      <th>K007</th>\n",
       "      <td>171</td>\n",
       "      <td>2.768991e+06</td>\n",
       "      <td>74410.0</td>\n",
       "      <td>284.827879</td>\n",
       "      <td>-517.111763</td>\n",
       "      <td>2135.0</td>\n",
       "      <td>259.0</td>\n",
       "      <td>827407.0</td>\n",
       "      <td>21636986.0</td>\n",
       "      <td>2.128742e+10</td>\n",
       "    </tr>\n",
       "    <tr>\n",
       "      <th>...</th>\n",
       "      <td>...</td>\n",
       "      <td>...</td>\n",
       "      <td>...</td>\n",
       "      <td>...</td>\n",
       "      <td>...</td>\n",
       "      <td>...</td>\n",
       "      <td>...</td>\n",
       "      <td>...</td>\n",
       "      <td>...</td>\n",
       "      <td>...</td>\n",
       "    </tr>\n",
       "    <tr>\n",
       "      <th>X843</th>\n",
       "      <td>170</td>\n",
       "      <td>1.272268e+08</td>\n",
       "      <td>156664.0</td>\n",
       "      <td>612.983895</td>\n",
       "      <td>-1108.421370</td>\n",
       "      <td>2105.0</td>\n",
       "      <td>203.0</td>\n",
       "      <td>6015.0</td>\n",
       "      <td>30207450.0</td>\n",
       "      <td>3.047520e+10</td>\n",
       "    </tr>\n",
       "    <tr>\n",
       "      <th>X862</th>\n",
       "      <td>27</td>\n",
       "      <td>3.513000e+06</td>\n",
       "      <td>31368.0</td>\n",
       "      <td>122.492985</td>\n",
       "      <td>-221.708115</td>\n",
       "      <td>9.0</td>\n",
       "      <td>35.0</td>\n",
       "      <td>447.0</td>\n",
       "      <td>6012906.0</td>\n",
       "      <td>6.078450e+09</td>\n",
       "    </tr>\n",
       "    <tr>\n",
       "      <th>X930</th>\n",
       "      <td>50</td>\n",
       "      <td>8.898153e+07</td>\n",
       "      <td>41540.0</td>\n",
       "      <td>163.428268</td>\n",
       "      <td>-295.595744</td>\n",
       "      <td>820.0</td>\n",
       "      <td>60.0</td>\n",
       "      <td>153204.0</td>\n",
       "      <td>8054244.0</td>\n",
       "      <td>8.126000e+09</td>\n",
       "    </tr>\n",
       "    <tr>\n",
       "      <th>X970</th>\n",
       "      <td>9</td>\n",
       "      <td>9.079000e+06</td>\n",
       "      <td>10314.0</td>\n",
       "      <td>40.839244</td>\n",
       "      <td>-73.901316</td>\n",
       "      <td>203.0</td>\n",
       "      <td>16.0</td>\n",
       "      <td>167.0</td>\n",
       "      <td>2009555.0</td>\n",
       "      <td>2.029130e+09</td>\n",
       "    </tr>\n",
       "    <tr>\n",
       "      <th>X973</th>\n",
       "      <td>24</td>\n",
       "      <td>3.092000e+05</td>\n",
       "      <td>20918.0</td>\n",
       "      <td>81.672712</td>\n",
       "      <td>-147.776722</td>\n",
       "      <td>406.0</td>\n",
       "      <td>34.0</td>\n",
       "      <td>322.0</td>\n",
       "      <td>4021208.0</td>\n",
       "      <td>4.059660e+09</td>\n",
       "    </tr>\n",
       "  </tbody>\n",
       "</table>\n",
       "<p>1181 rows × 10 columns</p>\n",
       "</div>"
      ],
      "text/plain": [
       "             Geographical District  Construction Award  Postcode    Latitude  \\\n",
       "Building ID                                                                    \n",
       "K001                           165        4.409425e+06  108098.0  406.490420   \n",
       "K002                           153        6.349880e+07   85532.0  325.249464   \n",
       "K003                            52        2.693780e+07   43962.0  162.730652   \n",
       "K005                            64        1.700470e+07   43238.0  162.742780   \n",
       "K007                           171        2.768991e+06   74410.0  284.827879   \n",
       "...                            ...                 ...       ...         ...   \n",
       "X843                           170        1.272268e+08  156664.0  612.983895   \n",
       "X862                            27        3.513000e+06   31368.0  122.492985   \n",
       "X930                            50        8.898153e+07   41540.0  163.428268   \n",
       "X970                             9        9.079000e+06   10314.0   40.839244   \n",
       "X973                            24        3.092000e+05   20918.0   81.672712   \n",
       "\n",
       "               Longitude  Community Board  Council District  Census Tract  \\\n",
       "Building ID                                                                 \n",
       "K001         -740.122890           2470.0             349.0         800.0   \n",
       "K002         -591.612664           2472.0             320.0        6416.0   \n",
       "K003         -295.821352            912.0             144.0         908.0   \n",
       "K005         -295.689852           1212.0             164.0        1508.0   \n",
       "K007         -517.111763           2135.0             259.0      827407.0   \n",
       "...                  ...              ...               ...           ...   \n",
       "X843        -1108.421370           2105.0             203.0        6015.0   \n",
       "X862         -221.708115              9.0              35.0         447.0   \n",
       "X930         -295.595744            820.0              60.0      153204.0   \n",
       "X970          -73.901316            203.0              16.0         167.0   \n",
       "X973         -147.776722            406.0              34.0         322.0   \n",
       "\n",
       "                    BIN           BBL  \n",
       "Building ID                            \n",
       "K001         30118210.0  3.007550e+10  \n",
       "K002         27025608.0  2.440400e+10  \n",
       "K003         12229624.0  1.207992e+10  \n",
       "K005         12159624.0  1.205960e+10  \n",
       "K007         21636986.0  2.128742e+10  \n",
       "...                 ...           ...  \n",
       "X843         30207450.0  3.047520e+10  \n",
       "X862          6012906.0  6.078450e+09  \n",
       "X930          8054244.0  8.126000e+09  \n",
       "X970          2009555.0  2.029130e+09  \n",
       "X973          4021208.0  4.059660e+09  \n",
       "\n",
       "[1181 rows x 10 columns]"
      ]
     },
     "execution_count": 49,
     "metadata": {},
     "output_type": "execute_result"
    }
   ],
   "source": [
    "## Remember that .sum() will only sum the numeric columns\n",
    "projects_under_const.groupby('Building ID').sum()"
   ]
  },
  {
   "cell_type": "markdown",
   "id": "b9b182f9",
   "metadata": {},
   "source": [
    "Most of these columns are gibberish after we sum (for ex: we don't need a sum of latitudes and longitudes by school). Let's just select the columns we want to use: "
   ]
  },
  {
   "cell_type": "code",
   "execution_count": 50,
   "id": "02fd31d1",
   "metadata": {},
   "outputs": [
    {
     "name": "stderr",
     "output_type": "stream",
     "text": [
      "/var/folders/c5/dps3lj6n2sz8zkk_381lj9b1hnpv4f/T/ipykernel_85612/1098362502.py:2: FutureWarning: The default value of numeric_only in DataFrameGroupBy.sum is deprecated. In a future version, numeric_only will default to False. Either specify numeric_only or select only columns which should be valid for the function.\n",
      "  projects_under_const.groupby('Building ID').sum()['Construction Award']\n"
     ]
    },
    {
     "data": {
      "text/plain": [
       "Building ID\n",
       "K001    4.409425e+06\n",
       "K002    6.349880e+07\n",
       "K003    2.693780e+07\n",
       "K005    1.700470e+07\n",
       "K007    2.768991e+06\n",
       "            ...     \n",
       "X843    1.272268e+08\n",
       "X862    3.513000e+06\n",
       "X930    8.898153e+07\n",
       "X970    9.079000e+06\n",
       "X973    3.092000e+05\n",
       "Name: Construction Award, Length: 1181, dtype: float64"
      ]
     },
     "execution_count": 50,
     "metadata": {},
     "output_type": "execute_result"
    }
   ],
   "source": [
    "# Remeber the brackets after a DF allow you to select columns\n",
    "projects_under_const.groupby('Building ID').sum()['Construction Award']"
   ]
  },
  {
   "cell_type": "markdown",
   "id": "1583d7df",
   "metadata": {},
   "source": [
    "Let's assign this to a new variable name. "
   ]
  },
  {
   "cell_type": "code",
   "execution_count": 51,
   "id": "686c1496",
   "metadata": {},
   "outputs": [
    {
     "name": "stderr",
     "output_type": "stream",
     "text": [
      "/var/folders/c5/dps3lj6n2sz8zkk_381lj9b1hnpv4f/T/ipykernel_85612/10828810.py:1: FutureWarning: The default value of numeric_only in DataFrameGroupBy.sum is deprecated. In a future version, numeric_only will default to False. Either specify numeric_only or select only columns which should be valid for the function.\n",
      "  projects_under_const_agg = projects_under_const.groupby('Building ID').sum()['Construction Award']\n"
     ]
    }
   ],
   "source": [
    "projects_under_const_agg = projects_under_const.groupby('Building ID').sum()['Construction Award']"
   ]
  },
  {
   "cell_type": "markdown",
   "id": "7ac6f1a3",
   "metadata": {},
   "source": [
    "Here you can see that the result is a **pandas Series**. To make this easier to work with during the merge, let's transform this into a pandas DF. \n",
    "\n",
    "I'm going to use a function call `.reset_index()` as a trick to do this. `.reset_index()` is a method that resets the index of a dataframe to a column of your choice. The default is to reset the index to a column of sequential numbers"
   ]
  },
  {
   "cell_type": "code",
   "execution_count": 52,
   "id": "1d27ecc6",
   "metadata": {},
   "outputs": [
    {
     "data": {
      "text/html": [
       "<div>\n",
       "<style scoped>\n",
       "    .dataframe tbody tr th:only-of-type {\n",
       "        vertical-align: middle;\n",
       "    }\n",
       "\n",
       "    .dataframe tbody tr th {\n",
       "        vertical-align: top;\n",
       "    }\n",
       "\n",
       "    .dataframe thead th {\n",
       "        text-align: right;\n",
       "    }\n",
       "</style>\n",
       "<table border=\"1\" class=\"dataframe\">\n",
       "  <thead>\n",
       "    <tr style=\"text-align: right;\">\n",
       "      <th></th>\n",
       "      <th>Building ID</th>\n",
       "      <th>Construction Award</th>\n",
       "    </tr>\n",
       "  </thead>\n",
       "  <tbody>\n",
       "    <tr>\n",
       "      <th>0</th>\n",
       "      <td>K001</td>\n",
       "      <td>4.409425e+06</td>\n",
       "    </tr>\n",
       "    <tr>\n",
       "      <th>1</th>\n",
       "      <td>K002</td>\n",
       "      <td>6.349880e+07</td>\n",
       "    </tr>\n",
       "    <tr>\n",
       "      <th>2</th>\n",
       "      <td>K003</td>\n",
       "      <td>2.693780e+07</td>\n",
       "    </tr>\n",
       "    <tr>\n",
       "      <th>3</th>\n",
       "      <td>K005</td>\n",
       "      <td>1.700470e+07</td>\n",
       "    </tr>\n",
       "    <tr>\n",
       "      <th>4</th>\n",
       "      <td>K007</td>\n",
       "      <td>2.768991e+06</td>\n",
       "    </tr>\n",
       "    <tr>\n",
       "      <th>...</th>\n",
       "      <td>...</td>\n",
       "      <td>...</td>\n",
       "    </tr>\n",
       "    <tr>\n",
       "      <th>1176</th>\n",
       "      <td>X843</td>\n",
       "      <td>1.272268e+08</td>\n",
       "    </tr>\n",
       "    <tr>\n",
       "      <th>1177</th>\n",
       "      <td>X862</td>\n",
       "      <td>3.513000e+06</td>\n",
       "    </tr>\n",
       "    <tr>\n",
       "      <th>1178</th>\n",
       "      <td>X930</td>\n",
       "      <td>8.898153e+07</td>\n",
       "    </tr>\n",
       "    <tr>\n",
       "      <th>1179</th>\n",
       "      <td>X970</td>\n",
       "      <td>9.079000e+06</td>\n",
       "    </tr>\n",
       "    <tr>\n",
       "      <th>1180</th>\n",
       "      <td>X973</td>\n",
       "      <td>3.092000e+05</td>\n",
       "    </tr>\n",
       "  </tbody>\n",
       "</table>\n",
       "<p>1181 rows × 2 columns</p>\n",
       "</div>"
      ],
      "text/plain": [
       "     Building ID  Construction Award\n",
       "0           K001        4.409425e+06\n",
       "1           K002        6.349880e+07\n",
       "2           K003        2.693780e+07\n",
       "3           K005        1.700470e+07\n",
       "4           K007        2.768991e+06\n",
       "...          ...                 ...\n",
       "1176        X843        1.272268e+08\n",
       "1177        X862        3.513000e+06\n",
       "1178        X930        8.898153e+07\n",
       "1179        X970        9.079000e+06\n",
       "1180        X973        3.092000e+05\n",
       "\n",
       "[1181 rows x 2 columns]"
      ]
     },
     "execution_count": 52,
     "metadata": {},
     "output_type": "execute_result"
    }
   ],
   "source": [
    "# See how Building ID, which was the index before, is now a column. \n",
    "# and the index is i just 0,...,1180\n",
    "\n",
    "projects_under_const_agg.reset_index()"
   ]
  },
  {
   "cell_type": "code",
   "execution_count": 53,
   "id": "992be19e",
   "metadata": {},
   "outputs": [],
   "source": [
    "projects_under_const_agg = projects_under_const_agg.reset_index()"
   ]
  },
  {
   "cell_type": "code",
   "execution_count": 54,
   "id": "557e8293",
   "metadata": {},
   "outputs": [
    {
     "data": {
      "text/html": [
       "<div>\n",
       "<style scoped>\n",
       "    .dataframe tbody tr th:only-of-type {\n",
       "        vertical-align: middle;\n",
       "    }\n",
       "\n",
       "    .dataframe tbody tr th {\n",
       "        vertical-align: top;\n",
       "    }\n",
       "\n",
       "    .dataframe thead th {\n",
       "        text-align: right;\n",
       "    }\n",
       "</style>\n",
       "<table border=\"1\" class=\"dataframe\">\n",
       "  <thead>\n",
       "    <tr style=\"text-align: right;\">\n",
       "      <th></th>\n",
       "      <th>Building ID</th>\n",
       "      <th>Construction Award</th>\n",
       "    </tr>\n",
       "  </thead>\n",
       "  <tbody>\n",
       "    <tr>\n",
       "      <th>0</th>\n",
       "      <td>K001</td>\n",
       "      <td>4.409425e+06</td>\n",
       "    </tr>\n",
       "    <tr>\n",
       "      <th>1</th>\n",
       "      <td>K002</td>\n",
       "      <td>6.349880e+07</td>\n",
       "    </tr>\n",
       "    <tr>\n",
       "      <th>2</th>\n",
       "      <td>K003</td>\n",
       "      <td>2.693780e+07</td>\n",
       "    </tr>\n",
       "    <tr>\n",
       "      <th>3</th>\n",
       "      <td>K005</td>\n",
       "      <td>1.700470e+07</td>\n",
       "    </tr>\n",
       "    <tr>\n",
       "      <th>4</th>\n",
       "      <td>K007</td>\n",
       "      <td>2.768991e+06</td>\n",
       "    </tr>\n",
       "    <tr>\n",
       "      <th>...</th>\n",
       "      <td>...</td>\n",
       "      <td>...</td>\n",
       "    </tr>\n",
       "    <tr>\n",
       "      <th>1176</th>\n",
       "      <td>X843</td>\n",
       "      <td>1.272268e+08</td>\n",
       "    </tr>\n",
       "    <tr>\n",
       "      <th>1177</th>\n",
       "      <td>X862</td>\n",
       "      <td>3.513000e+06</td>\n",
       "    </tr>\n",
       "    <tr>\n",
       "      <th>1178</th>\n",
       "      <td>X930</td>\n",
       "      <td>8.898153e+07</td>\n",
       "    </tr>\n",
       "    <tr>\n",
       "      <th>1179</th>\n",
       "      <td>X970</td>\n",
       "      <td>9.079000e+06</td>\n",
       "    </tr>\n",
       "    <tr>\n",
       "      <th>1180</th>\n",
       "      <td>X973</td>\n",
       "      <td>3.092000e+05</td>\n",
       "    </tr>\n",
       "  </tbody>\n",
       "</table>\n",
       "<p>1181 rows × 2 columns</p>\n",
       "</div>"
      ],
      "text/plain": [
       "     Building ID  Construction Award\n",
       "0           K001        4.409425e+06\n",
       "1           K002        6.349880e+07\n",
       "2           K003        2.693780e+07\n",
       "3           K005        1.700470e+07\n",
       "4           K007        2.768991e+06\n",
       "...          ...                 ...\n",
       "1176        X843        1.272268e+08\n",
       "1177        X862        3.513000e+06\n",
       "1178        X930        8.898153e+07\n",
       "1179        X970        9.079000e+06\n",
       "1180        X973        3.092000e+05\n",
       "\n",
       "[1181 rows x 2 columns]"
      ]
     },
     "execution_count": 54,
     "metadata": {},
     "output_type": "execute_result"
    }
   ],
   "source": [
    "projects_under_const_agg"
   ]
  },
  {
   "cell_type": "markdown",
   "id": "835da52b",
   "metadata": {},
   "source": [
    "Let's do something similar with the `class_size` df. As we can see from the below, our data is likely one row per grade and program. We want to aggregate this to the school level. "
   ]
  },
  {
   "cell_type": "code",
   "execution_count": 55,
   "id": "39fc711b",
   "metadata": {},
   "outputs": [
    {
     "data": {
      "text/html": [
       "<div>\n",
       "<style scoped>\n",
       "    .dataframe tbody tr th:only-of-type {\n",
       "        vertical-align: middle;\n",
       "    }\n",
       "\n",
       "    .dataframe tbody tr th {\n",
       "        vertical-align: top;\n",
       "    }\n",
       "\n",
       "    .dataframe thead th {\n",
       "        text-align: right;\n",
       "    }\n",
       "</style>\n",
       "<table border=\"1\" class=\"dataframe\">\n",
       "  <thead>\n",
       "    <tr style=\"text-align: right;\">\n",
       "      <th></th>\n",
       "      <th>DBN</th>\n",
       "      <th>School Name</th>\n",
       "      <th>Grade Level</th>\n",
       "      <th>Program Type</th>\n",
       "      <th>Number of Students</th>\n",
       "      <th>Number of Classes</th>\n",
       "      <th>Average Class Size</th>\n",
       "      <th>Minimum Class Size</th>\n",
       "      <th>Maximum Class Size</th>\n",
       "      <th>max_class_size_clean</th>\n",
       "      <th>bid</th>\n",
       "    </tr>\n",
       "  </thead>\n",
       "  <tbody>\n",
       "    <tr>\n",
       "      <th>0</th>\n",
       "      <td>01M015</td>\n",
       "      <td>PS 015 ROBERTO CLEMENTE</td>\n",
       "      <td>K</td>\n",
       "      <td>G&amp;T</td>\n",
       "      <td>13</td>\n",
       "      <td>1</td>\n",
       "      <td>13.0</td>\n",
       "      <td>&lt;15</td>\n",
       "      <td>&lt;15</td>\n",
       "      <td>15</td>\n",
       "      <td>M015</td>\n",
       "    </tr>\n",
       "    <tr>\n",
       "      <th>1</th>\n",
       "      <td>01M015</td>\n",
       "      <td>PS 015 ROBERTO CLEMENTE</td>\n",
       "      <td>K</td>\n",
       "      <td>ICT</td>\n",
       "      <td>17</td>\n",
       "      <td>1</td>\n",
       "      <td>17.0</td>\n",
       "      <td>17</td>\n",
       "      <td>17</td>\n",
       "      <td>17</td>\n",
       "      <td>M015</td>\n",
       "    </tr>\n",
       "    <tr>\n",
       "      <th>2</th>\n",
       "      <td>01M015</td>\n",
       "      <td>PS 015 ROBERTO CLEMENTE</td>\n",
       "      <td>1</td>\n",
       "      <td>G&amp;T</td>\n",
       "      <td>8</td>\n",
       "      <td>1</td>\n",
       "      <td>8.0</td>\n",
       "      <td>&lt;15</td>\n",
       "      <td>&lt;15</td>\n",
       "      <td>15</td>\n",
       "      <td>M015</td>\n",
       "    </tr>\n",
       "    <tr>\n",
       "      <th>3</th>\n",
       "      <td>01M015</td>\n",
       "      <td>PS 015 ROBERTO CLEMENTE</td>\n",
       "      <td>1</td>\n",
       "      <td>ICT</td>\n",
       "      <td>18</td>\n",
       "      <td>1</td>\n",
       "      <td>18.0</td>\n",
       "      <td>18</td>\n",
       "      <td>18</td>\n",
       "      <td>18</td>\n",
       "      <td>M015</td>\n",
       "    </tr>\n",
       "    <tr>\n",
       "      <th>4</th>\n",
       "      <td>01M015</td>\n",
       "      <td>PS 015 ROBERTO CLEMENTE</td>\n",
       "      <td>2</td>\n",
       "      <td>G&amp;T</td>\n",
       "      <td>8</td>\n",
       "      <td>1</td>\n",
       "      <td>8.0</td>\n",
       "      <td>&lt;15</td>\n",
       "      <td>&lt;15</td>\n",
       "      <td>15</td>\n",
       "      <td>M015</td>\n",
       "    </tr>\n",
       "  </tbody>\n",
       "</table>\n",
       "</div>"
      ],
      "text/plain": [
       "      DBN              School Name Grade Level Program Type  \\\n",
       "0  01M015  PS 015 ROBERTO CLEMENTE           K          G&T   \n",
       "1  01M015  PS 015 ROBERTO CLEMENTE           K          ICT   \n",
       "2  01M015  PS 015 ROBERTO CLEMENTE           1          G&T   \n",
       "3  01M015  PS 015 ROBERTO CLEMENTE           1          ICT   \n",
       "4  01M015  PS 015 ROBERTO CLEMENTE           2          G&T   \n",
       "\n",
       "   Number of Students  Number of Classes  Average Class Size  \\\n",
       "0                  13                  1                13.0   \n",
       "1                  17                  1                17.0   \n",
       "2                   8                  1                 8.0   \n",
       "3                  18                  1                18.0   \n",
       "4                   8                  1                 8.0   \n",
       "\n",
       "  Minimum Class Size Maximum Class Size  max_class_size_clean   bid  \n",
       "0                <15                <15                    15  M015  \n",
       "1                 17                 17                    17  M015  \n",
       "2                <15                <15                    15  M015  \n",
       "3                 18                 18                    18  M015  \n",
       "4                <15                <15                    15  M015  "
      ]
     },
     "execution_count": 55,
     "metadata": {},
     "output_type": "execute_result"
    }
   ],
   "source": [
    "class_size.head()"
   ]
  },
  {
   "cell_type": "markdown",
   "id": "d42dff8f",
   "metadata": {},
   "source": [
    "I'm first going to filter my DF since I just want 'Gen Ed' in order not to skew the representative class size by special programs. "
   ]
  },
  {
   "cell_type": "code",
   "execution_count": 56,
   "id": "d73d0be3",
   "metadata": {},
   "outputs": [
    {
     "data": {
      "text/plain": [
       "array(['G&T', 'ICT', 'Gen Ed', 'ICT & G&T', 'SC 12:1:1', 'SC 12:1',\n",
       "       'SC 8:1:1', 'SC 12:1:4', 'SC 6:1:1', 'SC 15:1'], dtype=object)"
      ]
     },
     "execution_count": 56,
     "metadata": {},
     "output_type": "execute_result"
    }
   ],
   "source": [
    "# .unique() returns a list of all the unique values in a column\n",
    "class_size['Program Type'].unique()"
   ]
  },
  {
   "cell_type": "code",
   "execution_count": 57,
   "id": "2dce9926",
   "metadata": {},
   "outputs": [],
   "source": [
    "# I am going to use the == operator to check if the value in the Program Type column is equal to 'Gen Ed'\n",
    "# Then we'll set this filtered dataframe to a new variable\n",
    "# and use that new dataframe from now on. \n",
    "class_size_new = class_size[class_size['Program Type']=='Gen Ed']"
   ]
  },
  {
   "cell_type": "code",
   "execution_count": 58,
   "id": "5446ef93",
   "metadata": {},
   "outputs": [
    {
     "data": {
      "text/html": [
       "<div>\n",
       "<style scoped>\n",
       "    .dataframe tbody tr th:only-of-type {\n",
       "        vertical-align: middle;\n",
       "    }\n",
       "\n",
       "    .dataframe tbody tr th {\n",
       "        vertical-align: top;\n",
       "    }\n",
       "\n",
       "    .dataframe thead th {\n",
       "        text-align: right;\n",
       "    }\n",
       "</style>\n",
       "<table border=\"1\" class=\"dataframe\">\n",
       "  <thead>\n",
       "    <tr style=\"text-align: right;\">\n",
       "      <th></th>\n",
       "      <th>DBN</th>\n",
       "      <th>School Name</th>\n",
       "      <th>Grade Level</th>\n",
       "      <th>Program Type</th>\n",
       "      <th>Number of Students</th>\n",
       "      <th>Number of Classes</th>\n",
       "      <th>Average Class Size</th>\n",
       "      <th>Minimum Class Size</th>\n",
       "      <th>Maximum Class Size</th>\n",
       "      <th>max_class_size_clean</th>\n",
       "      <th>bid</th>\n",
       "    </tr>\n",
       "  </thead>\n",
       "  <tbody>\n",
       "    <tr>\n",
       "      <th>18</th>\n",
       "      <td>01M020</td>\n",
       "      <td>PS 020 ANNA SILVER</td>\n",
       "      <td>K</td>\n",
       "      <td>Gen Ed</td>\n",
       "      <td>33</td>\n",
       "      <td>2</td>\n",
       "      <td>16.5</td>\n",
       "      <td>&lt;15</td>\n",
       "      <td>20</td>\n",
       "      <td>20</td>\n",
       "      <td>M020</td>\n",
       "    </tr>\n",
       "    <tr>\n",
       "      <th>20</th>\n",
       "      <td>01M020</td>\n",
       "      <td>PS 020 ANNA SILVER</td>\n",
       "      <td>1</td>\n",
       "      <td>Gen Ed</td>\n",
       "      <td>31</td>\n",
       "      <td>2</td>\n",
       "      <td>15.5</td>\n",
       "      <td>15</td>\n",
       "      <td>16</td>\n",
       "      <td>16</td>\n",
       "      <td>M020</td>\n",
       "    </tr>\n",
       "    <tr>\n",
       "      <th>22</th>\n",
       "      <td>01M020</td>\n",
       "      <td>PS 020 ANNA SILVER</td>\n",
       "      <td>2</td>\n",
       "      <td>Gen Ed</td>\n",
       "      <td>24</td>\n",
       "      <td>2</td>\n",
       "      <td>12.0</td>\n",
       "      <td>&lt;15</td>\n",
       "      <td>15</td>\n",
       "      <td>15</td>\n",
       "      <td>M020</td>\n",
       "    </tr>\n",
       "    <tr>\n",
       "      <th>24</th>\n",
       "      <td>01M020</td>\n",
       "      <td>PS 020 ANNA SILVER</td>\n",
       "      <td>3</td>\n",
       "      <td>Gen Ed</td>\n",
       "      <td>30</td>\n",
       "      <td>3</td>\n",
       "      <td>10.0</td>\n",
       "      <td>&lt;15</td>\n",
       "      <td>&lt;15</td>\n",
       "      <td>15</td>\n",
       "      <td>M020</td>\n",
       "    </tr>\n",
       "    <tr>\n",
       "      <th>26</th>\n",
       "      <td>01M020</td>\n",
       "      <td>PS 020 ANNA SILVER</td>\n",
       "      <td>4</td>\n",
       "      <td>Gen Ed</td>\n",
       "      <td>18</td>\n",
       "      <td>2</td>\n",
       "      <td>9.0</td>\n",
       "      <td>&lt;15</td>\n",
       "      <td>&lt;15</td>\n",
       "      <td>15</td>\n",
       "      <td>M020</td>\n",
       "    </tr>\n",
       "  </tbody>\n",
       "</table>\n",
       "</div>"
      ],
      "text/plain": [
       "       DBN         School Name Grade Level Program Type  Number of Students  \\\n",
       "18  01M020  PS 020 ANNA SILVER           K       Gen Ed                  33   \n",
       "20  01M020  PS 020 ANNA SILVER           1       Gen Ed                  31   \n",
       "22  01M020  PS 020 ANNA SILVER           2       Gen Ed                  24   \n",
       "24  01M020  PS 020 ANNA SILVER           3       Gen Ed                  30   \n",
       "26  01M020  PS 020 ANNA SILVER           4       Gen Ed                  18   \n",
       "\n",
       "    Number of Classes  Average Class Size Minimum Class Size  \\\n",
       "18                  2                16.5                <15   \n",
       "20                  2                15.5                 15   \n",
       "22                  2                12.0                <15   \n",
       "24                  3                10.0                <15   \n",
       "26                  2                 9.0                <15   \n",
       "\n",
       "   Maximum Class Size  max_class_size_clean   bid  \n",
       "18                 20                    20  M020  \n",
       "20                 16                    16  M020  \n",
       "22                 15                    15  M020  \n",
       "24                <15                    15  M020  \n",
       "26                <15                    15  M020  "
      ]
     },
     "execution_count": 58,
     "metadata": {},
     "output_type": "execute_result"
    }
   ],
   "source": [
    "class_size_new.head()"
   ]
  },
  {
   "cell_type": "markdown",
   "id": "41db69ba",
   "metadata": {},
   "source": [
    "Now, to get the total number of students in each school, I'll have to: \n",
    "- Multiply `Number of Classes` and `Number of Students` (let's assume this is per class)\n",
    "- Sum the total number of students across all classes in a school. "
   ]
  },
  {
   "cell_type": "code",
   "execution_count": 59,
   "id": "57b0347a",
   "metadata": {},
   "outputs": [
    {
     "name": "stderr",
     "output_type": "stream",
     "text": [
      "/var/folders/c5/dps3lj6n2sz8zkk_381lj9b1hnpv4f/T/ipykernel_85612/4113767118.py:1: SettingWithCopyWarning: \n",
      "A value is trying to be set on a copy of a slice from a DataFrame.\n",
      "Try using .loc[row_indexer,col_indexer] = value instead\n",
      "\n",
      "See the caveats in the documentation: https://pandas.pydata.org/pandas-docs/stable/user_guide/indexing.html#returning-a-view-versus-a-copy\n",
      "  class_size_new['total_students_in_grade'] = class_size_new['Number of Students'] * class_size_new['Number of Classes']\n"
     ]
    }
   ],
   "source": [
    "class_size_new['total_students_in_grade'] = class_size_new['Number of Students'] * class_size_new['Number of Classes']\n",
    "# Yes, ignore the SettingWithCopyWarning. "
   ]
  },
  {
   "cell_type": "code",
   "execution_count": 60,
   "id": "35e5abb3",
   "metadata": {},
   "outputs": [
    {
     "data": {
      "text/html": [
       "<div>\n",
       "<style scoped>\n",
       "    .dataframe tbody tr th:only-of-type {\n",
       "        vertical-align: middle;\n",
       "    }\n",
       "\n",
       "    .dataframe tbody tr th {\n",
       "        vertical-align: top;\n",
       "    }\n",
       "\n",
       "    .dataframe thead th {\n",
       "        text-align: right;\n",
       "    }\n",
       "</style>\n",
       "<table border=\"1\" class=\"dataframe\">\n",
       "  <thead>\n",
       "    <tr style=\"text-align: right;\">\n",
       "      <th></th>\n",
       "      <th>DBN</th>\n",
       "      <th>School Name</th>\n",
       "      <th>Grade Level</th>\n",
       "      <th>Program Type</th>\n",
       "      <th>Number of Students</th>\n",
       "      <th>Number of Classes</th>\n",
       "      <th>Average Class Size</th>\n",
       "      <th>Minimum Class Size</th>\n",
       "      <th>Maximum Class Size</th>\n",
       "      <th>max_class_size_clean</th>\n",
       "      <th>bid</th>\n",
       "      <th>total_students_in_grade</th>\n",
       "    </tr>\n",
       "  </thead>\n",
       "  <tbody>\n",
       "    <tr>\n",
       "      <th>18</th>\n",
       "      <td>01M020</td>\n",
       "      <td>PS 020 ANNA SILVER</td>\n",
       "      <td>K</td>\n",
       "      <td>Gen Ed</td>\n",
       "      <td>33</td>\n",
       "      <td>2</td>\n",
       "      <td>16.5</td>\n",
       "      <td>&lt;15</td>\n",
       "      <td>20</td>\n",
       "      <td>20</td>\n",
       "      <td>M020</td>\n",
       "      <td>66</td>\n",
       "    </tr>\n",
       "    <tr>\n",
       "      <th>20</th>\n",
       "      <td>01M020</td>\n",
       "      <td>PS 020 ANNA SILVER</td>\n",
       "      <td>1</td>\n",
       "      <td>Gen Ed</td>\n",
       "      <td>31</td>\n",
       "      <td>2</td>\n",
       "      <td>15.5</td>\n",
       "      <td>15</td>\n",
       "      <td>16</td>\n",
       "      <td>16</td>\n",
       "      <td>M020</td>\n",
       "      <td>62</td>\n",
       "    </tr>\n",
       "    <tr>\n",
       "      <th>22</th>\n",
       "      <td>01M020</td>\n",
       "      <td>PS 020 ANNA SILVER</td>\n",
       "      <td>2</td>\n",
       "      <td>Gen Ed</td>\n",
       "      <td>24</td>\n",
       "      <td>2</td>\n",
       "      <td>12.0</td>\n",
       "      <td>&lt;15</td>\n",
       "      <td>15</td>\n",
       "      <td>15</td>\n",
       "      <td>M020</td>\n",
       "      <td>48</td>\n",
       "    </tr>\n",
       "    <tr>\n",
       "      <th>24</th>\n",
       "      <td>01M020</td>\n",
       "      <td>PS 020 ANNA SILVER</td>\n",
       "      <td>3</td>\n",
       "      <td>Gen Ed</td>\n",
       "      <td>30</td>\n",
       "      <td>3</td>\n",
       "      <td>10.0</td>\n",
       "      <td>&lt;15</td>\n",
       "      <td>&lt;15</td>\n",
       "      <td>15</td>\n",
       "      <td>M020</td>\n",
       "      <td>90</td>\n",
       "    </tr>\n",
       "    <tr>\n",
       "      <th>26</th>\n",
       "      <td>01M020</td>\n",
       "      <td>PS 020 ANNA SILVER</td>\n",
       "      <td>4</td>\n",
       "      <td>Gen Ed</td>\n",
       "      <td>18</td>\n",
       "      <td>2</td>\n",
       "      <td>9.0</td>\n",
       "      <td>&lt;15</td>\n",
       "      <td>&lt;15</td>\n",
       "      <td>15</td>\n",
       "      <td>M020</td>\n",
       "      <td>36</td>\n",
       "    </tr>\n",
       "  </tbody>\n",
       "</table>\n",
       "</div>"
      ],
      "text/plain": [
       "       DBN         School Name Grade Level Program Type  Number of Students  \\\n",
       "18  01M020  PS 020 ANNA SILVER           K       Gen Ed                  33   \n",
       "20  01M020  PS 020 ANNA SILVER           1       Gen Ed                  31   \n",
       "22  01M020  PS 020 ANNA SILVER           2       Gen Ed                  24   \n",
       "24  01M020  PS 020 ANNA SILVER           3       Gen Ed                  30   \n",
       "26  01M020  PS 020 ANNA SILVER           4       Gen Ed                  18   \n",
       "\n",
       "    Number of Classes  Average Class Size Minimum Class Size  \\\n",
       "18                  2                16.5                <15   \n",
       "20                  2                15.5                 15   \n",
       "22                  2                12.0                <15   \n",
       "24                  3                10.0                <15   \n",
       "26                  2                 9.0                <15   \n",
       "\n",
       "   Maximum Class Size  max_class_size_clean   bid  total_students_in_grade  \n",
       "18                 20                    20  M020                       66  \n",
       "20                 16                    16  M020                       62  \n",
       "22                 15                    15  M020                       48  \n",
       "24                <15                    15  M020                       90  \n",
       "26                <15                    15  M020                       36  "
      ]
     },
     "execution_count": 60,
     "metadata": {},
     "output_type": "execute_result"
    }
   ],
   "source": [
    "class_size_new.head()"
   ]
  },
  {
   "cell_type": "markdown",
   "id": "8b52442c",
   "metadata": {},
   "source": [
    "Now let's groupby `bid` and sum all the grades within each school. "
   ]
  },
  {
   "cell_type": "code",
   "execution_count": 61,
   "id": "7a0d43db",
   "metadata": {},
   "outputs": [
    {
     "name": "stderr",
     "output_type": "stream",
     "text": [
      "/var/folders/c5/dps3lj6n2sz8zkk_381lj9b1hnpv4f/T/ipykernel_85612/635825655.py:1: FutureWarning: The default value of numeric_only in DataFrameGroupBy.sum is deprecated. In a future version, numeric_only will default to False. Either specify numeric_only or select only columns which should be valid for the function.\n",
      "  class_size_new.groupby('bid').sum()\n"
     ]
    },
    {
     "data": {
      "text/html": [
       "<div>\n",
       "<style scoped>\n",
       "    .dataframe tbody tr th:only-of-type {\n",
       "        vertical-align: middle;\n",
       "    }\n",
       "\n",
       "    .dataframe tbody tr th {\n",
       "        vertical-align: top;\n",
       "    }\n",
       "\n",
       "    .dataframe thead th {\n",
       "        text-align: right;\n",
       "    }\n",
       "</style>\n",
       "<table border=\"1\" class=\"dataframe\">\n",
       "  <thead>\n",
       "    <tr style=\"text-align: right;\">\n",
       "      <th></th>\n",
       "      <th>Number of Students</th>\n",
       "      <th>Number of Classes</th>\n",
       "      <th>Average Class Size</th>\n",
       "      <th>max_class_size_clean</th>\n",
       "      <th>total_students_in_grade</th>\n",
       "    </tr>\n",
       "    <tr>\n",
       "      <th>bid</th>\n",
       "      <th></th>\n",
       "      <th></th>\n",
       "      <th></th>\n",
       "      <th></th>\n",
       "      <th></th>\n",
       "    </tr>\n",
       "  </thead>\n",
       "  <tbody>\n",
       "    <tr>\n",
       "      <th>K001</th>\n",
       "      <td>492</td>\n",
       "      <td>25</td>\n",
       "      <td>117.4</td>\n",
       "      <td>131</td>\n",
       "      <td>2121</td>\n",
       "    </tr>\n",
       "    <tr>\n",
       "      <th>K002</th>\n",
       "      <td>226</td>\n",
       "      <td>10</td>\n",
       "      <td>66.7</td>\n",
       "      <td>75</td>\n",
       "      <td>783</td>\n",
       "    </tr>\n",
       "    <tr>\n",
       "      <th>K003</th>\n",
       "      <td>201</td>\n",
       "      <td>12</td>\n",
       "      <td>100.5</td>\n",
       "      <td>105</td>\n",
       "      <td>402</td>\n",
       "    </tr>\n",
       "    <tr>\n",
       "      <th>K005</th>\n",
       "      <td>70</td>\n",
       "      <td>4</td>\n",
       "      <td>70.0</td>\n",
       "      <td>75</td>\n",
       "      <td>70</td>\n",
       "    </tr>\n",
       "    <tr>\n",
       "      <th>K006</th>\n",
       "      <td>347</td>\n",
       "      <td>19</td>\n",
       "      <td>111.1</td>\n",
       "      <td>122</td>\n",
       "      <td>1169</td>\n",
       "    </tr>\n",
       "    <tr>\n",
       "      <th>...</th>\n",
       "      <td>...</td>\n",
       "      <td>...</td>\n",
       "      <td>...</td>\n",
       "      <td>...</td>\n",
       "      <td>...</td>\n",
       "    </tr>\n",
       "    <tr>\n",
       "      <th>X584</th>\n",
       "      <td>118</td>\n",
       "      <td>6</td>\n",
       "      <td>59.0</td>\n",
       "      <td>65</td>\n",
       "      <td>236</td>\n",
       "    </tr>\n",
       "    <tr>\n",
       "      <th>X593</th>\n",
       "      <td>63</td>\n",
       "      <td>3</td>\n",
       "      <td>63.0</td>\n",
       "      <td>63</td>\n",
       "      <td>63</td>\n",
       "    </tr>\n",
       "    <tr>\n",
       "      <th>X594</th>\n",
       "      <td>104</td>\n",
       "      <td>5</td>\n",
       "      <td>60.0</td>\n",
       "      <td>62</td>\n",
       "      <td>192</td>\n",
       "    </tr>\n",
       "    <tr>\n",
       "      <th>X595</th>\n",
       "      <td>111</td>\n",
       "      <td>6</td>\n",
       "      <td>111.0</td>\n",
       "      <td>111</td>\n",
       "      <td>111</td>\n",
       "    </tr>\n",
       "    <tr>\n",
       "      <th>X691</th>\n",
       "      <td>146</td>\n",
       "      <td>6</td>\n",
       "      <td>146.0</td>\n",
       "      <td>146</td>\n",
       "      <td>146</td>\n",
       "    </tr>\n",
       "  </tbody>\n",
       "</table>\n",
       "<p>1058 rows × 5 columns</p>\n",
       "</div>"
      ],
      "text/plain": [
       "      Number of Students  Number of Classes  Average Class Size  \\\n",
       "bid                                                               \n",
       "K001                 492                 25               117.4   \n",
       "K002                 226                 10                66.7   \n",
       "K003                 201                 12               100.5   \n",
       "K005                  70                  4                70.0   \n",
       "K006                 347                 19               111.1   \n",
       "...                  ...                ...                 ...   \n",
       "X584                 118                  6                59.0   \n",
       "X593                  63                  3                63.0   \n",
       "X594                 104                  5                60.0   \n",
       "X595                 111                  6               111.0   \n",
       "X691                 146                  6               146.0   \n",
       "\n",
       "      max_class_size_clean  total_students_in_grade  \n",
       "bid                                                  \n",
       "K001                   131                     2121  \n",
       "K002                    75                      783  \n",
       "K003                   105                      402  \n",
       "K005                    75                       70  \n",
       "K006                   122                     1169  \n",
       "...                    ...                      ...  \n",
       "X584                    65                      236  \n",
       "X593                    63                       63  \n",
       "X594                    62                      192  \n",
       "X595                   111                      111  \n",
       "X691                   146                      146  \n",
       "\n",
       "[1058 rows x 5 columns]"
      ]
     },
     "execution_count": 61,
     "metadata": {},
     "output_type": "execute_result"
    }
   ],
   "source": [
    "class_size_new.groupby('bid').sum()"
   ]
  },
  {
   "cell_type": "markdown",
   "id": "50765542",
   "metadata": {},
   "source": [
    "Again, we'll just need the `total_students_in_grade` column here. And I'm going to do the `reset_index()` trick again. This time, I'm going to string all these steps together"
   ]
  },
  {
   "cell_type": "code",
   "execution_count": 62,
   "id": "c8a8343d",
   "metadata": {},
   "outputs": [
    {
     "name": "stderr",
     "output_type": "stream",
     "text": [
      "/var/folders/c5/dps3lj6n2sz8zkk_381lj9b1hnpv4f/T/ipykernel_85612/597514235.py:7: FutureWarning: The default value of numeric_only in DataFrameGroupBy.sum is deprecated. In a future version, numeric_only will default to False. Either specify numeric_only or select only columns which should be valid for the function.\n",
      "  class_size_new_agg = class_size_new.groupby('bid').sum()['total_students_in_grade'].reset_index()\n"
     ]
    }
   ],
   "source": [
    "# Pandas reads this code from left to right and will apply each function on the right to the everything on the left\n",
    "# So, first we are going to group by bid\n",
    "# Then we are going to sum each group\n",
    "# Then from the entire summed dataframe, we are going to select the total_students_in_grade column\n",
    "# Selecting that series, we are going to reset the index to create our new dataframe. .\n",
    "\n",
    "class_size_new_agg = class_size_new.groupby('bid').sum()['total_students_in_grade'].reset_index()"
   ]
  },
  {
   "cell_type": "code",
   "execution_count": 63,
   "id": "bed44186",
   "metadata": {},
   "outputs": [
    {
     "data": {
      "text/html": [
       "<div>\n",
       "<style scoped>\n",
       "    .dataframe tbody tr th:only-of-type {\n",
       "        vertical-align: middle;\n",
       "    }\n",
       "\n",
       "    .dataframe tbody tr th {\n",
       "        vertical-align: top;\n",
       "    }\n",
       "\n",
       "    .dataframe thead th {\n",
       "        text-align: right;\n",
       "    }\n",
       "</style>\n",
       "<table border=\"1\" class=\"dataframe\">\n",
       "  <thead>\n",
       "    <tr style=\"text-align: right;\">\n",
       "      <th></th>\n",
       "      <th>bid</th>\n",
       "      <th>total_students_in_grade</th>\n",
       "    </tr>\n",
       "  </thead>\n",
       "  <tbody>\n",
       "    <tr>\n",
       "      <th>0</th>\n",
       "      <td>K001</td>\n",
       "      <td>2121</td>\n",
       "    </tr>\n",
       "    <tr>\n",
       "      <th>1</th>\n",
       "      <td>K002</td>\n",
       "      <td>783</td>\n",
       "    </tr>\n",
       "    <tr>\n",
       "      <th>2</th>\n",
       "      <td>K003</td>\n",
       "      <td>402</td>\n",
       "    </tr>\n",
       "    <tr>\n",
       "      <th>3</th>\n",
       "      <td>K005</td>\n",
       "      <td>70</td>\n",
       "    </tr>\n",
       "    <tr>\n",
       "      <th>4</th>\n",
       "      <td>K006</td>\n",
       "      <td>1169</td>\n",
       "    </tr>\n",
       "  </tbody>\n",
       "</table>\n",
       "</div>"
      ],
      "text/plain": [
       "    bid  total_students_in_grade\n",
       "0  K001                     2121\n",
       "1  K002                      783\n",
       "2  K003                      402\n",
       "3  K005                       70\n",
       "4  K006                     1169"
      ]
     },
     "execution_count": 63,
     "metadata": {},
     "output_type": "execute_result"
    }
   ],
   "source": [
    "class_size_new_agg.head()"
   ]
  },
  {
   "cell_type": "markdown",
   "id": "9d4b6ef1",
   "metadata": {},
   "source": [
    "Finally, we get to do our merge. We are going to merge \n",
    "- `projects_under_cont_agg`\n",
    "- `class_size_new_agg`"
   ]
  },
  {
   "cell_type": "code",
   "execution_count": 64,
   "id": "1cdad3ba",
   "metadata": {},
   "outputs": [
    {
     "data": {
      "text/html": [
       "<div>\n",
       "<style scoped>\n",
       "    .dataframe tbody tr th:only-of-type {\n",
       "        vertical-align: middle;\n",
       "    }\n",
       "\n",
       "    .dataframe tbody tr th {\n",
       "        vertical-align: top;\n",
       "    }\n",
       "\n",
       "    .dataframe thead th {\n",
       "        text-align: right;\n",
       "    }\n",
       "</style>\n",
       "<table border=\"1\" class=\"dataframe\">\n",
       "  <thead>\n",
       "    <tr style=\"text-align: right;\">\n",
       "      <th></th>\n",
       "      <th>bid</th>\n",
       "      <th>total_students_in_grade</th>\n",
       "      <th>Building ID</th>\n",
       "      <th>Construction Award</th>\n",
       "    </tr>\n",
       "  </thead>\n",
       "  <tbody>\n",
       "    <tr>\n",
       "      <th>0</th>\n",
       "      <td>K001</td>\n",
       "      <td>2121</td>\n",
       "      <td>K001</td>\n",
       "      <td>4409425.0</td>\n",
       "    </tr>\n",
       "    <tr>\n",
       "      <th>1</th>\n",
       "      <td>K002</td>\n",
       "      <td>783</td>\n",
       "      <td>K002</td>\n",
       "      <td>63498798.0</td>\n",
       "    </tr>\n",
       "    <tr>\n",
       "      <th>2</th>\n",
       "      <td>K003</td>\n",
       "      <td>402</td>\n",
       "      <td>K003</td>\n",
       "      <td>26937800.0</td>\n",
       "    </tr>\n",
       "    <tr>\n",
       "      <th>3</th>\n",
       "      <td>K005</td>\n",
       "      <td>70</td>\n",
       "      <td>K005</td>\n",
       "      <td>17004700.0</td>\n",
       "    </tr>\n",
       "    <tr>\n",
       "      <th>4</th>\n",
       "      <td>K006</td>\n",
       "      <td>1169</td>\n",
       "      <td>NaN</td>\n",
       "      <td>NaN</td>\n",
       "    </tr>\n",
       "    <tr>\n",
       "      <th>...</th>\n",
       "      <td>...</td>\n",
       "      <td>...</td>\n",
       "      <td>...</td>\n",
       "      <td>...</td>\n",
       "    </tr>\n",
       "    <tr>\n",
       "      <th>1053</th>\n",
       "      <td>X584</td>\n",
       "      <td>236</td>\n",
       "      <td>NaN</td>\n",
       "      <td>NaN</td>\n",
       "    </tr>\n",
       "    <tr>\n",
       "      <th>1054</th>\n",
       "      <td>X593</td>\n",
       "      <td>63</td>\n",
       "      <td>NaN</td>\n",
       "      <td>NaN</td>\n",
       "    </tr>\n",
       "    <tr>\n",
       "      <th>1055</th>\n",
       "      <td>X594</td>\n",
       "      <td>192</td>\n",
       "      <td>NaN</td>\n",
       "      <td>NaN</td>\n",
       "    </tr>\n",
       "    <tr>\n",
       "      <th>1056</th>\n",
       "      <td>X595</td>\n",
       "      <td>111</td>\n",
       "      <td>NaN</td>\n",
       "      <td>NaN</td>\n",
       "    </tr>\n",
       "    <tr>\n",
       "      <th>1057</th>\n",
       "      <td>X691</td>\n",
       "      <td>146</td>\n",
       "      <td>NaN</td>\n",
       "      <td>NaN</td>\n",
       "    </tr>\n",
       "  </tbody>\n",
       "</table>\n",
       "<p>1058 rows × 4 columns</p>\n",
       "</div>"
      ],
      "text/plain": [
       "       bid  total_students_in_grade Building ID  Construction Award\n",
       "0     K001                     2121        K001           4409425.0\n",
       "1     K002                      783        K002          63498798.0\n",
       "2     K003                      402        K003          26937800.0\n",
       "3     K005                       70        K005          17004700.0\n",
       "4     K006                     1169         NaN                 NaN\n",
       "...    ...                      ...         ...                 ...\n",
       "1053  X584                      236         NaN                 NaN\n",
       "1054  X593                       63         NaN                 NaN\n",
       "1055  X594                      192         NaN                 NaN\n",
       "1056  X595                      111         NaN                 NaN\n",
       "1057  X691                      146         NaN                 NaN\n",
       "\n",
       "[1058 rows x 4 columns]"
      ]
     },
     "execution_count": 64,
     "metadata": {},
     "output_type": "execute_result"
    }
   ],
   "source": [
    "class_size_new_agg.merge(projects_under_const_agg,left_on='bid',right_on='Building ID', how='left')"
   ]
  },
  {
   "cell_type": "code",
   "execution_count": 65,
   "id": "71ba06c0",
   "metadata": {},
   "outputs": [],
   "source": [
    "merged_df = class_size_new_agg.merge(projects_under_const_agg,left_on='bid',right_on='Building ID', how='left')"
   ]
  },
  {
   "cell_type": "markdown",
   "id": "624b39cf",
   "metadata": {},
   "source": [
    "Ok, finally, to get to our answer, we're going to apply the `.corr()` function to our dataframe. The [documentation](https://pandas.pydata.org/docs/reference/api/pandas.DataFrame.corr.html) tells us that this function computes pairwise correlation of columns, excluding NA/null values.\n",
    "\n",
    "The default method is a 'Pearson' correlation, with all methods being: \n",
    "- pearson : standard correlation coefficient\n",
    "- kendall : Kendall Tau correlation coefficient\n",
    "- spearman : Spearman rank correlation"
   ]
  },
  {
   "cell_type": "code",
   "execution_count": 66,
   "id": "103e9a3c",
   "metadata": {},
   "outputs": [
    {
     "name": "stderr",
     "output_type": "stream",
     "text": [
      "/var/folders/c5/dps3lj6n2sz8zkk_381lj9b1hnpv4f/T/ipykernel_85612/2175632114.py:2: FutureWarning: The default value of numeric_only in DataFrame.corr is deprecated. In a future version, it will default to False. Select only valid columns or specify the value of numeric_only to silence this warning.\n",
      "  merged_df.corr()\n"
     ]
    },
    {
     "data": {
      "text/html": [
       "<div>\n",
       "<style scoped>\n",
       "    .dataframe tbody tr th:only-of-type {\n",
       "        vertical-align: middle;\n",
       "    }\n",
       "\n",
       "    .dataframe tbody tr th {\n",
       "        vertical-align: top;\n",
       "    }\n",
       "\n",
       "    .dataframe thead th {\n",
       "        text-align: right;\n",
       "    }\n",
       "</style>\n",
       "<table border=\"1\" class=\"dataframe\">\n",
       "  <thead>\n",
       "    <tr style=\"text-align: right;\">\n",
       "      <th></th>\n",
       "      <th>total_students_in_grade</th>\n",
       "      <th>Construction Award</th>\n",
       "    </tr>\n",
       "  </thead>\n",
       "  <tbody>\n",
       "    <tr>\n",
       "      <th>total_students_in_grade</th>\n",
       "      <td>1.000000</td>\n",
       "      <td>0.078964</td>\n",
       "    </tr>\n",
       "    <tr>\n",
       "      <th>Construction Award</th>\n",
       "      <td>0.078964</td>\n",
       "      <td>1.000000</td>\n",
       "    </tr>\n",
       "  </tbody>\n",
       "</table>\n",
       "</div>"
      ],
      "text/plain": [
       "                         total_students_in_grade  Construction Award\n",
       "total_students_in_grade                 1.000000            0.078964\n",
       "Construction Award                      0.078964            1.000000"
      ]
     },
     "execution_count": 66,
     "metadata": {},
     "output_type": "execute_result"
    }
   ],
   "source": [
    "# Yikes, 0.079 correlation. I guess I assumed wrong that there would be an strong correlation between the number of students in a school and the amount of money spent on construction.\n",
    "merged_df.corr()"
   ]
  },
  {
   "cell_type": "code",
   "execution_count": 72,
   "id": "be4d00ad",
   "metadata": {},
   "outputs": [
    {
     "name": "stderr",
     "output_type": "stream",
     "text": [
      "/var/folders/c5/dps3lj6n2sz8zkk_381lj9b1hnpv4f/T/ipykernel_85612/1569521364.py:3: FutureWarning: The default value of numeric_only in DataFrame.corr is deprecated. In a future version, it will default to False. Select only valid columns or specify the value of numeric_only to silence this warning.\n",
      "  merged_df.corr(method = 'spearman')\n"
     ]
    },
    {
     "data": {
      "text/html": [
       "<div>\n",
       "<style scoped>\n",
       "    .dataframe tbody tr th:only-of-type {\n",
       "        vertical-align: middle;\n",
       "    }\n",
       "\n",
       "    .dataframe tbody tr th {\n",
       "        vertical-align: top;\n",
       "    }\n",
       "\n",
       "    .dataframe thead th {\n",
       "        text-align: right;\n",
       "    }\n",
       "</style>\n",
       "<table border=\"1\" class=\"dataframe\">\n",
       "  <thead>\n",
       "    <tr style=\"text-align: right;\">\n",
       "      <th></th>\n",
       "      <th>total_students_in_grade</th>\n",
       "      <th>Construction Award</th>\n",
       "    </tr>\n",
       "  </thead>\n",
       "  <tbody>\n",
       "    <tr>\n",
       "      <th>total_students_in_grade</th>\n",
       "      <td>1.000000</td>\n",
       "      <td>0.151567</td>\n",
       "    </tr>\n",
       "    <tr>\n",
       "      <th>Construction Award</th>\n",
       "      <td>0.151567</td>\n",
       "      <td>1.000000</td>\n",
       "    </tr>\n",
       "  </tbody>\n",
       "</table>\n",
       "</div>"
      ],
      "text/plain": [
       "                         total_students_in_grade  Construction Award\n",
       "total_students_in_grade                 1.000000            0.151567\n",
       "Construction Award                      0.151567            1.000000"
      ]
     },
     "execution_count": 72,
     "metadata": {},
     "output_type": "execute_result"
    }
   ],
   "source": [
    "# Using a rank correlation instead of a linear correlation hasn't improved the correlation much.\n",
    "# (Don't worry about what this is right now.)\n",
    "merged_df.corr(method = 'spearman')"
   ]
  },
  {
   "cell_type": "markdown",
   "id": "0d5df030",
   "metadata": {},
   "source": [
    "This was a long lecture, no more exercises!"
   ]
  }
 ],
 "metadata": {
  "kernelspec": {
   "display_name": "gds_py",
   "language": "python",
   "name": "python3"
  },
  "language_info": {
   "codemirror_mode": {
    "name": "ipython",
    "version": 3
   },
   "file_extension": ".py",
   "mimetype": "text/x-python",
   "name": "python",
   "nbconvert_exporter": "python",
   "pygments_lexer": "ipython3",
   "version": "3.9.15"
  },
  "vscode": {
   "interpreter": {
    "hash": "b80695b476f5112b1e40ae080b824e38cf906d76a0e12ade1950d26e8e6e2781"
   }
  }
 },
 "nbformat": 4,
 "nbformat_minor": 5
}
