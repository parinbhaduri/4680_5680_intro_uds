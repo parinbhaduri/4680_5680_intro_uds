{
 "cells": [
  {
   "attachments": {},
   "cell_type": "markdown",
   "id": "homeless-heart",
   "metadata": {},
   "source": [
    "# Learning goals\n",
    "After today's lesson you should be able to:\n",
    "- Use the Google Maps API via the `googlemaps` library to: \n",
    "    - Find geometry routes between two points\n",
    "    - Geocode addresses\n",
    "    - Get points of interest\n",
    "- (Optional): Use `beautifulsoup` to scrape website information\n"
   ]
  },
  {
   "cell_type": "code",
   "execution_count": null,
   "id": "337fb4c4",
   "metadata": {},
   "outputs": [],
   "source": [
    "import pandas as pd\n",
    "import numpy as np\n",
    "import geopandas as gpd\n",
    "import contextily as cx\n",
    "\n",
    "import os\n",
    "\n",
    "import matplotlib.pyplot as plt\n",
    "%matplotlib inline\n",
    "\n",
    "import seaborn as sns\n",
    "sns.set_context(context='paper')\n",
    "\n",
    "os.getcwd()"
   ]
  },
  {
   "cell_type": "markdown",
   "id": "48bd8b51",
   "metadata": {},
   "source": [
    "\n",
    "# 1. Google Cloud\n",
    "\n",
    "Google Cloud is a set of \"cloud computing\" services that consists of physical assets like computers and hard drives, and virtual resources, like computing environments, that is often used for data storage and management, tools for computing and software development, machine learning, and more. \n",
    "\n",
    "You may have heard of Amazon AWS and Microsoft Azure, these are Amazon and Microsoft's cloud computing offerings that all have similar capabilities. \n",
    "\n",
    "To note: These \"cloud\" computers and services don't live in some ephemeral space. You can actually see the locations of [Google Data Centers](https://www.google.com/about/datacenters/locations/). \n",
    "\n",
    "This is what the Dalles, Oregon Google data center looks like from satellite imagery. It's just a giant building filled with a lot of computers:  \n",
    "<iframe src=\"https://www.google.com/maps/embed?pb=!1m18!1m12!1m3!1d1390.42297102674!2d-121.20177632936587!3d45.63191557459542!2m3!1f0!2f0!3f0!3m2!1i1024!2i768!4f13.1!3m3!1m2!1s0x54961ebdb45cdec5%3A0x4bde13efb5371001!2sThe%20Dalles%20Google%20Data%20Center!5e1!3m2!1sen!2sus!4v1676841727765!5m2!1sen!2sus\" width=\"1000\" height=\"600\"  style=\"display: block; margin: 0 auto\"  allowfullscreen=\"\" loading=\"lazy\" referrerpolicy=\"no-referrer-when-downgrade\"></iframe>\n",
    "\n",
    "The Google Maps API is a tool that allows us to use some of the engines and retrieve datasets underlying Google Maps.\n",
    "\n",
    "\n",
    "## 1.0 Getting started\n",
    "To get started, we need to **create an API key**. An API key is a code or id provided by the client that is passed to the API that allows it to identify which user/project is calling the API to keep track of your usage and access. It also allows you to keep track of your API usage for particular projects and applications. \n",
    "\n",
    "You'll need your Cornell account to proceed. Please refer my Slack message from earlier this week on the details. \n",
    "\n",
    "- Go to the [Google Cloud console](https://console.cloud.google.com/), which is your landing page for all Google computing services (geocoding API is one of many tools you can use through the Google Cloud).\n",
    "- If your default account is your personal gmail (like it is mine), make sure to switch it to your Cornell email on the top right-hand corner.\n",
    "- You'll have to agree to their terms of service before proceeding (I think). An [interesting read](https://cloud.google.com/terms/?authuser=1) for another time.\n",
    "- This should take you to a page like this:\n",
    "</figure>\n",
    "<img src=\"https://www.dropbox.com/s/wj9igmb9dhlb3ba/Screen%20Shot%202023-02-19%20at%204.29.43%20PM.png?dl=1\" alt=\"drawing\" width=\"1000\" style=\"display: block; margin: 0 auto\"/>\n",
    "</figure>\n",
    "\n",
    "- In the upper-left corner, click **Select a project** and **NEW PROJECT**. All API keys are associated with projects, which is more for developers who are using the services more heavily. This is so that we separate usage and keep track of what projects are using how much of which resources.\n",
    "</figure>\n",
    "<img src=\"https://www.dropbox.com/s/vwje4uz06tlvlo9/Screen%20Shot%202023-02-19%20at%204.33.29%20PM.png?dl=1\" alt=\"drawing\" width=\"1000\" style=\"display: block; margin: 0 auto\"/>\n",
    "</figure>\n",
    "\n",
    "- Here, input a project name. You'll need to create a **globally unique** name, all lower case, no spaces only dashes name. I'm calling this project `introUDS-wx233`. You can call yours `introUDS-YOURNETID`\n",
    "- Once you click ok it will take a few seconds to create the project.\n",
    "- In the console, select your new project `introUDS-wx233` (for me).\n",
    "- From here, go to the sidebar menu, select **Google Maps Platform->APIs**\n",
    "\n",
    "</figure>\n",
    "<img src=\"https://www.dropbox.com/s/ru6b367zd6jwh1l/Screen%20Shot%202023-02-19%20at%204.34.48%20PM.png?dl=1\" alt=\"drawing\" width=\"1000\" style=\"display: block; margin: 0 auto\"/>\n",
    "</figure>\n",
    "\n",
    "- You will be given an API key. Save that down somewhere. \n",
    "- You will also be asked to **Protect your API key** by limiting its use.\n",
    "    - Select **API restriction** and check all the APIs in the dropdown for now. \n",
    "    \n",
    "</figure>\n",
    "<img src=\"https://www.dropbox.com/s/ked2jfofqpqqpab/Screen%20Shot%202023-02-19%20at%204.37.33%20PM.png?dl=1\" alt=\"drawing\" width=\"1000\" style=\"display: block; margin: 0 auto\"/>\n",
    "</figure>\n",
    "\n"
   ]
  },
  {
   "cell_type": "markdown",
   "id": "8d3cf204",
   "metadata": {},
   "source": [
    "## 1.1 Saving your key as an environmental variable\n",
    "Because your API key (you may sometimes see them referred to ask \"tokens\") gives anyone who knows it the ability to use the API as you or your project, it is important that you don't publish it, just like you would not publish your passwords. \n",
    "\n",
    "How, then, can we create public notebooks, using a key, while keeping our API keys private?\n",
    "\n",
    "Note: It is sometimes ok to publish public APIs which are demonstration keys and have limits on their use. \n",
    "\n",
    "- One way is to manually replace your API key with a string like `YOUR-API-KEY-HERE` when you publish something. \n",
    "- Another is to save these to your system files using **environment variables**. \n",
    "\n",
    "**Environment variables** are variables saved onto your computer. \n",
    "\n",
    "\n",
    "Here we are going create an environmental variable called `GMAPS_API_KEY` that will point to our Google Maps API key as a string. Here we are following [conda's documentation](https://conda.io/projects/conda/en/latest/user-guide/tasks/manage-environments.html#setting-environment-variables)\n",
    "- Open up your **Anaconda Power Shell** and complete the following steps (your window will look different from mine, but the commands are the same)\n",
    "</figure>\n",
    "<img src=\"https://www.dropbox.com/s/hb4momsk2yp7nb9/Screen%20Shot%202023-02-19%20at%205.11.07%20PM.png?dl=1\" alt=\"drawing\" width=\"1000\" style=\"display: block; margin: 0 auto\"/>\n",
    "</figure>\n",
    "\n",
    "Activate our `gds_py` environment. \n",
    "</figure>\n",
    "<img src=\"https://www.dropbox.com/s/v8b4copn5cohrle/Screen%20Shot%202023-02-19%20at%205.11.48%20PM.png?dl=1\" alt=\"drawing\" width=\"1000\" style=\"display: block; margin: 0 auto\"/>\n",
    "</figure>\n",
    "\n",
    "Get help on what we can do with the config vars. See that the `-h` is a flag for getting help on what some functions can do with the following command: \n",
    "```\n",
    "conda env config vars -h\n",
    "```\n",
    "\n",
    "</figure>\n",
    "<img src=\"https://www.dropbox.com/s/xssb60iqgylp1pl/Screen%20Shot%202023-02-19%20at%205.12.37%20PM.png?dl=1\" alt=\"drawing\" width=\"1000\" style=\"display: block; margin: 0 auto\"/>\n",
    "</figure>\n",
    "\n",
    "Use the snippet from one of the examples given to us by the help function. Make sure to include the quotes around your api key. \n",
    "```\n",
    "conda env config vars set GMAP_API_KEY='insert-your-api-key-here'\n",
    "```\n",
    "</figure>\n",
    "<img src=\"https://www.dropbox.com/s/zrhhv4afnaxbwx2/Screen%20Shot%202023-02-19%20at%205.19.36%20PM.png?dl=1\" alt=\"drawing\" width=\"1000\" style=\"display: block; margin: 0 auto\"/>\n",
    "</figure>\n",
    "\n",
    "\n",
    "Now deactivate your environment with the following. You might also need to also restart your Anaconda. \n",
    "```\n",
    "conda deactivate\n",
    "```\n",
    "\n",
    "If you are working with conda and jupyter lab from the command line: \n",
    "```\n",
    "conda activate gds_py\n",
    "```\n",
    "\n",
    "Otherwise, re-open your Anaconda program and restart this jupyter lab notebook. Re-run our imports cell above.\n",
    "\n"
   ]
  },
  {
   "cell_type": "code",
   "execution_count": null,
   "id": "5de99ec2",
   "metadata": {},
   "outputs": [],
   "source": [
    "api_key = os.environ.get('GMAP_API_KEY')\n",
    "\n",
    "\n",
    "## Your API key should show up here\n",
    "print(api_key)"
   ]
  },
  {
   "cell_type": "markdown",
   "id": "69f5e74a",
   "metadata": {},
   "source": [
    "## 1.2 Installing the `googlemaps` library\n",
    "Here, the `-U` flag stands for installing the latest version of the library (which )\n"
   ]
  },
  {
   "cell_type": "code",
   "execution_count": null,
   "id": "12681847",
   "metadata": {},
   "outputs": [],
   "source": [
    "!pip install -U googlemaps"
   ]
  },
  {
   "cell_type": "markdown",
   "id": "515e7757",
   "metadata": {},
   "source": [
    "## 1.3 Geocoding\n",
    "[Google Geocoding API documentation](https://developers.google.com/maps/documentation/geocoding/overview)"
   ]
  },
  {
   "cell_type": "code",
   "execution_count": null,
   "id": "c02a00fb",
   "metadata": {},
   "outputs": [],
   "source": [
    "import googlemaps\n",
    "from datetime import datetime\n",
    "\n",
    "gmaps = googlemaps.Client(key=api_key)"
   ]
  },
  {
   "cell_type": "code",
   "execution_count": null,
   "id": "67572f54",
   "metadata": {},
   "outputs": [],
   "source": [
    "# Geocoding an address\n",
    "geocode_result = gmaps.geocode(\"921 University Ave, Ithaca, NY 14853\")\n"
   ]
  },
  {
   "cell_type": "code",
   "execution_count": null,
   "id": "5932676c",
   "metadata": {},
   "outputs": [],
   "source": [
    "geocode_result"
   ]
  },
  {
   "cell_type": "markdown",
   "id": "b85e9385",
   "metadata": {},
   "source": [
    "We were returned a JSON, which is just a nested dictionary of key-value pairs. \n",
    "\n",
    "In its simplest version, this is how JSONs and dictionaries are structured: \n",
    "\n",
    "</figure>\n",
    "<img src=\"https://www.softwaretestinghelp.com/wp-content/qa/uploads/2017/12/Including-Car-in-Employee-JSON.jpg\" alt=\"drawing\" width=\"600\" style=\"display: block; margin: 0 auto\"/>\n",
    "</figure>\n",
    "\n",
    "What \"nested\" means is just that a the value associated with a key can be a dictionary itself. \n",
    "</figure>\n",
    "<img src=\"https://help.rapid7.com/insightidr/content/resources/images/json/nested-json.png\" alt=\"drawing\" width=\"600\" style=\"display: block; margin: 0 auto\"/>\n",
    "</figure>\n",
    "\n",
    "\n",
    "\n",
    "Let's dig into the part of the JSON that we actually care about, which is that `'geometry': {'location': {'lat': 42.4512236, 'lng': -76.4828622},` section. "
   ]
  },
  {
   "cell_type": "code",
   "execution_count": null,
   "id": "631fbdd3",
   "metadata": {},
   "outputs": [],
   "source": [
    "### That was a  list, so let's get the first value\n",
    "geocode_result[0]"
   ]
  },
  {
   "cell_type": "code",
   "execution_count": null,
   "id": "a39f9800",
   "metadata": {},
   "outputs": [],
   "source": [
    "geocode_result[0]['geometry']['location']"
   ]
  },
  {
   "cell_type": "code",
   "execution_count": null,
   "id": "d281c2b1",
   "metadata": {},
   "outputs": [],
   "source": [
    "print(geocode_result[0]['geometry']['location']['lng'],\n",
    "     geocode_result[0]['geometry']['location']['lat'])"
   ]
  },
  {
   "cell_type": "markdown",
   "id": "8edcb4fb",
   "metadata": {},
   "source": [
    "Now that we have the lng/lat, you can see how we can turn these into geometries. "
   ]
  },
  {
   "cell_type": "markdown",
   "id": "797121e4",
   "metadata": {},
   "source": [
    "## 1.2.1 Geocoding a df\n",
    "Let's use an example that has multiple rows. The geocoder only processes 1 request at a time, so we have to run the geocoder on each row of a df. \n",
    "\n",
    "Let's take a look at the Department of Building's Permit Issuance dataset. The DOB requires a permit for construction and demolition activities. "
   ]
  },
  {
   "cell_type": "code",
   "execution_count": null,
   "id": "46b1dd0f",
   "metadata": {},
   "outputs": [],
   "source": [
    "dob_permits_url = 'https://data.cityofnewyork.us/resource/ipu4-2q9a.json?$limit=5'\n",
    "dob_permits= pd.read_json(dob_permits_url)"
   ]
  },
  {
   "cell_type": "code",
   "execution_count": null,
   "id": "2028f0b4",
   "metadata": {},
   "outputs": [],
   "source": [
    "dob_permits"
   ]
  },
  {
   "cell_type": "markdown",
   "id": "2bcbdfc5",
   "metadata": {},
   "source": [
    "See that we have different columns that refer to the \n",
    "- House number\n",
    "- Street Name\n",
    "- (Optionally: Borough)\n",
    "\n",
    "We know all the address are in NYC. All of our relevant columns need to be strings in order for us to concatenate these columns together. \n"
   ]
  },
  {
   "cell_type": "code",
   "execution_count": null,
   "id": "79f913b1",
   "metadata": {},
   "outputs": [],
   "source": [
    "dob_permits.dtypes"
   ]
  },
  {
   "cell_type": "code",
   "execution_count": null,
   "id": "4b876d6f",
   "metadata": {},
   "outputs": [],
   "source": [
    "dob_permits['house__'] = dob_permits['house__'].astype(str)\n",
    "dob_permits['street_name'] = dob_permits['street_name'].astype(str)\n",
    "dob_permits['borough'] = dob_permits['borough'].astype(str)"
   ]
  },
  {
   "cell_type": "code",
   "execution_count": null,
   "id": "2e2d8de4",
   "metadata": {},
   "outputs": [],
   "source": [
    "dob_permits['address'] = dob_permits['house__'] + ' ' + \\\n",
    "                        dob_permits['street_name'] + ', ' + \\\n",
    "                        dob_permits['borough'] + ', ' + 'NY'"
   ]
  },
  {
   "cell_type": "code",
   "execution_count": null,
   "id": "c742c93d",
   "metadata": {},
   "outputs": [],
   "source": [
    "dob_permits['address']"
   ]
  },
  {
   "cell_type": "markdown",
   "id": "585ee969",
   "metadata": {},
   "source": [
    "Let's first create two new columns: `lng` and `lat`"
   ]
  },
  {
   "cell_type": "code",
   "execution_count": null,
   "id": "35bbe017",
   "metadata": {},
   "outputs": [],
   "source": [
    "dob_permits['lng'] = \"\"\n",
    "dob_permits['lat'] = \"\""
   ]
  },
  {
   "cell_type": "code",
   "execution_count": null,
   "id": "6338c04e",
   "metadata": {},
   "outputs": [],
   "source": [
    "for i, row in dob_permits.iterrows(): \n",
    "    print(f\"Current row is {i}\")\n",
    "    row_result = gmaps.geocode(row['address'])\n",
    "\n",
    "    ## We are goin \n",
    "    dob_permits.loc[i,'lat'] = row_result[0]['geometry']['location']['lat']\n",
    "    dob_permits.loc[i,'lng'] = row_result[0]['geometry']['location']['lng']\n",
    "    "
   ]
  },
  {
   "cell_type": "code",
   "execution_count": null,
   "id": "8e3a3fa7",
   "metadata": {},
   "outputs": [],
   "source": [
    "dob_permits"
   ]
  },
  {
   "cell_type": "code",
   "execution_count": null,
   "id": "55d1a3a1",
   "metadata": {},
   "outputs": [],
   "source": [
    "## \n",
    "dob_permits_geo = gpd.GeoDataFrame(dob_permits,\n",
    "                            geometry=gpd.points_from_xy(dob_permits['lng'], dob_permits['lat']),\n",
    "                            crs='EPSG:4326')"
   ]
  },
  {
   "cell_type": "code",
   "execution_count": null,
   "id": "280927c5",
   "metadata": {},
   "outputs": [],
   "source": [
    "\n",
    "ax = dob_permits_geo.plot()\n",
    "cx.add_basemap(ax = ax,crs=dob_permits_geo.crs,source=cx.providers.CartoDB.Voyager)\n",
    "\n"
   ]
  },
  {
   "attachments": {},
   "cell_type": "markdown",
   "id": "758d9136",
   "metadata": {},
   "source": [
    "## Q.1 Geocoding\n",
    "- Create a DF of any five places you have visited or traveled to across the world \n",
    "    - Try inserting some typos, alternative spellings or names for these places. (For ex, Sibley Hall instead of 921 University Ave.)\n",
    "- Geocode these using the google maps API. \n",
    "- Map these five points, using contextily as a basemap service. \n",
    "- How accurate was the geocoder in finding the locations of these places? "
   ]
  },
  {
   "cell_type": "code",
   "execution_count": null,
   "id": "c51a9b20",
   "metadata": {},
   "outputs": [],
   "source": [
    "## INSERT YOUR CODE HERE"
   ]
  },
  {
   "cell_type": "markdown",
   "id": "f6151c57",
   "metadata": {},
   "source": [
    "## 1.2.2 Reverse geocoding\n",
    "In the same way that you can turn addresses to Lng/Lats, you can do the same. "
   ]
  },
  {
   "cell_type": "code",
   "execution_count": null,
   "id": "93237f7f",
   "metadata": {},
   "outputs": [],
   "source": [
    "## Note, that the format here is Lat, Lng!\n",
    "reverse_geocode_result = gmaps.reverse_geocode(( 42.4512236,-76.4828622))\n"
   ]
  },
  {
   "cell_type": "code",
   "execution_count": null,
   "id": "2e3c88fa",
   "metadata": {},
   "outputs": [],
   "source": [
    "reverse_geocode_result"
   ]
  },
  {
   "cell_type": "code",
   "execution_count": null,
   "id": "5dbb679b",
   "metadata": {},
   "outputs": [],
   "source": [
    "## Ta da!\n",
    "reverse_geocode_result[0]['formatted_address']"
   ]
  },
  {
   "cell_type": "markdown",
   "id": "f64bfa77",
   "metadata": {},
   "source": [
    "## 1.3 Getting Points of Interest\n",
    "[Google Places API documentation](https://developers.google.com/maps/documentation/places/web-service/overview)\n"
   ]
  },
  {
   "cell_type": "code",
   "execution_count": null,
   "id": "252646d2-7bde-4f2e-853e-45e88c664de1",
   "metadata": {},
   "outputs": [],
   "source": [
    "### The query can be anything you would typically type into\n",
    "### the google maps search\n",
    "### radius is in meters\n",
    "### You can also input the lat/lng directly\n",
    "\n",
    "places_to_eat = gmaps.places(\"restaurants\",\n",
    "                             location = \"921 University Ave, Ithaca, NY\",\n",
    "                            #  location = (42.4512236,-76.4828622),\n",
    "                         radius=100)"
   ]
  },
  {
   "cell_type": "code",
   "execution_count": null,
   "id": "4509aa35-f51b-4a09-9238-d02f05d79641",
   "metadata": {},
   "outputs": [],
   "source": [
    "places_to_eat.keys()"
   ]
  },
  {
   "cell_type": "code",
   "execution_count": null,
   "id": "8fd5c15b-6660-445a-8a12-1aaa43aee924",
   "metadata": {},
   "outputs": [],
   "source": [
    "len(places_to_eat['results'])"
   ]
  },
  {
   "cell_type": "code",
   "execution_count": null,
   "id": "e49f76cc-e523-4952-ad8c-6bf2bf99d194",
   "metadata": {},
   "outputs": [],
   "source": [
    "places_to_eat['results'][0]"
   ]
  },
  {
   "cell_type": "code",
   "execution_count": null,
   "id": "2eee5ec4-1861-486a-99e9-597c87132048",
   "metadata": {},
   "outputs": [],
   "source": [
    "list_of_restaurants = []\n",
    "for each in places_to_eat['results']: \n",
    "    listing_values = [each['name'],\n",
    "                      each['geometry']['location']['lng'], \n",
    "                      each['geometry']['location']['lat'],\n",
    "                        each['rating'],\n",
    "                        each['user_ratings_total'],\n",
    "                        each['photos'][0]['photo_reference']]\n",
    "    list_of_restaurants.append(listing_values)"
   ]
  },
  {
   "cell_type": "code",
   "execution_count": null,
   "id": "5e7f0b07",
   "metadata": {},
   "outputs": [],
   "source": [
    "places_to_eat_df = pd.DataFrame(list_of_restaurants,columns=['name','lng','lat','rating','user_ratings_total','photo_reference'])"
   ]
  },
  {
   "cell_type": "code",
   "execution_count": null,
   "id": "50478c6e",
   "metadata": {},
   "outputs": [],
   "source": [
    "places_to_eat_df_geo = gpd.GeoDataFrame(places_to_eat_df,\n",
    "                                        geometry=gpd.points_from_xy(places_to_eat_df['lng'], places_to_eat_df['lat']),\n",
    "                                        crs='EPSG:4326')"
   ]
  },
  {
   "cell_type": "code",
   "execution_count": null,
   "id": "09ef05d0",
   "metadata": {},
   "outputs": [],
   "source": [
    "places_to_eat_df_geo.head()"
   ]
  },
  {
   "cell_type": "markdown",
   "id": "c8240938",
   "metadata": {},
   "source": [
    "## 1.4 Getting a route and distances\n",
    "[Google Directions API documentation](https://developers.google.com/maps/documentation/directions)"
   ]
  },
  {
   "cell_type": "code",
   "execution_count": null,
   "id": "07d9f9e5",
   "metadata": {},
   "outputs": [],
   "source": [
    "## mode can be driving, walking, bicycling, transit\n",
    "now = datetime.now()\n",
    "directions_result = gmaps.directions(\"921 University Ave, Ithaca, NY\",\n",
    "                                     \"Maru Ramen, Ithaca, NY\",\n",
    "                                     mode=\"driving\",\n",
    "                                     departure_time=now)"
   ]
  },
  {
   "cell_type": "code",
   "execution_count": null,
   "id": "6afb384e",
   "metadata": {},
   "outputs": [],
   "source": [
    "## Notice that this is a list of one elemment\n",
    "directions_result"
   ]
  },
  {
   "cell_type": "code",
   "execution_count": null,
   "id": "f44c2a79",
   "metadata": {},
   "outputs": [],
   "source": [
    "len(directions_result)"
   ]
  },
  {
   "cell_type": "markdown",
   "id": "eb004dd0",
   "metadata": {},
   "source": [
    "We can use the `.keys()` "
   ]
  },
  {
   "cell_type": "code",
   "execution_count": null,
   "id": "20dce148",
   "metadata": {},
   "outputs": [],
   "source": [
    "directions_result[0].keys()"
   ]
  },
  {
   "cell_type": "markdown",
   "id": "2db0516b",
   "metadata": {},
   "source": [
    "Neat! We can see that this has output a lot of different kinds of information. What we'll need next is to parse the information. \n",
    "\n",
    "Notice that the directions are in `'legs'`. This is the equivalent to each step in Google Map directions. We'll have to put the pieces together to get any information about the whole route. \n",
    "\n"
   ]
  },
  {
   "cell_type": "code",
   "execution_count": null,
   "id": "44106d21",
   "metadata": {},
   "outputs": [],
   "source": [
    "## Let's access the first/only element\n",
    "## and then the values in the legs key\n",
    "## which is another list\n",
    "directions_result[0]['legs']"
   ]
  },
  {
   "cell_type": "code",
   "execution_count": null,
   "id": "897619fa",
   "metadata": {},
   "outputs": [],
   "source": [
    "len(directions_result[0]['legs'])"
   ]
  },
  {
   "cell_type": "code",
   "execution_count": null,
   "id": "52f9f991",
   "metadata": {},
   "outputs": [],
   "source": [
    "directions_result[0]['legs'][0]['steps']"
   ]
  },
  {
   "cell_type": "markdown",
   "id": "2e50d46d",
   "metadata": {},
   "source": [
    "We can get the total time and distance that it took: \n",
    "- `directions_result[0]['legs'][0]['steps'][i]['distance']` gives us the distance of that leg\n",
    "- `directions_result[0]['legs'][0]['steps'][i]['duration']` gives us the duration of that leg"
   ]
  },
  {
   "cell_type": "code",
   "execution_count": null,
   "id": "cd70cf49",
   "metadata": {},
   "outputs": [],
   "source": [
    "distance_list = []\n",
    "duration_list = []\n",
    "for each in directions_result[0]['legs'][0]['steps']: \n",
    "    ## Here we are going to get the 'value' after the 'distance' key. \n",
    "    ## For the distance, this is given in meters\n",
    "    # # The duration is in seconds.  \n",
    "    distance_list.append(each['distance']['value'])\n",
    "    duration_list.append(each['duration']['value'])"
   ]
  },
  {
   "cell_type": "code",
   "execution_count": null,
   "id": "fa94e7a8",
   "metadata": {},
   "outputs": [],
   "source": [
    "print(distance_list)\n",
    "print(duration_list)"
   ]
  },
  {
   "cell_type": "markdown",
   "id": "e42682f7",
   "metadata": {},
   "source": [
    "Now, we can create a df, where each row could include the distance, duration, and (eventually) the route geometry\n",
    "\n",
    "First, we'll need a list with the sums of each of the `duration_list` and `distance_list`. "
   ]
  },
  {
   "cell_type": "code",
   "execution_count": null,
   "id": "63ea110b",
   "metadata": {},
   "outputs": [],
   "source": [
    "## Note that, because pandas takes each element in the list as a row,\n",
    "## We need to wrap the list in another list\n",
    "summed_route_data = [[sum(distance_list),sum(duration_list)]]\n"
   ]
  },
  {
   "cell_type": "markdown",
   "id": "28d0e9de",
   "metadata": {},
   "source": [
    "Then, we'll need a list of the respective column names"
   ]
  },
  {
   "cell_type": "code",
   "execution_count": null,
   "id": "0d8f744b",
   "metadata": {},
   "outputs": [],
   "source": [
    "col_names = ['distance','duration']"
   ]
  },
  {
   "cell_type": "code",
   "execution_count": null,
   "id": "ef36ebd6",
   "metadata": {},
   "outputs": [],
   "source": [
    "routes = pd.DataFrame(summed_route_data,\n",
    "                      columns=col_names)"
   ]
  },
  {
   "cell_type": "code",
   "execution_count": null,
   "id": "71ce763c",
   "metadata": {},
   "outputs": [],
   "source": [
    "routes"
   ]
  },
  {
   "cell_type": "markdown",
   "id": "f2cd341f",
   "metadata": {},
   "source": [
    "Turning the polyline string into points. Note that Google Maps includes an encoded version of, in this case, a polyline, which we can turn back into a shapely geometry. \n",
    "\n",
    "I found this function online to help me do this. `get_linestring()` takes a Google encoded polyline and turns it into a geometry, using the `decode_polyline()` function. Don't worry too much about what `decode_polyline()` is doing, except that some helpful person has created a decoder for us to use. "
   ]
  },
  {
   "cell_type": "code",
   "execution_count": null,
   "id": "9ade8c20",
   "metadata": {},
   "outputs": [],
   "source": [
    "import json\n",
    "import fiona\n",
    "import pandas as pd\n",
    "from shapely.geometry import LineString, mapping, shape\n",
    "\n",
    "def decode_polyline(polyline_str):\n",
    "    '''Pass a Google Maps encoded polyline string; returns list of lat/lon pairs'''\n",
    "    index, lat, lng = 0, 0, 0\n",
    "    coordinates = []\n",
    "    changes = {'latitude': 0, 'longitude': 0}\n",
    "\n",
    "    # Coordinates have variable length when encoded, so just keep\n",
    "    # track of whether we've hit the end of the string. In each\n",
    "    # while loop iteration, a single coordinate is decoded.\n",
    "    while index < len(polyline_str):\n",
    "        # Gather lat/lon changes, store them in a dictionary to apply them later\n",
    "        for unit in ['latitude', 'longitude']: \n",
    "            shift, result = 0, 0\n",
    "\n",
    "            while True:\n",
    "                byte = ord(polyline_str[index]) - 63\n",
    "                index+=1\n",
    "                result |= (byte & 0x1f) << shift\n",
    "                shift += 5\n",
    "                if not byte >= 0x20:\n",
    "                    break\n",
    "\n",
    "            if (result & 1):\n",
    "                changes[unit] = ~(result >> 1)\n",
    "            else:\n",
    "                changes[unit] = (result >> 1)\n",
    "\n",
    "        lat += changes['latitude']\n",
    "        lng += changes['longitude']\n",
    "\n",
    "        coordinates.append((lng / 100000.0, lat / 100000.0))\n",
    "\n",
    "    return coordinates\n",
    "\n",
    "def get_linestring(data):\n",
    "    # with open(trip_name + '.json', 'r') as data_file:    \n",
    "    #     data = json.load(data_file, encoding='ISO-8859-1')\n",
    "\n",
    "    the_points = []\n",
    "    for step in data[0]['legs'][0]['steps']:\n",
    "        the_points += decode_polyline(step['polyline']['points'])\n",
    "\n",
    "    return LineString(the_points)\n"
   ]
  },
  {
   "cell_type": "code",
   "execution_count": null,
   "id": "bc01f421",
   "metadata": {},
   "outputs": [],
   "source": [
    "## Here, I am getting the linestring from the directions result\n",
    "geom = shape(mapping(get_linestring(directions_result)))"
   ]
  },
  {
   "cell_type": "code",
   "execution_count": null,
   "id": "16dd877d",
   "metadata": {},
   "outputs": [],
   "source": [
    "routes['geom']=geom"
   ]
  },
  {
   "cell_type": "code",
   "execution_count": null,
   "id": "a557d3c9",
   "metadata": {},
   "outputs": [],
   "source": [
    "routes_geo =gpd.GeoDataFrame(routes, geometry='geom', crs='EPSG:4326')"
   ]
  },
  {
   "cell_type": "code",
   "execution_count": null,
   "id": "ffde11a0-5640-43ff-a180-a807bec0b452",
   "metadata": {},
   "outputs": [],
   "source": [
    "routes_geo"
   ]
  },
  {
   "cell_type": "markdown",
   "id": "afa6eecd-605e-4064-a8e9-51b6315bfb07",
   "metadata": {},
   "source": [
    "Chaning to 3857 because it looks better. "
   ]
  },
  {
   "cell_type": "code",
   "execution_count": null,
   "id": "5afbc88f",
   "metadata": {},
   "outputs": [],
   "source": [
    "routes_geo_3857 = routes_geo.to_crs(epsg=3857)"
   ]
  },
  {
   "cell_type": "code",
   "execution_count": null,
   "id": "b9cba3a1",
   "metadata": {},
   "outputs": [],
   "source": [
    "import contextily as cx\n",
    "data_ax = routes_geo_3857.plot()\n",
    "cx.add_basemap(ax = data_ax,crs=routes_geo_3857.crs,source=cx.providers.CartoDB.Voyager)"
   ]
  },
  {
   "attachments": {},
   "cell_type": "markdown",
   "id": "407b6a66",
   "metadata": {},
   "source": [
    "## Q.2 Routing \n",
    "- Create a geodataframe with one row that describes the walking route from the **Johnson Art Museum** to the **Purity Ice Cream Co.**\n",
    "- This gdf should have the following columns: start lng,start lat, start name, end lng, end lat, end name, geometry for the route, walking distance in kilometers, walking duration in minutes."
   ]
  },
  {
   "cell_type": "code",
   "execution_count": null,
   "id": "fa199874",
   "metadata": {},
   "outputs": [],
   "source": [
    "## INSERT YOUR CODE HERE"
   ]
  },
  {
   "cell_type": "markdown",
   "id": "c8f4a415",
   "metadata": {},
   "source": [
    "## 1.4 Billing\n",
    "Note that the Geocoder is **billed by usage**. Here is the pricing model: \n",
    "</figure>\n",
    "<img src=\"https://www.dropbox.com/s/jqmy92vncaar573/Screen%20Shot%202023-02-19%20at%205.50.16%20PM.png?dl=1\" alt=\"drawing\" width=\"1000\" style=\"display: block; margin: 0 auto\"/>\n",
    "</figure>\n",
    "\n",
    "\n",
    "Think carefully about what you are querying and pay attention to your usage. Don't use up all your credits!"
   ]
  },
  {
   "cell_type": "markdown",
   "id": "7c9afbb2-aae4-451b-88db-c35e68d4813e",
   "metadata": {},
   "source": [
    "# 2. OPTIONAL: `beautifulsoup`\n",
    "\n",
    "Webscraping is a method of programmatically retrieving data from websites. It is used when there are no APIs or when data that is published from the website isn't made avaliable in a downloadable format. \n",
    "\n",
    "#### A note on webscrapping (and why I generally avoid it):\n",
    "Webscrapping can be used for all kinds of malicious purposes, for instance, to copy website content and republish it. Here's a [complaint from Craiglist](https://www.scribd.com/doc/313832868/CraigslistVRadpad-Complaint?secret_password=7gTybamKvrbeVhxfi4mx) about a company called Radpad scraping Craigslist and reposting those listing on their own website:\n",
    "\n",
    "<mark>\n",
    "“[The content scraping service] would, on a daily basis, send an army of digital robots to craigslist to copy and download the full text of millions of craigslist user ads. [The service] then indiscriminately made those misappropriated listings available—through its so-called ‘data feed’—to any company that wanted to use them, for any purpose. Some such ‘customers’ paid as much as $20,000 per month for that content…”</mark>\n",
    "<br>\n",
    "<br>\n",
    "\n",
    "<mark>\n",
    "According to the claim, scraped data was used for spam and email fraud, among other activities: </mark>\n",
    "<br>\n",
    "<br>\n",
    "\n",
    "<mark>\n",
    "“[The defendants] then harvest craigslist users’ contact information from that database, and initiate many thousands of electronic mail messages per day to the addresses harvested from craigslist servers…. [The messages] contain misleading subject lines and content in the body of the spam messages, designed to trick craigslist users into switching from using craigslist’s services to using [the defenders’] service…”\n",
    "</mark>\n",
    "<br>\n",
    "<br>\n",
    "\n",
    "Uff. \n",
    "\n",
    "**What about webscrapping for research or academic purposes?** Most of the above issues most likely won't apply to you, but webscrapping makes a website's traffic *spike* if you don't modulate how often you're pinging the website. This can cause the website's server to crash. This is not very nice. Also, a lot of websites won't allow you to do it. (If you go to almost any URL and put `/robots.txt` after it, you can see a list of subdomains that site will or won't allow you to scrape.)"
   ]
  },
  {
   "cell_type": "markdown",
   "id": "72895593",
   "metadata": {},
   "source": [
    "The first step is to install Beautiful Soup. You can install it using pip by running the following command in your terminal:"
   ]
  },
  {
   "cell_type": "code",
   "execution_count": null,
   "id": "3e05d7be-5c17-49ae-af6c-92a5dcf21518",
   "metadata": {},
   "outputs": [],
   "source": [
    "!pip install beautifulsoup4"
   ]
  },
  {
   "cell_type": "markdown",
   "id": "28c26884-6af4-497d-9dd3-ab4b01440942",
   "metadata": {},
   "source": [
    "Once you have installed Beautiful Soup, the next step is to import the required libraries in your Python script:"
   ]
  },
  {
   "cell_type": "code",
   "execution_count": null,
   "id": "63f5ade7-0a9b-4482-ad8c-b3bb51e87a23",
   "metadata": {},
   "outputs": [],
   "source": [
    "from bs4 import BeautifulSoup\n",
    "import requests"
   ]
  },
  {
   "cell_type": "markdown",
   "id": "c78f84ca-b0e3-475e-80da-b802ae262b90",
   "metadata": {},
   "source": [
    "Here, we are importing BeautifulSoup from the bs4 library, which we will use to parse the HTML data we scrape from a website. We are also importing `requests`, which we will use to send HTTP requests to the website and retrieve the HTML data.\n",
    "\n",
    "The next step is to send a request to the website and retrieve the HTML data. You can do this using the `requests.get()` method, which takes the website URL as a parameter and returns the HTML content of the website."
   ]
  },
  {
   "cell_type": "code",
   "execution_count": null,
   "id": "e55e3e68-3585-4145-a850-3a5cfc7d8442",
   "metadata": {},
   "outputs": [],
   "source": [
    "## This is the SF Craigslist page for apartments. \n",
    "url = 'https://www.century21.com/real-estate/ithaca-ny/LCNYITHACA/'\n",
    "response = requests.get(url)\n"
   ]
  },
  {
   "cell_type": "markdown",
   "id": "fe7791c2-7327-4ff8-9019-bcfdb3f4b462",
   "metadata": {},
   "source": [
    "Once we have retrieved the HTML data, the next step is to parse it using Beautiful Soup. We can do this by creating a BeautifulSoup object and passing the HTML data as a parameter.\n",
    "\n",
    "The second parameter `'html.parser'` specifies the parser to use for parsing the HTML data. In this case, we are using the built-in HTML parser that comes with Beautiful Soup.\n",
    "\n"
   ]
  },
  {
   "cell_type": "code",
   "execution_count": null,
   "id": "e67eeb4f-ba4c-47c2-8e81-214497ece69d",
   "metadata": {},
   "outputs": [],
   "source": [
    "soup = BeautifulSoup(response.text, 'html.parser',)\n"
   ]
  },
  {
   "cell_type": "markdown",
   "id": "4ec02b05-b251-4a26-a44d-417e9d41f5c7",
   "metadata": {},
   "source": [
    "We can print soup and see what it looks like. It's essentially all the HTML served on a website: "
   ]
  },
  {
   "cell_type": "code",
   "execution_count": null,
   "id": "d27d0c4e-5083-4960-9887-60cb919b2b3c",
   "metadata": {},
   "outputs": [],
   "source": [
    "soup"
   ]
  },
  {
   "cell_type": "markdown",
   "id": "82b3ffcb-ad6f-4033-9f8a-a05cc1aa8d12",
   "metadata": {},
   "source": [
    "Once we have parsed the HTML data, we can use Beautiful Soup to find the data we need. We can do this by using various methods provided by Beautiful Soup, such as `find()`, `find_all()`, and `select()`, to locate the HTML elements that contain the data we need.\n",
    "\n",
    "For example, if we want to find all the links on the website, we can use the `find_all()` method to find all the `<a>` tags on the page and then extract the href attributes:"
   ]
  },
  {
   "cell_type": "code",
   "execution_count": null,
   "id": "587a43b1-c3e9-44ef-96bb-8f09f2c7ffab",
   "metadata": {},
   "outputs": [],
   "source": [
    "prices = []\n",
    "for link in soup.find_all('a', class_= 'listing-price'):\n",
    "    prices.append(link.text.replace(' ',\"\").replace('\\n',\"\"))\n",
    "\n",
    "beds = []\n",
    "for link in soup.find_all('div', class_= 'property-beds'):\n",
    "    beds.append(link.text.replace(' ',\"\").replace('\\n',\"\").replace('beds',''))\n",
    "\n",
    "sqfts = []\n",
    "for link in soup.find_all('div', class_= 'property-sqft'):\n",
    "    sqfts.append(link.text.replace(' ',\"\").replace('\\n',\"\").replace('sq.ft','').replace(',',''))\n",
    "\n",
    "addresses = []\n",
    "for link in soup.find_all('div', class_= 'property-address'):\n",
    "    addresses.append(link.text.replace('               ',\"\").replace('            ',\"\").replace('\\n',''))\n"
   ]
  },
  {
   "cell_type": "code",
   "execution_count": null,
   "id": "a5878011-8b50-4dd1-b8d2-458aeeea912a",
   "metadata": {},
   "outputs": [],
   "source": [
    "prices"
   ]
  },
  {
   "cell_type": "code",
   "execution_count": null,
   "id": "27dac93e-255d-48be-8545-0acfb567d1bd",
   "metadata": {},
   "outputs": [],
   "source": [
    "beds"
   ]
  },
  {
   "cell_type": "code",
   "execution_count": null,
   "id": "330a9274-732f-4ae0-9aa0-ec245a02de6d",
   "metadata": {},
   "outputs": [],
   "source": [
    "sqfts"
   ]
  },
  {
   "cell_type": "code",
   "execution_count": null,
   "id": "0c081752-adf6-4202-936f-d64bb758cff5",
   "metadata": {},
   "outputs": [],
   "source": [
    "addresses"
   ]
  },
  {
   "cell_type": "code",
   "execution_count": null,
   "id": "f9ea345a-000b-4c49-aa24-50b8ab617a78",
   "metadata": {},
   "outputs": [],
   "source": []
  }
 ],
 "metadata": {
  "kernelspec": {
   "display_name": "Python 3 (ipykernel)",
   "language": "python",
   "name": "python3"
  },
  "language_info": {
   "codemirror_mode": {
    "name": "ipython",
    "version": 3
   },
   "file_extension": ".py",
   "mimetype": "text/x-python",
   "name": "python",
   "nbconvert_exporter": "python",
   "pygments_lexer": "ipython3",
   "version": "3.9.13"
  },
  "vscode": {
   "interpreter": {
    "hash": "d5b5e944a9b71ce46e873efe99abd044b4b2cd2a5153fea1f2fc73581012ba31"
   }
  }
 },
 "nbformat": 4,
 "nbformat_minor": 5
}
