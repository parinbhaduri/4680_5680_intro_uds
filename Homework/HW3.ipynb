{
 "cells": [
  {
   "cell_type": "markdown",
   "id": "84a2ed0e",
   "metadata": {},
   "source": [
    "# Homework 3 (34 pts)\n",
    "\n",
    "## Overview\n",
    "This homework assignment will focus on exploring the spatial characteristics of Airbnb listings in Manhattan, New York City. By practicing K-means clustering, you will deepen your understanding of this method and how it can be applied in empirical studies.\n",
    "\n",
    "## Grading\n",
    "Each exercise will be graded based on the following rubrics:\n",
    "- 2 points. Completed the task, presented the expected results, and codes were well documented and explained.\n",
    "- 1 point. Completed the task with some disparity from the expected results.\n",
    "- 0 point. Did not complete the excercise.\n",
    "\n",
    "## Late submission policy\n",
    "For late submission, every extra day after the due date will lead to 20% off of your points. Less than a day will be counted as one day. All submissions after the TA team posts the answers will not be accepted."
   ]
  },
  {
   "cell_type": "markdown",
   "id": "c4d7183e",
   "metadata": {},
   "source": [
    "## 1. Read and Clean Data\n",
    "### 1.1 Read and Clean Census Tract Data\n",
    "Retrieving the census tract data follows the same process in Homework 2 so **ct** geodataframe is prepared for you."
   ]
  },
  {
   "cell_type": "code",
   "execution_count": null,
   "id": "b9a2b85a",
   "metadata": {
    "scrolled": true
   },
   "outputs": [],
   "source": [
    "# import esda\n",
    "import pandas as pd\n",
    "import geopandas as gpd\n",
    "from geopandas import GeoDataFrame\n",
    "import numpy as np\n",
    "import matplotlib.pyplot as plt\n",
    "# from shapely.geometry import Point\n",
    "%matplotlib inline\n",
    "# import cenpy\n",
    "from pysal.lib import weights\n",
    "import contextily\n",
    "from shapely.geometry import shape\n",
    "\n",
    "ct = pd.read_json(\"https://data.cityofnewyork.us/resource/63ge-mke6.json?$where=BoroName='Manhattan'\")\n",
    "ct['the_geom'] = ct['the_geom'].apply(shape)\n",
    "ct = gpd.GeoDataFrame(ct, geometry='the_geom').set_crs(epsg = 4326)\n",
    "ct.info()"
   ]
  },
  {
   "cell_type": "markdown",
   "id": "4eaaac5b",
   "metadata": {},
   "source": [
    "### 1.2 Read and Clean Airbnb Listing Data\n",
    "The Airbnb listing data is also the same as Homework 2 so the geodataframe **listing** is prepared too."
   ]
  },
  {
   "cell_type": "code",
   "execution_count": null,
   "id": "da850a3f",
   "metadata": {
    "scrolled": true
   },
   "outputs": [],
   "source": [
    "listing_raw = pd.read_csv('http://data.insideairbnb.com/united-states/ny/new-york-city/2022-12-04/data/listings.csv.gz')\n",
    "listing_raw.price = listing_raw.price.replace('[\\$,]', '', regex=True).astype(float)\n",
    "listing_g = gpd.GeoDataFrame(listing_raw, \n",
    "                             geometry = gpd.points_from_xy(listing_raw.longitude, \n",
    "                                                           listing_raw.latitude)).set_crs(epsg = 4326)\n",
    "listing = gpd.tools.sjoin(listing_g, ct[['geoid', 'boroname', 'the_geom']], \n",
    "                          predicate=\"within\", how='inner')\n",
    "listing.info()"
   ]
  },
  {
   "cell_type": "markdown",
   "id": "5d0fe721",
   "metadata": {},
   "source": [
    "## 2. K-means Clustering\n",
    "### 2.1 The Built-in K-means Clustering (16 pts)\n",
    "You will use KMeans module from sklearn to find the Airbnb listing clusters based solely on the listing locations. Recall the in-class example: to prepare the proper input for KMeans function, what should be *X*? Write your code below to create *X*. (2 pts)"
   ]
  },
  {
   "cell_type": "code",
   "execution_count": null,
   "id": "df33dce1",
   "metadata": {},
   "outputs": [],
   "source": [
    "# insert your code here"
   ]
  },
  {
   "cell_type": "markdown",
   "id": "b12c37f6",
   "metadata": {},
   "source": [
    "After correctly specifying X, use the KMeans module to quickly identify the clusters. Use `random` initialization, run `100` times of K-means algorithm around each centroid and specify `n_clusters` as 10 (2 pts)\n",
    "\n",
    "Hint: You can refer to the [documentation](https://scikit-learn.org/stable/modules/generated/sklearn.cluster.KMeans.html) provided to learn how to add these parameters."
   ]
  },
  {
   "cell_type": "code",
   "execution_count": null,
   "id": "90d0c250",
   "metadata": {},
   "outputs": [],
   "source": [
    "# insert your code here"
   ]
  },
  {
   "cell_type": "markdown",
   "id": "907c6d29",
   "metadata": {},
   "source": [
    "Create a plot to display your clustering results. Include the following:\n",
    "- Clustered listing points, with marker size as 5. (2 pts)\n",
    "- Centroids, with marker size as 10. (2 pts)\n",
    "- Colored NTAs, with a grey edge color and 40% transparency. (2 pts) "
   ]
  },
  {
   "cell_type": "code",
   "execution_count": null,
   "id": "a35d5db1",
   "metadata": {},
   "outputs": [],
   "source": [
    "# insert your code here"
   ]
  },
  {
   "cell_type": "markdown",
   "id": "3ff481a6",
   "metadata": {},
   "source": [
    "Based on the above steps, define a function `find_cluster()` with parameters `k` with output as the clustering result plot. (2 pts)"
   ]
  },
  {
   "cell_type": "code",
   "execution_count": null,
   "id": "746b150c",
   "metadata": {},
   "outputs": [],
   "source": [
    "def find_cluster(k_cluster):\n",
    "    # insert your code here"
   ]
  },
  {
   "cell_type": "markdown",
   "id": "1eea3f27",
   "metadata": {},
   "source": [
    "Use `find_cluster()` function to experiment with 5 different numbers of `k_cluster`. Present your plots below. (2 pts)"
   ]
  },
  {
   "cell_type": "code",
   "execution_count": null,
   "id": "cfac9dd9",
   "metadata": {},
   "outputs": [],
   "source": [
    "# insert your code here"
   ]
  },
  {
   "cell_type": "markdown",
   "id": "2547d67a",
   "metadata": {},
   "source": [
    "Compare the 6 clustering results. How do you interpret any discrepancies among them? How does the number of clusters influence the results? Also, discuss the implications of these results for future analyses that use the K-means algorithm. (2 pts)\n",
    "\n",
    "Use markdown to write your answer."
   ]
  },
  {
   "cell_type": "markdown",
   "id": "9bd6d1ec",
   "metadata": {},
   "source": [
    "### 2.2  Density-based Clustering Algorithm (DBSCAN) (18 pts)\n",
    "Next, you will use DBSCAN algorithm to the same listing dataset and explore the difference between DBSCAN and K-means.\n",
    "\n",
    "To conduct DBSCAN, you first need to specify `eps` and `min_samples` parameters. `eps` refers to the maximum distance between two samples for one to be considered as in the neighborhood of the other in radians rather than kilometers. Use the given equation to transform 8 kilometers into radians. \n",
    "\n",
    "`min_samples` refers to the number of samples (or total weight) in a neighborhood for a point to be considered as a core point. You will use 20 listings in this exercise as the minimum number of samples. (2 pts)\n",
    "\n",
    "Hint: more details on DBSCAN can be found in the [documentation](https://scikit-learn.org/stable/modules/generated/sklearn.cluster.DBSCAN.html). "
   ]
  },
  {
   "cell_type": "code",
   "execution_count": null,
   "id": "93822b62",
   "metadata": {},
   "outputs": [],
   "source": [
    "import pointpats\n",
    "from sklearn.cluster import DBSCAN\n",
    "import seaborn\n",
    "\n",
    "# def find_clusters(listing, eps_km, weights = None, name = None):\n",
    "km = # insert your code here\n",
    "epsilon = km / 6371.0088\n",
    "minp = # insert your code here"
   ]
  },
  {
   "cell_type": "markdown",
   "id": "0e0ab69f",
   "metadata": {},
   "source": [
    "Use `epsilon` and `minp` in the previous step for the DBSCAN function. Specify sample weight as the `price` in listing. Next, add the cluster labels to listing as a new column `lbls`. (2 pts)"
   ]
  },
  {
   "cell_type": "code",
   "execution_count": null,
   "id": "12f309c0",
   "metadata": {},
   "outputs": [],
   "source": [
    "# insert your code here"
   ]
  },
  {
   "cell_type": "markdown",
   "id": "78d8fb0d",
   "metadata": {},
   "source": [
    "How many clusters have been classified? (2 pts)"
   ]
  },
  {
   "cell_type": "code",
   "execution_count": null,
   "id": "c48152cd",
   "metadata": {},
   "outputs": [],
   "source": [
    "# insert your code here"
   ]
  },
  {
   "cell_type": "markdown",
   "id": "425a5a70",
   "metadata": {},
   "source": [
    "Plot the clustering results. Please include:\n",
    "- The unclassified points (noise) in grey and size as 5. (2 pts)\n",
    "- The clustered points in different colors and size as 10 (hint: check the [seaborn.scatterplot documentation](https://seaborn.pydata.org/generated/seaborn.scatterplot.html) and specify parameter *hue* as `lbls`). Make sure to turn `lbls` into strings so that they are not read as continuous variables (2 pts)\n",
    "- Base map and title. (2 pts)"
   ]
  },
  {
   "cell_type": "code",
   "execution_count": null,
   "id": "b0a4450a",
   "metadata": {},
   "outputs": [],
   "source": [
    "# insert your code here"
   ]
  },
  {
   "cell_type": "markdown",
   "id": "3c167d9b",
   "metadata": {},
   "source": [
    "Try a different `epsilon` with everything else the same. Plot your results in the same format. (2 pts)"
   ]
  },
  {
   "cell_type": "markdown",
   "id": "dc060ab5",
   "metadata": {},
   "source": [
    "Compare the two DBSCAN results obtained using different epsilon values and determine which one is a better reflection of the neighborhoods in Manhattan. Discuss the implications of your findings for future DBSCAN analyses. (2 pts) Use a markdown for your answer."
   ]
  },
  {
   "cell_type": "markdown",
   "id": "3827387a",
   "metadata": {},
   "source": [
    "Compare the clustering results obtained in section 2.1 and 2.2. List several pros and cons of the two K-Means implementation methods. (2 pts) Use a markdown for your answer."
   ]
  }
 ],
 "metadata": {
  "kernelspec": {
   "display_name": "Python 3 (ipykernel)",
   "language": "python",
   "name": "python3"
  },
  "language_info": {
   "codemirror_mode": {
    "name": "ipython",
    "version": 3
   },
   "file_extension": ".py",
   "mimetype": "text/x-python",
   "name": "python",
   "nbconvert_exporter": "python",
   "pygments_lexer": "ipython3",
   "version": "3.9.16"
  }
 },
 "nbformat": 4,
 "nbformat_minor": 5
}
