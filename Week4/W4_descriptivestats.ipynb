{
 "cells": [
  {
   "attachments": {},
   "cell_type": "markdown",
   "id": "homeless-heart",
   "metadata": {},
   "source": [
    "# Learning goals\n",
    "After this week's lesson you should be able to:\n",
    "- Create line, scatter, and histogram plots in matplotlib\n",
    "- Use seaborn to create plots\n",
    "\n",
    "\n",
    "This week's lessons are adapted from:\n",
    "- [The Python Data Science Handbook - Jupyter Notebook version](https://colab.research.google.com/github/jakevdp/PythonDataScienceHandbook/blob/master/notebooks/01.08-More-IPython-Resources.ipynb)\n",
    "\n",
    "\n",
    "**The exercises from this week will be due Friday at 5pm.**"
   ]
  },
  {
   "cell_type": "code",
   "execution_count": null,
   "id": "337fb4c4",
   "metadata": {},
   "outputs": [],
   "source": [
    "# We are going to start importing the libraries we need\n",
    "# all in one cell. \n",
    "# It is a good practice to keep all the imports in one cell so that\n",
    "# we can easily see what libraries we are using in the notebook.\n",
    "import pandas as pd\n",
    "import numpy as np\n",
    "import geopandas as gpd\n",
    "import os\n",
    "\n",
    "\n",
    "import matplotlib.pyplot as plt\n",
    "import seaborn as sns\n",
    "\n",
    "%matplotlib inline\n",
    "# we use the inline backend to generate the plots within the browser\n",
    "\n",
    "os.getcwd()"
   ]
  },
  {
   "attachments": {},
   "cell_type": "markdown",
   "id": "76d13b73",
   "metadata": {},
   "source": [
    "## 0. Read in the data\n",
    "- In this exercise, we are going to compare race and income from the 2016 - 2020 American Community Survey. Because this survey is taken over a five year window, we are going to say that it is representative of the median year - 2018. \n",
    "- I've created a `GeoJSON` called `acs_race_income_2018.geojson` from the [NHGIS](data2.nhgis.org) data portal. \n",
    "- You can also download it [here](https://www.dropbox.com/s/2rauwpx0nb5knpb/acs_race_income_2018.geojson?dl=0). "
   ]
  },
  {
   "cell_type": "code",
   "execution_count": null,
   "id": "0d5f9eaa",
   "metadata": {},
   "outputs": [],
   "source": [
    "# blk = gpd.read_file('nhgis0121_shape/nhgis0121_shapefile_tl2020_360_blck_grp_2020.zip')"
   ]
  },
  {
   "cell_type": "code",
   "execution_count": null,
   "id": "d04370bd",
   "metadata": {},
   "outputs": [],
   "source": [
    "# data1= pd.read_csv('nhgis0123_csv/nhgis0123_ds248_2020_blck_grp.csv', encoding='latin-1')\n",
    "# data2= pd.read_csv('nhgis0122_csv/nhgis0122_ds249_20205_blck_grp.csv', encoding='latin-1')"
   ]
  },
  {
   "attachments": {},
   "cell_type": "markdown",
   "id": "43252e34",
   "metadata": {},
   "source": [
    "Note here that we have a column named `pop_density`. We'll just be using this in this example."
   ]
  },
  {
   "cell_type": "code",
   "execution_count": null,
   "id": "1ac24597",
   "metadata": {},
   "outputs": [],
   "source": [
    "# cols_rename={'U7C001':\"total_pop\",\n",
    "#             'U7C002': \"total_pop_hispanic\",\n",
    "#              'U7C005':\"total_pop_white\",\n",
    "#              'U7C006':\"total_pop_black\",\n",
    "#              'U7C007':\"total_pop_native\",\n",
    "#             'U7C008':\"total_pop_asian\",\n",
    "#             'U7C009':\"total_pop_pacific\"             }\n",
    "# data1 = data1.rename(columns=cols_rename)\n",
    "# data1['total_pop_other'] =data1['total_pop'] - data1['total_pop_white'] - data1['total_pop_black'] - data1['total_pop_native'] - data1['total_pop_asian'] - data1['total_pop_pacific']\n",
    "# data2 = data2.rename(columns={'AMR8E001':'median_hh_income'})"
   ]
  },
  {
   "cell_type": "code",
   "execution_count": null,
   "id": "c8a21111",
   "metadata": {},
   "outputs": [],
   "source": [
    "# alldata = blk[['GISJOIN','geometry']].merge(data1[[ 'total_pop','total_pop_hispanic',\n",
    "#        'total_pop_white', 'total_pop_black', 'total_pop_native',\n",
    "#        'total_pop_asian', 'total_pop_pacific','total_pop_other','GISJOIN']],on='GISJOIN').merge(data2[['median_hh_income','COUNTY','GISJOIN']],on='GISJOIN')\n",
    "# alldata_nyc = alldata[alldata['COUNTY'].str.contains('New York|Kings|Queens|Bronx|Richmond|Richmond')]\n",
    "#        # .to_file('block_group.shp')"
   ]
  },
  {
   "cell_type": "code",
   "execution_count": null,
   "id": "0b5e8a79",
   "metadata": {},
   "outputs": [],
   "source": [
    "# alldata_nyc.to_crs(epsg=3857).to_file('acs_race_income_2018.geojson', driver='GeoJSON')"
   ]
  },
  {
   "attachments": {},
   "cell_type": "markdown",
   "id": "b77f7147",
   "metadata": {},
   "source": [
    "## Q.1 Read file (2 pts)\n",
    "- With your `acs_race_income_2018.geojson`, create a gdf called `nyc_census`."
   ]
  },
  {
   "cell_type": "code",
   "execution_count": null,
   "id": "1c52cf97",
   "metadata": {},
   "outputs": [],
   "source": [
    "## Insert code here. \n"
   ]
  },
  {
   "cell_type": "code",
   "execution_count": null,
   "id": "98924933",
   "metadata": {},
   "outputs": [],
   "source": [
    "nyc_census['perc_black'] = nyc_census['total_pop_black'] / nyc_census['total_pop']\n",
    "nyc_census['perc_white'] = nyc_census['total_pop_white'] / nyc_census['total_pop']\n",
    "nyc_census['perc_asian'] = nyc_census['total_pop_asian'] / nyc_census['total_pop']\n",
    "nyc_census['perc_hispanic'] = nyc_census['total_pop_hispanic'] / nyc_census['total_pop']\n",
    "nyc_census['perc_native'] = nyc_census['total_pop_native'] / nyc_census['total_pop']\n",
    "nyc_census['perc_pacfic'] = nyc_census['total_pop_pacific'] / nyc_census['total_pop']\n",
    "nyc_census['perc_other'] = nyc_census['total_pop_other'] / nyc_census['total_pop']"
   ]
  },
  {
   "cell_type": "code",
   "execution_count": null,
   "id": "e8ffdc5f",
   "metadata": {},
   "outputs": [],
   "source": [
    "nyc_census.columns"
   ]
  },
  {
   "attachments": {},
   "cell_type": "markdown",
   "id": "22cfe6fb",
   "metadata": {},
   "source": [
    "## 1. Simple Line Plots\n",
    "Perhaps the simplest of all plots is the visualization of a single function $y = f(x)$.\n",
    "Here we will take a first look at creating a simple plot of this type.\n",
    "\n",
    "\n",
    "For all Matplotlib plots, we start by creating a figure and an axes.\n",
    "\n",
    "> **Indented block**\n",
    "\n",
    "\n",
    "In their simplest form, a figure and axes can be created as follows:"
   ]
  },
  {
   "cell_type": "code",
   "execution_count": null,
   "id": "13f2cf46",
   "metadata": {},
   "outputs": [],
   "source": [
    "fig = plt.figure()\n",
    "ax = plt.axes()"
   ]
  },
  {
   "attachments": {},
   "cell_type": "markdown",
   "id": "c116db48",
   "metadata": {},
   "source": [
    "In Matplotlib, the *figure* (an instance of the class ``plt.Figure``) can be thought of as a single container that contains all the objects representing axes, graphics, text, and labels.\n",
    "The *axes* (an instance of the class ``plt.Axes``) is what we see above: a bounding box with ticks and labels, which will eventually contain the plot elements that make up our visualization.\n",
    "\n",
    "Once we have created an axes, we can use the ``ax.plot`` function to plot some data. Let's start with a simple sinusoid:"
   ]
  },
  {
   "cell_type": "code",
   "execution_count": null,
   "id": "208fb067",
   "metadata": {},
   "outputs": [],
   "source": [
    "fig = plt.figure()\n",
    "ax = plt.axes()\n",
    "\n",
    "x = np.linspace(0, 10, 1000)\n",
    "ax.plot(x, np.sin(x));"
   ]
  },
  {
   "attachments": {},
   "cell_type": "markdown",
   "id": "533ebb96",
   "metadata": {},
   "source": [
    "If we want to create a single figure with multiple lines, we can simply call the ``plot`` function multiple times:"
   ]
  },
  {
   "cell_type": "code",
   "execution_count": null,
   "id": "b73da19e",
   "metadata": {},
   "outputs": [],
   "source": [
    "plt.plot(x, np.sin(x))\n",
    "plt.plot(x, np.cos(x))"
   ]
  },
  {
   "attachments": {},
   "cell_type": "markdown",
   "id": "84f92aa2",
   "metadata": {},
   "source": [
    "## 1.1 Adjusting the Plot: Line Colors and Styles\n",
    "The first adjustment you might wish to make to a plot is to control the line colors and styles.\n",
    "The ``plt.plot()`` function takes additional arguments that can be used to specify these.\n",
    "To adjust the color, you can use the ``color`` keyword, which accepts a string argument representing virtually any imaginable color.\n",
    "The color can be specified in a variety of ways:"
   ]
  },
  {
   "cell_type": "code",
   "execution_count": null,
   "id": "4aa93ff2",
   "metadata": {},
   "outputs": [],
   "source": [
    "plt.plot(x, np.sin(x - 0), color='blue')        # specify color by name\n",
    "plt.plot(x, np.sin(x - 1), color='g')           # short color code (rgbcmyk)\n",
    "plt.plot(x, np.sin(x - 2), color='0.75')        # Grayscale between 0 and 1\n",
    "plt.plot(x, np.sin(x - 3), color='#FFDD44')     # Hex code (RRGGBB from 00 to FF)\n",
    "plt.plot(x, np.sin(x - 4), color=(1.0,0.2,0.3)) # RGB tuple, values 0 to 1\n",
    "plt.plot(x, np.sin(x - 5), color='chartreuse'); # all HTML color names supported"
   ]
  },
  {
   "attachments": {},
   "cell_type": "markdown",
   "id": "baa7c9fe",
   "metadata": {},
   "source": [
    "If no color is specified, Matplotlib will automatically cycle through a set of default colors for multiple lines.\n",
    "\n",
    "Similarly, the line style can be adjusted using the ``linestyle`` keyword:"
   ]
  },
  {
   "cell_type": "code",
   "execution_count": null,
   "id": "c0cb1438",
   "metadata": {},
   "outputs": [],
   "source": [
    "plt.plot(x, x + 0, linestyle='solid')\n",
    "plt.plot(x, x + 1, linestyle='dashed')\n",
    "plt.plot(x, x + 2, linestyle='dashdot')\n",
    "plt.plot(x, x + 3, linestyle='dotted');\n",
    "\n",
    "# For short, you can use the following codes:\n",
    "plt.plot(x, x + 4, linestyle='-')  # solid\n",
    "plt.plot(x, x + 5, linestyle='--') # dashed\n",
    "plt.plot(x, x + 6, linestyle='-.') # dashdot\n",
    "plt.plot(x, x + 7, linestyle=':');  # dotted"
   ]
  },
  {
   "attachments": {},
   "cell_type": "markdown",
   "id": "ecee71e3",
   "metadata": {},
   "source": [
    "If you would like to be extremely terse, these ``linestyle`` and ``color`` codes can be combined into a single non-keyword argument to the ``plt.plot()`` function:"
   ]
  },
  {
   "cell_type": "code",
   "execution_count": null,
   "id": "4e4dfc22",
   "metadata": {},
   "outputs": [],
   "source": [
    "plt.plot(x, x + 0, '-g')  # solid green\n",
    "plt.plot(x, x + 1, '--c') # dashed cyan\n",
    "plt.plot(x, x + 2, '-.k') # dashdot black\n",
    "plt.plot(x, x + 3, ':r');  # dotted red"
   ]
  },
  {
   "attachments": {},
   "cell_type": "markdown",
   "id": "fcd3dd02",
   "metadata": {},
   "source": [
    "## 1.2 Adjusting the Plot: Axes Limits\n",
    "\n",
    "Matplotlib does a decent job of choosing default axes limits for your plot, but sometimes it's nice to have finer control.\n",
    "The most basic way to adjust axis limits is to use the ``plt.xlim()`` and ``plt.ylim()`` methods:"
   ]
  },
  {
   "cell_type": "code",
   "execution_count": null,
   "id": "3e8f71a3",
   "metadata": {},
   "outputs": [],
   "source": [
    "plt.plot(x, np.sin(x))\n",
    "\n",
    "plt.xlim(-1, 11)\n",
    "plt.ylim(-1.5, 1.5);"
   ]
  },
  {
   "cell_type": "markdown",
   "id": "ea544ff0",
   "metadata": {},
   "source": [
    "If for some reason you'd like either axis to be displayed in reverse, you can simply reverse the order of the arguments:"
   ]
  },
  {
   "cell_type": "code",
   "execution_count": null,
   "id": "c27be5d1",
   "metadata": {},
   "outputs": [],
   "source": [
    "plt.plot(x, np.sin(x))\n",
    "\n",
    "plt.xlim(10, 0)\n",
    "plt.ylim(1.2, -1.2);"
   ]
  },
  {
   "attachments": {},
   "cell_type": "markdown",
   "id": "1c9c1f8f",
   "metadata": {},
   "source": [
    "A useful related method is ``plt.axis()`` (note here the potential confusion between *axes* with an *e*, and *axis* with an *i*).\n",
    "The ``plt.axis()`` method allows you to set the ``x`` and ``y`` limits with a single call, by passing a list which specifies ``[xmin, xmax, ymin, ymax]``:"
   ]
  },
  {
   "cell_type": "code",
   "execution_count": null,
   "id": "61c878b0",
   "metadata": {},
   "outputs": [],
   "source": [
    "plt.plot(x, np.sin(x))\n",
    "plt.axis([-1, 11, -1.5, 1.5]);"
   ]
  },
  {
   "attachments": {},
   "cell_type": "markdown",
   "id": "c54953a9",
   "metadata": {},
   "source": [
    "The ``plt.axis()`` method goes even beyond this, allowing you to do things like automatically tighten the bounds around the current plot:"
   ]
  },
  {
   "cell_type": "code",
   "execution_count": null,
   "id": "0c007e8b",
   "metadata": {},
   "outputs": [],
   "source": [
    "plt.plot(x, np.sin(x))\n",
    "plt.axis('tight')"
   ]
  },
  {
   "attachments": {},
   "cell_type": "markdown",
   "id": "ab237fca",
   "metadata": {},
   "source": [
    "## 1.3 Labeling Plots\n",
    "\n",
    "As the last piece of this section, we'll briefly look at the labeling of plots: titles, axis labels, and simple legends.\n",
    "\n",
    "Titles and axis labels are the simplest such labels—there are methods that can be used to quickly set them:"
   ]
  },
  {
   "cell_type": "code",
   "execution_count": null,
   "id": "1766778b",
   "metadata": {},
   "outputs": [],
   "source": [
    "plt.plot(x, np.sin(x))\n",
    "plt.title(\"A Sine Curve\")\n",
    "plt.xlabel(\"x\")\n",
    "plt.ylabel(\"sin(x)\");"
   ]
  },
  {
   "attachments": {},
   "cell_type": "markdown",
   "id": "2d4911b8",
   "metadata": {},
   "source": [
    "The position, size, and style of these labels can be adjusted using optional arguments to the function.\n",
    "For more information, see the Matplotlib documentation and the docstrings of each of these functions."
   ]
  },
  {
   "attachments": {},
   "cell_type": "markdown",
   "id": "f0a92bd9",
   "metadata": {},
   "source": [
    "When multiple lines are being shown within a single axes, it can be useful to create a plot legend that labels each line type.\n",
    "Again, Matplotlib has a built-in way of quickly creating such a legend.\n",
    "It is done via the (you guessed it) ``plt.legend()`` method.\n",
    "Though there are several valid ways of using this, I find it easiest to specify the label of each line using the ``label`` keyword of the plot function:"
   ]
  },
  {
   "cell_type": "code",
   "execution_count": null,
   "id": "9651457b",
   "metadata": {},
   "outputs": [],
   "source": [
    "plt.plot(x, np.sin(x), '-g', label='sin(x)')\n",
    "plt.plot(x, np.cos(x), ':b', label='cos(x)')\n",
    "plt.axis('equal')\n",
    "\n",
    "plt.legend()"
   ]
  },
  {
   "attachments": {},
   "cell_type": "markdown",
   "id": "6b4c9a1b",
   "metadata": {},
   "source": [
    "## Aside: Matplotlib Gotchas\n",
    "\n",
    "While most ``plt`` functions translate directly to ``ax`` methods (such as ``plt.plot()`` → ``ax.plot()``, ``plt.legend()`` → ``ax.legend()``, etc.), this is not the case for all commands.\n",
    "In particular, functions to set limits, labels, and titles are slightly modified.\n",
    "For transitioning between MATLAB-style functions and object-oriented methods, make the following changes:\n",
    "\n",
    "- ``plt.xlabel()``  → ``ax.set_xlabel()``\n",
    "- ``plt.ylabel()`` → ``ax.set_ylabel()``\n",
    "- ``plt.xlim()``  → ``ax.set_xlim()``\n",
    "- ``plt.ylim()`` → ``ax.set_ylim()``\n",
    "- ``plt.title()`` → ``ax.set_title()``\n",
    "\n",
    "In the object-oriented interface to plotting, rather than calling these functions individually, it is often more convenient to use the ``ax.set()`` method to set all these properties at once:"
   ]
  },
  {
   "cell_type": "code",
   "execution_count": null,
   "id": "f91e3471",
   "metadata": {},
   "outputs": [],
   "source": [
    "ax = plt.axes()\n",
    "ax.plot(x, np.sin(x))\n",
    "ax.set(xlim=(0, 10), ylim=(-2, 2),\n",
    "       xlabel='x', ylabel='sin(x)',\n",
    "       title='A Simple Plot')"
   ]
  },
  {
   "attachments": {},
   "cell_type": "markdown",
   "id": "2fa5e8b7",
   "metadata": {},
   "source": [
    "# 2. Simple Scatter Plots\n",
    "Another commonly used plot type is the simple scatter plot, a close cousin of the line plot.\n",
    "Instead of points being joined by line segments, here the points are represented individually with a dot, circle, or other shape.\n",
    "We’ll start by setting up the notebook for plotting and importing the functions we will use:"
   ]
  },
  {
   "attachments": {},
   "cell_type": "markdown",
   "id": "ec6e4820",
   "metadata": {},
   "source": [
    "## 2.1 Scatter Plots with ``plt.plot``\n",
    "\n",
    "In the previous section we looked at ``plt.plot``/``ax.plot`` to produce line plots.\n",
    "It turns out that this same function can produce scatter plots as well:"
   ]
  },
  {
   "cell_type": "code",
   "execution_count": null,
   "id": "76868280",
   "metadata": {},
   "outputs": [],
   "source": [
    "x = np.linspace(0, 10, 30)\n",
    "y = np.sin(x)\n",
    "\n",
    "plt.plot(x, y, 'o', color='black');"
   ]
  },
  {
   "attachments": {},
   "cell_type": "markdown",
   "id": "cf193ad9",
   "metadata": {},
   "source": [
    "The third argument in the function call is a character that represents the type of symbol used for the plotting. Just as you can specify options such as ``'-'``, ``'--'`` to control the line style, the marker style has its own set of short string codes. The full list of available symbols can be seen in the documentation of ``plt.plot``, or in Matplotlib's online documentation. Most of the possibilities are fairly intuitive, and we'll show a number of the more common ones here:"
   ]
  },
  {
   "cell_type": "code",
   "execution_count": null,
   "id": "d12305a0",
   "metadata": {},
   "outputs": [],
   "source": [
    "rng = np.random.RandomState(0)\n",
    "for marker in ['o', '.', ',', 'x', '+', 'v', '^', '<', '>', 's', 'd']:\n",
    "    plt.plot(rng.rand(5), rng.rand(5), marker,\n",
    "             label=\"marker='{0}'\".format(marker))\n",
    "plt.legend(numpoints=1)\n",
    "plt.xlim(0, 1.8);"
   ]
  },
  {
   "attachments": {},
   "cell_type": "markdown",
   "id": "8d8c4317",
   "metadata": {},
   "source": [
    "Additional keyword arguments to ``plt.plot`` specify a wide range of properties of the lines and markers:"
   ]
  },
  {
   "cell_type": "code",
   "execution_count": null,
   "id": "37de0f0d",
   "metadata": {},
   "outputs": [],
   "source": [
    "plt.plot(x, y, '-p', color='gray',\n",
    "         markersize=15, linewidth=4,\n",
    "         markerfacecolor='white',\n",
    "         markeredgecolor='gray',\n",
    "         markeredgewidth=2)\n",
    "plt.ylim(-1.2, 1.2);"
   ]
  },
  {
   "attachments": {},
   "cell_type": "markdown",
   "id": "13cf11b9",
   "metadata": {},
   "source": [
    "## 2.2 Scatter Plots with ``plt.scatter``\n",
    "\n",
    "A second, more powerful method of creating scatter plots is the ``plt.scatter`` function, which can be used very similarly to the ``plt.plot`` function:"
   ]
  },
  {
   "cell_type": "code",
   "execution_count": null,
   "id": "60bf2f63",
   "metadata": {},
   "outputs": [],
   "source": [
    "plt.scatter(x, y, marker='o');"
   ]
  },
  {
   "attachments": {},
   "cell_type": "markdown",
   "id": "83877600",
   "metadata": {},
   "source": [
    "The primary difference of ``plt.scatter`` from ``plt.plot`` is that it can be used to create scatter plots where the properties of each individual point (size, face color, edge color, etc.) can be individually controlled or mapped to data.\n",
    "\n",
    "Let's show this by creating a random scatter plot with points of many colors and sizes.\n",
    "In order to better see the overlapping results, we'll also use the ``alpha`` keyword to adjust the transparency level:"
   ]
  },
  {
   "cell_type": "code",
   "execution_count": null,
   "id": "7160b043",
   "metadata": {},
   "outputs": [],
   "source": [
    "rng = np.random.RandomState(0)\n",
    "x = rng.randn(100)\n",
    "y = rng.randn(100)\n",
    "colors = rng.rand(100)\n",
    "sizes = 1000 * rng.rand(100)\n",
    "\n",
    "plt.scatter(x, y, c=colors, s=sizes, alpha=0.3,\n",
    "            cmap='viridis')\n",
    "plt.colorbar();  # show color scale"
   ]
  },
  {
   "attachments": {},
   "cell_type": "markdown",
   "id": "97981ea2",
   "metadata": {},
   "source": [
    "Notice that the color argument is automatically mapped to a color scale (shown here by the ``colorbar()`` command), and that the size argument is given in pixels.\n",
    "In this way, the color and size of points can be used to convey information in the visualization, in order to visualize multidimensional data.\n",
    "\n",
    "For example, we might use the Iris data from Scikit-Learn, where each sample is one of three types of flowers that has had the size of its petals and sepals carefully measured:"
   ]
  },
  {
   "cell_type": "code",
   "execution_count": null,
   "id": "9aa10409",
   "metadata": {},
   "outputs": [],
   "source": [
    "from sklearn.datasets import load_iris\n",
    "iris = load_iris()\n",
    "features = iris.data.T\n",
    "\n",
    "plt.scatter(features[0], features[1], alpha=0.2,\n",
    "            s=100*features[3], c=iris.target, cmap='viridis')\n",
    "plt.xlabel(iris.feature_names[0])\n",
    "plt.ylabel(iris.feature_names[1]);"
   ]
  },
  {
   "attachments": {},
   "cell_type": "markdown",
   "id": "2c4ba18f",
   "metadata": {},
   "source": [
    "# 3. Histograms, Binnings, and Density\n",
    "\n",
    "A simple histogram can be a great first step in understanding a dataset."
   ]
  },
  {
   "cell_type": "code",
   "execution_count": null,
   "id": "e9ffa10d",
   "metadata": {},
   "outputs": [],
   "source": [
    "data = np.random.randn(1000)"
   ]
  },
  {
   "cell_type": "code",
   "execution_count": null,
   "id": "ac87eca3",
   "metadata": {},
   "outputs": [],
   "source": [
    "plt.hist(data)"
   ]
  },
  {
   "attachments": {},
   "cell_type": "markdown",
   "id": "b8a79a7e",
   "metadata": {},
   "source": [
    "The ``hist()`` function has many options to tune both the calculation and the display; \n",
    "here's an example of a more customized histogram:"
   ]
  },
  {
   "cell_type": "code",
   "execution_count": null,
   "id": "cafc81de",
   "metadata": {},
   "outputs": [],
   "source": [
    "plt.hist(data, bins=30, alpha=0.5,\n",
    "         histtype='stepfilled', color='steelblue',\n",
    "         edgecolor='none')"
   ]
  },
  {
   "attachments": {},
   "cell_type": "markdown",
   "id": "59467077",
   "metadata": {},
   "source": [
    "The ``plt.hist`` docstring has more information on other customization options available.\n",
    "I find this combination of ``histtype='stepfilled'`` along with some transparency ``alpha`` to be very useful when comparing histograms of several distributions:"
   ]
  },
  {
   "cell_type": "code",
   "execution_count": null,
   "id": "ea5dcbfb",
   "metadata": {},
   "outputs": [],
   "source": [
    "x1 = np.random.normal(0, 0.8, 1000)\n",
    "x2 = np.random.normal(-2, 1, 1000)\n",
    "x3 = np.random.normal(3, 2, 1000)\n",
    "\n",
    "## kwargs are a dictionary of keyword arguments, which we pass to plt.hist\n",
    "## to set the style of the histogram\n",
    "kwargs = dict(histtype='stepfilled', alpha=0.3, bins=40)\n",
    "\n",
    "plt.hist(x1, **kwargs)\n",
    "plt.hist(x2, **kwargs)\n",
    "plt.hist(x3, **kwargs);"
   ]
  },
  {
   "attachments": {},
   "cell_type": "markdown",
   "id": "a097b85a",
   "metadata": {},
   "source": [
    "If you would like to simply compute the histogram (that is, count the number of points in a given bin) and not display it, the ``np.histogram()`` function is available:"
   ]
  },
  {
   "cell_type": "code",
   "execution_count": null,
   "id": "d10022dc",
   "metadata": {},
   "outputs": [],
   "source": [
    "counts, bin_edges = np.histogram(data, bins=5)\n",
    "print(counts)"
   ]
  },
  {
   "attachments": {},
   "cell_type": "markdown",
   "id": "84edaa71",
   "metadata": {},
   "source": [
    "## 3.1 Two-Dimensional Histograms and Binnings\n",
    "\n",
    "Just as we create histograms in one dimension by dividing the number-line into bins, we can also create histograms in two-dimensions by dividing points among two-dimensional bins.\n",
    "We'll take a brief look at several ways to do this here.\n",
    "We'll start by defining some data—an ``x`` and ``y`` array drawn from a multivariate Gaussian distribution:"
   ]
  },
  {
   "cell_type": "code",
   "execution_count": null,
   "id": "22ea611c",
   "metadata": {},
   "outputs": [],
   "source": [
    "mean = [0, 0]\n",
    "cov = [[1, 1], [1, 2]]\n",
    "x, y = np.random.multivariate_normal(mean, cov, 10000).T"
   ]
  },
  {
   "attachments": {},
   "cell_type": "markdown",
   "id": "536844b6",
   "metadata": {},
   "source": [
    "## 3.2 ``plt.hist2d``: Two-dimensional histogram\n",
    "\n",
    "One straightforward way to plot a two-dimensional histogram is to use Matplotlib's ``plt.hist2d`` function:"
   ]
  },
  {
   "cell_type": "code",
   "execution_count": null,
   "id": "92e7db29",
   "metadata": {},
   "outputs": [],
   "source": [
    "plt.hist2d(x, y, bins=30, cmap='Blues')\n",
    "cb = plt.colorbar()\n",
    "cb.set_label('counts in bin')"
   ]
  },
  {
   "attachments": {},
   "cell_type": "markdown",
   "id": "18993ba8",
   "metadata": {},
   "source": [
    "## 3.3 ``plt.hexbin``: Hexagonal binnings\n",
    "\n",
    "The two-dimensional histogram creates a tesselation of squares across the axes.\n",
    "Another natural shape for such a tesselation is the regular hexagon.\n",
    "For this purpose, Matplotlib provides the ``plt.hexbin`` routine, which will represents a two-dimensional dataset binned within a grid of hexagons:"
   ]
  },
  {
   "cell_type": "code",
   "execution_count": null,
   "id": "1bc7b2a8",
   "metadata": {},
   "outputs": [],
   "source": [
    "plt.hexbin(x, y, gridsize=30, cmap='Blues')\n",
    "cb = plt.colorbar(label='count in bin')"
   ]
  },
  {
   "attachments": {},
   "cell_type": "markdown",
   "id": "53c9002d",
   "metadata": {},
   "source": [
    "# 4. Multiple Subplots\n",
    "Sometimes it is helpful to compare different views of data side by side.\n",
    "To this end, Matplotlib has the concept of *subplots*: groups of smaller axes that can exist together within a single figure.\n",
    "These subplots might be insets, grids of plots, or other more complicated layouts.\n",
    "In this section we'll explore four routines for creating subplots in Matplotlib."
   ]
  },
  {
   "attachments": {},
   "cell_type": "markdown",
   "id": "3210a1ed",
   "metadata": {},
   "source": [
    "## 4.1 ``plt.subplot``: Simple Grids of Subplots\n",
    "\n",
    "Aligned columns or rows of subplots are a common-enough need that Matplotlib has several convenience routines that make them easy to create.\n",
    "The lowest level of these is ``plt.subplot()``, which creates a single subplot within a grid.\n",
    "As you can see, this command takes three integer arguments—the number of rows, the number of columns, and the index of the plot to be created in this scheme, which runs from the upper left to the bottom right:"
   ]
  },
  {
   "cell_type": "code",
   "execution_count": null,
   "id": "dcc8c726",
   "metadata": {},
   "outputs": [],
   "source": [
    "for i in range(1, 7):\n",
    "    plt.subplot(2, 3, i)\n",
    "    plt.text(0.5, 0.5, str((2, 3, i)),\n",
    "             fontsize=18, ha='center')"
   ]
  },
  {
   "attachments": {},
   "cell_type": "markdown",
   "id": "6c4b83cf",
   "metadata": {},
   "source": [
    "## 4.2 ``plt.subplots``: The Whole Grid in One Go\n",
    "\n",
    "The approach just described can become quite tedious when creating a large grid of subplots, especially if you'd like to hide the x- and y-axis labels on the inner plots.\n",
    "For this purpose, ``plt.subplots()`` is the easier tool to use (note the ``s`` at the end of ``subplots``). Rather than creating a single subplot, this function creates a full grid of subplots in a single line, returning them in a NumPy array.\n",
    "The arguments are the number of rows and number of columns, along with optional keywords ``sharex`` and ``sharey``, which allow you to specify the relationships between different axes.\n",
    "\n",
    "Here we'll create a $2 \\times 3$ grid of subplots, where all axes in the same row share their y-axis scale, and all axes in the same column share their x-axis scale:"
   ]
  },
  {
   "cell_type": "code",
   "execution_count": null,
   "id": "c0d62350",
   "metadata": {},
   "outputs": [],
   "source": [
    "fig, ax = plt.subplots(2, 3, sharex='col', sharey='row')"
   ]
  },
  {
   "attachments": {},
   "cell_type": "markdown",
   "id": "ffbb039c",
   "metadata": {},
   "source": [
    "Note that by specifying ``sharex`` and ``sharey``, we've automatically removed inner labels on the grid to make the plot cleaner.\n",
    "The resulting grid of axes instances is returned within a NumPy array, allowing for convenient specification of the desired axes using standard array indexing notation:"
   ]
  },
  {
   "cell_type": "code",
   "execution_count": null,
   "id": "abc62fe4",
   "metadata": {},
   "outputs": [],
   "source": [
    "# axes are in a two-dimensional array, indexed by [row, col]\n",
    "for i in range(2):\n",
    "    for j in range(3):\n",
    "        ax[i, j].text(0.5, 0.5, str((i, j)),\n",
    "                      fontsize=18, ha='center')\n",
    "fig"
   ]
  },
  {
   "attachments": {},
   "cell_type": "markdown",
   "id": "8f49b6dc",
   "metadata": {},
   "source": [
    "# 5. Visualization with Seaborn\n",
    "\n",
    "The main idea of Seaborn is that it provides high-level commands to create a variety of plot types useful for statistical data exploration, and even some statistical model fitting.\n",
    "\n",
    "Let's take a look at a few of the datasets and plot types available in Seaborn. Note that all of the following *could* be done using raw Matplotlib commands (this is, in fact, what Seaborn does under the hood) but the Seaborn API is much more convenient.\n"
   ]
  },
  {
   "attachments": {},
   "cell_type": "markdown",
   "id": "1d871d41",
   "metadata": {},
   "source": [
    "### 5.1 Histograms, KDE, and densities\n",
    "\n",
    "Often in statistical data visualization, all you want is to plot histograms and joint distributions of variables.\n",
    "We have seen that this is relatively straightforward in Matplotlib:"
   ]
  },
  {
   "cell_type": "code",
   "execution_count": null,
   "id": "995f8d4c",
   "metadata": {},
   "outputs": [],
   "source": [
    "\n",
    "for col in ['perc_other','perc_black']:\n",
    "    plt.hist(nyc_census[col], alpha=0.5)\n",
    "\n"
   ]
  },
  {
   "attachments": {},
   "cell_type": "markdown",
   "id": "54f821de",
   "metadata": {},
   "source": [
    "Rather than a histogram, we can get a smooth estimate of the distribution using a kernel density estimation, which Seaborn does with ``sns.kdeplot``:"
   ]
  },
  {
   "cell_type": "code",
   "execution_count": null,
   "id": "a9d68d6b",
   "metadata": {},
   "outputs": [],
   "source": [
    "for col in ['perc_other','perc_black']:\n",
    "    sns.kdeplot(nyc_census[col], fill=True)\n",
    "    "
   ]
  },
  {
   "cell_type": "markdown",
   "id": "b4883ab8",
   "metadata": {},
   "source": [
    "Histograms and KDE can be combined using ``distplot``:"
   ]
  },
  {
   "cell_type": "code",
   "execution_count": null,
   "id": "30d15d69",
   "metadata": {},
   "outputs": [],
   "source": [
    "sns.histplot(nyc_census['perc_other'],kde=True)\n",
    "sns.histplot(nyc_census['perc_asian'],kde=True);"
   ]
  },
  {
   "attachments": {},
   "cell_type": "markdown",
   "id": "cc56d976",
   "metadata": {},
   "source": [
    "We can see the joint distribution and the marginal distributions together using ``sns.jointplot``.\n",
    "For this plot, we'll set the style to a white background:"
   ]
  },
  {
   "cell_type": "code",
   "execution_count": null,
   "id": "5d340376",
   "metadata": {},
   "outputs": [],
   "source": [
    "sns.jointplot(x=\"perc_asian\", y=\"median_hh_income\", data = nyc_census)"
   ]
  },
  {
   "cell_type": "code",
   "execution_count": null,
   "id": "cba43e32",
   "metadata": {},
   "outputs": [],
   "source": [
    "sns.jointplot(data=nyc_census, x=\"perc_asian\", y=\"median_hh_income\", hue=\"COUNTY\")\n"
   ]
  },
  {
   "attachments": {},
   "cell_type": "markdown",
   "id": "75de5a1c",
   "metadata": {},
   "source": [
    "## 5.2 Pair plots\n",
    "\n",
    "When you generalize joint plots to datasets of larger dimensions, you end up with *pair plots*. This is very useful for exploring correlations between multidimensional data, when you'd like to plot all pairs of values against each other."
   ]
  },
  {
   "cell_type": "code",
   "execution_count": null,
   "id": "44ede71d",
   "metadata": {},
   "outputs": [],
   "source": [
    "## This might take a while\n",
    "sns.pairplot(nyc_census[[ 'COUNTY','perc_asian', 'perc_hispanic', 'median_hh_income']], hue='COUNTY', height=2.5);"
   ]
  },
  {
   "attachments": {},
   "cell_type": "markdown",
   "id": "a1957f54",
   "metadata": {},
   "source": [
    "## 5.3 Faceted histograms\n",
    "\n",
    "Sometimes the best way to view data is via histograms of subsets. Seaborn's ``FacetGrid`` makes this extremely simple.\n"
   ]
  },
  {
   "cell_type": "code",
   "execution_count": null,
   "id": "c5d2e325",
   "metadata": {},
   "outputs": [],
   "source": [
    "grid = sns.FacetGrid(nyc_census, col=\"COUNTY\",  margin_titles=True)\n",
    "grid.map(plt.hist, \"perc_black\");"
   ]
  },
  {
   "cell_type": "code",
   "execution_count": null,
   "id": "a9b78873",
   "metadata": {},
   "outputs": [],
   "source": [
    "grid = sns.FacetGrid(nyc_census, row=\"COUNTY\",  margin_titles=True)\n",
    "grid.map(plt.hist, \"perc_black\");"
   ]
  },
  {
   "attachments": {},
   "cell_type": "markdown",
   "id": "fa2c1286",
   "metadata": {},
   "source": [
    "## 5.4 Categorical plots\n",
    "\n",
    "Categorical plots can be useful for this kind of visualization as well.\n",
    "\n",
    "We'll take a look at some data that shows the amount that restaurant staff receive in tips based on various indicator data.\n",
    "d by any other parameter:"
   ]
  },
  {
   "cell_type": "code",
   "execution_count": null,
   "id": "46b773e0",
   "metadata": {},
   "outputs": [],
   "source": [
    "tips = sns.load_dataset('tips')\n",
    "tips.head()\n"
   ]
  },
  {
   "cell_type": "code",
   "execution_count": null,
   "id": "06970b76",
   "metadata": {},
   "outputs": [],
   "source": [
    "# sns.catplot(data=tips, x=\"sex\", y=\"day\")\n",
    "sns.catplot(data=tips, x=\"tip\", y=\"day\", kind=\"box\")\n"
   ]
  },
  {
   "cell_type": "code",
   "execution_count": null,
   "id": "3d809862",
   "metadata": {},
   "outputs": [],
   "source": [
    "sns.catplot(\n",
    "    data=tips, x=\"day\", y=\"tip\", col=\"sex\",\n",
    "    kind=\"bar\", height=4, aspect=.6,\n",
    ")"
   ]
  },
  {
   "attachments": {},
   "cell_type": "markdown",
   "id": "e7b1b38c",
   "metadata": {},
   "source": [
    "## Q.2 Scatterplot in seaborn (5 pts)\n",
    "- Using the seaborn `sns.scatterplot(data=df,x='x_col',y='y_col',hue='color_by_col')` function, create a scatter plot of: \n",
    "    - x axis = % white\n",
    "    - y axis = median household income\n",
    "    - color this by the county\n",
    "\n",
    "\n",
    "The documentation for the scatterplot function is [here](https://seaborn.pydata.org/generated/seaborn.scatterplot.html)"
   ]
  },
  {
   "cell_type": "code",
   "execution_count": null,
   "id": "8fd20b2f",
   "metadata": {},
   "outputs": [],
   "source": [
    "## insert yoru code here\n"
   ]
  },
  {
   "attachments": {},
   "cell_type": "markdown",
   "id": "03532e1e",
   "metadata": {},
   "source": [
    "## Q.3 Scatter plot with regression (5 pts)\n",
    "- Create the same scatter plot, but with a regression line using `sns.lmplot()`\n",
    "- Instead of all counties in the same plot, out the counties into different columns (hint: `col` input in `sns.lmplot()`)."
   ]
  },
  {
   "cell_type": "code",
   "execution_count": null,
   "id": "e801893e",
   "metadata": {},
   "outputs": [],
   "source": [
    "## insert your code here\n",
    "# sns.lmplot(data= , x=, y=, col=,markers='+', )\n",
    "\n"
   ]
  },
  {
   "attachments": {},
   "cell_type": "markdown",
   "id": "613f7c87",
   "metadata": {},
   "source": [
    "## Q.4 \n",
    "In general, what is the relationship between the % white in a block group and the median income? For which county is this relationship the most pronounced (steepest slope)? "
   ]
  }
 ],
 "metadata": {
  "kernelspec": {
   "display_name": "gds_py",
   "language": "python",
   "name": "python3"
  },
  "language_info": {
   "codemirror_mode": {
    "name": "ipython",
    "version": 3
   },
   "file_extension": ".py",
   "mimetype": "text/x-python",
   "name": "python",
   "nbconvert_exporter": "python",
   "pygments_lexer": "ipython3",
   "version": "3.9.13"
  },
  "vscode": {
   "interpreter": {
    "hash": "d5b5e944a9b71ce46e873efe99abd044b4b2cd2a5153fea1f2fc73581012ba31"
   }
  }
 },
 "nbformat": 4,
 "nbformat_minor": 5
}
