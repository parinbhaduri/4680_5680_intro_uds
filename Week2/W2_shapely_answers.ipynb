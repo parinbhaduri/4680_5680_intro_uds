{
 "cells": [
  {
   "cell_type": "markdown",
   "id": "clean-sessions",
   "metadata": {},
   "source": [
    "# Learning goals\n",
    "After this week's lesson you should be able to:\n",
    "- Create points, lines, and polygons from coordinate values. \n",
    "- Test these geometries for certain `True` and `False` conditions\n",
    "- Analyze geometries and output new geometries \n",
    "\n",
    "This week's lessons are adapted from:\n",
    "- [Automating GIS Processes Lesson 1](https://autogis-site.readthedocs.io/en/latest/lessons/lesson-1/overview.html)\n",
    "- [The Shapely Documentation](https://shapely.readthedocs.io/en/stable/manual.html)\n",
    "- [Spatial Data Programming with Python](https://geobgu.xyz/)"
   ]
  },
  {
   "cell_type": "markdown",
   "id": "iraqi-funds",
   "metadata": {},
   "source": [
    "# 0. What is shapely? \n",
    "\n",
    "Shapely is a Python package for the analysis and manipulation of planar features. It performs the many of the core spatial functionalities used in Geopandas (which we'll explore on Wednesday), so it's worth reviewing this library. Because shapely is built using functions from libraries that are guided by the [Open Geospatial Consortium](https://www.ogc.org/) geospatial standards, its GIS conventions will be familiar to you since you are all familiar with manipulating and analyzing geospatial data in ArcGIS.\n",
    "\n",
    "*I thought we were going to use GeoPandas for geospatial data?* When we learn about GeoPanda on Wednesday, you'll see that the geometries in Geopandas are just shapely geometries, so everything you can do in shapely, you can also do with the Geopandas geometries. \n",
    "\n",
    "# 1. Geometric Objects\n",
    "There are three kinds of geometric objects found in Shapely: \n",
    "- **points**\n",
    "- **lines**: Connecting points together creates a line\n",
    "- **polygons**: Connecting lines in an enclosed area creates a polygon. \n",
    "\n",
    "These are all the different categories of possible geometric objects in Shapely. \n",
    "<figure class=\"image\">\n",
    "<img src=\"https://autogis-site.readthedocs.io/en/latest/_images/simple-features_595x500px.svg\" alt=\"drawing\" width=\"500\" style=\"display: block; margin: 0 auto\"/>\n",
    " <figcaption><center>(Figures by M. W. Toews; cf. Wikipedia’s article on GeoJSON)</figcaption>\n",
    "</figure>"
   ]
  },
  {
   "cell_type": "markdown",
   "id": "de1c10fe",
   "metadata": {},
   "source": [
    "Let's look at some geometry objects."
   ]
  },
  {
   "cell_type": "markdown",
   "id": "e8e1e07c",
   "metadata": {},
   "source": [
    "## 1.1 Points\n",
    "Points are represented by a single coordinate are defined using the `Point` class.\n",
    "\n",
    "(Note, Jacob may not have gone over this, but a class is a way of creating Python objects. It's often described as a \"blueprint\" for creating other Python objects. )"
   ]
  },
  {
   "cell_type": "code",
   "execution_count": 1,
   "id": "433a5c8f",
   "metadata": {},
   "outputs": [
    {
     "name": "stderr",
     "output_type": "stream",
     "text": [
      "C:\\Users\\jewel\\miniconda3\\lib\\site-packages\\numpy\\_distributor_init.py:30: UserWarning: loaded more than 1 DLL from .libs:\n",
      "C:\\Users\\jewel\\miniconda3\\lib\\site-packages\\numpy\\.libs\\libopenblas.FB5AE2TYXYH2IJRDKGDGQ3XBKLKTF43H.gfortran-win_amd64.dll\n",
      "C:\\Users\\jewel\\miniconda3\\lib\\site-packages\\numpy\\.libs\\libopenblas64__v0.3.21-gcc_10_3_0.dll\n",
      "  warnings.warn(\"loaded more than 1 DLL from .libs:\"\n"
     ]
    }
   ],
   "source": [
    "from shapely.geometry import Point\n",
    "point1 = Point(2.2, 4.2)"
   ]
  },
  {
   "cell_type": "markdown",
   "id": "4cef2c73",
   "metadata": {},
   "source": [
    "Now if you just call the variable, it will be displayed in our notebook"
   ]
  },
  {
   "cell_type": "code",
   "execution_count": 2,
   "id": "b70bb916",
   "metadata": {},
   "outputs": [
    {
     "data": {
      "image/svg+xml": [
       "<svg xmlns=\"http://www.w3.org/2000/svg\" xmlns:xlink=\"http://www.w3.org/1999/xlink\" width=\"100.0\" height=\"100.0\" viewBox=\"1.2000000000000002 3.2 2.0 2.0\" preserveAspectRatio=\"xMinYMin meet\"><g transform=\"matrix(1,0,0,-1,0,8.4)\"><circle cx=\"2.2\" cy=\"4.2\" r=\"0.06\" stroke=\"#555555\" stroke-width=\"0.02\" fill=\"#66cc99\" opacity=\"0.6\" /></g></svg>"
      ],
      "text/plain": [
       "<POINT (2.2 4.2)>"
      ]
     },
     "execution_count": 2,
     "metadata": {},
     "output_type": "execute_result"
    }
   ],
   "source": [
    "point1"
   ]
  },
  {
   "cell_type": "markdown",
   "id": "b422ee87",
   "metadata": {},
   "source": [
    "## 1.2 LineStrings\n",
    "The `LineString` class is used to construct lines through a sequence of points. "
   ]
  },
  {
   "cell_type": "code",
   "execution_count": 3,
   "id": "c5b86dae",
   "metadata": {},
   "outputs": [],
   "source": [
    "# import the LineString class\n",
    "from shapely.geometry import LineString\n",
    "\n",
    "# Create a LineString from our Point objects\n",
    "line1 = LineString([(1,2), (4,10), (12,4)])"
   ]
  },
  {
   "cell_type": "code",
   "execution_count": 4,
   "id": "bf2bd304",
   "metadata": {},
   "outputs": [
    {
     "data": {
      "image/svg+xml": [
       "<svg xmlns=\"http://www.w3.org/2000/svg\" xmlns:xlink=\"http://www.w3.org/1999/xlink\" width=\"100.0\" height=\"100.0\" viewBox=\"0.56 1.56 11.879999999999999 8.879999999999999\" preserveAspectRatio=\"xMinYMin meet\"><g transform=\"matrix(1,0,0,-1,0,12.0)\"><polyline fill=\"none\" stroke=\"#66cc99\" stroke-width=\"0.23759999999999998\" points=\"1.0,2.0 4.0,10.0 12.0,4.0\" opacity=\"0.8\" /></g></svg>"
      ],
      "text/plain": [
       "<LINESTRING (1 2, 4 10, 12 4)>"
      ]
     },
     "execution_count": 4,
     "metadata": {},
     "output_type": "execute_result"
    }
   ],
   "source": [
    "line1"
   ]
  },
  {
   "cell_type": "markdown",
   "id": "7f07a3e9",
   "metadata": {},
   "source": [
    "If we \"close\" the LineString by setting the first and as point to be the same, we create a LinearRing. "
   ]
  },
  {
   "cell_type": "code",
   "execution_count": 5,
   "id": "016ae9e3",
   "metadata": {},
   "outputs": [],
   "source": [
    "line2 = LineString([(1,2), (4,10), (12,4),(1,2)])"
   ]
  },
  {
   "cell_type": "code",
   "execution_count": 6,
   "id": "0c0d5413",
   "metadata": {},
   "outputs": [
    {
     "data": {
      "image/svg+xml": [
       "<svg xmlns=\"http://www.w3.org/2000/svg\" xmlns:xlink=\"http://www.w3.org/1999/xlink\" width=\"100.0\" height=\"100.0\" viewBox=\"0.56 1.56 11.879999999999999 8.879999999999999\" preserveAspectRatio=\"xMinYMin meet\"><g transform=\"matrix(1,0,0,-1,0,12.0)\"><polyline fill=\"none\" stroke=\"#66cc99\" stroke-width=\"0.23759999999999998\" points=\"1.0,2.0 4.0,10.0 12.0,4.0 1.0,2.0\" opacity=\"0.8\" /></g></svg>"
      ],
      "text/plain": [
       "<LINESTRING (1 2, 4 10, 12 4, 1 2)>"
      ]
     },
     "execution_count": 6,
     "metadata": {},
     "output_type": "execute_result"
    }
   ],
   "source": [
    "line2"
   ]
  },
  {
   "cell_type": "markdown",
   "id": "eca9b3e2",
   "metadata": {},
   "source": [
    "## 1.3 Polygons\n",
    "From the above, we can see that a polygon is just one or more LinearRings (you can have a polygon with a hole in the middle, which would require two LinearRings). "
   ]
  },
  {
   "cell_type": "code",
   "execution_count": 7,
   "id": "b1b14f99",
   "metadata": {},
   "outputs": [],
   "source": [
    "# import the LineString class\n",
    "from shapely.geometry import Polygon\n",
    "\n",
    "# Create a LineString from our Point objects\n",
    "polygon1 = Polygon([(1,2), (4,10), (12,4),(1,2)])"
   ]
  },
  {
   "cell_type": "code",
   "execution_count": 8,
   "id": "09e9808d",
   "metadata": {},
   "outputs": [
    {
     "data": {
      "image/svg+xml": [
       "<svg xmlns=\"http://www.w3.org/2000/svg\" xmlns:xlink=\"http://www.w3.org/1999/xlink\" width=\"100.0\" height=\"100.0\" viewBox=\"0.56 1.56 11.879999999999999 8.879999999999999\" preserveAspectRatio=\"xMinYMin meet\"><g transform=\"matrix(1,0,0,-1,0,12.0)\"><path fill-rule=\"evenodd\" fill=\"#66cc99\" stroke=\"#555555\" stroke-width=\"0.23759999999999998\" opacity=\"0.6\" d=\"M 1.0,2.0 L 4.0,10.0 L 12.0,4.0 L 1.0,2.0 z\" /></g></svg>"
      ],
      "text/plain": [
       "<POLYGON ((1 2, 4 10, 12 4, 1 2))>"
      ]
     },
     "execution_count": 8,
     "metadata": {},
     "output_type": "execute_result"
    }
   ],
   "source": [
    "polygon1"
   ]
  },
  {
   "cell_type": "markdown",
   "id": "86537931",
   "metadata": {},
   "source": [
    "These geometric objects are all built by **coordinate tuples**, or pairs of numbers taking represented by `(x,y)` or, when we have are using a coordinate reference system `(lng,lat)`. The tuple is a built-in python data types. \n",
    "\n",
    "One thing to note about shapely is that coordinates are **only exist on the 2-dimensional plane**. If you have third z-coordinate, shapely will essentially ignore this dimension and perform all operations as if your geometries only exist on the x-y plane. \n"
   ]
  },
  {
   "cell_type": "markdown",
   "id": "38ce538d",
   "metadata": {},
   "source": [
    "## 1.4 Collections of geometric objects\n",
    "Points, lines, and polygons can be combined into a collection of geometric objects: MultiPoint, MultiLineString, MultiPolygon. "
   ]
  },
  {
   "cell_type": "code",
   "execution_count": 9,
   "id": "e6be0e42",
   "metadata": {},
   "outputs": [],
   "source": [
    "# import the LineString class\n",
    "from shapely.geometry import MultiPolygon\n",
    "\n",
    "# Create a LineString from our Point objects\n",
    "polygon2 = MultiPolygon([Polygon([(1,2), (4,10), (12,4),(1,2)]),\n",
    "                        Polygon([(18,10), (16,4), (12,12),(18,10)])])"
   ]
  },
  {
   "cell_type": "code",
   "execution_count": 10,
   "id": "6ac81b43",
   "metadata": {},
   "outputs": [
    {
     "data": {
      "image/svg+xml": [
       "<svg xmlns=\"http://www.w3.org/2000/svg\" xmlns:xlink=\"http://www.w3.org/1999/xlink\" width=\"100.0\" height=\"100.0\" viewBox=\"0.31999999999999995 1.3199999999999998 18.36 11.36\" preserveAspectRatio=\"xMinYMin meet\"><g transform=\"matrix(1,0,0,-1,0,14.0)\"><g><path fill-rule=\"evenodd\" fill=\"#66cc99\" stroke=\"#555555\" stroke-width=\"0.36719999999999997\" opacity=\"0.6\" d=\"M 1.0,2.0 L 4.0,10.0 L 12.0,4.0 L 1.0,2.0 z\" /><path fill-rule=\"evenodd\" fill=\"#66cc99\" stroke=\"#555555\" stroke-width=\"0.36719999999999997\" opacity=\"0.6\" d=\"M 18.0,10.0 L 16.0,4.0 L 12.0,12.0 L 18.0,10.0 z\" /></g></g></svg>"
      ],
      "text/plain": [
       "<MULTIPOLYGON (((1 2, 4 10, 12 4, 1 2)), ((18 10, 16 4, 12 12, 18 10)))>"
      ]
     },
     "execution_count": 10,
     "metadata": {},
     "output_type": "execute_result"
    }
   ],
   "source": [
    "# Fun!\n",
    "polygon2"
   ]
  },
  {
   "cell_type": "markdown",
   "id": "d275747e",
   "metadata": {},
   "source": [
    "## 1.5 Geometry attributes\n",
    "\n",
    "There are some basic attributes that you'll want to know about our geometries such as (where relevant), \n",
    "- Coordinates\n",
    "- Distance\n",
    "- Area\n",
    "- Length\n",
    "- The type of geometry\n",
    "- etc\n",
    "\n",
    "Below are some attributes you can get from each our three (Points, LineStrings, Polygons) types of geometric objects\n"
   ]
  },
  {
   "cell_type": "markdown",
   "id": "b6d32288",
   "metadata": {},
   "source": [
    "### 1.5.1 Points\n",
    "To see the coordinates, any of the following can work"
   ]
  },
  {
   "cell_type": "code",
   "execution_count": 11,
   "id": "4e7403b9",
   "metadata": {},
   "outputs": [
    {
     "data": {
      "text/plain": [
       "[(2.2, 4.2)]"
      ]
     },
     "execution_count": 11,
     "metadata": {},
     "output_type": "execute_result"
    }
   ],
   "source": [
    "list(point1.coords)"
   ]
  },
  {
   "cell_type": "code",
   "execution_count": 12,
   "id": "51b9163f",
   "metadata": {},
   "outputs": [
    {
     "data": {
      "text/plain": [
       "2.2"
      ]
     },
     "execution_count": 12,
     "metadata": {},
     "output_type": "execute_result"
    }
   ],
   "source": [
    "point1.x"
   ]
  },
  {
   "cell_type": "code",
   "execution_count": 13,
   "id": "8e8195e2",
   "metadata": {},
   "outputs": [
    {
     "data": {
      "text/plain": [
       "4.2"
      ]
     },
     "execution_count": 13,
     "metadata": {},
     "output_type": "execute_result"
    }
   ],
   "source": [
    "point1.y"
   ]
  },
  {
   "cell_type": "code",
   "execution_count": 14,
   "id": "a6a82398",
   "metadata": {},
   "outputs": [
    {
     "name": "stdout",
     "output_type": "stream",
     "text": [
      "POINT (2.2 4.2)\n"
     ]
    }
   ],
   "source": [
    "print(point1)"
   ]
  },
  {
   "cell_type": "code",
   "execution_count": 15,
   "id": "6234a2aa",
   "metadata": {},
   "outputs": [
    {
     "data": {
      "text/plain": [
       "0.0"
      ]
     },
     "execution_count": 15,
     "metadata": {},
     "output_type": "execute_result"
    }
   ],
   "source": [
    "# You can use this but it returns 0. \n",
    "point1.area"
   ]
  },
  {
   "cell_type": "code",
   "execution_count": 16,
   "id": "f36b7be7",
   "metadata": {},
   "outputs": [
    {
     "data": {
      "text/plain": [
       "0.0"
      ]
     },
     "execution_count": 16,
     "metadata": {},
     "output_type": "execute_result"
    }
   ],
   "source": [
    "point1.length"
   ]
  },
  {
   "cell_type": "markdown",
   "id": "de934ced",
   "metadata": {},
   "source": [
    "`object.bounds` will return the bounding box, i.e. a (minx, miny, maxx, maxy) tuple that bounds the object."
   ]
  },
  {
   "cell_type": "code",
   "execution_count": 17,
   "id": "a32079e9",
   "metadata": {},
   "outputs": [
    {
     "data": {
      "text/plain": [
       "(2.2, 4.2, 2.2, 4.2)"
      ]
     },
     "execution_count": 17,
     "metadata": {},
     "output_type": "execute_result"
    }
   ],
   "source": [
    "point1.bounds"
   ]
  },
  {
   "cell_type": "code",
   "execution_count": 18,
   "id": "3abbd5c5",
   "metadata": {},
   "outputs": [
    {
     "data": {
      "text/plain": [
       "'Point'"
      ]
     },
     "execution_count": 18,
     "metadata": {},
     "output_type": "execute_result"
    }
   ],
   "source": [
    "point1.geom_type"
   ]
  },
  {
   "cell_type": "markdown",
   "id": "97c9886b",
   "metadata": {},
   "source": [
    "### 1.5.2 LineStrings"
   ]
  },
  {
   "cell_type": "code",
   "execution_count": 19,
   "id": "fb1131c3",
   "metadata": {},
   "outputs": [
    {
     "data": {
      "text/plain": [
       "[(1.0, 2.0), (4.0, 10.0), (12.0, 4.0)]"
      ]
     },
     "execution_count": 19,
     "metadata": {},
     "output_type": "execute_result"
    }
   ],
   "source": [
    "list(line1.coords)"
   ]
  },
  {
   "cell_type": "code",
   "execution_count": 20,
   "id": "b933545a",
   "metadata": {},
   "outputs": [
    {
     "data": {
      "text/plain": [
       "0.0"
      ]
     },
     "execution_count": 20,
     "metadata": {},
     "output_type": "execute_result"
    }
   ],
   "source": [
    "line1.area"
   ]
  },
  {
   "cell_type": "code",
   "execution_count": 21,
   "id": "a058c314",
   "metadata": {},
   "outputs": [
    {
     "data": {
      "text/plain": [
       "18.544003745317532"
      ]
     },
     "execution_count": 21,
     "metadata": {},
     "output_type": "execute_result"
    }
   ],
   "source": [
    "line1.length"
   ]
  },
  {
   "cell_type": "code",
   "execution_count": 22,
   "id": "095be350",
   "metadata": {},
   "outputs": [
    {
     "data": {
      "text/plain": [
       "(1.0, 2.0, 12.0, 10.0)"
      ]
     },
     "execution_count": 22,
     "metadata": {},
     "output_type": "execute_result"
    }
   ],
   "source": [
    "line1.bounds"
   ]
  },
  {
   "cell_type": "markdown",
   "id": "06237964",
   "metadata": {},
   "source": [
    "### 1.5.3 Polygons"
   ]
  },
  {
   "cell_type": "markdown",
   "id": "871d13af",
   "metadata": {},
   "source": [
    "Note that because polygons have an exterior and any number of interiors (holes), you sometimes need to specify which part of the polygon you are try to access."
   ]
  },
  {
   "cell_type": "code",
   "execution_count": 23,
   "id": "8381a871",
   "metadata": {},
   "outputs": [
    {
     "data": {
      "text/plain": [
       "[(1.0, 2.0), (4.0, 10.0), (12.0, 4.0), (1.0, 2.0)]"
      ]
     },
     "execution_count": 23,
     "metadata": {},
     "output_type": "execute_result"
    }
   ],
   "source": [
    "list(polygon1.exterior.coords)"
   ]
  },
  {
   "cell_type": "code",
   "execution_count": 24,
   "id": "e4d66a74",
   "metadata": {},
   "outputs": [
    {
     "data": {
      "text/plain": [
       "41.0"
      ]
     },
     "execution_count": 24,
     "metadata": {},
     "output_type": "execute_result"
    }
   ],
   "source": [
    "polygon1.area"
   ]
  },
  {
   "cell_type": "markdown",
   "id": "aace55c7",
   "metadata": {},
   "source": [
    "Length here is the perimenter. "
   ]
  },
  {
   "cell_type": "code",
   "execution_count": 25,
   "id": "37ed61a3",
   "metadata": {},
   "outputs": [
    {
     "data": {
      "text/plain": [
       "29.72434363281648"
      ]
     },
     "execution_count": 25,
     "metadata": {},
     "output_type": "execute_result"
    }
   ],
   "source": [
    "polygon1.length"
   ]
  },
  {
   "cell_type": "code",
   "execution_count": 26,
   "id": "799affd6",
   "metadata": {},
   "outputs": [
    {
     "data": {
      "text/plain": [
       "(1.0, 2.0, 12.0, 10.0)"
      ]
     },
     "execution_count": 26,
     "metadata": {},
     "output_type": "execute_result"
    }
   ],
   "source": [
    "polygon1.bounds"
   ]
  },
  {
   "cell_type": "code",
   "execution_count": 27,
   "id": "61d52987",
   "metadata": {},
   "outputs": [
    {
     "data": {
      "text/plain": [
       "True"
      ]
     },
     "execution_count": 27,
     "metadata": {},
     "output_type": "execute_result"
    }
   ],
   "source": [
    "polygon1.is_valid"
   ]
  },
  {
   "cell_type": "markdown",
   "id": "1958bc18",
   "metadata": {},
   "source": [
    "### 1.5.4 Geometry validity\n",
    "There are proper and improper ways that a geometry can be constructed, which you can check with the `.is_valid` property. \n"
   ]
  },
  {
   "cell_type": "code",
   "execution_count": 28,
   "id": "940a5deb",
   "metadata": {},
   "outputs": [
    {
     "data": {
      "text/plain": [
       "True"
      ]
     },
     "execution_count": 28,
     "metadata": {},
     "output_type": "execute_result"
    }
   ],
   "source": [
    "polygon1.is_valid"
   ]
  },
  {
   "cell_type": "markdown",
   "id": "d9f8e9b9",
   "metadata": {},
   "source": [
    "For **LinearRings**, a geometry is invalid if it shares any point besides the first/last one: \n",
    "<figure class=\"image\">\n",
    "<img src=\"https://shapely.readthedocs.io/en/stable/code/linearring.png\" alt=\"drawing\" width=\"500\" style=\"display: block; margin: 0 auto\"/>\n",
    " <figcaption><center>(Figures from the Shapely documentation)</figcaption>\n",
    "</figure>\n"
   ]
  },
  {
   "cell_type": "markdown",
   "id": "12cae237",
   "metadata": {},
   "source": [
    "For **Polygons**, an interior ring is allowed to share only a single a point with the exterior. And interior rings cannot touch along a line.\n",
    "<figure class=\"image\">\n",
    "<img src=\"https://shapely.readthedocs.io/en/stable/code/polygon.png\" alt=\"drawing\" width=\"500\" style=\"display: block; margin: 0 auto\"/>\n",
    " <figcaption><center>(Figures from the Shapely documentation)</figcaption>\n",
    "</figure>\n",
    "<img src=\"https://shapely.readthedocs.io/en/stable/code/polygon2.png\" alt=\"drawing\" width=\"500\" style=\"display: block; margin: 0 auto\"/>\n",
    " <figcaption><center>(Figures from the Shapely documentation)</figcaption>\n",
    "</figure>"
   ]
  },
  {
   "cell_type": "markdown",
   "id": "2653d97b",
   "metadata": {},
   "source": [
    "For **LineStrings**, when lines cross each other, they are still valid, but are called \"complex\"\n",
    "\n",
    "</figure>\n",
    "<img src=\"https://shapely.readthedocs.io/en/stable/code/linestring.png \" alt=\"drawing\" width=\"500\" style=\"display: block; margin: 0 auto\"/>\n",
    " <figcaption><center>(Figures from the Shapely documentation)</figcaption>\n",
    "</figure>\n"
   ]
  },
  {
   "cell_type": "markdown",
   "id": "d174d576",
   "metadata": {},
   "source": [
    "# 2. Relationships\n",
    "Now that we've built an understanding of geometries themselves, I'll show a few common methods of analysis. \n",
    "\n",
    "Let's take a look at predicates, or methods we can use on geometries to check for `True` or `False` conditions. \n",
    "\n",
    "(`.is_valid` above is one example)"
   ]
  },
  {
   "cell_type": "code",
   "execution_count": 29,
   "id": "9bad2aed",
   "metadata": {},
   "outputs": [],
   "source": [
    "a = LineString([(0, 0), (1, 1)])\n",
    "b = LineString([(0, 0), (0.5, 0.5), (1, 1)])\n",
    "c = LineString([(0, 0), (0, 0), (1, 1)])\n"
   ]
  },
  {
   "cell_type": "code",
   "execution_count": 30,
   "id": "7b70f29f",
   "metadata": {},
   "outputs": [
    {
     "data": {
      "image/svg+xml": [
       "<svg xmlns=\"http://www.w3.org/2000/svg\" xmlns:xlink=\"http://www.w3.org/1999/xlink\" width=\"100.0\" height=\"100.0\" viewBox=\"-0.04 -0.04 1.08 1.08\" preserveAspectRatio=\"xMinYMin meet\"><g transform=\"matrix(1,0,0,-1,0,1.0)\"><polyline fill=\"none\" stroke=\"#66cc99\" stroke-width=\"0.0216\" points=\"0.0,0.0 1.0,1.0\" opacity=\"0.8\" /></g></svg>"
      ],
      "text/plain": [
       "<LINESTRING (0 0, 1 1)>"
      ]
     },
     "execution_count": 30,
     "metadata": {},
     "output_type": "execute_result"
    }
   ],
   "source": [
    "a"
   ]
  },
  {
   "cell_type": "code",
   "execution_count": 31,
   "id": "633536ce",
   "metadata": {},
   "outputs": [
    {
     "data": {
      "image/svg+xml": [
       "<svg xmlns=\"http://www.w3.org/2000/svg\" xmlns:xlink=\"http://www.w3.org/1999/xlink\" width=\"100.0\" height=\"100.0\" viewBox=\"-0.04 -0.04 1.08 1.08\" preserveAspectRatio=\"xMinYMin meet\"><g transform=\"matrix(1,0,0,-1,0,1.0)\"><polyline fill=\"none\" stroke=\"#66cc99\" stroke-width=\"0.0216\" points=\"0.0,0.0 0.5,0.5 1.0,1.0\" opacity=\"0.8\" /></g></svg>"
      ],
      "text/plain": [
       "<LINESTRING (0 0, 0.5 0.5, 1 1)>"
      ]
     },
     "execution_count": 31,
     "metadata": {},
     "output_type": "execute_result"
    }
   ],
   "source": [
    "b"
   ]
  },
  {
   "cell_type": "code",
   "execution_count": 32,
   "id": "96916594",
   "metadata": {},
   "outputs": [
    {
     "data": {
      "image/svg+xml": [
       "<svg xmlns=\"http://www.w3.org/2000/svg\" xmlns:xlink=\"http://www.w3.org/1999/xlink\" width=\"100.0\" height=\"100.0\" viewBox=\"-0.04 -0.04 1.08 1.08\" preserveAspectRatio=\"xMinYMin meet\"><g transform=\"matrix(1,0,0,-1,0,1.0)\"><polyline fill=\"none\" stroke=\"#66cc99\" stroke-width=\"0.0216\" points=\"0.0,0.0 0.0,0.0 1.0,1.0\" opacity=\"0.8\" /></g></svg>"
      ],
      "text/plain": [
       "<LINESTRING (0 0, 0 0, 1 1)>"
      ]
     },
     "execution_count": 32,
     "metadata": {},
     "output_type": "execute_result"
    }
   ],
   "source": [
    "c"
   ]
  },
  {
   "cell_type": "markdown",
   "id": "89b5265b",
   "metadata": {},
   "source": [
    "`geom.equals(another_geom)` is `True` if the two geometries are the same. "
   ]
  },
  {
   "cell_type": "code",
   "execution_count": 33,
   "id": "f0e2181f",
   "metadata": {},
   "outputs": [
    {
     "data": {
      "text/plain": [
       "True"
      ]
     },
     "execution_count": 33,
     "metadata": {},
     "output_type": "execute_result"
    }
   ],
   "source": [
    "a.equals(b)"
   ]
  },
  {
   "cell_type": "code",
   "execution_count": 34,
   "id": "75802992",
   "metadata": {},
   "outputs": [
    {
     "data": {
      "text/plain": [
       "True"
      ]
     },
     "execution_count": 34,
     "metadata": {},
     "output_type": "execute_result"
    }
   ],
   "source": [
    "b.equals(c)\n"
   ]
  },
  {
   "cell_type": "markdown",
   "id": "97000c36",
   "metadata": {},
   "source": [
    "`geom.contains(another_geom)` is `True` if the geometry `geom` contains `another_geom`\n",
    "\n",
    "`geom.within(another_geom)`is `True` if the geometry `geom` is contained by `another_geom`\n",
    "\n",
    "You may be familiar with these concepts from Intro to GIS. "
   ]
  },
  {
   "cell_type": "code",
   "execution_count": 35,
   "id": "9660be10",
   "metadata": {},
   "outputs": [],
   "source": [
    "point_inside =Point(1,1)\n",
    "container_polygon = Polygon([(0, 0), (0, 2), (2, 2), (2, 0),(0,0)])\n"
   ]
  },
  {
   "cell_type": "code",
   "execution_count": 36,
   "id": "2d0b8779",
   "metadata": {},
   "outputs": [
    {
     "data": {
      "image/svg+xml": [
       "<svg xmlns=\"http://www.w3.org/2000/svg\" xmlns:xlink=\"http://www.w3.org/1999/xlink\" width=\"100.0\" height=\"100.0\" viewBox=\"-0.08 -0.08 2.16 2.16\" preserveAspectRatio=\"xMinYMin meet\"><g transform=\"matrix(1,0,0,-1,0,2.0)\"><path fill-rule=\"evenodd\" fill=\"#66cc99\" stroke=\"#555555\" stroke-width=\"0.0432\" opacity=\"0.6\" d=\"M 0.0,0.0 L 0.0,2.0 L 2.0,2.0 L 2.0,0.0 L 0.0,0.0 z\" /></g></svg>"
      ],
      "text/plain": [
       "<POLYGON ((0 0, 0 2, 2 2, 2 0, 0 0))>"
      ]
     },
     "execution_count": 36,
     "metadata": {},
     "output_type": "execute_result"
    }
   ],
   "source": [
    "container_polygon"
   ]
  },
  {
   "cell_type": "code",
   "execution_count": 37,
   "id": "64aedcd5",
   "metadata": {},
   "outputs": [
    {
     "data": {
      "image/svg+xml": [
       "<svg xmlns=\"http://www.w3.org/2000/svg\" xmlns:xlink=\"http://www.w3.org/1999/xlink\" width=\"100.0\" height=\"100.0\" viewBox=\"0.0 0.0 2.0 2.0\" preserveAspectRatio=\"xMinYMin meet\"><g transform=\"matrix(1,0,0,-1,0,2.0)\"><circle cx=\"1.0\" cy=\"1.0\" r=\"0.06\" stroke=\"#555555\" stroke-width=\"0.02\" fill=\"#66cc99\" opacity=\"0.6\" /></g></svg>"
      ],
      "text/plain": [
       "<POINT (1 1)>"
      ]
     },
     "execution_count": 37,
     "metadata": {},
     "output_type": "execute_result"
    }
   ],
   "source": [
    "point_inside"
   ]
  },
  {
   "cell_type": "code",
   "execution_count": 38,
   "id": "770fec7f",
   "metadata": {},
   "outputs": [
    {
     "data": {
      "text/plain": [
       "True"
      ]
     },
     "execution_count": 38,
     "metadata": {},
     "output_type": "execute_result"
    }
   ],
   "source": [
    "container_polygon.contains(point_inside)"
   ]
  },
  {
   "cell_type": "markdown",
   "id": "3fd4b10f",
   "metadata": {},
   "source": [
    "`geom.intersects(another_geom)` returns `True` if one geometry intersects another one. "
   ]
  },
  {
   "cell_type": "code",
   "execution_count": 39,
   "id": "18498e5b",
   "metadata": {},
   "outputs": [],
   "source": [
    "polygon3 = Polygon([(0, 0), (0, 2), (2, 2), (2, 0),(0,0)])\n",
    "polygon4 = Polygon([(1, 1), (1, 2), (2, 2), (2, 0),(1,1)])"
   ]
  },
  {
   "cell_type": "code",
   "execution_count": 40,
   "id": "76bb1ed8",
   "metadata": {},
   "outputs": [
    {
     "data": {
      "image/svg+xml": [
       "<svg xmlns=\"http://www.w3.org/2000/svg\" xmlns:xlink=\"http://www.w3.org/1999/xlink\" width=\"100.0\" height=\"100.0\" viewBox=\"0.92 -0.08 1.1600000000000001 2.16\" preserveAspectRatio=\"xMinYMin meet\"><g transform=\"matrix(1,0,0,-1,0,2.0)\"><path fill-rule=\"evenodd\" fill=\"#66cc99\" stroke=\"#555555\" stroke-width=\"0.0432\" opacity=\"0.6\" d=\"M 1.0,1.0 L 1.0,2.0 L 2.0,2.0 L 2.0,0.0 L 1.0,1.0 z\" /></g></svg>"
      ],
      "text/plain": [
       "<POLYGON ((1 1, 1 2, 2 2, 2 0, 1 1))>"
      ]
     },
     "execution_count": 40,
     "metadata": {},
     "output_type": "execute_result"
    }
   ],
   "source": [
    "polygon4"
   ]
  },
  {
   "cell_type": "markdown",
   "id": "2df8d3fa",
   "metadata": {},
   "source": [
    "# 3. Spatial Analysis Methods\n",
    "There are also functions in shapely that allow us analyze geometries and return new geometries> "
   ]
  },
  {
   "cell_type": "markdown",
   "id": "23a5743c",
   "metadata": {},
   "source": [
    "`.boundary` returns the \"border\" of a geometry. If the geometry is a polygon, this method will return the border (a line), if the geometry is a line, this method will return a collection of points. If the geometry is a point, this method will return an empty result. "
   ]
  },
  {
   "cell_type": "code",
   "execution_count": 41,
   "id": "03b24b0d",
   "metadata": {},
   "outputs": [
    {
     "data": {
      "image/svg+xml": [
       "<svg xmlns=\"http://www.w3.org/2000/svg\" xmlns:xlink=\"http://www.w3.org/1999/xlink\" width=\"100.0\" height=\"100.0\" viewBox=\"0.92 -0.08 1.1600000000000001 2.16\" preserveAspectRatio=\"xMinYMin meet\"><g transform=\"matrix(1,0,0,-1,0,2.0)\"><path fill-rule=\"evenodd\" fill=\"#66cc99\" stroke=\"#555555\" stroke-width=\"0.0432\" opacity=\"0.6\" d=\"M 1.0,1.0 L 1.0,2.0 L 2.0,2.0 L 2.0,0.0 L 1.0,1.0 z\" /></g></svg>"
      ],
      "text/plain": [
       "<POLYGON ((1 1, 1 2, 2 2, 2 0, 1 1))>"
      ]
     },
     "execution_count": 41,
     "metadata": {},
     "output_type": "execute_result"
    }
   ],
   "source": [
    "polygon4"
   ]
  },
  {
   "cell_type": "code",
   "execution_count": 42,
   "id": "93ca6915",
   "metadata": {},
   "outputs": [
    {
     "data": {
      "image/svg+xml": [
       "<svg xmlns=\"http://www.w3.org/2000/svg\" xmlns:xlink=\"http://www.w3.org/1999/xlink\" width=\"100.0\" height=\"100.0\" viewBox=\"0.92 -0.08 1.1600000000000001 2.16\" preserveAspectRatio=\"xMinYMin meet\"><g transform=\"matrix(1,0,0,-1,0,2.0)\"><polyline fill=\"none\" stroke=\"#66cc99\" stroke-width=\"0.0432\" points=\"1.0,1.0 1.0,2.0 2.0,2.0 2.0,0.0 1.0,1.0\" opacity=\"0.8\" /></g></svg>"
      ],
      "text/plain": [
       "<LINESTRING (1 1, 1 2, 2 2, 2 0, 1 1)>"
      ]
     },
     "execution_count": 42,
     "metadata": {},
     "output_type": "execute_result"
    }
   ],
   "source": [
    "polygon4.boundary"
   ]
  },
  {
   "cell_type": "code",
   "execution_count": 43,
   "id": "1a5408ca",
   "metadata": {},
   "outputs": [
    {
     "data": {
      "image/svg+xml": [
       "<svg xmlns=\"http://www.w3.org/2000/svg\" xmlns:xlink=\"http://www.w3.org/1999/xlink\" width=\"100.0\" height=\"100.0\" viewBox=\"-0.04 -0.04 1.08 1.08\" preserveAspectRatio=\"xMinYMin meet\"><g transform=\"matrix(1,0,0,-1,0,1.0)\"><polyline fill=\"none\" stroke=\"#66cc99\" stroke-width=\"0.0216\" points=\"0.0,0.0 1.0,1.0\" opacity=\"0.8\" /></g></svg>"
      ],
      "text/plain": [
       "<LINESTRING (0 0, 1 1)>"
      ]
     },
     "execution_count": 43,
     "metadata": {},
     "output_type": "execute_result"
    }
   ],
   "source": [
    "a"
   ]
  },
  {
   "cell_type": "code",
   "execution_count": 44,
   "id": "eb204691",
   "metadata": {},
   "outputs": [
    {
     "data": {
      "image/svg+xml": [
       "<svg xmlns=\"http://www.w3.org/2000/svg\" xmlns:xlink=\"http://www.w3.org/1999/xlink\" width=\"100.0\" height=\"100.0\" viewBox=\"-0.04 -0.04 1.08 1.08\" preserveAspectRatio=\"xMinYMin meet\"><g transform=\"matrix(1,0,0,-1,0,1.0)\"><g><circle cx=\"0.0\" cy=\"0.0\" r=\"0.0324\" stroke=\"#555555\" stroke-width=\"0.0108\" fill=\"#66cc99\" opacity=\"0.6\" /><circle cx=\"1.0\" cy=\"1.0\" r=\"0.0324\" stroke=\"#555555\" stroke-width=\"0.0108\" fill=\"#66cc99\" opacity=\"0.6\" /></g></g></svg>"
      ],
      "text/plain": [
       "<MULTIPOINT (0 0, 1 1)>"
      ]
     },
     "execution_count": 44,
     "metadata": {},
     "output_type": "execute_result"
    }
   ],
   "source": [
    "a.boundary"
   ]
  },
  {
   "cell_type": "code",
   "execution_count": 45,
   "id": "135f0500",
   "metadata": {},
   "outputs": [
    {
     "data": {
      "image/svg+xml": [
       "<svg xmlns=\"http://www.w3.org/2000/svg\" xmlns:xlink=\"http://www.w3.org/1999/xlink\" width=\"100.0\" height=\"100.0\" viewBox=\"0.0 0.0 2.0 2.0\" preserveAspectRatio=\"xMinYMin meet\"><g transform=\"matrix(1,0,0,-1,0,2.0)\"><circle cx=\"1.0\" cy=\"1.0\" r=\"0.06\" stroke=\"#555555\" stroke-width=\"0.02\" fill=\"#66cc99\" opacity=\"0.6\" /></g></svg>"
      ],
      "text/plain": [
       "<POINT (1 1)>"
      ]
     },
     "execution_count": 45,
     "metadata": {},
     "output_type": "execute_result"
    }
   ],
   "source": [
    "point_inside"
   ]
  },
  {
   "cell_type": "code",
   "execution_count": 46,
   "id": "8a6950af",
   "metadata": {},
   "outputs": [
    {
     "data": {
      "image/svg+xml": [
       "<svg xmlns=\"http://www.w3.org/2000/svg\" xmlns:xlink=\"http://www.w3.org/1999/xlink\" />"
      ],
      "text/plain": [
       "<GEOMETRYCOLLECTION EMPTY>"
      ]
     },
     "execution_count": 46,
     "metadata": {},
     "output_type": "execute_result"
    }
   ],
   "source": [
    "point_inside.boundary"
   ]
  },
  {
   "cell_type": "markdown",
   "id": "004b674a",
   "metadata": {},
   "source": [
    "`.centroid` returns the center point of an object. \n",
    "\n",
    "<figure class=\"image\">\n",
    "<img src=\"https://upload.wikimedia.org/wikipedia/commons/thumb/5/5e/Triangle.Centroid.svg/440px-Triangle.Centroid.svg.png\" alt=\"drawing\" width=\"300\" style=\"display: block; margin: 0 auto\"/>\n",
    " <figcaption><center>(From Wikipedia)</figcaption>\n",
    "</figure>\n"
   ]
  },
  {
   "cell_type": "code",
   "execution_count": 47,
   "id": "62a23855",
   "metadata": {},
   "outputs": [
    {
     "data": {
      "image/svg+xml": [
       "<svg xmlns=\"http://www.w3.org/2000/svg\" xmlns:xlink=\"http://www.w3.org/1999/xlink\" width=\"100.0\" height=\"100.0\" viewBox=\"-0.08 -0.08 2.16 2.16\" preserveAspectRatio=\"xMinYMin meet\"><g transform=\"matrix(1,0,0,-1,0,2.0)\"><path fill-rule=\"evenodd\" fill=\"#66cc99\" stroke=\"#555555\" stroke-width=\"0.0432\" opacity=\"0.6\" d=\"M 0.0,0.0 L 0.0,2.0 L 2.0,2.0 L 2.0,0.0 L 0.0,0.0 z\" /></g></svg>"
      ],
      "text/plain": [
       "<POLYGON ((0 0, 0 2, 2 2, 2 0, 0 0))>"
      ]
     },
     "execution_count": 47,
     "metadata": {},
     "output_type": "execute_result"
    }
   ],
   "source": [
    "polygon5 = Polygon([(0, 0), (0, 2), (2, 2), (2, 0),(0,0)])\n",
    "polygon5"
   ]
  },
  {
   "cell_type": "markdown",
   "id": "791858f5",
   "metadata": {},
   "source": [
    "The centroid of the 2x2 square above is (1,1)"
   ]
  },
  {
   "cell_type": "code",
   "execution_count": 48,
   "id": "43289fb7",
   "metadata": {},
   "outputs": [
    {
     "data": {
      "text/plain": [
       "[(1.0, 1.0)]"
      ]
     },
     "execution_count": 48,
     "metadata": {},
     "output_type": "execute_result"
    }
   ],
   "source": [
    "list(polygon5.centroid.coords)"
   ]
  },
  {
   "cell_type": "markdown",
   "id": "35f01669",
   "metadata": {},
   "source": [
    "`.difference` returns the parts of the geometry that do not make up parts of the other geometry"
   ]
  },
  {
   "cell_type": "code",
   "execution_count": 49,
   "id": "45d84569",
   "metadata": {},
   "outputs": [],
   "source": [
    "# .buffer() creates a polygon around a point\n",
    "# if we use .buffer() on a point, it creates a circle\n",
    "a = Point(1, 1).buffer(1.5)\n",
    "# notice that the second circle has a different center point\n",
    "b = Point(2, 1).buffer(1.5)\n"
   ]
  },
  {
   "cell_type": "code",
   "execution_count": 50,
   "id": "0c787adb",
   "metadata": {},
   "outputs": [
    {
     "data": {
      "image/svg+xml": [
       "<svg xmlns=\"http://www.w3.org/2000/svg\" xmlns:xlink=\"http://www.w3.org/1999/xlink\" width=\"100.0\" height=\"100.0\" viewBox=\"-0.62 -0.62 3.24 3.24\" preserveAspectRatio=\"xMinYMin meet\"><g transform=\"matrix(1,0,0,-1,0,2.0)\"><path fill-rule=\"evenodd\" fill=\"#66cc99\" stroke=\"#555555\" stroke-width=\"0.06480000000000001\" opacity=\"0.6\" d=\"M 2.5,1.0 L 2.4927770900082953,0.8529742895056591 L 2.4711779206048456,0.7073645169758076 L 2.4354105035983133,0.5645729841183065 L 2.38581929876693,0.42597485145236536 L 2.3228818965225324,0.29290489476100356 L 2.247204418453818,0.16664465047059673 L 2.1595156800441053,0.04841007375453177 L 2.0606601717798214,-0.060660171779821415 L 1.9515899262454681,-0.15951568004410532 L 1.8333553495294035,-0.2472044184538178 L 1.7070951052389967,-0.3228818965225324 L 1.5740251485476349,-0.38581929876693 L 1.4354270158816935,-0.43541050359831335 L 1.2926354830241924,-0.47117792060484565 L 1.147025710494341,-0.4927770900082953 L 1.0,-0.5 L 0.852974289505659,-0.4927770900082953 L 0.7073645169758077,-0.47117792060484565 L 0.5645729841183067,-0.43541050359831335 L 0.42597485145236536,-0.38581929876693 L 0.29290489476100345,-0.32288189652253263 L 0.16664465047059707,-0.24720441845381802 L 0.04841007375453188,-0.15951568004410577 L -0.06066017177982119,-0.060660171779821415 L -0.15951568004410555,0.04841007375453177 L -0.24720441845381802,0.16664465047059673 L -0.3228818965225324,0.29290489476100334 L -0.38581929876693,0.42597485145236513 L -0.43541050359831335,0.5645729841183065 L -0.47117792060484565,0.7073645169758072 L -0.4927770900082953,0.8529742895056588 L -0.5,0.9999999999999998 L -0.4927770900082953,1.1470257104943409 L -0.47117792060484565,1.2926354830241924 L -0.43541050359831335,1.435427015881693 L -0.3858192987669302,1.5740251485476344 L -0.32288189652253263,1.7070951052389964 L -0.24720441845381824,1.8333553495294028 L -0.15951568004410577,1.951589926245468 L -0.060660171779821415,2.060660171779821 L 0.0484100737545311,2.159515680044105 L 0.16664465047059673,2.247204418453818 L 0.29290489476100323,2.3228818965225324 L 0.42597485145236447,2.38581929876693 L 0.5645729841183064,2.4354105035983133 L 0.7073645169758069,2.4711779206048456 L 0.8529742895056593,2.4927770900082953 L 0.9999999999999998,2.5 L 1.1470257104943402,2.4927770900082953 L 1.2926354830241924,2.4711779206048456 L 1.435427015881693,2.4354105035983133 L 1.5740251485476349,2.38581929876693 L 1.7070951052389964,2.3228818965225324 L 1.8333553495294028,2.2472044184538182 L 1.9515899262454683,2.1595156800441053 L 2.060660171779821,2.0606601717798214 L 2.159515680044105,1.951589926245469 L 2.247204418453818,1.8333553495294033 L 2.3228818965225324,1.7070951052389969 L 2.38581929876693,1.5740251485476355 L 2.4354105035983133,1.4354270158816937 L 2.4711779206048456,1.292635483024193 L 2.4927770900082953,1.1470257104943409 L 2.5,1.0 z\" /></g></svg>"
      ],
      "text/plain": [
       "<POLYGON ((2.5 1, 2.493 0.853, 2.471 0.707, 2.435 0.565, 2.386 0.426, 2.323 ...>"
      ]
     },
     "execution_count": 50,
     "metadata": {},
     "output_type": "execute_result"
    }
   ],
   "source": [
    "a"
   ]
  },
  {
   "cell_type": "markdown",
   "id": "1ff35735",
   "metadata": {},
   "source": [
    "Notice "
   ]
  },
  {
   "cell_type": "code",
   "execution_count": 51,
   "id": "e0b2b6eb",
   "metadata": {},
   "outputs": [
    {
     "data": {
      "image/svg+xml": [
       "<svg xmlns=\"http://www.w3.org/2000/svg\" xmlns:xlink=\"http://www.w3.org/1999/xlink\" width=\"100.0\" height=\"100.0\" viewBox=\"0.38 -0.62 3.24 3.24\" preserveAspectRatio=\"xMinYMin meet\"><g transform=\"matrix(1,0,0,-1,0,2.0)\"><path fill-rule=\"evenodd\" fill=\"#66cc99\" stroke=\"#555555\" stroke-width=\"0.06480000000000001\" opacity=\"0.6\" d=\"M 3.5,1.0 L 3.4927770900082953,0.8529742895056591 L 3.4711779206048456,0.7073645169758076 L 3.4354105035983133,0.5645729841183065 L 3.38581929876693,0.42597485145236536 L 3.3228818965225324,0.29290489476100356 L 3.247204418453818,0.16664465047059673 L 3.1595156800441053,0.04841007375453177 L 3.0606601717798214,-0.060660171779821415 L 2.951589926245468,-0.15951568004410532 L 2.8333553495294037,-0.2472044184538178 L 2.707095105238997,-0.3228818965225324 L 2.574025148547635,-0.38581929876693 L 2.4354270158816935,-0.43541050359831335 L 2.2926354830241924,-0.47117792060484565 L 2.1470257104943413,-0.4927770900082953 L 2.0,-0.5 L 1.8529742895056591,-0.4927770900082953 L 1.7073645169758076,-0.47117792060484565 L 1.5645729841183067,-0.43541050359831335 L 1.4259748514523654,-0.38581929876693 L 1.2929048947610036,-0.32288189652253263 L 1.1666446504705972,-0.24720441845381802 L 1.0484100737545319,-0.15951568004410577 L 0.9393398282201788,-0.060660171779821415 L 0.8404843199558945,0.04841007375453177 L 0.752795581546182,0.16664465047059673 L 0.6771181034774676,0.29290489476100334 L 0.61418070123307,0.42597485145236513 L 0.5645894964016867,0.5645729841183065 L 0.5288220793951544,0.7073645169758072 L 0.5072229099917047,0.8529742895056588 L 0.5,0.9999999999999998 L 0.5072229099917047,1.1470257104943409 L 0.5288220793951544,1.2926354830241924 L 0.5645894964016867,1.435427015881693 L 0.6141807012330698,1.5740251485476344 L 0.6771181034774674,1.7070951052389964 L 0.7527955815461818,1.8333553495294028 L 0.8404843199558942,1.951589926245468 L 0.9393398282201786,2.060660171779821 L 1.048410073754531,2.159515680044105 L 1.1666446504705967,2.247204418453818 L 1.2929048947610031,2.3228818965225324 L 1.4259748514523645,2.38581929876693 L 1.5645729841183065,2.4354105035983133 L 1.707364516975807,2.4711779206048456 L 1.8529742895056593,2.4927770900082953 L 1.9999999999999998,2.5 L 2.14702571049434,2.4927770900082953 L 2.2926354830241924,2.4711779206048456 L 2.435427015881693,2.4354105035983133 L 2.574025148547635,2.38581929876693 L 2.7070951052389964,2.3228818965225324 L 2.833355349529403,2.2472044184538182 L 2.951589926245468,2.1595156800441053 L 3.060660171779821,2.0606601717798214 L 3.159515680044105,1.951589926245469 L 3.247204418453818,1.8333553495294033 L 3.3228818965225324,1.7070951052389969 L 3.38581929876693,1.5740251485476355 L 3.4354105035983133,1.4354270158816937 L 3.4711779206048456,1.292635483024193 L 3.4927770900082953,1.1470257104943409 L 3.5,1.0 z\" /></g></svg>"
      ],
      "text/plain": [
       "<POLYGON ((3.5 1, 3.493 0.853, 3.471 0.707, 3.435 0.565, 3.386 0.426, 3.323 ...>"
      ]
     },
     "execution_count": 51,
     "metadata": {},
     "output_type": "execute_result"
    }
   ],
   "source": [
    "b"
   ]
  },
  {
   "cell_type": "code",
   "execution_count": 52,
   "id": "56f1529e",
   "metadata": {},
   "outputs": [
    {
     "data": {
      "image/svg+xml": [
       "<svg xmlns=\"http://www.w3.org/2000/svg\" xmlns:xlink=\"http://www.w3.org/1999/xlink\" width=\"100.0\" height=\"100.0\" viewBox=\"-0.62 -0.62 2.24 3.24\" preserveAspectRatio=\"xMinYMin meet\"><g transform=\"matrix(1,0,0,-1,0,2.0)\"><path fill-rule=\"evenodd\" fill=\"#66cc99\" stroke=\"#555555\" stroke-width=\"0.06480000000000001\" opacity=\"0.6\" d=\"M 1.4354270158816935,-0.43541050359831335 L 1.2926354830241924,-0.47117792060484565 L 1.147025710494341,-0.4927770900082953 L 1.0,-0.5 L 0.852974289505659,-0.4927770900082953 L 0.7073645169758077,-0.47117792060484565 L 0.5645729841183067,-0.43541050359831335 L 0.42597485145236536,-0.38581929876693 L 0.29290489476100345,-0.32288189652253263 L 0.16664465047059707,-0.24720441845381802 L 0.04841007375453188,-0.15951568004410577 L -0.06066017177982119,-0.060660171779821415 L -0.15951568004410555,0.04841007375453177 L -0.24720441845381802,0.16664465047059673 L -0.3228818965225324,0.29290489476100334 L -0.38581929876693,0.42597485145236513 L -0.43541050359831335,0.5645729841183065 L -0.47117792060484565,0.7073645169758072 L -0.4927770900082953,0.8529742895056588 L -0.5,0.9999999999999998 L -0.4927770900082953,1.1470257104943409 L -0.47117792060484565,1.2926354830241924 L -0.43541050359831335,1.435427015881693 L -0.3858192987669302,1.5740251485476344 L -0.32288189652253263,1.7070951052389964 L -0.24720441845381824,1.8333553495294028 L -0.15951568004410577,1.951589926245468 L -0.060660171779821415,2.060660171779821 L 0.0484100737545311,2.159515680044105 L 0.16664465047059673,2.247204418453818 L 0.29290489476100323,2.3228818965225324 L 0.42597485145236447,2.38581929876693 L 0.5645729841183064,2.4354105035983133 L 0.7073645169758069,2.4711779206048456 L 0.8529742895056593,2.4927770900082953 L 0.9999999999999998,2.5 L 1.1470257104943402,2.4927770900082953 L 1.2926354830241924,2.4711779206048456 L 1.435427015881693,2.4354105035983133 L 1.4999999999999998,2.412305920438431 L 1.4259748514523645,2.38581929876693 L 1.2929048947610031,2.3228818965225324 L 1.1666446504705967,2.247204418453818 L 1.048410073754531,2.159515680044105 L 0.9393398282201786,2.060660171779821 L 0.8404843199558942,1.951589926245468 L 0.7527955815461818,1.8333553495294028 L 0.6771181034774674,1.7070951052389964 L 0.6141807012330698,1.5740251485476344 L 0.5645894964016867,1.435427015881693 L 0.5288220793951544,1.2926354830241924 L 0.5072229099917047,1.1470257104943409 L 0.5,0.9999999999999998 L 0.5072229099917047,0.8529742895056588 L 0.5288220793951544,0.7073645169758072 L 0.5645894964016867,0.5645729841183065 L 0.61418070123307,0.42597485145236513 L 0.6771181034774676,0.29290489476100334 L 0.752795581546182,0.16664465047059673 L 0.8404843199558945,0.04841007375453177 L 0.9393398282201788,-0.060660171779821415 L 1.0484100737545319,-0.15951568004410577 L 1.1666446504705972,-0.24720441845381802 L 1.2929048947610036,-0.32288189652253263 L 1.4259748514523654,-0.38581929876693 L 1.5000000000000002,-0.4123059204384313 L 1.4354270158816935,-0.43541050359831335 z\" /></g></svg>"
      ],
      "text/plain": [
       "<POLYGON ((1.435 -0.435, 1.293 -0.471, 1.147 -0.493, 1 -0.5, 0.853 -0.493, 0...>"
      ]
     },
     "execution_count": 52,
     "metadata": {},
     "output_type": "execute_result"
    }
   ],
   "source": [
    "a.difference(b)"
   ]
  },
  {
   "cell_type": "code",
   "execution_count": 53,
   "id": "05309eba",
   "metadata": {},
   "outputs": [
    {
     "data": {
      "image/svg+xml": [
       "<svg xmlns=\"http://www.w3.org/2000/svg\" xmlns:xlink=\"http://www.w3.org/1999/xlink\" width=\"100.0\" height=\"100.0\" viewBox=\"0.38701552636492553 -0.5252903940735058 2.2259689472701494 3.0505807881470117\" preserveAspectRatio=\"xMinYMin meet\"><g transform=\"matrix(1,0,0,-1,0,2.0)\"><path fill-rule=\"evenodd\" fill=\"#66cc99\" stroke=\"#555555\" stroke-width=\"0.06101161576294024\" opacity=\"0.6\" d=\"M 2.4927770900082953,0.8529742895056591 L 2.4711779206048456,0.7073645169758076 L 2.4354105035983133,0.5645729841183065 L 2.38581929876693,0.42597485145236536 L 2.3228818965225324,0.29290489476100356 L 2.247204418453818,0.16664465047059673 L 2.1595156800441053,0.04841007375453177 L 2.0606601717798214,-0.060660171779821415 L 1.9515899262454681,-0.15951568004410532 L 1.8333553495294035,-0.2472044184538178 L 1.7070951052389967,-0.3228818965225324 L 1.5740251485476349,-0.38581929876693 L 1.5000000000000002,-0.4123059204384313 L 1.4259748514523654,-0.38581929876693 L 1.2929048947610036,-0.32288189652253263 L 1.1666446504705972,-0.24720441845381802 L 1.0484100737545319,-0.15951568004410577 L 0.9393398282201788,-0.060660171779821415 L 0.8404843199558945,0.04841007375453177 L 0.752795581546182,0.16664465047059673 L 0.6771181034774676,0.29290489476100334 L 0.61418070123307,0.42597485145236513 L 0.5645894964016867,0.5645729841183065 L 0.5288220793951544,0.7073645169758072 L 0.5072229099917047,0.8529742895056588 L 0.5,0.9999999999999998 L 0.5072229099917047,1.1470257104943409 L 0.5288220793951544,1.2926354830241924 L 0.5645894964016867,1.435427015881693 L 0.6141807012330698,1.5740251485476344 L 0.6771181034774674,1.7070951052389964 L 0.7527955815461818,1.8333553495294028 L 0.8404843199558942,1.951589926245468 L 0.9393398282201786,2.060660171779821 L 1.048410073754531,2.159515680044105 L 1.1666446504705967,2.247204418453818 L 1.2929048947610031,2.3228818965225324 L 1.4259748514523645,2.38581929876693 L 1.4999999999999998,2.412305920438431 L 1.5740251485476349,2.38581929876693 L 1.7070951052389964,2.3228818965225324 L 1.8333553495294028,2.2472044184538182 L 1.9515899262454683,2.1595156800441053 L 2.060660171779821,2.0606601717798214 L 2.159515680044105,1.951589926245469 L 2.247204418453818,1.8333553495294033 L 2.3228818965225324,1.7070951052389969 L 2.38581929876693,1.5740251485476355 L 2.4354105035983133,1.4354270158816937 L 2.4711779206048456,1.292635483024193 L 2.4927770900082953,1.1470257104943409 L 2.5,1.0 L 2.4927770900082953,0.8529742895056591 z\" /></g></svg>"
      ],
      "text/plain": [
       "<POLYGON ((2.493 0.853, 2.471 0.707, 2.435 0.565, 2.386 0.426, 2.323 0.293, ...>"
      ]
     },
     "execution_count": 53,
     "metadata": {},
     "output_type": "execute_result"
    }
   ],
   "source": [
    "a.intersection(b)"
   ]
  },
  {
   "cell_type": "code",
   "execution_count": 54,
   "id": "9ff6f9ee",
   "metadata": {},
   "outputs": [
    {
     "data": {
      "image/svg+xml": [
       "<svg xmlns=\"http://www.w3.org/2000/svg\" xmlns:xlink=\"http://www.w3.org/1999/xlink\" width=\"100.0\" height=\"100.0\" viewBox=\"-0.66 -0.66 4.32 3.3200000000000003\" preserveAspectRatio=\"xMinYMin meet\"><g transform=\"matrix(1,0,0,-1,0,2.0)\"><path fill-rule=\"evenodd\" fill=\"#66cc99\" stroke=\"#555555\" stroke-width=\"0.0864\" opacity=\"0.6\" d=\"M 1.4354270158816935,-0.43541050359831335 L 1.2926354830241924,-0.47117792060484565 L 1.147025710494341,-0.4927770900082953 L 1.0,-0.5 L 0.852974289505659,-0.4927770900082953 L 0.7073645169758077,-0.47117792060484565 L 0.5645729841183067,-0.43541050359831335 L 0.42597485145236536,-0.38581929876693 L 0.29290489476100345,-0.32288189652253263 L 0.16664465047059707,-0.24720441845381802 L 0.04841007375453188,-0.15951568004410577 L -0.06066017177982119,-0.060660171779821415 L -0.15951568004410555,0.04841007375453177 L -0.24720441845381802,0.16664465047059673 L -0.3228818965225324,0.29290489476100334 L -0.38581929876693,0.42597485145236513 L -0.43541050359831335,0.5645729841183065 L -0.47117792060484565,0.7073645169758072 L -0.4927770900082953,0.8529742895056588 L -0.5,0.9999999999999998 L -0.4927770900082953,1.1470257104943409 L -0.47117792060484565,1.2926354830241924 L -0.43541050359831335,1.435427015881693 L -0.3858192987669302,1.5740251485476344 L -0.32288189652253263,1.7070951052389964 L -0.24720441845381824,1.8333553495294028 L -0.15951568004410577,1.951589926245468 L -0.060660171779821415,2.060660171779821 L 0.0484100737545311,2.159515680044105 L 0.16664465047059673,2.247204418453818 L 0.29290489476100323,2.3228818965225324 L 0.42597485145236447,2.38581929876693 L 0.5645729841183064,2.4354105035983133 L 0.7073645169758069,2.4711779206048456 L 0.8529742895056593,2.4927770900082953 L 0.9999999999999998,2.5 L 1.1470257104943402,2.4927770900082953 L 1.2926354830241924,2.4711779206048456 L 1.435427015881693,2.4354105035983133 L 1.4999999999999998,2.412305920438431 L 1.5645729841183065,2.4354105035983133 L 1.707364516975807,2.4711779206048456 L 1.8529742895056593,2.4927770900082953 L 1.9999999999999998,2.5 L 2.14702571049434,2.4927770900082953 L 2.2926354830241924,2.4711779206048456 L 2.435427015881693,2.4354105035983133 L 2.574025148547635,2.38581929876693 L 2.7070951052389964,2.3228818965225324 L 2.833355349529403,2.2472044184538182 L 2.951589926245468,2.1595156800441053 L 3.060660171779821,2.0606601717798214 L 3.159515680044105,1.951589926245469 L 3.247204418453818,1.8333553495294033 L 3.3228818965225324,1.7070951052389969 L 3.38581929876693,1.5740251485476355 L 3.4354105035983133,1.4354270158816937 L 3.4711779206048456,1.292635483024193 L 3.4927770900082953,1.1470257104943409 L 3.5,1.0 L 3.4927770900082953,0.8529742895056591 L 3.4711779206048456,0.7073645169758076 L 3.4354105035983133,0.5645729841183065 L 3.38581929876693,0.42597485145236536 L 3.3228818965225324,0.29290489476100356 L 3.247204418453818,0.16664465047059673 L 3.1595156800441053,0.04841007375453177 L 3.0606601717798214,-0.060660171779821415 L 2.951589926245468,-0.15951568004410532 L 2.8333553495294037,-0.2472044184538178 L 2.707095105238997,-0.3228818965225324 L 2.574025148547635,-0.38581929876693 L 2.4354270158816935,-0.43541050359831335 L 2.2926354830241924,-0.47117792060484565 L 2.1470257104943413,-0.4927770900082953 L 2.0,-0.5 L 1.8529742895056591,-0.4927770900082953 L 1.7073645169758076,-0.47117792060484565 L 1.5645729841183067,-0.43541050359831335 L 1.5000000000000002,-0.4123059204384313 L 1.4354270158816935,-0.43541050359831335 z\" /></g></svg>"
      ],
      "text/plain": [
       "<POLYGON ((1.435 -0.435, 1.293 -0.471, 1.147 -0.493, 1 -0.5, 0.853 -0.493, 0...>"
      ]
     },
     "execution_count": 54,
     "metadata": {},
     "output_type": "execute_result"
    }
   ],
   "source": [
    "a.union(b)"
   ]
  },
  {
   "cell_type": "markdown",
   "id": "6147a0b2",
   "metadata": {},
   "source": [
    "`.convex_hull` returns the smallest convex `Polygon` containing the geometry unless the number of points in the object is less than three (i.e. doesn't make a shape with area). \n",
    "\n",
    "For two points, this method produces a line. For one point, this method produces a point. "
   ]
  },
  {
   "cell_type": "code",
   "execution_count": 55,
   "id": "66dcfc28",
   "metadata": {},
   "outputs": [
    {
     "data": {
      "image/svg+xml": [
       "<svg xmlns=\"http://www.w3.org/2000/svg\" xmlns:xlink=\"http://www.w3.org/1999/xlink\" width=\"100.0\" height=\"100.0\" viewBox=\"-0.08 -1.08 1.1600000000000001 2.16\" preserveAspectRatio=\"xMinYMin meet\"><g transform=\"matrix(1,0,0,-1,0,0.0)\"><g><circle cx=\"0.0\" cy=\"0.0\" r=\"0.0648\" stroke=\"#555555\" stroke-width=\"0.0216\" fill=\"#66cc99\" opacity=\"0.6\" /><circle cx=\"1.0\" cy=\"1.0\" r=\"0.0648\" stroke=\"#555555\" stroke-width=\"0.0216\" fill=\"#66cc99\" opacity=\"0.6\" /><circle cx=\"1.0\" cy=\"-1.0\" r=\"0.0648\" stroke=\"#555555\" stroke-width=\"0.0216\" fill=\"#66cc99\" opacity=\"0.6\" /></g></g></svg>"
      ],
      "text/plain": [
       "<MULTIPOINT (0 0, 1 1, 1 -1)>"
      ]
     },
     "execution_count": 55,
     "metadata": {},
     "output_type": "execute_result"
    }
   ],
   "source": [
    "from shapely.geometry import MultiPoint\n",
    "multipoint1 = MultiPoint([(0, 0), (1, 1), (1, -1)])\n",
    "multipoint1"
   ]
  },
  {
   "cell_type": "code",
   "execution_count": 56,
   "id": "cae29734",
   "metadata": {},
   "outputs": [
    {
     "data": {
      "image/svg+xml": [
       "<svg xmlns=\"http://www.w3.org/2000/svg\" xmlns:xlink=\"http://www.w3.org/1999/xlink\" width=\"100.0\" height=\"100.0\" viewBox=\"-0.08 -1.08 1.1600000000000001 2.16\" preserveAspectRatio=\"xMinYMin meet\"><g transform=\"matrix(1,0,0,-1,0,0.0)\"><path fill-rule=\"evenodd\" fill=\"#66cc99\" stroke=\"#555555\" stroke-width=\"0.0432\" opacity=\"0.6\" d=\"M 1.0,-1.0 L 0.0,0.0 L 1.0,1.0 L 1.0,-1.0 z\" /></g></svg>"
      ],
      "text/plain": [
       "<POLYGON ((1 -1, 0 0, 1 1, 1 -1))>"
      ]
     },
     "execution_count": 56,
     "metadata": {},
     "output_type": "execute_result"
    }
   ],
   "source": [
    "multipoint1.convex_hull"
   ]
  },
  {
   "cell_type": "markdown",
   "id": "29108a41",
   "metadata": {},
   "source": [
    "# 4. Exercises"
   ]
  },
  {
   "cell_type": "markdown",
   "id": "aef3e499",
   "metadata": {},
   "source": [
    "As a reminder (or if you're encountering this for the first time), here is how we write a function in Python: \n"
   ]
  },
  {
   "cell_type": "code",
   "execution_count": 57,
   "id": "fde8a464",
   "metadata": {},
   "outputs": [
    {
     "data": {
      "text/plain": [
       "3"
      ]
     },
     "execution_count": 57,
     "metadata": {},
     "output_type": "execute_result"
    }
   ],
   "source": [
    "# To create a function we use the def keyword: \n",
    "# The return keyword is used to return a value from a function\n",
    "# Docstrings are used to document functions\n",
    "# Docstrings are surrounded by triple double quotes\n",
    "# They are optional but highly recommended\n",
    "\n",
    "def add_two_numbers(x, y):\n",
    "    \"\"\"This function performs addition of two numbers\n",
    "    input: x, y (numbers)\n",
    "    \"\"\"\n",
    "    return x + y\n",
    "\n",
    "add_two_numbers(1, 2)"
   ]
  },
  {
   "cell_type": "code",
   "execution_count": 58,
   "id": "a10492fe",
   "metadata": {},
   "outputs": [],
   "source": [
    "# The variable names are arbitrary, but they should be descriptive and consistent withing the function\n",
    "def add_two_numbers(any_var_name1, any_var_name2):\n",
    "    \"\"\"This function performs addition of two numbers\n",
    "    input: arbitrary, any_var_name2 (numbers)\n",
    "    \"\"\"\n",
    "    return any_var_name1 + any_var_name2"
   ]
  },
  {
   "cell_type": "code",
   "execution_count": 59,
   "id": "43752473",
   "metadata": {},
   "outputs": [
    {
     "name": "stdout",
     "output_type": "stream",
     "text": [
      "Help on function add_two_numbers in module __main__:\n",
      "\n",
      "add_two_numbers(any_var_name1, any_var_name2)\n",
      "    This function performs addition of two numbers\n",
      "    input: arbitrary, any_var_name2 (numbers)\n",
      "\n"
     ]
    }
   ],
   "source": [
    "# Docstrings can be accessed using the help() function\n",
    "help(add_two_numbers)"
   ]
  },
  {
   "cell_type": "markdown",
   "id": "d6360dee",
   "metadata": {},
   "source": [
    "## 4.1 Exercise 1 \n",
    "\n",
    "Create a function called `create_point_geom()` that has two parameters (x_coord, y_coord). Function should create a shapely Point geometry object and return that. Demonstrate the usage of the function by creating 3 point geometries with the function."
   ]
  },
  {
   "cell_type": "code",
   "execution_count": 60,
   "id": "33f64926",
   "metadata": {},
   "outputs": [],
   "source": [
    "def create_point_geom(x, y):\n",
    "    \"\"\"This function creates a point geometry\n",
    "    input: x, y (numbers)\n",
    "    \"\"\"\n",
    "    ## Insert your code here\n",
    "\n",
    "## Don't forget to test your function"
   ]
  },
  {
   "cell_type": "markdown",
   "id": "2cad7f45",
   "metadata": {},
   "source": [
    "## 4.2 Exercise 2\n",
    "Create a function `get_x_coord()` that takes a shapely point object and returns the x coordinate of that point"
   ]
  },
  {
   "cell_type": "code",
   "execution_count": 61,
   "id": "1057172c",
   "metadata": {},
   "outputs": [],
   "source": [
    "def get_x_coord(geom):\n",
    "    \"\"\"This function returns the x coordinate of a point geometry\n",
    "    input: geom (a point geometry)\n",
    "    \"\"\"\n",
    "    ## Insert your code here\n",
    "\n",
    "## Don't forget to test your function"
   ]
  },
  {
   "cell_type": "markdown",
   "id": "9dc6df4e",
   "metadata": {},
   "source": [
    "## 4.3 Exercise 3\n",
    "Create a function called `getCentroid()` that takes any kind of Shapely’s geometry as input and returns a centroid of that geometry. Demonstrate the usage of the function."
   ]
  },
  {
   "cell_type": "code",
   "execution_count": 62,
   "id": "79d7084e",
   "metadata": {},
   "outputs": [],
   "source": [
    "## Insert your code here"
   ]
  },
  {
   "cell_type": "markdown",
   "id": "8b184979",
   "metadata": {},
   "source": [
    "## 4.4 Exercise 4\n",
    "Create a function called `getArea()` that takes a Shapely’s Polygon -object as input and returns the area of that geometry. Demonstrate the usage of the function."
   ]
  },
  {
   "cell_type": "code",
   "execution_count": 63,
   "id": "3143ca99",
   "metadata": {},
   "outputs": [],
   "source": [
    "## Insert your code here"
   ]
  },
  {
   "cell_type": "markdown",
   "id": "b1db1505",
   "metadata": {},
   "source": [
    "## 4.5 Exercise 5\n",
    "\n",
    "1. Create two geometries—a square and a circle—in such a way that they partially overlap, so that of the circle area overlaps with the square. Hint: use the `buffer()` function applied on a point geometry to create the circle.\n",
    "2. Calculate and plot the geometry representing the union of the square and the circle.\n",
    "<figure class=\"image\">\n",
    "<img src=\"https://geobgu.xyz/py/_images/exercise_solutions_shapely_14_0.svg\" alt=\"drawing\" width=\"100\" style=\"display: block; margin: 0 auto\"/>\n",
    "</figure>\n",
    "3. Calculate and plot the geometry representing the intersection of the square and the circle (Fig. 42).\n",
    "<figure class=\"image\">\n",
    "<img src=\"https://geobgu.xyz/py/_images/exercise_solutions_shapely_16_0.svg\" alt=\"drawing\" width=\"100\" style=\"display: block; margin: 0 auto\"/>\n",
    "</figure>\n",
    "4. Calculate the area of the intersection and of the the union geometries.\n"
   ]
  },
  {
   "cell_type": "markdown",
   "id": "765f28b1",
   "metadata": {},
   "source": [
    "## 4.6 Exercise 6\n",
    "In the following exercise, we are going to use a subset of the [Bus Stop Shelters dataset from NYC OpenData](https://data.cityofnewyork.us/Transportation/Bus-Stop-Shelters/qafz-7myz) containing the locations of bus stops in Rockaway Beach.\n",
    "\n",
    "For now, let's assume these locations make up one route."
   ]
  },
  {
   "cell_type": "code",
   "execution_count": 64,
   "id": "b5311311",
   "metadata": {},
   "outputs": [],
   "source": [
    "import pandas as pd\n",
    "bus_stops = pd.read_csv('Bus_Stop_Shelter_Rockaways.csv')\n",
    "bus_stops = bus_stops.sort_values(['Longitude', 'Latitude'])"
   ]
  },
  {
   "cell_type": "markdown",
   "id": "b9d8b2fe",
   "metadata": {},
   "source": [
    "Let's look at the first 5 rows"
   ]
  },
  {
   "cell_type": "code",
   "execution_count": 65,
   "id": "2abb9fe9",
   "metadata": {},
   "outputs": [
    {
     "data": {
      "text/html": [
       "<div>\n",
       "<style scoped>\n",
       "    .dataframe tbody tr th:only-of-type {\n",
       "        vertical-align: middle;\n",
       "    }\n",
       "\n",
       "    .dataframe tbody tr th {\n",
       "        vertical-align: top;\n",
       "    }\n",
       "\n",
       "    .dataframe thead th {\n",
       "        text-align: right;\n",
       "    }\n",
       "</style>\n",
       "<table border=\"1\" class=\"dataframe\">\n",
       "  <thead>\n",
       "    <tr style=\"text-align: right;\">\n",
       "      <th></th>\n",
       "      <th>Unnamed: 0</th>\n",
       "      <th>the_geom</th>\n",
       "      <th>BoroCode</th>\n",
       "      <th>BoroName</th>\n",
       "      <th>BoroCD</th>\n",
       "      <th>CounDist</th>\n",
       "      <th>AssemDist</th>\n",
       "      <th>StSenDist</th>\n",
       "      <th>CongDist</th>\n",
       "      <th>Shelter_ID</th>\n",
       "      <th>Corner</th>\n",
       "      <th>On_Street</th>\n",
       "      <th>Cross_Stre</th>\n",
       "      <th>Longitude</th>\n",
       "      <th>Latitude</th>\n",
       "      <th>NTAName</th>\n",
       "      <th>FEMAFldz</th>\n",
       "      <th>FEMAFldT</th>\n",
       "      <th>HrcEvac</th>\n",
       "    </tr>\n",
       "  </thead>\n",
       "  <tbody>\n",
       "    <tr>\n",
       "      <th>19</th>\n",
       "      <td>2759</td>\n",
       "      <td>POINT (-73.84784861080628 40.57611876479319)</td>\n",
       "      <td>4</td>\n",
       "      <td>Queens</td>\n",
       "      <td>414</td>\n",
       "      <td>32</td>\n",
       "      <td>23</td>\n",
       "      <td>10</td>\n",
       "      <td>5</td>\n",
       "      <td>QN04567</td>\n",
       "      <td>NE</td>\n",
       "      <td>ROCKAWAY BEACH BLVD</td>\n",
       "      <td>BEACH 129 ST</td>\n",
       "      <td>-73.847850</td>\n",
       "      <td>40.576127</td>\n",
       "      <td>Breezy Point-Belle Harbor-Rockaway Park-Broad ...</td>\n",
       "      <td>X</td>\n",
       "      <td>AREA OF MINIMAL FLOOD HAZARD</td>\n",
       "      <td>1.0</td>\n",
       "    </tr>\n",
       "    <tr>\n",
       "      <th>11</th>\n",
       "      <td>2418</td>\n",
       "      <td>POINT (-73.83838161278774 40.58131076382985)</td>\n",
       "      <td>4</td>\n",
       "      <td>Queens</td>\n",
       "      <td>414</td>\n",
       "      <td>32</td>\n",
       "      <td>23</td>\n",
       "      <td>10</td>\n",
       "      <td>5</td>\n",
       "      <td>QN04159</td>\n",
       "      <td>SW</td>\n",
       "      <td>NEWPORT AV</td>\n",
       "      <td>BEACH 116 ST</td>\n",
       "      <td>-73.838383</td>\n",
       "      <td>40.581319</td>\n",
       "      <td>Breezy Point-Belle Harbor-Rockaway Park-Broad ...</td>\n",
       "      <td>AE</td>\n",
       "      <td>NaN</td>\n",
       "      <td>1.0</td>\n",
       "    </tr>\n",
       "    <tr>\n",
       "      <th>3</th>\n",
       "      <td>2328</td>\n",
       "      <td>POINT (-73.8290056165102 40.58202976319081)</td>\n",
       "      <td>4</td>\n",
       "      <td>Queens</td>\n",
       "      <td>414</td>\n",
       "      <td>32</td>\n",
       "      <td>23</td>\n",
       "      <td>10</td>\n",
       "      <td>5</td>\n",
       "      <td>QN04051</td>\n",
       "      <td>SE</td>\n",
       "      <td>ROCKAWAY BEACH BLVD</td>\n",
       "      <td>BEACH 108 ST</td>\n",
       "      <td>-73.829007</td>\n",
       "      <td>40.582038</td>\n",
       "      <td>Breezy Point-Belle Harbor-Rockaway Park-Broad ...</td>\n",
       "      <td>X</td>\n",
       "      <td>AREA OF MINIMAL FLOOD HAZARD</td>\n",
       "      <td>1.0</td>\n",
       "    </tr>\n",
       "    <tr>\n",
       "      <th>4</th>\n",
       "      <td>2329</td>\n",
       "      <td>POINT (-73.8264796162047 40.58300576306968)</td>\n",
       "      <td>4</td>\n",
       "      <td>Queens</td>\n",
       "      <td>414</td>\n",
       "      <td>32</td>\n",
       "      <td>23</td>\n",
       "      <td>10</td>\n",
       "      <td>5</td>\n",
       "      <td>QN04053</td>\n",
       "      <td>NW</td>\n",
       "      <td>ROCKAWAY BEACH BLVD</td>\n",
       "      <td>BEACH 105 ST</td>\n",
       "      <td>-73.826481</td>\n",
       "      <td>40.583014</td>\n",
       "      <td>Breezy Point-Belle Harbor-Rockaway Park-Broad ...</td>\n",
       "      <td>X</td>\n",
       "      <td>AREA OF MINIMAL FLOOD HAZARD</td>\n",
       "      <td>1.0</td>\n",
       "    </tr>\n",
       "    <tr>\n",
       "      <th>2</th>\n",
       "      <td>2317</td>\n",
       "      <td>POINT (-73.82564861669952 40.5830027625186)</td>\n",
       "      <td>4</td>\n",
       "      <td>Queens</td>\n",
       "      <td>414</td>\n",
       "      <td>32</td>\n",
       "      <td>23</td>\n",
       "      <td>10</td>\n",
       "      <td>5</td>\n",
       "      <td>QN04034</td>\n",
       "      <td>SE</td>\n",
       "      <td>ROCKAWAY BEACH BLVD</td>\n",
       "      <td>BEACH 105 ST</td>\n",
       "      <td>-73.825650</td>\n",
       "      <td>40.583011</td>\n",
       "      <td>Breezy Point-Belle Harbor-Rockaway Park-Broad ...</td>\n",
       "      <td>X</td>\n",
       "      <td>AREA OF MINIMAL FLOOD HAZARD</td>\n",
       "      <td>1.0</td>\n",
       "    </tr>\n",
       "  </tbody>\n",
       "</table>\n",
       "</div>"
      ],
      "text/plain": [
       "    Unnamed: 0                                      the_geom  BoroCode  \\\n",
       "19        2759  POINT (-73.84784861080628 40.57611876479319)         4   \n",
       "11        2418  POINT (-73.83838161278774 40.58131076382985)         4   \n",
       "3         2328   POINT (-73.8290056165102 40.58202976319081)         4   \n",
       "4         2329   POINT (-73.8264796162047 40.58300576306968)         4   \n",
       "2         2317   POINT (-73.82564861669952 40.5830027625186)         4   \n",
       "\n",
       "   BoroName  BoroCD  CounDist  AssemDist  StSenDist  CongDist Shelter_ID  \\\n",
       "19   Queens     414        32         23         10         5    QN04567   \n",
       "11   Queens     414        32         23         10         5    QN04159   \n",
       "3    Queens     414        32         23         10         5    QN04051   \n",
       "4    Queens     414        32         23         10         5    QN04053   \n",
       "2    Queens     414        32         23         10         5    QN04034   \n",
       "\n",
       "   Corner            On_Street    Cross_Stre  Longitude   Latitude  \\\n",
       "19     NE  ROCKAWAY BEACH BLVD  BEACH 129 ST -73.847850  40.576127   \n",
       "11     SW           NEWPORT AV  BEACH 116 ST -73.838383  40.581319   \n",
       "3      SE  ROCKAWAY BEACH BLVD  BEACH 108 ST -73.829007  40.582038   \n",
       "4      NW  ROCKAWAY BEACH BLVD  BEACH 105 ST -73.826481  40.583014   \n",
       "2      SE  ROCKAWAY BEACH BLVD  BEACH 105 ST -73.825650  40.583011   \n",
       "\n",
       "                                              NTAName FEMAFldz  \\\n",
       "19  Breezy Point-Belle Harbor-Rockaway Park-Broad ...        X   \n",
       "11  Breezy Point-Belle Harbor-Rockaway Park-Broad ...       AE   \n",
       "3   Breezy Point-Belle Harbor-Rockaway Park-Broad ...        X   \n",
       "4   Breezy Point-Belle Harbor-Rockaway Park-Broad ...        X   \n",
       "2   Breezy Point-Belle Harbor-Rockaway Park-Broad ...        X   \n",
       "\n",
       "                        FEMAFldT  HrcEvac  \n",
       "19  AREA OF MINIMAL FLOOD HAZARD      1.0  \n",
       "11                           NaN      1.0  \n",
       "3   AREA OF MINIMAL FLOOD HAZARD      1.0  \n",
       "4   AREA OF MINIMAL FLOOD HAZARD      1.0  \n",
       "2   AREA OF MINIMAL FLOOD HAZARD      1.0  "
      ]
     },
     "execution_count": 65,
     "metadata": {},
     "output_type": "execute_result"
    }
   ],
   "source": [
    "# Insert your code here\n",
    "bus_stops.head()"
   ]
  },
  {
   "cell_type": "markdown",
   "id": "4e518457",
   "metadata": {},
   "source": [
    "Now, let's extract the `Longitude` and `Latitude` from this Pandas dataframe into a list of tuple coordinates. \n",
    "\n",
    "I will provide some code on how to loop through all the rows in the dataframe. \n",
    "\n",
    "Remember: x = long and y = lat\n"
   ]
  },
  {
   "cell_type": "code",
   "execution_count": 66,
   "id": "47ce78ac",
   "metadata": {},
   "outputs": [],
   "source": [
    "# First we are going to create an empty list\n",
    "stops_as_coords = []\n",
    "\n",
    "# Then, we are going to loop through the rows of the dataframe and extract the Long and Lat values as a tuple: \n",
    "for index, row in bus_stops.iterrows():\n",
    "    # We are going to append the tuple to the list\n",
    "    stops_as_coords.append((row['Longitude'], row['Latitude']))"
   ]
  },
  {
   "cell_type": "code",
   "execution_count": 67,
   "id": "1e67e26f",
   "metadata": {},
   "outputs": [
    {
     "data": {
      "text/plain": [
       "[(-73.84785, 40.576127),\n",
       " (-73.838383, 40.581319),\n",
       " (-73.829007, 40.582038),\n",
       " (-73.826481, 40.583014),\n",
       " (-73.82565, 40.583011),\n",
       " (-73.823539, 40.583859),\n",
       " (-73.823243, 40.583713),\n",
       " (-73.813181, 40.587175),\n",
       " (-73.809456, 40.587669),\n",
       " (-73.807734, 40.588109),\n",
       " (-73.806896, 40.587898),\n",
       " (-73.80534, 40.5881),\n",
       " (-73.802861, 40.588536),\n",
       " (-73.80004, 40.591838),\n",
       " (-73.796488, 40.592911),\n",
       " (-73.795784, 40.592783),\n",
       " (-73.785905, 40.594866),\n",
       " (-73.784939, 40.595143),\n",
       " (-73.784717, 40.594949),\n",
       " (-73.781451, 40.595374),\n",
       " (-73.781424, 40.595184),\n",
       " (-73.775375, 40.595618),\n",
       " (-73.772797, 40.595896),\n",
       " (-73.770176, 40.595974),\n",
       " (-73.756467, 40.595427),\n",
       " (-73.755541, 40.594991),\n",
       " (-73.753559, 40.609694),\n",
       " (-73.75352, 40.594941),\n",
       " (-73.75144, 40.59495),\n",
       " (-73.74961, 40.60267),\n",
       " (-73.744599, 40.596174),\n",
       " (-73.744211, 40.595975)]"
      ]
     },
     "execution_count": 67,
     "metadata": {},
     "output_type": "execute_result"
    }
   ],
   "source": [
    "# Voila\n",
    "stops_as_coords"
   ]
  },
  {
   "cell_type": "markdown",
   "id": "bf2d88c3",
   "metadata": {},
   "source": [
    "Calculate and plot a `MultiPoint` geometry with all stop locations."
   ]
  },
  {
   "cell_type": "code",
   "execution_count": 68,
   "id": "0dc36de7",
   "metadata": {},
   "outputs": [
    {
     "data": {
      "image/svg+xml": [
       "<svg xmlns=\"http://www.w3.org/2000/svg\" xmlns:xlink=\"http://www.w3.org/1999/xlink\" width=\"100.0\" height=\"100.0\" viewBox=\"-73.85199555999999 40.57198144 0.11193011999998248 0.04185811999999345\" preserveAspectRatio=\"xMinYMin meet\"><g transform=\"matrix(1,0,0,-1,0,81.185821)\"><g><circle cx=\"-73.84785\" cy=\"40.576127\" r=\"0.0033579035999994743\" stroke=\"#555555\" stroke-width=\"0.0011193011999998247\" fill=\"#66cc99\" opacity=\"0.6\" /><circle cx=\"-73.838383\" cy=\"40.581319\" r=\"0.0033579035999994743\" stroke=\"#555555\" stroke-width=\"0.0011193011999998247\" fill=\"#66cc99\" opacity=\"0.6\" /><circle cx=\"-73.829007\" cy=\"40.582038\" r=\"0.0033579035999994743\" stroke=\"#555555\" stroke-width=\"0.0011193011999998247\" fill=\"#66cc99\" opacity=\"0.6\" /><circle cx=\"-73.826481\" cy=\"40.583014\" r=\"0.0033579035999994743\" stroke=\"#555555\" stroke-width=\"0.0011193011999998247\" fill=\"#66cc99\" opacity=\"0.6\" /><circle cx=\"-73.82565\" cy=\"40.583011\" r=\"0.0033579035999994743\" stroke=\"#555555\" stroke-width=\"0.0011193011999998247\" fill=\"#66cc99\" opacity=\"0.6\" /><circle cx=\"-73.823539\" cy=\"40.583859\" r=\"0.0033579035999994743\" stroke=\"#555555\" stroke-width=\"0.0011193011999998247\" fill=\"#66cc99\" opacity=\"0.6\" /><circle cx=\"-73.823243\" cy=\"40.583713\" r=\"0.0033579035999994743\" stroke=\"#555555\" stroke-width=\"0.0011193011999998247\" fill=\"#66cc99\" opacity=\"0.6\" /><circle cx=\"-73.813181\" cy=\"40.587175\" r=\"0.0033579035999994743\" stroke=\"#555555\" stroke-width=\"0.0011193011999998247\" fill=\"#66cc99\" opacity=\"0.6\" /><circle cx=\"-73.809456\" cy=\"40.587669\" r=\"0.0033579035999994743\" stroke=\"#555555\" stroke-width=\"0.0011193011999998247\" fill=\"#66cc99\" opacity=\"0.6\" /><circle cx=\"-73.807734\" cy=\"40.588109\" r=\"0.0033579035999994743\" stroke=\"#555555\" stroke-width=\"0.0011193011999998247\" fill=\"#66cc99\" opacity=\"0.6\" /><circle cx=\"-73.806896\" cy=\"40.587898\" r=\"0.0033579035999994743\" stroke=\"#555555\" stroke-width=\"0.0011193011999998247\" fill=\"#66cc99\" opacity=\"0.6\" /><circle cx=\"-73.80534\" cy=\"40.5881\" r=\"0.0033579035999994743\" stroke=\"#555555\" stroke-width=\"0.0011193011999998247\" fill=\"#66cc99\" opacity=\"0.6\" /><circle cx=\"-73.802861\" cy=\"40.588536\" r=\"0.0033579035999994743\" stroke=\"#555555\" stroke-width=\"0.0011193011999998247\" fill=\"#66cc99\" opacity=\"0.6\" /><circle cx=\"-73.80004\" cy=\"40.591838\" r=\"0.0033579035999994743\" stroke=\"#555555\" stroke-width=\"0.0011193011999998247\" fill=\"#66cc99\" opacity=\"0.6\" /><circle cx=\"-73.796488\" cy=\"40.592911\" r=\"0.0033579035999994743\" stroke=\"#555555\" stroke-width=\"0.0011193011999998247\" fill=\"#66cc99\" opacity=\"0.6\" /><circle cx=\"-73.795784\" cy=\"40.592783\" r=\"0.0033579035999994743\" stroke=\"#555555\" stroke-width=\"0.0011193011999998247\" fill=\"#66cc99\" opacity=\"0.6\" /><circle cx=\"-73.785905\" cy=\"40.594866\" r=\"0.0033579035999994743\" stroke=\"#555555\" stroke-width=\"0.0011193011999998247\" fill=\"#66cc99\" opacity=\"0.6\" /><circle cx=\"-73.784939\" cy=\"40.595143\" r=\"0.0033579035999994743\" stroke=\"#555555\" stroke-width=\"0.0011193011999998247\" fill=\"#66cc99\" opacity=\"0.6\" /><circle cx=\"-73.784717\" cy=\"40.594949\" r=\"0.0033579035999994743\" stroke=\"#555555\" stroke-width=\"0.0011193011999998247\" fill=\"#66cc99\" opacity=\"0.6\" /><circle cx=\"-73.781451\" cy=\"40.595374\" r=\"0.0033579035999994743\" stroke=\"#555555\" stroke-width=\"0.0011193011999998247\" fill=\"#66cc99\" opacity=\"0.6\" /><circle cx=\"-73.781424\" cy=\"40.595184\" r=\"0.0033579035999994743\" stroke=\"#555555\" stroke-width=\"0.0011193011999998247\" fill=\"#66cc99\" opacity=\"0.6\" /><circle cx=\"-73.775375\" cy=\"40.595618\" r=\"0.0033579035999994743\" stroke=\"#555555\" stroke-width=\"0.0011193011999998247\" fill=\"#66cc99\" opacity=\"0.6\" /><circle cx=\"-73.772797\" cy=\"40.595896\" r=\"0.0033579035999994743\" stroke=\"#555555\" stroke-width=\"0.0011193011999998247\" fill=\"#66cc99\" opacity=\"0.6\" /><circle cx=\"-73.770176\" cy=\"40.595974\" r=\"0.0033579035999994743\" stroke=\"#555555\" stroke-width=\"0.0011193011999998247\" fill=\"#66cc99\" opacity=\"0.6\" /><circle cx=\"-73.756467\" cy=\"40.595427\" r=\"0.0033579035999994743\" stroke=\"#555555\" stroke-width=\"0.0011193011999998247\" fill=\"#66cc99\" opacity=\"0.6\" /><circle cx=\"-73.755541\" cy=\"40.594991\" r=\"0.0033579035999994743\" stroke=\"#555555\" stroke-width=\"0.0011193011999998247\" fill=\"#66cc99\" opacity=\"0.6\" /><circle cx=\"-73.753559\" cy=\"40.609694\" r=\"0.0033579035999994743\" stroke=\"#555555\" stroke-width=\"0.0011193011999998247\" fill=\"#66cc99\" opacity=\"0.6\" /><circle cx=\"-73.75352\" cy=\"40.594941\" r=\"0.0033579035999994743\" stroke=\"#555555\" stroke-width=\"0.0011193011999998247\" fill=\"#66cc99\" opacity=\"0.6\" /><circle cx=\"-73.75144\" cy=\"40.59495\" r=\"0.0033579035999994743\" stroke=\"#555555\" stroke-width=\"0.0011193011999998247\" fill=\"#66cc99\" opacity=\"0.6\" /><circle cx=\"-73.74961\" cy=\"40.60267\" r=\"0.0033579035999994743\" stroke=\"#555555\" stroke-width=\"0.0011193011999998247\" fill=\"#66cc99\" opacity=\"0.6\" /><circle cx=\"-73.744599\" cy=\"40.596174\" r=\"0.0033579035999994743\" stroke=\"#555555\" stroke-width=\"0.0011193011999998247\" fill=\"#66cc99\" opacity=\"0.6\" /><circle cx=\"-73.744211\" cy=\"40.595975\" r=\"0.0033579035999994743\" stroke=\"#555555\" stroke-width=\"0.0011193011999998247\" fill=\"#66cc99\" opacity=\"0.6\" /></g></g></svg>"
      ],
      "text/plain": [
       "<MULTIPOINT (-73.848 40.576, -73.838 40.581, -73.829 40.582, -73.826 40.583,...>"
      ]
     },
     "execution_count": 68,
     "metadata": {},
     "output_type": "execute_result"
    }
   ],
   "source": [
    "# Insert your code here\n",
    "MultiPoint(stops_as_coords)"
   ]
  },
  {
   "cell_type": "markdown",
   "id": "d144957f",
   "metadata": {},
   "source": [
    "\n",
    "Calculate and plot a `LineString` geometry of the bus route\n"
   ]
  },
  {
   "cell_type": "code",
   "execution_count": 69,
   "id": "594102ed",
   "metadata": {},
   "outputs": [
    {
     "data": {
      "image/svg+xml": [
       "<svg xmlns=\"http://www.w3.org/2000/svg\" xmlns:xlink=\"http://www.w3.org/1999/xlink\" width=\"100.0\" height=\"100.0\" viewBox=\"-73.85199555999999 40.57198144 0.11193011999998248 0.04185811999999345\" preserveAspectRatio=\"xMinYMin meet\"><g transform=\"matrix(1,0,0,-1,0,81.185821)\"><polyline fill=\"none\" stroke=\"#66cc99\" stroke-width=\"0.0022386023999996494\" points=\"-73.84785,40.576127 -73.838383,40.581319 -73.829007,40.582038 -73.826481,40.583014 -73.82565,40.583011 -73.823539,40.583859 -73.823243,40.583713 -73.813181,40.587175 -73.809456,40.587669 -73.807734,40.588109 -73.806896,40.587898 -73.80534,40.5881 -73.802861,40.588536 -73.80004,40.591838 -73.796488,40.592911 -73.795784,40.592783 -73.785905,40.594866 -73.784939,40.595143 -73.784717,40.594949 -73.781451,40.595374 -73.781424,40.595184 -73.775375,40.595618 -73.772797,40.595896 -73.770176,40.595974 -73.756467,40.595427 -73.755541,40.594991 -73.753559,40.609694 -73.75352,40.594941 -73.75144,40.59495 -73.74961,40.60267 -73.744599,40.596174 -73.744211,40.595975\" opacity=\"0.8\" /></g></svg>"
      ],
      "text/plain": [
       "<LINESTRING (-73.848 40.576, -73.838 40.581, -73.829 40.582, -73.826 40.583,...>"
      ]
     },
     "execution_count": 69,
     "metadata": {},
     "output_type": "execute_result"
    }
   ],
   "source": [
    "# Insert your code here\n",
    "LineString(stops_as_coords)"
   ]
  },
  {
   "cell_type": "markdown",
   "id": "8bbce720",
   "metadata": {},
   "source": [
    "Calculate and plot a `LineString` geometry with the straight line between the first and last bus stops"
   ]
  },
  {
   "cell_type": "code",
   "execution_count": 70,
   "id": "1d2d4997",
   "metadata": {},
   "outputs": [
    {
     "data": {
      "image/svg+xml": [
       "<svg xmlns=\"http://www.w3.org/2000/svg\" xmlns:xlink=\"http://www.w3.org/1999/xlink\" width=\"100.0\" height=\"100.0\" viewBox=\"-73.85199555999999 40.57198144 0.11193011999998248 0.02813911999999874\" preserveAspectRatio=\"xMinYMin meet\"><g transform=\"matrix(1,0,0,-1,0,81.172102)\"><polyline fill=\"none\" stroke=\"#66cc99\" stroke-width=\"0.0022386023999996494\" points=\"-73.84785,40.576127 -73.744211,40.595975\" opacity=\"0.8\" /></g></svg>"
      ],
      "text/plain": [
       "<LINESTRING (-73.848 40.576, -73.744 40.596)>"
      ]
     },
     "execution_count": 70,
     "metadata": {},
     "output_type": "execute_result"
    }
   ],
   "source": [
    "# Insert your code here\n",
    "LineString([(-73.84785, 40.576127),(-73.744211, 40.595975)])"
   ]
  },
  {
   "cell_type": "markdown",
   "id": "0c5ee604",
   "metadata": {},
   "source": [
    "Calculate and plot the convex hull polygon of the bus stops"
   ]
  },
  {
   "cell_type": "code",
   "execution_count": 71,
   "id": "7700df5e",
   "metadata": {},
   "outputs": [
    {
     "data": {
      "image/svg+xml": [
       "<svg xmlns=\"http://www.w3.org/2000/svg\" xmlns:xlink=\"http://www.w3.org/1999/xlink\" width=\"100.0\" height=\"100.0\" viewBox=\"-73.85199555999999 40.57198144 0.11193011999998248 0.04185811999999345\" preserveAspectRatio=\"xMinYMin meet\"><g transform=\"matrix(1,0,0,-1,0,81.185821)\"><path fill-rule=\"evenodd\" fill=\"#66cc99\" stroke=\"#555555\" stroke-width=\"0.0022386023999996494\" opacity=\"0.6\" d=\"M -73.84785,40.576127 L -73.838383,40.581319 L -73.753559,40.609694 L -73.744211,40.595975 L -73.84785,40.576127 z\" /></g></svg>"
      ],
      "text/plain": [
       "<POLYGON ((-73.848 40.576, -73.838 40.581, -73.754 40.61, -73.744 40.596, -7...>"
      ]
     },
     "execution_count": 71,
     "metadata": {},
     "output_type": "execute_result"
    }
   ],
   "source": [
    "# Insert your code here\n",
    "MultiPoint(stops_as_coords).convex_hull"
   ]
  }
 ],
 "metadata": {
  "kernelspec": {
   "display_name": "Python 3 (ipykernel)",
   "language": "python",
   "name": "python3"
  },
  "language_info": {
   "codemirror_mode": {
    "name": "ipython",
    "version": 3
   },
   "file_extension": ".py",
   "mimetype": "text/x-python",
   "name": "python",
   "nbconvert_exporter": "python",
   "pygments_lexer": "ipython3",
   "version": "3.9.16"
  },
  "vscode": {
   "interpreter": {
    "hash": "cc571d7ca67236538d190807671ab3198970b7d67f23d825ad141ff90f68066a"
   }
  }
 },
 "nbformat": 4,
 "nbformat_minor": 5
}
